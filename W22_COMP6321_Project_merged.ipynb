{
  "cells": [
    {
      "cell_type": "markdown",
      "metadata": {
        "id": "nz5gX7XkdGo8"
      },
      "source": [
        "1. Installing required modules"
      ]
    },
    {
      "cell_type": "code",
      "execution_count": 1,
      "metadata": {
        "id": "0PWTVK1iaXKL"
      },
      "outputs": [],
      "source": [
        "# Installs required modules\n",
        "!pip install --upgrade watermark blackcellmagic\n",
        "!pip install datasets\n",
        "!pip install transformers\n",
        "!pip install \"ray[tune]\""
      ]
    },
    {
      "cell_type": "markdown",
      "metadata": {
        "id": "IheQ3gZTdQET"
      },
      "source": [
        "2. Importing required modules"
      ]
    },
    {
      "cell_type": "code",
      "execution_count": 1,
      "metadata": {
        "id": "Js-DLnUXa_RA"
      },
      "outputs": [],
      "source": [
        "# Loads Black extension and imports required modules\n",
        "%load_ext blackcellmagic\n",
        "\n",
        "import torch\n",
        "import torchtext\n",
        "from datasets import load_dataset, DatasetDict, Features, Value, ClassLabel\n",
        "import pandas as pd\n",
        "import numpy as np\n",
        "import matplotlib.pyplot as plt\n",
        "from transformers import AutoTokenizer, AutoModel, AutoModelForSequenceClassification, Trainer, TrainingArguments, EarlyStoppingCallback\n",
        "from transformers import set_seed\n",
        "from sklearn.neural_network import MLPClassifier\n",
        "from sklearn.metrics import accuracy_score, precision_score, recall_score, f1_score, ConfusionMatrixDisplay, confusion_matrix, classification_report\n",
        "from ray.tune.suggest.hyperopt import HyperOptSearch\n",
        "from ray.tune.schedulers import ASHAScheduler\n",
        "from ray import tune\n",
        "import json\n",
        "import os\n",
        "import shutil\n",
        "from joblib import dump, load\n",
        "import re \n",
        "from spacy.lang.en.stop_words import STOP_WORDS\n",
        "from sklearn.model_selection import train_test_split\n",
        "import torch.nn as nn\n",
        "from torch.utils.data import DataLoader, TensorDataset\n",
        "from sklearn.utils.class_weight import compute_class_weight\n",
        "\n",
        "# Sets seeds to zero\n",
        "set_seed(0)\n",
        "torch.manual_seed(0)\n",
        "np.random.seed(0)"
      ]
    },
    {
      "cell_type": "markdown",
      "metadata": {
        "id": "DeqViK9HdT0o"
      },
      "source": [
        "3. Defining utility functions for the entire project"
      ]
    },
    {
      "cell_type": "code",
      "execution_count": 2,
      "metadata": {
        "id": "NlmT51ZJcCf_"
      },
      "outputs": [],
      "source": [
        "def prepare_dataset(working_dir=os.getcwd()):\n",
        "  \"\"\"This function prepares and returns the dataset for the project.\n",
        "\n",
        "  Arguments\n",
        "  ---------\n",
        "  working_dir : str\n",
        "    A string value representing the current working directory \n",
        "  \n",
        "  Returns\n",
        "  ---------\n",
        "  project_dataset : datasets.Dataset\n",
        "    A Dataset object containing the train, validation, and test data\n",
        "  \"\"\"\n",
        "\n",
        "  train_file = working_dir + \"/train_dataset_processed.csv\"\n",
        "  test_file = working_dir + \"/test_dataset_processed.csv\"\n",
        "\n",
        "  data_files = {\"train\": train_file, \"test\": test_file}\n",
        "  class_names = [\"negative\", \"neutral\", \"positive\"]\n",
        "  data_columns = Features({\"label\": ClassLabel(names=class_names), \"text\": Value(\"string\")})\n",
        "  original_data = load_dataset(\"csv\", data_files=data_files, column_names=[\"label\", \"text\"], features=data_columns)\n",
        "\n",
        "  train_valid_data = original_data[\"train\"].train_test_split(test_size=0.2)\n",
        "  train_dataset = train_valid_data[\"train\"]\n",
        "  valid_dataset = train_valid_data[\"test\"]\n",
        "  project_dataset = DatasetDict({\n",
        "      \"train\": train_dataset,\n",
        "      \"valid\": valid_dataset,\n",
        "      \"test\": original_data[\"test\"]})\n",
        "\n",
        "  # Removing empty text entries\n",
        "  project_dataset = project_dataset.filter(lambda example: example[\"text\"] != None)\n",
        "  return project_dataset\n",
        "\n",
        "\n",
        "def plot_confusion_matrix(y_preds, y_true, labels, title):\n",
        "  \"\"\"This function displays the confusion matrix for provided predictions by a classifier.\n",
        "\n",
        "  Arguments\n",
        "  ---------\n",
        "  y_preds : numpy.ndarray\n",
        "    Predictions by a classifier\n",
        "  y_true : numpy.ndarray\n",
        "    Labels corresponding to the predictions in y_preds\n",
        "  labels : list\n",
        "    Label names to be used for the confusion matrix\n",
        "  title : str\n",
        "    Title to be used for the confusion matrix\n",
        "\n",
        "  \"\"\"\n",
        "\n",
        "  cm = confusion_matrix(y_true, y_preds, normalize=\"true\")\n",
        "  fix, ax = plt.subplots(figsize=(6, 6))\n",
        "  cm_display = ConfusionMatrixDisplay(confusion_matrix=cm, display_labels=labels)\n",
        "  cm_display.plot(cmap=\"Blues\", values_format=\".2f\", ax=ax, colorbar=False)\n",
        "  plt.title(\"Normalized confusion matrix for \" + title)\n",
        "  plt.show()\n",
        "\n",
        "def print_classification_report(y_preds, y_true, title):\n",
        "  \"\"\"This function displays the classification report for provided predictions by a classifier.\n",
        "\n",
        "  Arguments\n",
        "  ---------\n",
        "  y_preds : numpy.ndarray\n",
        "    Predictions by a classifier\n",
        "  y_true : numpy.ndarray\n",
        "    Labels corresponding to the predictions in y_preds\n",
        "  title : str\n",
        "    Title to be used for the confusion matrix\n",
        "\n",
        "  \"\"\"\n",
        "\n",
        "  labels = [\"negative\", \"neutral\", \"positive\"]\n",
        "  plot_confusion_matrix(y_preds, y_true, labels, title)\n",
        "  print(\"\\n\")\n",
        "  print(\"Classification report for \" + title)\n",
        "  acc = accuracy_score(y_true, y_preds)\n",
        "  f1 = f1_score(y_true, y_preds, average=\"weighted\")\n",
        "  prec = precision_score(y_true, y_preds, average=\"weighted\")\n",
        "  rec = recall_score(y_true, y_preds, average=\"weighted\")\n",
        "  \n",
        "  print(\"-\" * 75)\n",
        "  print(\"Accuracy: %.2f%%\" % (acc * 100))\n",
        "  print(\"Precision: %.2f%%\" % (prec * 100) )\n",
        "  print(\"Recall: %.2f%%\" % (rec * 100))\n",
        "  print(\"F1 score: %.2f%%\" % (f1 * 100) )\n",
        "  print(\"-\" * 75)\n",
        "  print(\"\\n\\n\")\n",
        "\n",
        "def display_data_properties(dataset):\n",
        "  \"\"\"This function displays data distribution among different classes in the dataset.\n",
        "\n",
        "  Arguments\n",
        "  ---------\n",
        "  dataset : datasets.Dataset\n",
        "    A Dataset object containing one or more of the following -  train, validation, and test data\n",
        "\n",
        "  \"\"\"\n",
        "\n",
        "  # Uses pandas to display the data distribution\n",
        "  dataset.set_format(type=\"pandas\")\n",
        "  train_df = dataset[\"train\"][:]\n",
        "  valid_df = dataset[\"valid\"][:]\n",
        "  test_df = dataset[\"test\"][:]\n",
        "\n",
        "  def label_int2str(row):\n",
        "    \"\"\"\n",
        "    This function converts a label's integer value to a string value.\n",
        "\n",
        "    Arguments\n",
        "    ---------\n",
        "    row : int\n",
        "      Integer value of the label\n",
        "    \n",
        "    \"\"\"\n",
        "\n",
        "    return dataset[\"train\"].features[\"label\"].int2str(row)\n",
        "\n",
        "  train_df[\"label_name\"] = train_df[\"label\"].apply(label_int2str)\n",
        "  valid_df[\"label_name\"] = valid_df[\"label\"].apply(label_int2str)\n",
        "  test_df[\"label_name\"] = test_df[\"label\"].apply(label_int2str)\n",
        "\n",
        "  print(\"Displaying the first 5 examples of the training dataset: \")\n",
        "  print(\"-\" * 75)\n",
        "  print(train_df.head())\n",
        "  print(\"-\" * 75)\n",
        "\n",
        "  # Displays the frequency of classes in the training data\n",
        "  train_df[\"label_name\"].value_counts(ascending=True).plot.barh()\n",
        "  plt.title(\"Frequency of Classes in training data\")\n",
        "  plt.show()\n",
        "\n",
        "  # Displays the frequency of classes in the validation data\n",
        "  plt.figure()\n",
        "  valid_df[\"label_name\"].value_counts(ascending=True).plot.barh()\n",
        "  plt.title(\"Frequency of Classes in validation data\")\n",
        "  plt.show()\n",
        "\n",
        "  # Displays the frequency of classes in the test data\n",
        "  plt.figure()\n",
        "  test_df[\"label_name\"].value_counts(ascending=True).plot.barh()\n",
        "  plt.title(\"Frequency of Classes in test data\")\n",
        "  plt.show()\n",
        "\n",
        "  # Resetting the dataset format\n",
        "  dataset.reset_format()"
      ]
    },
    {
      "cell_type": "markdown",
      "metadata": {
        "id": "miTximE1zPA3"
      },
      "source": [
        "# 2. Transformers section"
      ]
    },
    {
      "cell_type": "markdown",
      "metadata": {
        "id": "fdESdns8dckQ"
      },
      "source": [
        "## 2.1. Completing project setup for transformer models"
      ]
    },
    {
      "cell_type": "markdown",
      "source": [
        "The below code cell is used to provide the value for \"model_checkpoint\" as one of the following: \"distilbert-base-uncased\" or \"bert-base-uncased\".\n",
        "\n",
        "This sets the pretrained transformer model to be used for the current execution of the model as either BERT or DistilBERT."
      ],
      "metadata": {
        "id": "qhkgqrref9L7"
      }
    },
    {
      "cell_type": "code",
      "execution_count": 11,
      "metadata": {
        "id": "SyPJopidcKWT",
        "colab": {
          "base_uri": "https://localhost:8080/",
          "height": 410,
          "referenced_widgets": [
            "5cec5db27ab04d378912ae7668249d1f",
            "ea0986add3bf47b19ae5f46ffe64efd4",
            "973acc0e9ceb45d1b495cac77ed83efc",
            "84e051179eb54ea68eec3d29614a3c06",
            "4d7bb9e39c9c4fd19c613076fbd550cf",
            "8914099807b9465c97b9cc33b5f3c936",
            "bd24216cd5184faca8114f8b69df1463",
            "0160092b68bf4de792c2d0592455081b",
            "ccb95a7160a540f4bf88fd9d3165aed9",
            "694565f5974f410890ef27700a7e5c2b",
            "d5d14bbee0f34a84970d469ec0fd0afb",
            "b1f69edf19fe49b888d0191738d10373",
            "6777fe7c73f24263a10b3c92661fbf25",
            "6cc4d373195b43ef9a64770bef4a7d96",
            "1df81e37c9a6425d9c02eb53c11b90e7",
            "02617b22ca574c36be1eee728fe355de",
            "70a245150fe54114b03e2740b1329c46",
            "d1e5da3dffd3419885e03d59291f9a6e",
            "a6c419d1d0fc4f1691a47719f7b5d65c",
            "5efba78c6645487ba8a2825ace54e96b",
            "1f2e645915ef48ae92636fbbbf118cdf",
            "68769c35912e48ed93b753b6a9d443b2",
            "1f60fcb4a47c414481fa091f5312a101",
            "439084d9130445b9979f19dae7b05d8c",
            "7fc2e402cec34203b7c91a2b2dbba98a",
            "a6f47e0376b9414f9af293f2e4fe92dd",
            "2a83015b8ae041e8883fe67864d9bb36",
            "218a43794b744b1dbb6e5a2760bc3ec0",
            "fba09d9fb6f842e1b44ca808ba54a22b",
            "92566397fff84a69acc029f846f68714",
            "293fa58768a941479aae764a1a6a5ab1",
            "6bee4a5f4c0c43b1848f91c196230b7e",
            "e338a362d412443fa4fd41e99bdc39f2",
            "256a99ddba8e45099a5ca9ae1669cb79",
            "fcf240ffd76544d9a80c571bfd69bd7d",
            "2a0d72856cef481f8dab848c44e8edc5",
            "498048e3427649b0a1637833d59b70d6",
            "594702c8eab349ec9bb5fff542ee0fb4",
            "1ebe7e8cf6b04a269cd3019ec20158a9",
            "8f803f9882674f438cc9c02df446961a",
            "49b0e48f70d8439b930666e3109f2650",
            "071b9c0929474d249f370114dba1f695",
            "1a0f73ec364846b093d7bf6c1a0ee271",
            "d72cfba13d6f4653a63e3ad10b3d2449",
            "271236be5ca04e1f82e7c41ff81e5e8b",
            "412942f10ec64467907b1f46e277be4b",
            "4bdbce53b08b4b28b3e81871c462a9d0",
            "f0223c3d7d25471c920f6dd5984609d6",
            "a427b40d649d4a99ad32c3c3510f8e2b",
            "40ea0e4ded1140a7a7f6301ac78ce2be",
            "dab7c4dfde7745b783f87ec3fdf72c5c",
            "9953625a10d7455c9910c1667598153d",
            "b999a622920f4c7396504455b05bfd2e",
            "ccaeaf04e92b466b87740c6789156edc",
            "018fdfc12c624018b6d26a579a369958",
            "3a7eef47bc2041329c3ad172f01b4b8e",
            "96a53dfb57444061b837974945c027a5",
            "79103493f5fd4fc68f511fbcfa12f785",
            "f287561d0eb240bdb3320c487494ce03",
            "da70ce56f7ec4440aa63233232c93fbf",
            "0fab3649f65e409780fa0b15647b2483",
            "33fc127322e0459da11cac1bb1803c26",
            "b49151171eca49e7b9aeac93a5d212c3",
            "d6e03ede93834219bd959688450ea3ec",
            "ab1246eba90642ec9bd804ce39dc494c",
            "19b91533d3504930a591bcb240bec524",
            "27611ec1901a48e680a7a0cc5c39f0bf",
            "967169247d594fceba3704c3aa3b2a79",
            "f742f336d0fb4299a4edbb7c1ce7bb12",
            "61c0a32ba15b4f7bb0aeb4843a8f990c",
            "b9ab7980d49a455ca12946cd02fc5d43",
            "f55c9827d4a44dba9db07f426fb95b76",
            "f64d1db44d94489fa0e0f151f02f6557",
            "1a7f0f9c638b4a97abe42e2353e3e2a0",
            "c7f61633c28c47a6875ed5f9e1f1c90b",
            "59383e568f37452faceb745098c15ba3",
            "b4f25475b21a42799817f5f11c40003c",
            "4b4708cda6c14deba11356a9bf822d08",
            "cee71472f13349a0ab5ba7a7be62be22",
            "d72ba139c90546479e037611a6e3d3f0",
            "414fa23182714ba9a162bd66b8663c1b",
            "d9e0b5b3f93c4037b165dec2f8d6c5f0",
            "07c61f3e1e3c4c3cac0a9987a4898f7b",
            "5786668096a44b84b97d7cc75c9d0792",
            "b5fcd48c79ed467d8627ca58a53caa8a",
            "467cd2762c874648ac015683dca5dda0",
            "cbffd151341c41358cb306fa32ebe6a1",
            "f0b35d8ccf5c4583a94745b7a99a1ba3",
            "218f5776e48540628d5f2102ec8cff57",
            "25ac5588d5ac426188a14f698d76c941",
            "9105e19fdf9d4b409de225462c349028",
            "3f75de0a97b44c38a1c0ffb4cedd1963",
            "be4058d51e7c425eb4408e62c5cb9cb9",
            "d1b260d8990a4723b2d6a229d8e16f65",
            "aae994f96dcf4df1bc15a4812dffb0f6",
            "462e799a1fa9471fb8bfcfc17a906f89",
            "7f00cdd75c9f47c4b9f16f407956111f",
            "b295b80f993a44bbb2be00b378c518bc",
            "a0b08656a24d46a8af4493f544483407",
            "ce32f8d9d26047dc889fde9d11b84189",
            "8c102acc489f4c39b569f253639edddf",
            "e427667adc284ec2877d0d6f3b1dd66f",
            "bf0ffe95691645ac9d63bb7abffd32f8",
            "743261965f2a4cf9af7e1bffe27d671a",
            "1cc9230ea4974c93b2483da0565ffae2",
            "0106a03baaf14df083b209030195c5ff",
            "86b2437202c740fc8777c605fbe26a1c",
            "930558b1349640938aa65ba844a758f2",
            "a340b3d3a41b4bf6a95a93321ddd23ea",
            "146aaf05ee5c433ab35a4a90162b50a6"
          ]
        },
        "outputId": "f010feea-2132-4f46-e908-8406f633a3d1"
      },
      "outputs": [
        {
          "output_type": "stream",
          "name": "stderr",
          "text": [
            "Using custom data configuration default-98ec775250f1e4de\n"
          ]
        },
        {
          "output_type": "stream",
          "name": "stdout",
          "text": [
            "Downloading and preparing dataset csv/default to /root/.cache/huggingface/datasets/csv/default-98ec775250f1e4de/0.0.0/433e0ccc46f9880962cc2b12065189766fbb2bee57a221866138fb9203c83519...\n"
          ]
        },
        {
          "output_type": "display_data",
          "data": {
            "text/plain": [
              "Downloading data files:   0%|          | 0/2 [00:00<?, ?it/s]"
            ],
            "application/vnd.jupyter.widget-view+json": {
              "version_major": 2,
              "version_minor": 0,
              "model_id": "5cec5db27ab04d378912ae7668249d1f"
            }
          },
          "metadata": {}
        },
        {
          "output_type": "display_data",
          "data": {
            "text/plain": [
              "Extracting data files:   0%|          | 0/2 [00:00<?, ?it/s]"
            ],
            "application/vnd.jupyter.widget-view+json": {
              "version_major": 2,
              "version_minor": 0,
              "model_id": "b1f69edf19fe49b888d0191738d10373"
            }
          },
          "metadata": {}
        },
        {
          "output_type": "stream",
          "name": "stdout",
          "text": [
            "Dataset csv downloaded and prepared to /root/.cache/huggingface/datasets/csv/default-98ec775250f1e4de/0.0.0/433e0ccc46f9880962cc2b12065189766fbb2bee57a221866138fb9203c83519. Subsequent calls will reuse this data.\n"
          ]
        },
        {
          "output_type": "display_data",
          "data": {
            "text/plain": [
              "  0%|          | 0/2 [00:00<?, ?it/s]"
            ],
            "application/vnd.jupyter.widget-view+json": {
              "version_major": 2,
              "version_minor": 0,
              "model_id": "1f60fcb4a47c414481fa091f5312a101"
            }
          },
          "metadata": {}
        },
        {
          "output_type": "display_data",
          "data": {
            "text/plain": [
              "  0%|          | 0/23 [00:00<?, ?ba/s]"
            ],
            "application/vnd.jupyter.widget-view+json": {
              "version_major": 2,
              "version_minor": 0,
              "model_id": "256a99ddba8e45099a5ca9ae1669cb79"
            }
          },
          "metadata": {}
        },
        {
          "output_type": "display_data",
          "data": {
            "text/plain": [
              "  0%|          | 0/6 [00:00<?, ?ba/s]"
            ],
            "application/vnd.jupyter.widget-view+json": {
              "version_major": 2,
              "version_minor": 0,
              "model_id": "271236be5ca04e1f82e7c41ff81e5e8b"
            }
          },
          "metadata": {}
        },
        {
          "output_type": "display_data",
          "data": {
            "text/plain": [
              "  0%|          | 0/2 [00:00<?, ?ba/s]"
            ],
            "application/vnd.jupyter.widget-view+json": {
              "version_major": 2,
              "version_minor": 0,
              "model_id": "3a7eef47bc2041329c3ad172f01b4b8e"
            }
          },
          "metadata": {}
        },
        {
          "output_type": "display_data",
          "data": {
            "text/plain": [
              "Downloading:   0%|          | 0.00/28.0 [00:00<?, ?B/s]"
            ],
            "application/vnd.jupyter.widget-view+json": {
              "version_major": 2,
              "version_minor": 0,
              "model_id": "27611ec1901a48e680a7a0cc5c39f0bf"
            }
          },
          "metadata": {}
        },
        {
          "output_type": "display_data",
          "data": {
            "text/plain": [
              "Downloading:   0%|          | 0.00/483 [00:00<?, ?B/s]"
            ],
            "application/vnd.jupyter.widget-view+json": {
              "version_major": 2,
              "version_minor": 0,
              "model_id": "4b4708cda6c14deba11356a9bf822d08"
            }
          },
          "metadata": {}
        },
        {
          "output_type": "display_data",
          "data": {
            "text/plain": [
              "Downloading:   0%|          | 0.00/226k [00:00<?, ?B/s]"
            ],
            "application/vnd.jupyter.widget-view+json": {
              "version_major": 2,
              "version_minor": 0,
              "model_id": "218f5776e48540628d5f2102ec8cff57"
            }
          },
          "metadata": {}
        },
        {
          "output_type": "display_data",
          "data": {
            "text/plain": [
              "Downloading:   0%|          | 0.00/455k [00:00<?, ?B/s]"
            ],
            "application/vnd.jupyter.widget-view+json": {
              "version_major": 2,
              "version_minor": 0,
              "model_id": "ce32f8d9d26047dc889fde9d11b84189"
            }
          },
          "metadata": {}
        }
      ],
      "source": [
        "model_checkpoint = \"distilbert-base-uncased\"\n",
        "\n",
        "working_dir = os.getcwd()   # Sets the working directory for the project\n",
        "project_dataset = prepare_dataset()\n",
        "device = torch.device(\"cuda\" if torch.cuda.is_available() else \"cpu\")\n",
        "\n",
        "class_samples = [9023, 12366, 6416]\n",
        "class_weights = [1 - (x / sum(class_samples)) for x in class_samples]\n",
        "class_weights = torch.FloatTensor(class_weights).to(device)\n",
        "\n",
        "if not os.path.exists(working_dir + \"/output-\" + model_checkpoint):\n",
        "  os.makedirs(working_dir + \"/output-\" + model_checkpoint)\n",
        "model_output_dir = working_dir + \"/output-\" + model_checkpoint\n",
        "\n",
        "if not os.path.exists(working_dir + \"/best_models/\" + model_checkpoint):\n",
        "  os.makedirs(working_dir + \"/best_models/\" + model_checkpoint)\n",
        "\n",
        "# Instantiates a tokenizer based on the provided name of the pretrained model\n",
        "tokenizer = AutoTokenizer.from_pretrained(model_checkpoint)"
      ]
    },
    {
      "cell_type": "markdown",
      "source": [
        "Verifying the project setup"
      ],
      "metadata": {
        "id": "jURTsInJe_QX"
      }
    },
    {
      "cell_type": "code",
      "source": [
        "assert isinstance(working_dir, str), \"Expected working_dir to be a string value\"\n",
        "assert working_dir == os.getcwd(), \"Expected working_dir to be the current working dir\"\n",
        "assert isinstance(class_samples, list), \"Expected class_samples to be a list\"\n",
        "assert isinstance(class_weights, torch.Tensor), \"Expected class_weights to be a torch.Tensor\"\n",
        "assert model_checkpoint == \"distilbert-base-uncased\" or model_checkpoint == \"bert-base-uncased\", \"Expected model_checkpoint to be either \\\"distilbert-base-uncased\\\" or \\\"bert-base-uncased\\\"\"\n",
        "assert model_output_dir == working_dir + \"/output-\" + model_checkpoint, \"Unexpected value for model_outpur_dir\""
      ],
      "metadata": {
        "colab": {
          "base_uri": "https://localhost:8080/"
        },
        "id": "Ci5llkDUaeHx",
        "outputId": "16bac918-aef3-4268-b2a0-9fa29c2ff26e"
      },
      "execution_count": null,
      "outputs": [
        {
          "output_type": "stream",
          "name": "stdout",
          "text": [
            "<class 'transformers.models.distilbert.tokenization_distilbert_fast.DistilBertTokenizerFast'>\n"
          ]
        }
      ]
    },
    {
      "cell_type": "markdown",
      "metadata": {
        "id": "33uwRiHu0IlS"
      },
      "source": [
        "## 2.2 Preparing input data"
      ]
    },
    {
      "cell_type": "markdown",
      "metadata": {
        "id": "TJuFF5nXwzs5"
      },
      "source": [
        "2.2.1. Tokenizating the input"
      ]
    },
    {
      "cell_type": "code",
      "execution_count": null,
      "metadata": {
        "id": "Hupzd_EpeRGy",
        "colab": {
          "base_uri": "https://localhost:8080/",
          "height": 119,
          "referenced_widgets": [
            "2be68d0b6386423489315c818fc09363",
            "7350e0e202a648378913e8ee8b0b07be",
            "7935f53fdcbd4c17a1ec0414363bab0c",
            "c61c2247d6464417b74e574532a6ba38",
            "1d7d76fd7e774accb1928e80de543eac",
            "c1758decd7b24b07b4323c4a7c4c94e7",
            "6dee3b3596f449e08787b9a023547cdd",
            "dc46e1823da14837b5a4678bdae32f35",
            "9e641a3017c1492c8a041a46bc3c4e3c",
            "fd9d39d5c60949699215c68edf107381",
            "ff30b46cfcc24f81a8a4ef73c7653d57",
            "8e2409a8924c4125aebc36aa88b4c3b2",
            "44b99c74e25a405094d8493f936c5ead",
            "38a11e697c854883b9a0c928ae690793",
            "b917aad1fb854be8930112ffad6061fa",
            "b9ee45b7159f49c6be91cb27d7c7df7f",
            "c91d9b63f25144ba807c3a721062536b",
            "8a02dc1d5a9b40e9870f161da4446acf",
            "a3d8fadf7a0b4d2a886872d9930d75f3",
            "3e0d2289cd7947729f3b71d5e5aad576",
            "8d03bef2dcf54b46afaa763e8a4064d0",
            "f64562bdc47e45d5a2887eb90ef40db4"
          ]
        },
        "outputId": "0c5e23fc-c04d-4695-c550-680286ad6bdd"
      },
      "outputs": [
        {
          "output_type": "display_data",
          "data": {
            "text/plain": [
              "  0%|          | 0/1 [00:00<?, ?ba/s]"
            ],
            "application/vnd.jupyter.widget-view+json": {
              "version_major": 2,
              "version_minor": 0,
              "model_id": "2be68d0b6386423489315c818fc09363"
            }
          },
          "metadata": {}
        },
        {
          "output_type": "display_data",
          "data": {
            "text/plain": [
              "  0%|          | 0/1 [00:00<?, ?ba/s]"
            ],
            "application/vnd.jupyter.widget-view+json": {
              "version_major": 2,
              "version_minor": 0,
              "model_id": "8e2409a8924c4125aebc36aa88b4c3b2"
            }
          },
          "metadata": {}
        },
        {
          "output_type": "stream",
          "name": "stderr",
          "text": [
            "Loading cached processed dataset at /root/.cache/huggingface/datasets/csv/default-18544bdb167fe355/0.0.0/433e0ccc46f9880962cc2b12065189766fbb2bee57a221866138fb9203c83519/cache-5299531d32bec648.arrow\n"
          ]
        }
      ],
      "source": [
        "def encode_dataset(tokenizer, project_dataset):\n",
        "  \"\"\"This function uses the provided tokenizer to encode project dataset.\n",
        "\n",
        "  Arguments\n",
        "  ---------\n",
        "  tokenizer : \n",
        "    The tokenizer intantiated based on the pretrained model being used for the project\n",
        "  project_dataset : datasets.Dataset\n",
        "    A Dataset object containing one or more of the samples and their labels\n",
        "  \n",
        "  Returns\n",
        "  ---------\n",
        "  dataset_encoded : datasets.dataset_dict.DatasetDict\n",
        "    The encoded samples and their labels\n",
        "  \"\"\"\n",
        "  \n",
        "  # Initializes the tokenizer\n",
        "  tokenizer = tokenizer\n",
        "\n",
        "  # Defines the tokenization function\n",
        "  def tokenize(batch):\n",
        "    \"\"\"This function applies tokenizer to a batch of samples\n",
        "\n",
        "    Arguments\n",
        "    ---------\n",
        "    batch : \n",
        "      A batch of samples\n",
        "    \"\"\"\n",
        "    return tokenizer(batch[\"text\"], padding=True, truncation=True)\n",
        "    \n",
        "  # Applies the tokenize function to the provided project_dataset\n",
        "  return project_dataset.map(tokenize, batched=True, batch_size=None)\n",
        "\n",
        "dataset_encoded = encode_dataset(tokenizer, project_dataset)"
      ]
    },
    {
      "cell_type": "markdown",
      "metadata": {
        "id": "UC0-hA3q0PUR"
      },
      "source": [
        "## 2.3 Training a classifier"
      ]
    },
    {
      "cell_type": "markdown",
      "metadata": {
        "id": "K3PVEukD0WuQ"
      },
      "source": [
        "### 2.3.1 Training a classifier using feature extraction"
      ]
    },
    {
      "cell_type": "markdown",
      "metadata": {
        "id": "aXYWhi1opY1f"
      },
      "source": [
        "2.3.1.1 Extracting the last hidden states"
      ]
    },
    {
      "cell_type": "code",
      "execution_count": null,
      "metadata": {
        "id": "KOkRKG1FpVoF",
        "colab": {
          "base_uri": "https://localhost:8080/",
          "height": 686,
          "referenced_widgets": [
            "f7bfc1402f744d04a137d7970f054e80",
            "ad0b54c049f44ac799aecba3fafe3ee3",
            "394b8e5fbe1a42d890cc7b6e265bffcb",
            "391e8922bea3457cbef8f4e7dc4fd774",
            "d15e3deecc194696b7f3d77dd496cddd",
            "137af4f89cd8453bb74aafa67a62049b",
            "08bf7897f58142658ff5d3c78774ff53",
            "c11f0343de8641b5bc58c19ad50912c2",
            "bb38b46492a34a6bb4d05241c3aa9b23",
            "d496144fe2f94a638b418238263778bc",
            "67d5e4a1f72c4cbebb5ea87ac75d7f73",
            "658121cbb12146e6a49ba92f38005917",
            "daf07a96808b4396aacb0332226fd8ea",
            "902eda0ab9364b43b788368b3d6cb089",
            "af1c6d32107d40b88bb5bd3ddcdc72d5",
            "b83b4a42c51e456fa1239267c8c26262",
            "a82dda45fcce4af6af19eb6605a4de8e",
            "28b5dcc84bec4563abfc0ed190f27c6f",
            "8967b0b791864b67b3b6287b2bff830e",
            "b1ce2370cb0940f2a43b149e1ccbfb18",
            "628a6af014de4b5e9f15f56d65615c88",
            "a525703aeb214e0093e6c6b868803a35",
            "d3939e801a544b27a72ea9e54e2ad27f",
            "a3ba04bea05e4bbaa95bff4eec2ec5f0",
            "8d71ca245d8149369886163888ab8b1a",
            "737a6ab90a5f46bba92f2b6f8dfcd137",
            "88d5fd84b0494517bb8c9c7203b7e222",
            "57414716d2fd45188f0137b7f847b736",
            "e57e905e6f174b6bbcf9c62a9e20bc11",
            "2415209959e44ea5b5da73e6b42b41cf",
            "07bef961ac784589bf59aefcff193b15",
            "f5460a9814f8464c87e8f28add2d2d4f",
            "2ac8aeed4467497d992121aa0e1460cc"
          ]
        },
        "outputId": "ff4b82df-8937-4fbb-d0ea-fcb1c3f938e7"
      },
      "outputs": [
        {
          "output_type": "stream",
          "name": "stderr",
          "text": [
            "loading configuration file https://huggingface.co/distilbert-base-uncased/resolve/main/config.json from cache at /root/.cache/huggingface/transformers/23454919702d26495337f3da04d1655c7ee010d5ec9d77bdb9e399e00302c0a1.91b885ab15d631bf9cee9dc9d25ece0afd932f2f5130eba28f2055b2220c0333\n",
            "Model config DistilBertConfig {\n",
            "  \"_name_or_path\": \"distilbert-base-uncased\",\n",
            "  \"activation\": \"gelu\",\n",
            "  \"architectures\": [\n",
            "    \"DistilBertForMaskedLM\"\n",
            "  ],\n",
            "  \"attention_dropout\": 0.1,\n",
            "  \"dim\": 768,\n",
            "  \"dropout\": 0.1,\n",
            "  \"hidden_dim\": 3072,\n",
            "  \"initializer_range\": 0.02,\n",
            "  \"max_position_embeddings\": 512,\n",
            "  \"model_type\": \"distilbert\",\n",
            "  \"n_heads\": 12,\n",
            "  \"n_layers\": 6,\n",
            "  \"pad_token_id\": 0,\n",
            "  \"qa_dropout\": 0.1,\n",
            "  \"seq_classif_dropout\": 0.2,\n",
            "  \"sinusoidal_pos_embds\": false,\n",
            "  \"tie_weights_\": true,\n",
            "  \"transformers_version\": \"4.18.0\",\n",
            "  \"vocab_size\": 30522\n",
            "}\n",
            "\n",
            "loading weights file https://huggingface.co/distilbert-base-uncased/resolve/main/pytorch_model.bin from cache at /root/.cache/huggingface/transformers/9c169103d7e5a73936dd2b627e42851bec0831212b677c637033ee4bce9ab5ee.126183e36667471617ae2f0835fab707baa54b731f991507ebbb55ea85adb12a\n",
            "Some weights of the model checkpoint at distilbert-base-uncased were not used when initializing DistilBertModel: ['vocab_layer_norm.bias', 'vocab_layer_norm.weight', 'vocab_transform.weight', 'vocab_projector.weight', 'vocab_projector.bias', 'vocab_transform.bias']\n",
            "- This IS expected if you are initializing DistilBertModel from the checkpoint of a model trained on another task or with another architecture (e.g. initializing a BertForSequenceClassification model from a BertForPreTraining model).\n",
            "- This IS NOT expected if you are initializing DistilBertModel from the checkpoint of a model that you expect to be exactly identical (initializing a BertForSequenceClassification model from a BertForSequenceClassification model).\n",
            "All the weights of DistilBertModel were initialized from the model checkpoint at distilbert-base-uncased.\n",
            "If your task is similar to the task the model of the checkpoint was trained on, you can already use DistilBertModel for predictions without further training.\n"
          ]
        },
        {
          "output_type": "display_data",
          "data": {
            "text/plain": [
              "  0%|          | 0/23 [00:00<?, ?ba/s]"
            ],
            "application/vnd.jupyter.widget-view+json": {
              "version_major": 2,
              "version_minor": 0,
              "model_id": "f7bfc1402f744d04a137d7970f054e80"
            }
          },
          "metadata": {}
        },
        {
          "output_type": "display_data",
          "data": {
            "text/plain": [
              "  0%|          | 0/6 [00:00<?, ?ba/s]"
            ],
            "application/vnd.jupyter.widget-view+json": {
              "version_major": 2,
              "version_minor": 0,
              "model_id": "658121cbb12146e6a49ba92f38005917"
            }
          },
          "metadata": {}
        },
        {
          "output_type": "display_data",
          "data": {
            "text/plain": [
              "  0%|          | 0/2 [00:00<?, ?ba/s]"
            ],
            "application/vnd.jupyter.widget-view+json": {
              "version_major": 2,
              "version_minor": 0,
              "model_id": "d3939e801a544b27a72ea9e54e2ad27f"
            }
          },
          "metadata": {}
        }
      ],
      "source": [
        "def extract_hidden_states_features(model_checkpoint, dataset_encoded):\n",
        "\n",
        "  model = AutoModel.from_pretrained(model_checkpoint).to(device)\n",
        "\n",
        "  # Extracting the last hidden states\n",
        "  def extract_hidden_states(batch):\n",
        "    inputs = {k:v.to(device) for k,v in batch.items() if k in tokenizer.model_input_names}\n",
        "    with torch.no_grad():\n",
        "      last_hidden_state = model(**inputs).last_hidden_state\n",
        "    return {\"hidden_state\": last_hidden_state[:, 0].cpu().numpy()}\n",
        "\n",
        "  # Extracting hidden states across all dataset splits in one go\n",
        "  dataset_encoded.set_format(\"torch\", columns=[\"input_ids\", \"attention_mask\", \"label\"])\n",
        "  dataset_hidden = dataset_encoded.map(extract_hidden_states, batched=True)\n",
        "\n",
        "  return dataset_hidden\n",
        "\n",
        "dataset_hidden = extract_hidden_states_features(model_checkpoint, dataset_encoded)"
      ]
    },
    {
      "cell_type": "markdown",
      "metadata": {
        "id": "Q2514Zq61eia"
      },
      "source": [
        "2.3.1.2 Creating train, validation, test datasets of the hidden states as required for the classifier"
      ]
    },
    {
      "cell_type": "code",
      "execution_count": null,
      "metadata": {
        "id": "5CLnSniv1jez"
      },
      "outputs": [],
      "source": [
        "# Creating a feature matrix\n",
        "X_train = np.array(dataset_hidden[\"train\"][\"hidden_state\"])\n",
        "X_valid = np.array(dataset_hidden[\"valid\"][\"hidden_state\"])\n",
        "X_test = np.array(dataset_hidden[\"test\"][\"hidden_state\"])\n",
        "y_train = np.array(dataset_hidden[\"train\"][\"label\"])\n",
        "y_valid = np.array(dataset_hidden[\"valid\"][\"label\"])\n",
        "y_test = np.array(dataset_hidden[\"test\"][\"label\"])"
      ]
    },
    {
      "cell_type": "markdown",
      "metadata": {
        "id": "KCS6ZHs52Osv"
      },
      "source": [
        "2.3.1.3 Training an MLP classifier using the hidden states and labels"
      ]
    },
    {
      "cell_type": "code",
      "execution_count": null,
      "metadata": {
        "id": "U4cwLzs_2Slt",
        "colab": {
          "base_uri": "https://localhost:8080/"
        },
        "outputId": "d89200a7-c06f-49fc-8860-c32ca722e006"
      },
      "outputs": [
        {
          "output_type": "stream",
          "name": "stdout",
          "text": [
            "Training accuracy: 54.96 %\n",
            "Validation accuracy: 47.51 %\n"
          ]
        }
      ],
      "source": [
        "mlp = MLPClassifier(random_state=0,\n",
        "                    validation_fraction=0.2, \n",
        "                    early_stopping=True)\n",
        "mlp.fit(X_train, y_train)\n",
        "print(\"Training accuracy: %.2f %%\" % (mlp.score(X_train, y_train) * 100))\n",
        "print(\"Validation accuracy: %.2f %%\"  % (mlp.score(X_valid, y_valid) * 100))"
      ]
    },
    {
      "cell_type": "markdown",
      "metadata": {
        "id": "7D9P7hzRMs43"
      },
      "source": [
        "2.3.1.4 Generating results to document a baseline"
      ]
    },
    {
      "cell_type": "markdown",
      "metadata": {
        "id": "oQBLGRe2N4Bq"
      },
      "source": [
        "Plots the training loss and validation accuracy of the MLP model"
      ]
    },
    {
      "cell_type": "code",
      "execution_count": null,
      "metadata": {
        "id": "MnH88pr27DU2",
        "colab": {
          "base_uri": "https://localhost:8080/",
          "height": 265
        },
        "outputId": "e910c4c3-9b77-408e-e89a-a32935d3546f"
      },
      "outputs": [
        {
          "output_type": "display_data",
          "data": {
            "text/plain": [
              "<Figure size 432x288 with 1 Axes>"
            ],
            "image/png": "[encoded data removed]"
          },
          "metadata": {
            "needs_background": "light"
          }
        }
      ],
      "source": [
        "plt.plot(mlp.loss_curve_, label=\"training loss\")\n",
        "plt.plot(mlp.validation_scores_, label=\"validation accuracy\")\n",
        "plt.legend();"
      ]
    },
    {
      "cell_type": "markdown",
      "metadata": {
        "id": "EmVL8NgFXZ8X"
      },
      "source": [
        "Provides the confusion matrix and classification report for validation data and test data of the project"
      ]
    },
    {
      "cell_type": "code",
      "execution_count": null,
      "metadata": {
        "id": "DDhp-lRz7Z0a",
        "colab": {
          "base_uri": "https://localhost:8080/",
          "height": 1000
        },
        "outputId": "d509f0f3-6326-4375-f401-6954a3f781e9"
      },
      "outputs": [
        {
          "output_type": "display_data",
          "data": {
            "text/plain": [
              "<Figure size 432x432 with 1 Axes>"
            ],
            "image/png": "[encoded data removed]"
          },
          "metadata": {
            "needs_background": "light"
          }
        },
        {
          "output_type": "stream",
          "name": "stdout",
          "text": [
            "\n",
            "\n",
            "Classification report for project_dataset[\"valid\"] using MLP\n",
            "---------------------------------------------------------------------------\n",
            "Accuracy: 47.51%\n",
            "Precision: 46.83%\n",
            "Recall: 47.51%\n",
            "F1 score: 43.60%\n",
            "---------------------------------------------------------------------------\n",
            "\n",
            "\n",
            "\n"
          ]
        },
        {
          "output_type": "display_data",
          "data": {
            "text/plain": [
              "<Figure size 432x432 with 1 Axes>"
            ],
            "image/png": "[encoded data removed]"
          },
          "metadata": {
            "needs_background": "light"
          }
        },
        {
          "output_type": "stream",
          "name": "stdout",
          "text": [
            "\n",
            "\n",
            "Classification report for project_dataset[\"test\"] using MLP\n",
            "---------------------------------------------------------------------------\n",
            "Accuracy: 41.12%\n",
            "Precision: 54.06%\n",
            "Recall: 41.12%\n",
            "F1 score: 40.45%\n",
            "---------------------------------------------------------------------------\n",
            "\n",
            "\n",
            "\n"
          ]
        }
      ],
      "source": [
        "y_preds_v = mlp.predict(X_valid)\n",
        "print_classification_report(y_preds_v, y_valid, \"project_dataset[\\\"valid\\\"] using MLP\")\n",
        "\n",
        "y_preds_t = mlp.predict(X_test)\n",
        "print_classification_report(y_preds_t, y_test, \"project_dataset[\\\"test\\\"] using MLP\")"
      ]
    },
    {
      "cell_type": "markdown",
      "metadata": {
        "id": "pq53_0oIY8QN"
      },
      "source": [
        "2.3.1.5 Saving the trained model"
      ]
    },
    {
      "cell_type": "code",
      "execution_count": null,
      "metadata": {
        "id": "K17frxcOZHwJ"
      },
      "outputs": [],
      "source": [
        "mlp_save_filename = working_dir + \"/best_models/mlp.joblib\"\n",
        "dump(mlp, mlp_save_filename)"
      ]
    },
    {
      "cell_type": "markdown",
      "metadata": {
        "id": "NY_eY6OHxVGW"
      },
      "source": [
        "2.3.1.5 Loading saved model and testing performance on test data"
      ]
    },
    {
      "cell_type": "code",
      "execution_count": null,
      "metadata": {
        "id": "JD4_zH6mxdx2",
        "colab": {
          "base_uri": "https://localhost:8080/",
          "height": 761
        },
        "outputId": "b412dc06-86a9-46ca-92f6-6bf479652205"
      },
      "outputs": [
        {
          "output_type": "stream",
          "name": "stdout",
          "text": [
            "type of y_preds:  <class 'numpy.ndarray'>\n",
            "type of y_true:  <class 'numpy.ndarray'>\n",
            "type of labels:  <class 'list'>\n",
            "type of title:  <class 'str'>\n"
          ]
        },
        {
          "output_type": "display_data",
          "data": {
            "text/plain": [
              "<Figure size 432x432 with 1 Axes>"
            ],
            "image/png": "[encoded data removed]"
          },
          "metadata": {
            "needs_background": "light"
          }
        },
        {
          "output_type": "stream",
          "name": "stdout",
          "text": [
            "\n",
            "\n",
            "\n",
            "Classification report for project_dataset[\"test\"] using MLP\n",
            "---------------------------------------------------------------------------\n",
            "              precision    recall  f1-score   support\n",
            "\n",
            "    negative       0.45      0.42      0.44       504\n",
            "     neutral       0.28      0.43      0.34       384\n",
            "    positive       0.46      0.26      0.34       413\n",
            "\n",
            "    accuracy                           0.38      1301\n",
            "   macro avg       0.40      0.37      0.37      1301\n",
            "weighted avg       0.40      0.38      0.38      1301\n",
            "\n",
            "---------------------------------------------------------------------------\n"
          ]
        }
      ],
      "source": [
        "loaded_mlp = load(working_dir + \"/best_models/mlp.joblib\")\n",
        "y_preds_t = loaded_mlp.predict(X_test)\n",
        "print_classification_report(y_preds_t, y_test, \"project_dataset[\\\"test\\\"] using MLP\")"
      ]
    },
    {
      "cell_type": "markdown",
      "metadata": {
        "id": "fdd_BL_Key8Y"
      },
      "source": [
        "### 2.3.2 Training a classifier using fine tuning"
      ]
    },
    {
      "cell_type": "markdown",
      "metadata": {
        "id": "ZBmZJaUXaKbo"
      },
      "source": [
        "2.3.2.1 Defining functions required for training a classifier by fine-tuning a transformer model"
      ]
    },
    {
      "cell_type": "code",
      "execution_count": null,
      "metadata": {
        "id": "lM41LGHgAJSd"
      },
      "outputs": [],
      "source": [
        "# Defining the performance metrics that will be used to evaluate our model's performance during fine-tuning\n",
        "def compute_metrics(pred):\n",
        "  labels = pred.label_ids\n",
        "  preds = pred.predictions.argmax(-1)\n",
        "  loss_fct = torch.nn.CrossEntropyLoss(weight=class_weights)\n",
        "  loss_val = loss_fct(torch.from_numpy(pred.predictions).to(device), torch.from_numpy(labels).to(device))\n",
        "  acc = accuracy_score(labels, preds)\n",
        "  f1 = f1_score(labels, preds, average=\"weighted\")\n",
        "  prec = precision_score(labels, preds, average=\"weighted\")\n",
        "  rec = recall_score(labels, preds, average=\"weighted\")\n",
        "  return {\"accuracy\": acc, \"precision\": prec, \"recall\": rec, \"f1_score\": f1, \"loss\": loss_val}\n",
        "\n",
        "\n",
        "def model_init():\n",
        "  dropout_val = 0.3\n",
        "  try:\n",
        "    with open(model_output_dir + \"/model_hp_values.json\", \"r\") as f:\n",
        "      prev_hp = json.load(f)\n",
        "      dropout_val = prev_hp[\"dropout\"]\n",
        "      print(\"Found previously searched dropout value: \", dropout_val)\n",
        "  except:\n",
        "    print(\"No previous dropout value found. Using default setting of\", dropout_val)\n",
        "\n",
        "  if model_checkpoint == \"distilbert-base-uncased\":\n",
        "    return (AutoModelForSequenceClassification.from_pretrained(model_checkpoint, \n",
        "                                                             num_labels=3, \n",
        "                                                             return_dict=True, \n",
        "                                                             dropout=dropout_val,\n",
        "                                                             attention_dropout=dropout_val,\n",
        "                                                             qa_dropout=dropout_val).to(device))\n",
        "  elif model_checkpoint == \"bert-base-uncased\":\n",
        "    return (AutoModelForSequenceClassification.from_pretrained(model_checkpoint, \n",
        "                                                             num_labels=3, \n",
        "                                                             return_dict=True, \n",
        "                                                             attention_probs_dropout_prob=dropout_val,\n",
        "                                                             hidden_dropout_prob=dropout_val,\n",
        "                                                             classifier_dropout=dropout_val).to(device))\n",
        "\n",
        "def compute_objective(metrics):\n",
        "  return metrics[\"eval_loss\"]"
      ]
    },
    {
      "cell_type": "markdown",
      "metadata": {
        "id": "-A7-uO3ZaoWQ"
      },
      "source": [
        "2.3.2.2 Defining the project trainer class"
      ]
    },
    {
      "cell_type": "code",
      "execution_count": null,
      "metadata": {
        "id": "7vQUnBLrr4AS",
        "colab": {
          "base_uri": "https://localhost:8080/"
        },
        "outputId": "988c46b0-1cf2-46aa-8c40-cd17209b26ed"
      },
      "outputs": [
        {
          "output_type": "stream",
          "name": "stdout",
          "text": [
            "No previous dropout value found. Using default setting of 0.3\n"
          ]
        },
        {
          "output_type": "stream",
          "name": "stderr",
          "text": [
            "loading configuration file https://huggingface.co/distilbert-base-uncased/resolve/main/config.json from cache at /root/.cache/huggingface/transformers/23454919702d26495337f3da04d1655c7ee010d5ec9d77bdb9e399e00302c0a1.91b885ab15d631bf9cee9dc9d25ece0afd932f2f5130eba28f2055b2220c0333\n",
            "Model config DistilBertConfig {\n",
            "  \"_name_or_path\": \"distilbert-base-uncased\",\n",
            "  \"activation\": \"gelu\",\n",
            "  \"architectures\": [\n",
            "    \"DistilBertForMaskedLM\"\n",
            "  ],\n",
            "  \"attention_dropout\": 0.3,\n",
            "  \"dim\": 768,\n",
            "  \"dropout\": 0.3,\n",
            "  \"hidden_dim\": 3072,\n",
            "  \"id2label\": {\n",
            "    \"0\": \"LABEL_0\",\n",
            "    \"1\": \"LABEL_1\",\n",
            "    \"2\": \"LABEL_2\"\n",
            "  },\n",
            "  \"initializer_range\": 0.02,\n",
            "  \"label2id\": {\n",
            "    \"LABEL_0\": 0,\n",
            "    \"LABEL_1\": 1,\n",
            "    \"LABEL_2\": 2\n",
            "  },\n",
            "  \"max_position_embeddings\": 512,\n",
            "  \"model_type\": \"distilbert\",\n",
            "  \"n_heads\": 12,\n",
            "  \"n_layers\": 6,\n",
            "  \"pad_token_id\": 0,\n",
            "  \"qa_dropout\": 0.3,\n",
            "  \"seq_classif_dropout\": 0.2,\n",
            "  \"sinusoidal_pos_embds\": false,\n",
            "  \"tie_weights_\": true,\n",
            "  \"transformers_version\": \"4.18.0\",\n",
            "  \"vocab_size\": 30522\n",
            "}\n",
            "\n",
            "loading weights file https://huggingface.co/distilbert-base-uncased/resolve/main/pytorch_model.bin from cache at /root/.cache/huggingface/transformers/9c169103d7e5a73936dd2b627e42851bec0831212b677c637033ee4bce9ab5ee.126183e36667471617ae2f0835fab707baa54b731f991507ebbb55ea85adb12a\n",
            "Some weights of the model checkpoint at distilbert-base-uncased were not used when initializing DistilBertForSequenceClassification: ['vocab_layer_norm.bias', 'vocab_layer_norm.weight', 'vocab_transform.weight', 'vocab_projector.weight', 'vocab_projector.bias', 'vocab_transform.bias']\n",
            "- This IS expected if you are initializing DistilBertForSequenceClassification from the checkpoint of a model trained on another task or with another architecture (e.g. initializing a BertForSequenceClassification model from a BertForPreTraining model).\n",
            "- This IS NOT expected if you are initializing DistilBertForSequenceClassification from the checkpoint of a model that you expect to be exactly identical (initializing a BertForSequenceClassification model from a BertForSequenceClassification model).\n",
            "Some weights of DistilBertForSequenceClassification were not initialized from the model checkpoint at distilbert-base-uncased and are newly initialized: ['classifier.weight', 'classifier.bias', 'pre_classifier.weight', 'pre_classifier.bias']\n",
            "You should probably TRAIN this model on a down-stream task to be able to use it for predictions and inference.\n"
          ]
        }
      ],
      "source": [
        "class ProjectTrainer(Trainer):\n",
        "    def compute_loss(self, model, inputs, return_outputs=False):\n",
        "        labels = inputs.get(\"labels\")\n",
        "        outputs = model(**inputs)\n",
        "        logits = outputs.get(\"logits\")\n",
        "        loss_fct = torch.nn.CrossEntropyLoss(weight=class_weights)\n",
        "        loss = loss_fct(logits, labels)\n",
        "        return (loss, outputs) if return_outputs else loss\n",
        "\n",
        "training_args = TrainingArguments(output_dir=model_output_dir,\n",
        "                                  evaluation_strategy=\"steps\",\n",
        "                                  logging_strategy=\"steps\",\n",
        "                                  eval_steps=500,\n",
        "                                  disable_tqdm=False,\n",
        "                                  logging_dir=model_output_dir + \"/logs\",\n",
        "                                  save_total_limit=1,\n",
        "                                  load_best_model_at_end=True)\n",
        "\n",
        "trainer = ProjectTrainer(args=training_args,\n",
        "                            tokenizer=tokenizer,\n",
        "                            train_dataset=dataset_encoded[\"train\"],\n",
        "                            eval_dataset=dataset_encoded[\"valid\"],\n",
        "                            model_init=model_init,\n",
        "                            compute_metrics=compute_metrics)"
      ]
    },
    {
      "cell_type": "markdown",
      "metadata": {
        "id": "rpA8EFPAht0C"
      },
      "source": [
        "2.3.2.3 Performing hyperparameter tuning for the model"
      ]
    },
    {
      "cell_type": "code",
      "execution_count": null,
      "metadata": {
        "id": "yo0GLfdhBcul",
        "colab": {
          "base_uri": "https://localhost:8080/"
        },
        "outputId": "93bf71bc-89b8-417e-cbf2-f5badf4b1c50"
      },
      "outputs": [
        {
          "output_type": "stream",
          "name": "stderr",
          "text": [
            "\u001b[2m\u001b[36m(_objective pid=855)\u001b[0m \r 11%|█         | 592/5564 [02:06<15:02,  5.51it/s]\n",
            " 11%|█         | 593/5564 [02:06<15:07,  5.48it/s]\n",
            " 11%|█         | 594/5564 [02:06<15:06,  5.48it/s]\n",
            " 11%|█         | 595/5564 [02:06<15:03,  5.50it/s]\n",
            " 11%|█         | 596/5564 [02:06<15:03,  5.50it/s]\n",
            " 11%|█         | 597/5564 [02:06<15:00,  5.51it/s]\n",
            " 11%|█         | 598/5564 [02:07<14:59,  5.52it/s]\n",
            " 11%|█         | 599/5564 [02:07<14:59,  5.52it/s]\n",
            " 11%|█         | 600/5564 [02:07<14:59,  5.52it/s]\n",
            " 11%|█         | 601/5564 [02:07<14:57,  5.53it/s]\n",
            " 11%|█         | 602/5564 [02:07<14:59,  5.52it/s]\n",
            " 11%|█         | 603/5564 [02:08<15:01,  5.50it/s]\n",
            " 11%|█         | 604/5564 [02:08<15:01,  5.50it/s]\n",
            " 11%|█         | 605/5564 [02:08<15:01,  5.50it/s]\n",
            " 11%|█         | 606/5564 [02:08<15:01,  5.50it/s]\n",
            " 11%|█         | 607/5564 [02:08<15:00,  5.50it/s]\n",
            " 11%|█         | 608/5564 [02:08<15:01,  5.50it/s]\n",
            " 11%|█         | 609/5564 [02:09<14:59,  5.51it/s]\n",
            " 11%|█         | 610/5564 [02:09<15:00,  5.50it/s]\n",
            " 11%|█         | 611/5564 [02:09<14:59,  5.51it/s]\n",
            " 11%|█         | 612/5564 [02:09<15:00,  5.50it/s]\n",
            " 11%|█         | 613/5564 [02:09<15:02,  5.49it/s]\n",
            " 11%|█         | 614/5564 [02:10<15:02,  5.49it/s]\n",
            " 11%|█         | 615/5564 [02:10<15:05,  5.47it/s]\n",
            " 11%|█         | 616/5564 [02:10<15:02,  5.48it/s]\n"
          ]
        },
        {
          "output_type": "stream",
          "name": "stdout",
          "text": [
            "== Status ==\n",
            "Current time: 2022-04-12 06:31:13 (running for 00:02:22.39)\n",
            "Memory usage on this node: 6.2/25.5 GiB\n",
            "Using AsyncHyperBand: num_stopped=0\n",
            "Bracket: Iter 64.000: None | Iter 16.000: None | Iter 4.000: None | Iter 1.000: -1.0605850219726562\n",
            "Resources requested: 1.0/4 CPUs, 1.0/1 GPUs, 0.0/12.42 GiB heap, 0.0/6.21 GiB objects (0.0/1.0 accelerator_type:P100)\n",
            "Result logdir: /content/output-distilbert-base-uncased/ray_asha_results_bert/_objective_2022-04-12_06-28-51\n",
            "Number of trials: 2/2 (1 PENDING, 1 RUNNING)\n",
            "+---------------------+----------+----------------+---------------------+-----------+-----------------+--------------------+-------------------------------+--------------+----------------+-------------+\n",
            "| Trial name          | status   | loc            |   attention_dropout |   dropout |   learning_rate |   num_train_epochs |   per_device_train_batch_size |   qa_dropout |   weight_decay |   objective |\n",
            "|---------------------+----------+----------------+---------------------+-----------+-----------------+--------------------+-------------------------------+--------------+----------------+-------------|\n",
            "| _objective_d1a7f3de | RUNNING  | 172.28.0.2:855 |            0.142774 |  0.286505 |     2.64512e-05 |                  4 |                            16 |     0.200074 |            0.3 |     1.06059 |\n",
            "| _objective_d47f48e6 | PENDING  |                |            0.161474 |  0.168712 |     2.48747e-05 |                  2 |                            32 |     0.172789 |            0.3 |             |\n",
            "+---------------------+----------+----------------+---------------------+-----------+-----------------+--------------------+-------------------------------+--------------+----------------+-------------+\n",
            "\n",
            "\n"
          ]
        },
        {
          "output_type": "stream",
          "name": "stderr",
          "text": [
            " 11%|█         | 617/5564 [02:10<15:02,  5.48it/s]\n",
            " 11%|█         | 618/5564 [02:10<14:59,  5.50it/s]\n",
            " 11%|█         | 619/5564 [02:10<14:58,  5.50it/s]\n",
            " 11%|█         | 620/5564 [02:11<14:58,  5.50it/s]\n",
            " 11%|█         | 621/5564 [02:11<14:55,  5.52it/s]\n",
            " 11%|█         | 622/5564 [02:11<15:08,  5.44it/s]\n",
            " 11%|█         | 623/5564 [02:11<15:10,  5.42it/s]\n",
            " 11%|█         | 624/5564 [02:11<15:08,  5.44it/s]\n",
            " 11%|█         | 625/5564 [02:12<15:04,  5.46it/s]\n",
            " 11%|█▏        | 626/5564 [02:12<15:02,  5.47it/s]\n",
            " 11%|█▏        | 627/5564 [02:12<15:01,  5.48it/s]\n",
            " 11%|█▏        | 628/5564 [02:12<14:59,  5.49it/s]\n",
            " 11%|█▏        | 629/5564 [02:12<15:02,  5.47it/s]\n",
            " 11%|█▏        | 630/5564 [02:12<15:01,  5.47it/s]\n",
            " 11%|█▏        | 631/5564 [02:13<14:57,  5.50it/s]\n",
            " 11%|█▏        | 632/5564 [02:13<15:00,  5.48it/s]\n",
            " 11%|█▏        | 633/5564 [02:13<15:00,  5.48it/s]\n",
            " 11%|█▏        | 634/5564 [02:13<15:00,  5.47it/s]\n",
            " 11%|█▏        | 635/5564 [02:13<14:58,  5.48it/s]\n",
            " 11%|█▏        | 636/5564 [02:14<14:56,  5.50it/s]\n",
            " 11%|█▏        | 637/5564 [02:14<14:53,  5.51it/s]\n",
            " 11%|█▏        | 638/5564 [02:14<14:57,  5.49it/s]\n",
            " 11%|█▏        | 639/5564 [02:14<14:55,  5.50it/s]\n",
            " 12%|█▏        | 640/5564 [02:14<14:53,  5.51it/s]\n",
            " 12%|█▏        | 641/5564 [02:14<14:53,  5.51it/s]\n",
            " 12%|█▏        | 642/5564 [02:15<14:52,  5.51it/s]\n",
            " 12%|█▏        | 643/5564 [02:15<14:59,  5.47it/s]\n",
            " 12%|█▏        | 644/5564 [02:15<15:00,  5.46it/s]\n"
          ]
        },
        {
          "output_type": "stream",
          "name": "stdout",
          "text": [
            "== Status ==\n",
            "Current time: 2022-04-12 06:31:18 (running for 00:02:27.41)\n",
            "Memory usage on this node: 6.2/25.5 GiB\n",
            "Using AsyncHyperBand: num_stopped=0\n",
            "Bracket: Iter 64.000: None | Iter 16.000: None | Iter 4.000: None | Iter 1.000: -1.0605850219726562\n",
            "Resources requested: 1.0/4 CPUs, 1.0/1 GPUs, 0.0/12.42 GiB heap, 0.0/6.21 GiB objects (0.0/1.0 accelerator_type:P100)\n",
            "Result logdir: /content/output-distilbert-base-uncased/ray_asha_results_bert/_objective_2022-04-12_06-28-51\n",
            "Number of trials: 2/2 (1 PENDING, 1 RUNNING)\n",
            "+---------------------+----------+----------------+---------------------+-----------+-----------------+--------------------+-------------------------------+--------------+----------------+-------------+\n",
            "| Trial name          | status   | loc            |   attention_dropout |   dropout |   learning_rate |   num_train_epochs |   per_device_train_batch_size |   qa_dropout |   weight_decay |   objective |\n",
            "|---------------------+----------+----------------+---------------------+-----------+-----------------+--------------------+-------------------------------+--------------+----------------+-------------|\n",
            "| _objective_d1a7f3de | RUNNING  | 172.28.0.2:855 |            0.142774 |  0.286505 |     2.64512e-05 |                  4 |                            16 |     0.200074 |            0.3 |     1.06059 |\n",
            "| _objective_d47f48e6 | PENDING  |                |            0.161474 |  0.168712 |     2.48747e-05 |                  2 |                            32 |     0.172789 |            0.3 |             |\n",
            "+---------------------+----------+----------------+---------------------+-----------+-----------------+--------------------+-------------------------------+--------------+----------------+-------------+\n",
            "\n",
            "\n"
          ]
        },
        {
          "output_type": "stream",
          "name": "stderr",
          "text": [
            "\u001b[2m\u001b[36m(_objective pid=855)\u001b[0m \r 12%|█▏        | 645/5564 [02:15<15:01,  5.45it/s]\n",
            " 12%|█▏        | 646/5564 [02:15<14:58,  5.47it/s]\n",
            " 12%|█▏        | 647/5564 [02:16<15:04,  5.43it/s]\n",
            " 12%|█▏        | 648/5564 [02:16<15:01,  5.45it/s]\n",
            " 12%|█▏        | 649/5564 [02:16<14:58,  5.47it/s]\n",
            " 12%|█▏        | 650/5564 [02:16<14:56,  5.48it/s]\n",
            " 12%|█▏        | 651/5564 [02:16<14:55,  5.49it/s]\n",
            " 12%|█▏        | 652/5564 [02:16<14:53,  5.50it/s]\n",
            " 12%|█▏        | 653/5564 [02:17<14:54,  5.49it/s]\n",
            " 12%|█▏        | 654/5564 [02:17<14:52,  5.50it/s]\n",
            " 12%|█▏        | 655/5564 [02:17<14:51,  5.50it/s]\n",
            "2022-04-12 06:31:20,850\tWARNING tune.py:596 -- SIGINT received (e.g. via Ctrl+C), ending Ray Tune run. This will try to checkpoint the experiment state one last time. Press CTRL+C one more time (or send SIGINT/SIGKILL/SIGTERM) to skip. \n"
          ]
        },
        {
          "output_type": "stream",
          "name": "stdout",
          "text": [
            "== Status ==\n",
            "Current time: 2022-04-12 06:31:20 (running for 00:02:29.43)\n",
            "Memory usage on this node: 6.2/25.5 GiB\n",
            "Using AsyncHyperBand: num_stopped=0\n",
            "Bracket: Iter 64.000: None | Iter 16.000: None | Iter 4.000: None | Iter 1.000: -1.0605850219726562\n",
            "Resources requested: 1.0/4 CPUs, 1.0/1 GPUs, 0.0/12.42 GiB heap, 0.0/6.21 GiB objects (0.0/1.0 accelerator_type:P100)\n",
            "Result logdir: /content/output-distilbert-base-uncased/ray_asha_results_bert/_objective_2022-04-12_06-28-51\n",
            "Number of trials: 2/2 (1 PENDING, 1 RUNNING)\n",
            "+---------------------+----------+----------------+---------------------+-----------+-----------------+--------------------+-------------------------------+--------------+----------------+-------------+\n",
            "| Trial name          | status   | loc            |   attention_dropout |   dropout |   learning_rate |   num_train_epochs |   per_device_train_batch_size |   qa_dropout |   weight_decay |   objective |\n",
            "|---------------------+----------+----------------+---------------------+-----------+-----------------+--------------------+-------------------------------+--------------+----------------+-------------|\n",
            "| _objective_d1a7f3de | RUNNING  | 172.28.0.2:855 |            0.142774 |  0.286505 |     2.64512e-05 |                  4 |                            16 |     0.200074 |            0.3 |     1.06059 |\n",
            "| _objective_d47f48e6 | PENDING  |                |            0.161474 |  0.168712 |     2.48747e-05 |                  2 |                            32 |     0.172789 |            0.3 |             |\n",
            "+---------------------+----------+----------------+---------------------+-----------+-----------------+--------------------+-------------------------------+--------------+----------------+-------------+\n",
            "\n",
            "\n"
          ]
        },
        {
          "output_type": "stream",
          "name": "stderr",
          "text": [
            "\u001b[2m\u001b[36m(_objective pid=855)\u001b[0m \r 12%|█▏        | 656/5564 [02:17<15:00,  5.45it/s]\n",
            "2022-04-12 06:31:21,066\tERROR tune.py:635 -- Trials did not complete: [_objective_d1a7f3de, _objective_d47f48e6]\n",
            "2022-04-12 06:31:21,067\tINFO tune.py:639 -- Total run time: 149.75 seconds (149.42 seconds for the tuning loop).\n",
            "2022-04-12 06:31:21,069\tWARNING tune.py:644 -- Experiment has been interrupted, but the most recent state was saved. You can continue running this experiment by passing `resume=True` to `tune.run()`\n"
          ]
        },
        {
          "output_type": "stream",
          "name": "stdout",
          "text": [
            "Hyperparameter search did not complete successfully.\n",
            "Best hyperparameters from this search:  BestRun(run_id='d1a7f3de', objective=1.0605850219726562, hyperparameters={'per_device_train_batch_size': 16, 'learning_rate': 2.645123755319578e-05, 'weight_decay': 0.3, 'num_train_epochs': 4, 'dropout': 0.28650539637184935, 'attention_dropout': 0.14277373313533553, 'qa_dropout': 0.20007419287264938})\n"
          ]
        }
      ],
      "source": [
        "def project_hyperparameter_tuning():\n",
        "\n",
        "  hp_search_space = dict()\n",
        "  try:\n",
        "    with open(model_output_dir + \"/model_hp_values.json\", \"r\") as f:\n",
        "      prev_hp = json.load(f)\n",
        "    plr = prev_hp[\"learning_rate\"]\n",
        "\n",
        "    hp_search_space= {\n",
        "        \"per_device_train_batch_size\": tune.choice([8, 16, 32, 64]),\n",
        "        \"learning_rate\": tune.loguniform(plr * 0.1, plr * 10),\n",
        "        \"weight_decay\": tune.choice([0.1, 0.2, 0.3]),\n",
        "        \"num_train_epochs\": tune.choice([1, 2, 3, 4, 5])\n",
        "    }\n",
        "  except:\n",
        "    hp_search_space = {\n",
        "        \"per_device_train_batch_size\": tune.choice([8, 16, 32, 64]),\n",
        "        \"learning_rate\": tune.loguniform(1e-5, 1e-4),\n",
        "        \"weight_decay\": tune.choice([0.1, 0.2, 0.3]),\n",
        "        \"num_train_epochs\": tune.choice([1, 2, 3, 4, 5])\n",
        "    }\n",
        "\n",
        "  if model_checkpoint == \"distilbert-base-uncased\":\n",
        "    hp_search_space[\"dropout\"] = tune.uniform(0.1, 0.3)\n",
        "    hp_search_space[\"attention_dropout\"] = tune.uniform(0.1, 0.3)\n",
        "    hp_search_space[\"qa_dropout\"] = tune.uniform(0.1, 0.3)\n",
        "  elif model_checkpoint == \"bert-base-uncased\":\n",
        "    hp_search_space[\"attention_probs_dropout_prob\"] = tune.uniform(0.1, 0.3)\n",
        "    hp_search_space[\"hidden_dropout_prob\"] = tune.uniform(0.1, 0.3)\n",
        "    hp_search_space[\"classifier_dropout\"] = tune.uniform(0.1, 0.3)\n",
        "\n",
        "  best_trial = None\n",
        "  try:\n",
        "    best_trial = trainer.hyperparameter_search(hp_space=lambda _: hp_search_space,\n",
        "                                             compute_objective=compute_objective,\n",
        "                              direction=\"minimize\",\n",
        "                              backend=\"ray\",\n",
        "                              n_trials=2,\n",
        "                              search_alg=HyperOptSearch(metric=\"objective\", mode=\"min\"),\n",
        "                              scheduler=ASHAScheduler(metric=\"objective\", mode=\"min\"),\n",
        "                              local_dir=model_output_dir + \"/ray_asha_results_bert\",\n",
        "                              log_to_file=True)\n",
        "\n",
        "    save_best_model = False\n",
        "    if \"objective\" not in hp_search_space:\n",
        "      save_best_model = True\n",
        "    if (\"objective\" in hp_search_space) and (hp_search_space[\"objective\"] > best_trial.objective):\n",
        "      print(\"New best hyperparameters found.\")\n",
        "      save_best_model = True\n",
        "\n",
        "    if save_best_model == True:\n",
        "      save_model_dir = working_dir + \"/best_models/\" + model_checkpoint\n",
        "      for f in os.listdir(save_model_dir):\n",
        "          os.remove(os.path.join(save_model_dir, f))\n",
        "\n",
        "      best_run_dir = model_output_dir + \"/run-\" + best_trial.run_id\n",
        "      best_model_checkpoint = sorted(os.listdir(best_run_dir))[-1]\n",
        "      copy_model_dir = os.path.join(best_run_dir, best_model_checkpoint)\n",
        "\n",
        "      for f in os.listdir(copy_model_dir):\n",
        "        shutil.copy(os.path.join(copy_model_dir, f), save_model_dir)\n",
        "      shutil.make_archive(save_model_dir, 'zip', save_model_dir)\n",
        "\n",
        "      print(\"Saved model associated with the new best hyperparameters in this directory: \", save_model_dir)\n",
        "      print(\"Download the zip file to use the model later.\")\n",
        "    else:\n",
        "      print(\"Could not find better hyperparameters in this search.\")\n",
        "\n",
        "    for f in os.listdir(model_output_dir):\n",
        "      path = os.path.join(model_output_dir, f)\n",
        "      try:\n",
        "        shutil.rmtree(path)\n",
        "      except OSError:\n",
        "        os.remove(path)\n",
        "    print(\"Cleared all files from this hyperparameter search from the following directory: \", model_output_dir)\n",
        "\n",
        "    hp_values = best_trial.hyperparameters\n",
        "    hp_values[\"objective\"] = best_trial.objective\n",
        "    hp_values_json = json.dumps(hp_values)\n",
        "    with open(model_output_dir + \"/model_hp_values.json\", \"w\") as f:\n",
        "      f.write(hp_values_json)\n",
        "    print(\"New hyperparameters written to \" + model_output_dir + \"/model_hp_values.json\")\n",
        "  except:\n",
        "    print(\"Hyperparameter search did not complete successfully.\")\n",
        "\n",
        "  return best_trial\n",
        "\n",
        "current_best_trial = project_hyperparameter_tuning()\n",
        "print(\"Best hyperparameters from this search: \", current_best_trial)"
      ]
    },
    {
      "cell_type": "code",
      "execution_count": null,
      "metadata": {
        "id": "zslzR8fhKS0l"
      },
      "outputs": [],
      "source": [
        "save_model_dir = working_dir + \"/best_models/\" + model_checkpoint\n",
        "shutil.make_archive(save_model_dir, 'zip', save_model_dir)"
      ]
    },
    {
      "cell_type": "markdown",
      "metadata": {
        "id": "oDJtyd80h8WR"
      },
      "source": [
        "2.3.2.4 Training the model with the last best set of hyperparameters found.\n",
        "\n",
        "This function is written because it was observed that sometimes the hyperparameter tuning phase does not complete successfully due to memory related issues. This function allows us work with any improved hyperparameters found during unsuccessful hyperparameter tuning attempts by manually going through the logs."
      ]
    },
    {
      "cell_type": "code",
      "execution_count": null,
      "metadata": {
        "id": "Bg-fTiuDXbZQ",
        "colab": {
          "base_uri": "https://localhost:8080/",
          "height": 1000
        },
        "outputId": "1e5dd650-4866-4e10-b3cc-91b4206073ea"
      },
      "outputs": [
        {
          "output_type": "stream",
          "name": "stdout",
          "text": [
            "No previous hyperparameter search results found. Manually setting the hyperparameter values.\n",
            "No previous dropout value found. Using default setting of 0.3\n"
          ]
        },
        {
          "output_type": "stream",
          "name": "stderr",
          "text": [
            "loading configuration file https://huggingface.co/distilbert-base-uncased/resolve/main/config.json from cache at /root/.cache/huggingface/transformers/23454919702d26495337f3da04d1655c7ee010d5ec9d77bdb9e399e00302c0a1.91b885ab15d631bf9cee9dc9d25ece0afd932f2f5130eba28f2055b2220c0333\n",
            "Model config DistilBertConfig {\n",
            "  \"_name_or_path\": \"distilbert-base-uncased\",\n",
            "  \"activation\": \"gelu\",\n",
            "  \"architectures\": [\n",
            "    \"DistilBertForMaskedLM\"\n",
            "  ],\n",
            "  \"attention_dropout\": 0.3,\n",
            "  \"dim\": 768,\n",
            "  \"dropout\": 0.3,\n",
            "  \"hidden_dim\": 3072,\n",
            "  \"id2label\": {\n",
            "    \"0\": \"LABEL_0\",\n",
            "    \"1\": \"LABEL_1\",\n",
            "    \"2\": \"LABEL_2\"\n",
            "  },\n",
            "  \"initializer_range\": 0.02,\n",
            "  \"label2id\": {\n",
            "    \"LABEL_0\": 0,\n",
            "    \"LABEL_1\": 1,\n",
            "    \"LABEL_2\": 2\n",
            "  },\n",
            "  \"max_position_embeddings\": 512,\n",
            "  \"model_type\": \"distilbert\",\n",
            "  \"n_heads\": 12,\n",
            "  \"n_layers\": 6,\n",
            "  \"pad_token_id\": 0,\n",
            "  \"qa_dropout\": 0.3,\n",
            "  \"seq_classif_dropout\": 0.2,\n",
            "  \"sinusoidal_pos_embds\": false,\n",
            "  \"tie_weights_\": true,\n",
            "  \"transformers_version\": \"4.18.0\",\n",
            "  \"vocab_size\": 30522\n",
            "}\n",
            "\n",
            "loading weights file https://huggingface.co/distilbert-base-uncased/resolve/main/pytorch_model.bin from cache at /root/.cache/huggingface/transformers/9c169103d7e5a73936dd2b627e42851bec0831212b677c637033ee4bce9ab5ee.126183e36667471617ae2f0835fab707baa54b731f991507ebbb55ea85adb12a\n",
            "Some weights of the model checkpoint at distilbert-base-uncased were not used when initializing DistilBertForSequenceClassification: ['vocab_layer_norm.bias', 'vocab_layer_norm.weight', 'vocab_transform.weight', 'vocab_projector.weight', 'vocab_projector.bias', 'vocab_transform.bias']\n",
            "- This IS expected if you are initializing DistilBertForSequenceClassification from the checkpoint of a model trained on another task or with another architecture (e.g. initializing a BertForSequenceClassification model from a BertForPreTraining model).\n",
            "- This IS NOT expected if you are initializing DistilBertForSequenceClassification from the checkpoint of a model that you expect to be exactly identical (initializing a BertForSequenceClassification model from a BertForSequenceClassification model).\n",
            "Some weights of DistilBertForSequenceClassification were not initialized from the model checkpoint at distilbert-base-uncased and are newly initialized: ['classifier.weight', 'classifier.bias', 'pre_classifier.weight', 'pre_classifier.bias']\n",
            "You should probably TRAIN this model on a down-stream task to be able to use it for predictions and inference.\n",
            "The following columns in the training set  don't have a corresponding argument in `DistilBertForSequenceClassification.forward` and have been ignored: text. If text are not expected by `DistilBertForSequenceClassification.forward`,  you can safely ignore this message.\n",
            "/usr/local/lib/python3.7/dist-packages/transformers/optimization.py:309: FutureWarning: This implementation of AdamW is deprecated and will be removed in a future version. Use the PyTorch implementation torch.optim.AdamW instead, or set `no_deprecation_warning=True` to disable this warning\n",
            "  FutureWarning,\n",
            "***** Running training *****\n",
            "  Num examples = 22244\n",
            "  Num Epochs = 2\n",
            "  Instantaneous batch size per device = 64\n",
            "  Total train batch size (w. parallel, distributed & accumulation) = 64\n",
            "  Gradient Accumulation steps = 1\n",
            "  Total optimization steps = 696\n"
          ]
        },
        {
          "output_type": "display_data",
          "data": {
            "text/plain": [
              "<IPython.core.display.HTML object>"
            ],
            "text/html": [
              "\n",
              "    <div>\n",
              "      \n",
              "      <progress value='3' max='696' style='width:300px; height:20px; vertical-align: middle;'></progress>\n",
              "      [  3/696 00:00 < 07:18, 1.58 it/s, Epoch 0.01/2]\n",
              "    </div>\n",
              "    <table border=\"1\" class=\"dataframe\">\n",
              "  <thead>\n",
              " <tr style=\"text-align: left;\">\n",
              "      <th>Step</th>\n",
              "      <th>Training Loss</th>\n",
              "      <th>Validation Loss</th>\n",
              "    </tr>\n",
              "  </thead>\n",
              "  <tbody>\n",
              "  </tbody>\n",
              "</table><p>"
            ]
          },
          "metadata": {}
        },
        {
          "output_type": "error",
          "ename": "KeyboardInterrupt",
          "evalue": "ignored",
          "traceback": [
            "\u001b[0;31m---------------------------------------------------------------------------\u001b[0m",
            "\u001b[0;31mKeyboardInterrupt\u001b[0m                         Traceback (most recent call last)",
            "\u001b[0;32m<ipython-input-11-17895685dcd0>\u001b[0m in \u001b[0;36m<module>\u001b[0;34m()\u001b[0m\n\u001b[1;32m     44\u001b[0m   \u001b[0mplt\u001b[0m\u001b[0;34m.\u001b[0m\u001b[0mshow\u001b[0m\u001b[0;34m(\u001b[0m\u001b[0;34m)\u001b[0m\u001b[0;34m\u001b[0m\u001b[0;34m\u001b[0m\u001b[0m\n\u001b[1;32m     45\u001b[0m \u001b[0;34m\u001b[0m\u001b[0m\n\u001b[0;32m---> 46\u001b[0;31m \u001b[0mtrain_with_last_best_hyperparameters\u001b[0m\u001b[0;34m(\u001b[0m\u001b[0;34m)\u001b[0m\u001b[0;34m\u001b[0m\u001b[0;34m\u001b[0m\u001b[0m\n\u001b[0m",
            "\u001b[0;32m<ipython-input-11-17895685dcd0>\u001b[0m in \u001b[0;36mtrain_with_last_best_hyperparameters\u001b[0;34m()\u001b[0m\n\u001b[1;32m     20\u001b[0m   \u001b[0msetattr\u001b[0m\u001b[0;34m(\u001b[0m\u001b[0mtrainer\u001b[0m\u001b[0;34m.\u001b[0m\u001b[0margs\u001b[0m\u001b[0;34m,\u001b[0m \u001b[0;34m\"callbacks\"\u001b[0m\u001b[0;34m,\u001b[0m \u001b[0;34m[\u001b[0m\u001b[0mEarlyStoppingCallback\u001b[0m\u001b[0;34m(\u001b[0m\u001b[0mearly_stopping_patience\u001b[0m\u001b[0;34m=\u001b[0m\u001b[0;36m3\u001b[0m\u001b[0;34m)\u001b[0m\u001b[0;34m]\u001b[0m\u001b[0;34m)\u001b[0m\u001b[0;34m\u001b[0m\u001b[0;34m\u001b[0m\u001b[0m\n\u001b[1;32m     21\u001b[0m \u001b[0;34m\u001b[0m\u001b[0m\n\u001b[0;32m---> 22\u001b[0;31m   \u001b[0mtrainer\u001b[0m\u001b[0;34m.\u001b[0m\u001b[0mtrain\u001b[0m\u001b[0;34m(\u001b[0m\u001b[0;34m)\u001b[0m\u001b[0;34m\u001b[0m\u001b[0;34m\u001b[0m\u001b[0m\n\u001b[0m\u001b[1;32m     23\u001b[0m \u001b[0;34m\u001b[0m\u001b[0m\n\u001b[1;32m     24\u001b[0m   \u001b[0mmodel_save_path\u001b[0m \u001b[0;34m=\u001b[0m \u001b[0mmodel_output_dir\u001b[0m \u001b[0;34m+\u001b[0m  \u001b[0;34m\"/best_model\"\u001b[0m\u001b[0;34m\u001b[0m\u001b[0;34m\u001b[0m\u001b[0m\n",
            "\u001b[0;32m/usr/local/lib/python3.7/dist-packages/transformers/trainer.py\u001b[0m in \u001b[0;36mtrain\u001b[0;34m(self, resume_from_checkpoint, trial, ignore_keys_for_eval, **kwargs)\u001b[0m\n\u001b[1;32m   1420\u001b[0m                         \u001b[0mtr_loss_step\u001b[0m \u001b[0;34m=\u001b[0m \u001b[0mself\u001b[0m\u001b[0;34m.\u001b[0m\u001b[0mtraining_step\u001b[0m\u001b[0;34m(\u001b[0m\u001b[0mmodel\u001b[0m\u001b[0;34m,\u001b[0m \u001b[0minputs\u001b[0m\u001b[0;34m)\u001b[0m\u001b[0;34m\u001b[0m\u001b[0;34m\u001b[0m\u001b[0m\n\u001b[1;32m   1421\u001b[0m                 \u001b[0;32melse\u001b[0m\u001b[0;34m:\u001b[0m\u001b[0;34m\u001b[0m\u001b[0;34m\u001b[0m\u001b[0m\n\u001b[0;32m-> 1422\u001b[0;31m                     \u001b[0mtr_loss_step\u001b[0m \u001b[0;34m=\u001b[0m \u001b[0mself\u001b[0m\u001b[0;34m.\u001b[0m\u001b[0mtraining_step\u001b[0m\u001b[0;34m(\u001b[0m\u001b[0mmodel\u001b[0m\u001b[0;34m,\u001b[0m \u001b[0minputs\u001b[0m\u001b[0;34m)\u001b[0m\u001b[0;34m\u001b[0m\u001b[0;34m\u001b[0m\u001b[0m\n\u001b[0m\u001b[1;32m   1423\u001b[0m \u001b[0;34m\u001b[0m\u001b[0m\n\u001b[1;32m   1424\u001b[0m                 if (\n",
            "\u001b[0;32m/usr/local/lib/python3.7/dist-packages/transformers/trainer.py\u001b[0m in \u001b[0;36mtraining_step\u001b[0;34m(self, model, inputs)\u001b[0m\n\u001b[1;32m   2027\u001b[0m             \u001b[0mloss\u001b[0m \u001b[0;34m=\u001b[0m \u001b[0mself\u001b[0m\u001b[0;34m.\u001b[0m\u001b[0mdeepspeed\u001b[0m\u001b[0;34m.\u001b[0m\u001b[0mbackward\u001b[0m\u001b[0;34m(\u001b[0m\u001b[0mloss\u001b[0m\u001b[0;34m)\u001b[0m\u001b[0;34m\u001b[0m\u001b[0;34m\u001b[0m\u001b[0m\n\u001b[1;32m   2028\u001b[0m         \u001b[0;32melse\u001b[0m\u001b[0;34m:\u001b[0m\u001b[0;34m\u001b[0m\u001b[0;34m\u001b[0m\u001b[0m\n\u001b[0;32m-> 2029\u001b[0;31m             \u001b[0mloss\u001b[0m\u001b[0;34m.\u001b[0m\u001b[0mbackward\u001b[0m\u001b[0;34m(\u001b[0m\u001b[0;34m)\u001b[0m\u001b[0;34m\u001b[0m\u001b[0;34m\u001b[0m\u001b[0m\n\u001b[0m\u001b[1;32m   2030\u001b[0m \u001b[0;34m\u001b[0m\u001b[0m\n\u001b[1;32m   2031\u001b[0m         \u001b[0;32mreturn\u001b[0m \u001b[0mloss\u001b[0m\u001b[0;34m.\u001b[0m\u001b[0mdetach\u001b[0m\u001b[0;34m(\u001b[0m\u001b[0;34m)\u001b[0m\u001b[0;34m\u001b[0m\u001b[0;34m\u001b[0m\u001b[0m\n",
            "\u001b[0;32m/usr/local/lib/python3.7/dist-packages/torch/_tensor.py\u001b[0m in \u001b[0;36mbackward\u001b[0;34m(self, gradient, retain_graph, create_graph, inputs)\u001b[0m\n\u001b[1;32m    305\u001b[0m                 \u001b[0mcreate_graph\u001b[0m\u001b[0;34m=\u001b[0m\u001b[0mcreate_graph\u001b[0m\u001b[0;34m,\u001b[0m\u001b[0;34m\u001b[0m\u001b[0;34m\u001b[0m\u001b[0m\n\u001b[1;32m    306\u001b[0m                 inputs=inputs)\n\u001b[0;32m--> 307\u001b[0;31m         \u001b[0mtorch\u001b[0m\u001b[0;34m.\u001b[0m\u001b[0mautograd\u001b[0m\u001b[0;34m.\u001b[0m\u001b[0mbackward\u001b[0m\u001b[0;34m(\u001b[0m\u001b[0mself\u001b[0m\u001b[0;34m,\u001b[0m \u001b[0mgradient\u001b[0m\u001b[0;34m,\u001b[0m \u001b[0mretain_graph\u001b[0m\u001b[0;34m,\u001b[0m \u001b[0mcreate_graph\u001b[0m\u001b[0;34m,\u001b[0m \u001b[0minputs\u001b[0m\u001b[0;34m=\u001b[0m\u001b[0minputs\u001b[0m\u001b[0;34m)\u001b[0m\u001b[0;34m\u001b[0m\u001b[0;34m\u001b[0m\u001b[0m\n\u001b[0m\u001b[1;32m    308\u001b[0m \u001b[0;34m\u001b[0m\u001b[0m\n\u001b[1;32m    309\u001b[0m     \u001b[0;32mdef\u001b[0m \u001b[0mregister_hook\u001b[0m\u001b[0;34m(\u001b[0m\u001b[0mself\u001b[0m\u001b[0;34m,\u001b[0m \u001b[0mhook\u001b[0m\u001b[0;34m)\u001b[0m\u001b[0;34m:\u001b[0m\u001b[0;34m\u001b[0m\u001b[0;34m\u001b[0m\u001b[0m\n",
            "\u001b[0;32m/usr/local/lib/python3.7/dist-packages/torch/autograd/__init__.py\u001b[0m in \u001b[0;36mbackward\u001b[0;34m(tensors, grad_tensors, retain_graph, create_graph, grad_variables, inputs)\u001b[0m\n\u001b[1;32m    154\u001b[0m     Variable._execution_engine.run_backward(\n\u001b[1;32m    155\u001b[0m         \u001b[0mtensors\u001b[0m\u001b[0;34m,\u001b[0m \u001b[0mgrad_tensors_\u001b[0m\u001b[0;34m,\u001b[0m \u001b[0mretain_graph\u001b[0m\u001b[0;34m,\u001b[0m \u001b[0mcreate_graph\u001b[0m\u001b[0;34m,\u001b[0m \u001b[0minputs\u001b[0m\u001b[0;34m,\u001b[0m\u001b[0;34m\u001b[0m\u001b[0;34m\u001b[0m\u001b[0m\n\u001b[0;32m--> 156\u001b[0;31m         allow_unreachable=True, accumulate_grad=True)  # allow_unreachable flag\n\u001b[0m\u001b[1;32m    157\u001b[0m \u001b[0;34m\u001b[0m\u001b[0m\n\u001b[1;32m    158\u001b[0m \u001b[0;34m\u001b[0m\u001b[0m\n",
            "\u001b[0;31mKeyboardInterrupt\u001b[0m: "
          ]
        }
      ],
      "source": [
        "def train_with_last_best_hyperparameters():\n",
        "  try:\n",
        "    with open(model_output_dir + \"/model_hp_values.json\", \"r\") as f:\n",
        "      hp_values = json.load(f)\n",
        "    print(\"Set trainer.args using previous hyperparamter search results.\")\n",
        "  except:\n",
        "    hp_values = dict()\n",
        "    hp_values[\"learning_rate\"] = 1.5544610095816334e-05\n",
        "    hp_values[\"num_train_epochs\"] = 2\n",
        "    hp_values[\"per_device_train_batch_size\"] = 64\n",
        "    hp_values[\"seed\"] = 25\n",
        "    hp_values[\"weight_decay\"] = 0.1\n",
        "    hp_values[\"dropout\"] = 0.12078133498900412\n",
        "    print(\"No previous hyperparameter search results found. Manually setting the hyperparameter values.\")\n",
        "\n",
        "  for n, v in hp_values.items():\n",
        "    if n == \"seed\":\n",
        "      v = int(v)\n",
        "    setattr(trainer.args, n, v)\n",
        "  setattr(trainer.args, \"callbacks\", [EarlyStoppingCallback(early_stopping_patience=3)])\n",
        "\n",
        "  trainer.train()\n",
        "\n",
        "  model_save_path = model_output_dir +  \"/best_model\"\n",
        "  tokenizer.save_pretrained(model_save_path)\n",
        "  trainer.save_model(model_save_path)\n",
        "\n",
        "  train_losses = list()\n",
        "  validation_losses = list()\n",
        "\n",
        "  for entry in trainer.state.log_history:\n",
        "    if \"loss\" in entry:\n",
        "      train_losses.append(entry[\"loss\"])\n",
        "    if \"eval_loss\" in entry:\n",
        "      validation_losses.append(entry[\"eval_loss\"])\n",
        "\n",
        "  plt.plot(train_losses, color=\"blue\")\n",
        "  plt.plot(validation_losses, color=\"red\")\n",
        "  plt.ylim(-0.05, 2)\n",
        "  plt.xlabel(\"Steps\")\n",
        "  plt.ylabel(\"loss\")\n",
        "  plt.legend([\"train_loss\", \"validation_loss\"])\n",
        "  plt.title(\"Loss every 500 steps\")\n",
        "  plt.show()\n",
        "\n",
        "train_with_last_best_hyperparameters()"
      ]
    },
    {
      "cell_type": "markdown",
      "metadata": {
        "id": "F0Da-x_akrzw"
      },
      "source": [
        "2.3.2.5 Generating results"
      ]
    },
    {
      "cell_type": "markdown",
      "metadata": {
        "id": "EFtbalJVlhgN"
      },
      "source": [
        "Provides the confusion matrix and classification report for validation data and test data of the project"
      ]
    },
    {
      "cell_type": "code",
      "execution_count": null,
      "metadata": {
        "id": "4or4NWTNhjM9"
      },
      "outputs": [],
      "source": [
        "y_valid = np.array(dataset_encoded[\"valid\"][\"label\"])\n",
        "validation_predictions_all = trainer.predict(dataset_encoded[\"valid\"])\n",
        "y_preds_v = np.argmax(validation_predictions_all.predictions, axis=1)\n",
        "print_classification_report(y_preds_v, y_valid, \"project_dataset[\\\"valid\\\"] using finetuned \" + model_checkpoint)\n",
        "\n",
        "y_test = np.array(dataset_encoded[\"test\"][\"label\"])\n",
        "test_predictions_all = trainer.predict(dataset_encoded[\"test\"])\n",
        "y_preds_t = np.argmax(test_predictions_all.predictions, axis=1)\n",
        "print_classification_report(y_preds_t, y_test, \"project_dataset[\\\"test\\\"] using finetuned \" + model_checkpoint)"
      ]
    },
    {
      "cell_type": "markdown",
      "metadata": {
        "id": "oLJP0tUqpst-"
      },
      "source": [
        "2.3.2.5 Loading saved model and testing performance on test data"
      ]
    },
    {
      "cell_type": "code",
      "execution_count": null,
      "metadata": {
        "id": "fr0kN99FpLtU"
      },
      "outputs": [],
      "source": [
        "def evaluate_test_data_using_saved_model(dataset):\n",
        "  # Load model\n",
        "  try:\n",
        "    model_load_path = working_dir +  \"/best_models/\" + model_checkpoint \n",
        "    loaded_tokenizer = AutoTokenizer.from_pretrained(model_load_path)\n",
        "    loaded_m = (AutoModelForSequenceClassification.from_pretrained(model_load_path, num_labels=3).to(device))\n",
        "    trainer = ProjectTrainer(model=loaded_m)\n",
        "\n",
        "    dataset_encoded = encode_dataset(loaded_tokenizer, dataset)\n",
        "    y_test = np.array(dataset_encoded[\"label\"])\n",
        "    labels = dataset.features[\"label\"].names\n",
        "\n",
        "    test_predictions_all = trainer.predict(dataset_encoded)\n",
        "    y_preds_t = np.argmax(test_predictions_all.predictions, axis=1)\n",
        "    print_classification_report(y_preds_t, y_test, \"project_dataset[\\\"test\\\"] using finetuned \" + model_checkpoint)\n",
        "  except FileNotFoundError:\n",
        "    print(\"Could not load a model from the provided path.\")\n",
        "  except Exception as e:\n",
        "    print(\"Could not complete the opration because of the following error: \", e)\n",
        "evaluate_test_data_using_saved_model(project_dataset[\"test\"])"
      ]
    },
    {
      "cell_type": "markdown",
      "source": [
        "# 3. LSTM and BiLSTM Section"
      ],
      "metadata": {
        "id": "Op9v4c4baeUY"
      }
    },
    {
      "cell_type": "markdown",
      "source": [
        "#3.1 Preparing Data for LSTM and BiLSTM\n"
      ],
      "metadata": {
        "id": "JYmNCxqlbcfw"
      }
    },
    {
      "cell_type": "markdown",
      "source": [
        "3.1.1 Loading"
      ],
      "metadata": {
        "id": "Hdv_W1GmcoAh"
      }
    },
    {
      "cell_type": "code",
      "source": [
        "training_data_path = os.getcwd() + \"/train_dataset_processed.csv\"\n",
        "testing_data_path = os.getcwd() + \"/test_dataset_processed.csv\"\n",
        "device = torch.device(\"cuda\" if torch.cuda.is_available() else \"cpu\")"
      ],
      "metadata": {
        "id": "a9cudzJ_ah9c"
      },
      "execution_count": 3,
      "outputs": []
    },
    {
      "cell_type": "code",
      "source": [
        "training_data_df = pd.read_csv(training_data_path, names = [\"Sentiment\", \"Tweet\"])\n",
        "testing_data_df = pd.read_csv(testing_data_path, names = [\"Sentiment\", \"Tweet\"])"
      ],
      "metadata": {
        "id": "WqJmn9ytcS9a"
      },
      "execution_count": 4,
      "outputs": []
    },
    {
      "cell_type": "code",
      "source": [
        "training_data_df"
      ],
      "metadata": {
        "colab": {
          "base_uri": "https://localhost:8080/",
          "height": 424
        },
        "id": "dAXvsP9akjnP",
        "outputId": "dbdf6123-52e9-47a6-a4fc-d68b72338511"
      },
      "execution_count": 5,
      "outputs": [
        {
          "output_type": "execute_result",
          "data": {
            "text/plain": [
              "       Sentiment                                              Tweet\n",
              "0              1  Well done HK Government for heeding concerns o...\n",
              "1              2  Solidarity &amp; good luck with everyone start...\n",
              "2              1  Having private health insurance doesn't mean a...\n",
              "3              0  While President, Trump signed a check to cover...\n",
              "4              1  Trump on Omar/Tlaib: \"Any Jewish people that v...\n",
              "...          ...                                                ...\n",
              "27802          0  “He’s not Jill Stein. He’s not Ross Perot. He’...\n",
              "27803          1  Alexander Calder?! Kim Taehyung did you said A...\n",
              "27804          2  Looking back and admiring our child-self is a ...\n",
              "27805          0  the only porn im watching is food porn , other...\n",
              "27806          0  Dear ,  We respect all you've done for the Dem...\n",
              "\n",
              "[27807 rows x 2 columns]"
            ],
            "text/html": [
              "\n",
              "  <div id=\"df-e506509c-7b53-411e-907b-4e86ed0405bf\">\n",
              "    <div class=\"colab-df-container\">\n",
              "      <div>\n",
              "<style scoped>\n",
              "    .dataframe tbody tr th:only-of-type {\n",
              "        vertical-align: middle;\n",
              "    }\n",
              "\n",
              "    .dataframe tbody tr th {\n",
              "        vertical-align: top;\n",
              "    }\n",
              "\n",
              "    .dataframe thead th {\n",
              "        text-align: right;\n",
              "    }\n",
              "</style>\n",
              "<table border=\"1\" class=\"dataframe\">\n",
              "  <thead>\n",
              "    <tr style=\"text-align: right;\">\n",
              "      <th></th>\n",
              "      <th>Sentiment</th>\n",
              "      <th>Tweet</th>\n",
              "    </tr>\n",
              "  </thead>\n",
              "  <tbody>\n",
              "    <tr>\n",
              "      <th>0</th>\n",
              "      <td>1</td>\n",
              "      <td>Well done HK Government for heeding concerns o...</td>\n",
              "    </tr>\n",
              "    <tr>\n",
              "      <th>1</th>\n",
              "      <td>2</td>\n",
              "      <td>Solidarity &amp;amp; good luck with everyone start...</td>\n",
              "    </tr>\n",
              "    <tr>\n",
              "      <th>2</th>\n",
              "      <td>1</td>\n",
              "      <td>Having private health insurance doesn't mean a...</td>\n",
              "    </tr>\n",
              "    <tr>\n",
              "      <th>3</th>\n",
              "      <td>0</td>\n",
              "      <td>While President, Trump signed a check to cover...</td>\n",
              "    </tr>\n",
              "    <tr>\n",
              "      <th>4</th>\n",
              "      <td>1</td>\n",
              "      <td>Trump on Omar/Tlaib: \"Any Jewish people that v...</td>\n",
              "    </tr>\n",
              "    <tr>\n",
              "      <th>...</th>\n",
              "      <td>...</td>\n",
              "      <td>...</td>\n",
              "    </tr>\n",
              "    <tr>\n",
              "      <th>27802</th>\n",
              "      <td>0</td>\n",
              "      <td>“He’s not Jill Stein. He’s not Ross Perot. He’...</td>\n",
              "    </tr>\n",
              "    <tr>\n",
              "      <th>27803</th>\n",
              "      <td>1</td>\n",
              "      <td>Alexander Calder?! Kim Taehyung did you said A...</td>\n",
              "    </tr>\n",
              "    <tr>\n",
              "      <th>27804</th>\n",
              "      <td>2</td>\n",
              "      <td>Looking back and admiring our child-self is a ...</td>\n",
              "    </tr>\n",
              "    <tr>\n",
              "      <th>27805</th>\n",
              "      <td>0</td>\n",
              "      <td>the only porn im watching is food porn , other...</td>\n",
              "    </tr>\n",
              "    <tr>\n",
              "      <th>27806</th>\n",
              "      <td>0</td>\n",
              "      <td>Dear ,  We respect all you've done for the Dem...</td>\n",
              "    </tr>\n",
              "  </tbody>\n",
              "</table>\n",
              "<p>27807 rows × 2 columns</p>\n",
              "</div>\n",
              "      <button class=\"colab-df-convert\" onclick=\"convertToInteractive('df-e506509c-7b53-411e-907b-4e86ed0405bf')\"\n",
              "              title=\"Convert this dataframe to an interactive table.\"\n",
              "              style=\"display:none;\">\n",
              "        \n",
              "  <svg xmlns=\"http://www.w3.org/2000/svg\" height=\"24px\"viewBox=\"0 0 24 24\"\n",
              "       width=\"24px\">\n",
              "    <path d=\"M0 0h24v24H0V0z\" fill=\"none\"/>\n",
              "    <path d=\"M18.56 5.44l.94 2.06.94-2.06 2.06-.94-2.06-.94-.94-2.06-.94 2.06-2.06.94zm-11 1L8.5 8.5l.94-2.06 2.06-.94-2.06-.94L8.5 2.5l-.94 2.06-2.06.94zm10 10l.94 2.06.94-2.06 2.06-.94-2.06-.94-.94-2.06-.94 2.06-2.06.94z\"/><path d=\"M17.41 7.96l-1.37-1.37c-.4-.4-.92-.59-1.43-.59-.52 0-1.04.2-1.43.59L10.3 9.45l-7.72 7.72c-.78.78-.78 2.05 0 2.83L4 21.41c.39.39.9.59 1.41.59.51 0 1.02-.2 1.41-.59l7.78-7.78 2.81-2.81c.8-.78.8-2.07 0-2.86zM5.41 20L4 18.59l7.72-7.72 1.47 1.35L5.41 20z\"/>\n",
              "  </svg>\n",
              "      </button>\n",
              "      \n",
              "  <style>\n",
              "    .colab-df-container {\n",
              "      display:flex;\n",
              "      flex-wrap:wrap;\n",
              "      gap: 12px;\n",
              "    }\n",
              "\n",
              "    .colab-df-convert {\n",
              "      background-color: #E8F0FE;\n",
              "      border: none;\n",
              "      border-radius: 50%;\n",
              "      cursor: pointer;\n",
              "      display: none;\n",
              "      fill: #1967D2;\n",
              "      height: 32px;\n",
              "      padding: 0 0 0 0;\n",
              "      width: 32px;\n",
              "    }\n",
              "\n",
              "    .colab-df-convert:hover {\n",
              "      background-color: #E2EBFA;\n",
              "      box-shadow: 0px 1px 2px rgba(60, 64, 67, 0.3), 0px 1px 3px 1px rgba(60, 64, 67, 0.15);\n",
              "      fill: #174EA6;\n",
              "    }\n",
              "\n",
              "    [theme=dark] .colab-df-convert {\n",
              "      background-color: #3B4455;\n",
              "      fill: #D2E3FC;\n",
              "    }\n",
              "\n",
              "    [theme=dark] .colab-df-convert:hover {\n",
              "      background-color: #434B5C;\n",
              "      box-shadow: 0px 1px 3px 1px rgba(0, 0, 0, 0.15);\n",
              "      filter: drop-shadow(0px 1px 2px rgba(0, 0, 0, 0.3));\n",
              "      fill: #FFFFFF;\n",
              "    }\n",
              "  </style>\n",
              "\n",
              "      <script>\n",
              "        const buttonEl =\n",
              "          document.querySelector('#df-e506509c-7b53-411e-907b-4e86ed0405bf button.colab-df-convert');\n",
              "        buttonEl.style.display =\n",
              "          google.colab.kernel.accessAllowed ? 'block' : 'none';\n",
              "\n",
              "        async function convertToInteractive(key) {\n",
              "          const element = document.querySelector('#df-e506509c-7b53-411e-907b-4e86ed0405bf');\n",
              "          const dataTable =\n",
              "            await google.colab.kernel.invokeFunction('convertToInteractive',\n",
              "                                                     [key], {});\n",
              "          if (!dataTable) return;\n",
              "\n",
              "          const docLinkHtml = 'Like what you see? Visit the ' +\n",
              "            '<a target=\"_blank\" href=https://colab.research.google.com/notebooks/data_table.ipynb>data table notebook</a>'\n",
              "            + ' to learn more about interactive tables.';\n",
              "          element.innerHTML = '';\n",
              "          dataTable['output_type'] = 'display_data';\n",
              "          await google.colab.output.renderOutput(dataTable, element);\n",
              "          const docLink = document.createElement('div');\n",
              "          docLink.innerHTML = docLinkHtml;\n",
              "          element.appendChild(docLink);\n",
              "        }\n",
              "      </script>\n",
              "    </div>\n",
              "  </div>\n",
              "  "
            ]
          },
          "metadata": {},
          "execution_count": 5
        }
      ]
    },
    {
      "cell_type": "markdown",
      "source": [
        "3.1.2 Preprocessing "
      ],
      "metadata": {
        "id": "-YQ5QVGNc1Pa"
      }
    },
    {
      "cell_type": "code",
      "source": [
        "def remove_punctuations(text):\n",
        "    text = re.sub(r'[^A-Za-z0-9\\s]', '', text, flags=re.MULTILINE)\n",
        "    return text.lower()\n",
        "\n",
        "def remove_stop_words(text):\n",
        "    text = ' '.join([word for word in text.split(\" \") if not word in STOP_WORDS])\n",
        "    return text"
      ],
      "metadata": {
        "id": "GVBl2drscxyC"
      },
      "execution_count": 6,
      "outputs": []
    },
    {
      "cell_type": "code",
      "source": [
        "training_data_df[\"Tweet\"] = training_data_df[\"Tweet\"].apply(str).apply(remove_punctuations).apply(remove_stop_words)\n",
        "testing_data_df[\"Tweet\"] = testing_data_df[\"Tweet\"].apply(remove_punctuations).apply(remove_stop_words)   \n",
        "\n",
        "print(\"Training Data Length: \", len(training_data_df[\"Tweet\"]))\n",
        "print(\"Testing Data Length: \", len(testing_data_df[\"Tweet\"]))\n"
      ],
      "metadata": {
        "colab": {
          "base_uri": "https://localhost:8080/"
        },
        "id": "_6KGJ5pcc-cN",
        "outputId": "b6bd103e-f4de-4559-d909-93be597b658f"
      },
      "execution_count": 7,
      "outputs": [
        {
          "output_type": "stream",
          "name": "stdout",
          "text": [
            "Training Data Length:  27807\n",
            "Testing Data Length:  1301\n"
          ]
        }
      ]
    },
    {
      "cell_type": "code",
      "source": [
        "count = training_data_df['Sentiment'].value_counts()\n",
        "plt.figure(figsize=(8, 4))\n",
        "plt.bar(count.index, count.values)\n",
        "print(training_data_df['Sentiment'].value_counts())"
      ],
      "metadata": {
        "colab": {
          "base_uri": "https://localhost:8080/",
          "height": 337
        },
        "id": "Bsc-fOf3dBxu",
        "outputId": "be54a60e-d634-467e-c6ed-98317adcf0c3"
      },
      "execution_count": 8,
      "outputs": [
        {
          "output_type": "stream",
          "name": "stdout",
          "text": [
            "1    12368\n",
            "0     9023\n",
            "2     6416\n",
            "Name: Sentiment, dtype: int64\n"
          ]
        },
        {
          "output_type": "display_data",
          "data": {
            "text/plain": [
              "<Figure size 576x288 with 1 Axes>"
            ],
            "image/png": "[encoded data removed]"
          },
          "metadata": {
            "needs_background": "light"
          }
        }
      ]
    },
    {
      "cell_type": "markdown",
      "source": [
        "3.1.3 Creating vocabulary"
      ],
      "metadata": {
        "id": "sPdEobz-dIrH"
      }
    },
    {
      "cell_type": "code",
      "source": [
        "from collections import Counter \n",
        "\n",
        "#TRAINING data\n",
        "training_merged_text = ' '.join(training_data_df[\"Tweet\"])\n",
        "training_words = training_merged_text.split()\n",
        "\n",
        "#Using counter method to count all the words\n",
        "training_word_count = Counter(training_words)\n",
        "training_words_total = len(training_words)\n",
        "training_sorted_words = training_word_count.most_common(training_words_total)\n",
        "\n",
        "#TESTING data\n",
        "testing_merged_text = ' '.join(testing_data_df[\"Tweet\"])\n",
        "testing_words = testing_merged_text.split()\n",
        "testing_word_count = Counter(testing_words)\n",
        "testing_words_total = len(testing_words)\n",
        "testing_sorted_words = testing_word_count.most_common(testing_words_total)"
      ],
      "metadata": {
        "id": "Vd6Uhi3PdDkA"
      },
      "execution_count": 9,
      "outputs": []
    },
    {
      "cell_type": "code",
      "source": [
        "assert isinstance(training_sorted_words, list), \"Expected training sorted list to be a list\"\n",
        "assert isinstance(training_word_count, Counter), \"Expected training sorted count to be a Counter\"\n",
        "assert training_words_total == 436506, \"Unexpected testing words total\"\n",
        "assert isinstance(testing_sorted_words, list), \"Expected testing sorted list to be a list\"\n",
        "assert isinstance(testing_word_count, Counter), \"Expected training sorted count to be a Counter\"\n",
        "assert testing_words_total == 21531, \"Unexpected testing words total\""
      ],
      "metadata": {
        "id": "_9TDQNz5dx_u"
      },
      "execution_count": 10,
      "outputs": []
    },
    {
      "cell_type": "markdown",
      "source": [
        "3.1.4 Convert vocabulary into integer corresponding integer form"
      ],
      "metadata": {
        "id": "A78uqB16lrHT"
      }
    },
    {
      "cell_type": "code",
      "source": [
        "training_vocabulary_to_integer = {w:i+1 for i, (w,c) in enumerate(training_sorted_words)}\n",
        "testing_vocabulary_to_integer = {w:i+1 for i, (w,c) in enumerate(testing_sorted_words)}"
      ],
      "metadata": {
        "id": "x6gRG4KEerqG"
      },
      "execution_count": 11,
      "outputs": []
    },
    {
      "cell_type": "code",
      "source": [
        "assert isinstance(training_vocabulary_to_integer, dict), \"Expected integer training vocabulary to be a dictionary\"\n",
        "assert len(training_vocabulary_to_integer) == 43461, \"Unexpected trainig vocabulary total\"\n",
        "assert isinstance(testing_vocabulary_to_integer, dict), \"Expected integer testing vocabulary to be a dictionary\"\n",
        "assert len(testing_vocabulary_to_integer) == 7627, \"Unexpected testing words total\""
      ],
      "metadata": {
        "id": "HVedm3pmey63"
      },
      "execution_count": 12,
      "outputs": []
    },
    {
      "cell_type": "markdown",
      "source": [
        "3.1.5 Mapping tweets to integer format based on the generated voccabulary"
      ],
      "metadata": {
        "id": "UX05EJsqmAEt"
      }
    },
    {
      "cell_type": "code",
      "source": [
        "training_tweets = training_data_df[\"Tweet\"]\n",
        "\n",
        "training_integer_mapping_array = []\n",
        "for tweet in training_tweets:\n",
        "    training_integer_array = [training_vocabulary_to_integer[words] for words in tweet.split()]\n",
        "    training_integer_mapping_array.append(training_integer_array)   \n",
        "\n",
        "training_data_df[\"Integer Mapping\"] = training_integer_mapping_array\n",
        "\n",
        "\n",
        "testing_tweets = testing_data_df[\"Tweet\"]\n",
        "\n",
        "testing_integer_mapping_array = []\n",
        "for tweet in testing_tweets:\n",
        "    testing_integer_array = [testing_vocabulary_to_integer[words] for words in tweet.split()]\n",
        "    testing_integer_mapping_array.append(testing_integer_array)   \n",
        "\n",
        "testing_data_df[\"Integer Mapping\"] = testing_integer_mapping_array\n"
      ],
      "metadata": {
        "id": "aKTTH5jLlilE"
      },
      "execution_count": 13,
      "outputs": []
    },
    {
      "cell_type": "code",
      "source": [
        "assert isinstance(training_data_df[\"Integer Mapping\"][0], list), \"Expected integer form of training tweets to be a list\"\n",
        "assert isinstance(training_data_df[\"Integer Mapping\"][0][0], int), \"Expected training content to contain int values\"\n",
        "\n",
        "assert isinstance(testing_data_df[\"Integer Mapping\"][0], list), \"Expected integer form of testing tweets vocabulary to be a list\"\n",
        "assert isinstance(testing_data_df[\"Integer Mapping\"][0][0], int), \"Expected testing content to contain int values\""
      ],
      "metadata": {
        "id": "TqbNIxY9mnHu"
      },
      "execution_count": 14,
      "outputs": []
    },
    {
      "cell_type": "markdown",
      "source": [
        "3.1.6 Analyse tweet length"
      ],
      "metadata": {
        "id": "F36iKDTznc2P"
      }
    },
    {
      "cell_type": "code",
      "source": [
        "training_labels = np.array(training_data_df[\"Sentiment\"])\n",
        "testing_labels = np.array(testing_data_df[\"Sentiment\"])"
      ],
      "metadata": {
        "id": "FekcH16jnbMJ"
      },
      "execution_count": 15,
      "outputs": []
    },
    {
      "cell_type": "code",
      "source": [
        "print(len(training_integer_mapping_array))\n",
        "print(len(testing_integer_mapping_array))"
      ],
      "metadata": {
        "colab": {
          "base_uri": "https://localhost:8080/"
        },
        "id": "ZJt9wr85o88p",
        "outputId": "1f0f25c7-af6c-4825-85f7-b4df2924df91"
      },
      "execution_count": 16,
      "outputs": [
        {
          "output_type": "stream",
          "name": "stdout",
          "text": [
            "27807\n",
            "1301\n"
          ]
        }
      ]
    },
    {
      "cell_type": "code",
      "source": [
        "training_tweet_integer_len = [len(x) for x in training_data_df[\"Integer Mapping\"]]\n",
        "pd.Series(training_tweet_integer_len).hist()\n",
        "plt.show()\n",
        "pd.Series(training_tweet_integer_len).describe()"
      ],
      "metadata": {
        "colab": {
          "base_uri": "https://localhost:8080/",
          "height": 427
        },
        "id": "uSpto9a4opEm",
        "outputId": "3a4a1761-a5d7-4f28-ba19-cd0c69024ace"
      },
      "execution_count": 17,
      "outputs": [
        {
          "output_type": "display_data",
          "data": {
            "text/plain": [
              "<Figure size 432x288 with 1 Axes>"
            ],
            "image/png": "[encoded data removed]"
          },
          "metadata": {
            "needs_background": "light"
          }
        },
        {
          "output_type": "execute_result",
          "data": {
            "text/plain": [
              "count    27807.000000\n",
              "mean        15.697702\n",
              "std          7.828130\n",
              "min          0.000000\n",
              "25%          9.000000\n",
              "50%         16.000000\n",
              "75%         22.000000\n",
              "max         48.000000\n",
              "dtype: float64"
            ]
          },
          "metadata": {},
          "execution_count": 17
        }
      ]
    },
    {
      "cell_type": "code",
      "source": [
        "testing_tweet_integer_len = [len(x) for x in testing_data_df[\"Integer Mapping\"]]\n",
        "pd.Series(testing_tweet_integer_len).hist()\n",
        "plt.show()\n",
        "pd.Series(testing_tweet_integer_len).describe()"
      ],
      "metadata": {
        "colab": {
          "base_uri": "https://localhost:8080/",
          "height": 427
        },
        "id": "gqSY9yu_o0yo",
        "outputId": "221f6970-3b84-4a68-8eff-46cc2c6a5477"
      },
      "execution_count": 18,
      "outputs": [
        {
          "output_type": "display_data",
          "data": {
            "text/plain": [
              "<Figure size 432x288 with 1 Axes>"
            ],
            "image/png": "[encoded data removed]"
          },
          "metadata": {
            "needs_background": "light"
          }
        },
        {
          "output_type": "execute_result",
          "data": {
            "text/plain": [
              "count    1301.000000\n",
              "mean       16.549577\n",
              "std         7.345540\n",
              "min         0.000000\n",
              "25%        11.000000\n",
              "50%        17.000000\n",
              "75%        22.000000\n",
              "max        41.000000\n",
              "dtype: float64"
            ]
          },
          "metadata": {},
          "execution_count": 18
        }
      ]
    },
    {
      "cell_type": "markdown",
      "source": [
        "3.1.7 Removing tweets with zero length"
      ],
      "metadata": {
        "id": "CyfEGXpLpLfB"
      }
    },
    {
      "cell_type": "code",
      "source": [
        "training_integer_mapping_array = [training_integer_mapping_array[i] for i, length in enumerate(training_tweet_integer_len) if length > 0 ]\n",
        "training_labels = [ training_labels[i] for i, length in enumerate(training_tweet_integer_len) if length > 0 ]\n",
        "\n",
        "testing_integer_mapping_array = [testing_integer_mapping_array[i] for i, length in enumerate(testing_tweet_integer_len) if length > 0 ]\n",
        "testing_labels = [ testing_labels[i] for i, length in enumerate(testing_tweet_integer_len) if length > 0 ]"
      ],
      "metadata": {
        "id": "ZgXWYYx1o4B_"
      },
      "execution_count": 19,
      "outputs": []
    },
    {
      "cell_type": "code",
      "source": [
        "print(len(training_integer_mapping_array))\n",
        "print(len(testing_integer_mapping_array))"
      ],
      "metadata": {
        "colab": {
          "base_uri": "https://localhost:8080/"
        },
        "id": "s43t5u5kpRGa",
        "outputId": "0347ed74-5b04-4bc8-df52-f44b05e8d3a5"
      },
      "execution_count": 20,
      "outputs": [
        {
          "output_type": "stream",
          "name": "stdout",
          "text": [
            "27778\n",
            "1300\n"
          ]
        }
      ]
    },
    {
      "cell_type": "code",
      "source": [
        "assert len(training_integer_mapping_array) == 27778, \"Unexpected training mapping array length\"\n",
        "assert len(testing_integer_mapping_array) == 1300, \"Unexpected testing mapping array length\""
      ],
      "metadata": {
        "id": "C0UmqoD9pTc4"
      },
      "execution_count": 21,
      "outputs": []
    },
    {
      "cell_type": "markdown",
      "source": [
        "3.1.8 Padding integer form of tweets"
      ],
      "metadata": {
        "id": "yMl6GrYbpkX_"
      }
    },
    {
      "cell_type": "code",
      "source": [
        "def padding(integer_mapping_array, sequence_length):\n",
        "    features = np.zeros((len(integer_mapping_array), sequence_length), dtype = int)\n",
        "    for i, tweet_int in enumerate(integer_mapping_array):\n",
        "        tweet_integer_len = len(tweet_int)\n",
        "        \n",
        "        if tweet_integer_len <= sequence_length:\n",
        "            zeroes = list(np.zeros(sequence_length - tweet_integer_len))\n",
        "            new = zeroes + tweet_int\n",
        "        elif tweet_integer_len > sequence_length:\n",
        "            new = tweet_int[0:sequence_length]\n",
        "        \n",
        "        features[i,:] = np.array(new)\n",
        "    \n",
        "    return features"
      ],
      "metadata": {
        "id": "6x6PZ2D2phBA"
      },
      "execution_count": 22,
      "outputs": []
    },
    {
      "cell_type": "code",
      "source": [
        "training_sequence_length = max(len(length) for length in training_integer_mapping_array)\n",
        "training_integer_mapping_array = padding(training_integer_mapping_array, training_sequence_length)\n",
        "\n",
        "testing_sequence_length = max(len(length) for length in testing_integer_mapping_array)\n",
        "testing_integer_mapping_array = padding(testing_integer_mapping_array, testing_sequence_length)\n",
        "\n",
        "X_test = testing_integer_mapping_array\n",
        "y_test = testing_labels\n",
        "y_test = np.array(y_test)"
      ],
      "metadata": {
        "id": "cestlFFdpqFw"
      },
      "execution_count": 23,
      "outputs": []
    },
    {
      "cell_type": "markdown",
      "source": [
        "3.1.9 Splitting data into training and validation data"
      ],
      "metadata": {
        "id": "pzJmOTHtp8z4"
      }
    },
    {
      "cell_type": "code",
      "source": [
        "from sklearn.model_selection import train_test_split\n",
        "\n",
        "X_train, X_valid, y_train, y_valid = train_test_split(training_integer_mapping_array, training_labels, test_size=0.3, train_size=0.7)\n",
        "y_train = np.array(y_train)\n",
        "y_valid = np.array(y_valid)"
      ],
      "metadata": {
        "id": "bEpR67qBp2-j"
      },
      "execution_count": 24,
      "outputs": []
    },
    {
      "cell_type": "code",
      "source": [
        "assert isinstance(X_train, np.ndarray), \"Expected training features to be numpy array\"\n",
        "assert isinstance(y_train, np.ndarray), \"Expected training labels to be numpy array\"\n",
        "assert isinstance(X_valid, np.ndarray), \"Expected validation features to be numpy array\"\n",
        "assert isinstance(y_valid, np.ndarray), \"Expected validation labels to be numpy array\""
      ],
      "metadata": {
        "id": "lPWRwJiKqZ7U"
      },
      "execution_count": 25,
      "outputs": []
    },
    {
      "cell_type": "markdown",
      "source": [
        "3.1.10 Converting datasets into PyTorch data loader objects."
      ],
      "metadata": {
        "id": "1OXnl5c7qWA5"
      }
    },
    {
      "cell_type": "code",
      "source": [
        "#Create Tensor datasets\n",
        "train_data = TensorDataset(torch.from_numpy(X_train), torch.from_numpy(y_train))\n",
        "valid_data = TensorDataset(torch.from_numpy(X_valid), torch.from_numpy(y_valid))\n",
        "test_data = TensorDataset(torch.from_numpy(X_test), torch.from_numpy(y_test))\n",
        "\n",
        "#Batch Size\n",
        "batch_size = 50\n",
        "\n",
        "#Creating data loaders\n",
        "train_loader = DataLoader(train_data, shuffle=True, batch_size=batch_size, drop_last=True, pin_memory =True)\n",
        "valid_loader = DataLoader(valid_data, shuffle=True, batch_size=batch_size, drop_last=True, pin_memory =True)\n",
        "test_loader = DataLoader(test_data, shuffle=True, batch_size=batch_size, pin_memory =True)"
      ],
      "metadata": {
        "id": "BLjO5zoUqEs1"
      },
      "execution_count": 26,
      "outputs": []
    },
    {
      "cell_type": "code",
      "source": [
        "assert isinstance(train_data, torch.utils.data.dataset.TensorDataset), \"Expected training data to be a TensorDataset\"\n",
        "assert len(train_loader) == len(train_data)//batch_size, \"Unexpected training data loader size\"\n",
        "assert isinstance(valid_data, torch.utils.data.dataset.TensorDataset), \"Expected validation data to be a TensorDataset\"\n",
        "assert len(valid_loader) == len(valid_data)//batch_size, \"Unexpected validation data loader size\"\n",
        "assert isinstance(test_data, torch.utils.data.dataset.TensorDataset), \"Expected testing data to be a TensorDataset\"\n",
        "assert len(test_loader) == len(test_data)//batch_size, \"Unexpected testing data loader size\""
      ],
      "metadata": {
        "id": "oXasGhGDruD-"
      },
      "execution_count": 27,
      "outputs": []
    },
    {
      "cell_type": "markdown",
      "source": [
        "3.1.11 Obtaining one batch of training data"
      ],
      "metadata": {
        "id": "gkUY4P-ttm3X"
      }
    },
    {
      "cell_type": "code",
      "source": [
        "training_data_iterator = iter(train_loader)\n",
        "x_train_sample, y_train_sample = training_data_iterator.next()\n",
        "print('Sample input size: ', x_train_sample.size()) \n",
        "print('Sample input: \\n', x_train_sample)\n",
        "print()\n",
        "print('Sample label size: ', y_train_sample.size())\n",
        "print('Sample label: \\n', y_train_sample)"
      ],
      "metadata": {
        "colab": {
          "base_uri": "https://localhost:8080/"
        },
        "id": "WNuJ4dc6tlxr",
        "outputId": "5d792e4b-1794-4096-a4fc-73cfef28cbf3"
      },
      "execution_count": 28,
      "outputs": [
        {
          "output_type": "stream",
          "name": "stdout",
          "text": [
            "Sample input size:  torch.Size([50, 48])\n",
            "Sample input: \n",
            " tensor([[    0,     0,     0,  ...,     0, 32914,  1624],\n",
            "        [    0,     0,     0,  ...,   148,   168,  7966],\n",
            "        [    0,     0,     0,  ...,    67,  1431,   525],\n",
            "        ...,\n",
            "        [    0,     0,     0,  ...,     0,     0,    41],\n",
            "        [    0,     0,     0,  ...,   590,   794,    25],\n",
            "        [    0,     0,     0,  ...,    34,   415,   283]])\n",
            "\n",
            "Sample label size:  torch.Size([50])\n",
            "Sample label: \n",
            " tensor([0, 1, 0, 0, 0, 2, 0, 1, 0, 1, 0, 2, 0, 0, 1, 1, 0, 0, 1, 1, 0, 2, 0, 0,\n",
            "        0, 1, 1, 1, 1, 1, 0, 2, 1, 0, 0, 1, 0, 1, 0, 0, 1, 1, 2, 1, 1, 0, 1, 2,\n",
            "        2, 2])\n"
          ]
        }
      ]
    },
    {
      "cell_type": "markdown",
      "source": [
        "3.1.12 Computing class weights to rectify unbalanced classes"
      ],
      "metadata": {
        "id": "VAszlvIguuM-"
      }
    },
    {
      "cell_type": "code",
      "source": [
        "classes = np.unique(training_data_df[\"Sentiment\"])\n",
        "class_weights=compute_class_weight(class_weight='balanced', classes=classes, y=training_data_df[\"Sentiment\"])\n",
        "class_weights=torch.tensor(class_weights, dtype=torch.float)"
      ],
      "metadata": {
        "id": "xQGliayWue50"
      },
      "execution_count": 29,
      "outputs": []
    },
    {
      "cell_type": "code",
      "source": [
        "assert isinstance(class_weights, torch.Tensor), \"Expected class weights to be a Tensor\"\n",
        "assert len(class_weights) == 3, \"Expected class weights to be 3\""
      ],
      "metadata": {
        "id": "6AGOAUf8u2OS"
      },
      "execution_count": 30,
      "outputs": []
    },
    {
      "cell_type": "markdown",
      "source": [
        "#3.2 LSTM model"
      ],
      "metadata": {
        "id": "70HsMm1ivUnU"
      }
    },
    {
      "cell_type": "code",
      "source": [
        "class LSTMModel(nn.Module):\n",
        "   def __init__(self, vocab_size, output_size, embedding_dim, hidden_dim, num_layers, drop_prob=0.5):\n",
        "        \n",
        "        '''Model initialization - setting up layers'''\n",
        "        super(LSTMModel, self).__init__()\n",
        "\n",
        "        self.output_size = output_size\n",
        "        self.num_layers = num_layers\n",
        "        self.hidden_dim = hidden_dim\n",
        "        \n",
        "        #Embedding Layer\n",
        "        self.embedding = nn.Embedding(vocab_size, embedding_dim)\n",
        "\n",
        "        #LSTM Layer\n",
        "        self.lstm = nn.LSTM(embedding_dim, hidden_dim, num_layers, \n",
        "                            dropout=drop_prob, batch_first=True)\n",
        "        \n",
        "        # Dropout Layer\n",
        "        self.dropout = nn.Dropout(0.6)\n",
        "        \n",
        "        # Fully Connected Layer\n",
        "        self.fc = nn.Linear(hidden_dim, output_size)\n",
        "        \n",
        "   def forward(self, x, hidden):\n",
        "        ''' Performing forward pass on input and hidden state '''\n",
        "\n",
        "        batch_size = x.size(0)\n",
        "        x = x.long()\n",
        "\n",
        "        #Embeddings with dropout\n",
        "        embeddings = self.dropout(self.embedding(x))\n",
        "\n",
        "        #LSTM\n",
        "        lstm_out, hidden = self.lstm(embeddings, hidden)\n",
        "\n",
        "        #Stacking up LSTM outputs\n",
        "        lstm_out = lstm_out.contiguous().view(-1, self.hidden_dim)\n",
        "        \n",
        "        #Dropout\n",
        "        out = self.dropout(lstm_out)\n",
        "\n",
        "        #Fully Connected\n",
        "        out = self.fc(out)\n",
        "\n",
        "        #Reshaping \n",
        "        output = out.view(batch_size, -1, output_size)\n",
        "\n",
        "        #Getting last batch of labels\n",
        "        output = output[:, -1] \n",
        "        \n",
        "        #Return last output with the hidden state\n",
        "        return output, hidden\n",
        "    \n",
        "    \n",
        "   def init_hidden(self, batch_size):\n",
        "        ''' Initializing hidden state '''\n",
        "        \n",
        "        #Two tensors of size num_layers * batch_size * hidden_dim are initialized to zero\n",
        "        weight = next(self.parameters()).data\n",
        "        hidden = (weight.new(self.num_layers, batch_size, self.hidden_dim).zero_(),\n",
        "                      weight.new(self.num_layers, batch_size, self.hidden_dim).zero_())\n",
        "        \n",
        "        return hidden\n"
      ],
      "metadata": {
        "id": "SBNqMtlVvT9r"
      },
      "execution_count": 31,
      "outputs": []
    },
    {
      "cell_type": "markdown",
      "source": [
        "3.2.1 Training function"
      ],
      "metadata": {
        "id": "TX_20ZqizRTX"
      }
    },
    {
      "cell_type": "code",
      "source": [
        "def train(model, epochs, batch_size, train_loader, criterion, clip, valid_loader):\n",
        "  counter = 0\n",
        "  model.train().to(device)\n",
        "\n",
        "  train_losses = list()\n",
        "  validation_losses = list()\n",
        "\n",
        "  #Training loop upto epoch\n",
        "  for epoch in range(epochs): \n",
        "\n",
        "      #Hidden state initialization\n",
        "      hidden = model.init_hidden(batch_size)\n",
        "\n",
        "      #Batch wise looping\n",
        "      for inputs, labels in train_loader:\n",
        "          \n",
        "          counter += 1\n",
        "          \n",
        "          #Recreating variables for the hidden state to avoid backpropagate\n",
        "          hidden = tuple([each.data for each in hidden])\n",
        "\n",
        "          #Setting the gradients of optimized torch\n",
        "          model.zero_grad()\n",
        "\n",
        "          inputs = inputs.to(device)\n",
        "          labels = labels.to(device)\n",
        "\n",
        "          #Getting the prediction from the model\n",
        "          prediction, hidden = model(inputs, hidden)\n",
        "          \n",
        "          #Calculating training Loss\n",
        "          loss = criterion(prediction.squeeze(), labels.long())\n",
        "\n",
        "          loss.backward()\n",
        "          \n",
        "          #Gradient Clipping\n",
        "          nn.utils.clip_grad_norm_(model.parameters(), clip)\n",
        "          optimizer.step()\n",
        "\n",
        "          #Calculating validation loss for each epoch\n",
        "          if counter % print_step == 0:\n",
        "\n",
        "              #Hidden state initialization\n",
        "              valid_hidden_state = model.init_hidden(batch_size)\n",
        "              val_losses = []\n",
        "\n",
        "              model.eval()\n",
        "\n",
        "              for inputs, labels in valid_loader:\n",
        "\n",
        "                  #Recreating variables for the hidden state to avoid backpropagate\n",
        "                  valid_hidden_state = tuple([each.data for each in valid_hidden_state])\n",
        "\n",
        "                  inputs = inputs.to(device)\n",
        "                  labels = labels.to(device)\n",
        "\n",
        "                  #Getting the prediction from the model\n",
        "                  prediction, valid_hidden_state = model(inputs, valid_hidden_state)\n",
        "\n",
        "                  #Calculating validation loss for each epoch\n",
        "                  valid_loss = criterion(prediction.squeeze(), labels.long())\n",
        "                  val_losses.append(valid_loss.item())\n",
        "\n",
        "              model.train()\n",
        "              \n",
        "              train_losses.append(loss.item())\n",
        "              validation_losses.append(np.mean(val_losses))\n",
        "\n",
        "              print(\"Epoch: {}/{}...\".format(epoch + 1, epochs),\n",
        "                    \"Step: {}...\".format(counter),\n",
        "                    \"Training Loss: {:.6f}...\".format(loss.item()),\n",
        "                    \"Validation Loss: {:.6f}\".format(np.mean(validation_losses)))\n",
        "                          \n",
        "  return train_losses, validation_losses"
      ],
      "metadata": {
        "id": "_8osWn6v1_-o"
      },
      "execution_count": 32,
      "outputs": []
    },
    {
      "cell_type": "markdown",
      "source": [
        "3.2.2 Setting up hyperparameters"
      ],
      "metadata": {
        "id": "ilJK-ehmyBa0"
      }
    },
    {
      "cell_type": "code",
      "source": [
        "vocab_size = len(training_vocabulary_to_integer) + 1      #Vocabulary size for embedding layer\n",
        "output_size = 3                                           #Output size\n",
        "embedding_dim = 200                                       #Embedding dimension\n",
        "hidden_dim = 256                                          #Hidden dimension\n",
        "num_layers = 2                                            #Number of layers\n",
        "lstm_model = LSTMModel(vocab_size, output_size, embedding_dim, hidden_dim, num_layers).to(device)       #LSTM Object\n",
        "\n",
        "criterion = nn.CrossEntropyLoss(class_weights).to(device)                       #Categorical cross entropy\n",
        "\n",
        "counter = 0\n",
        "epochs = 100                                              #Number of epochs\n",
        "print_step = 100\n",
        "clip = 10                                                 #For gradient clipping\n",
        "lr = 1e-5                                                 #Learning Rate\n",
        "optimizer = torch.optim.Adam(lstm_model.parameters(), lr=lr)   #Optimization Algorithm"
      ],
      "metadata": {
        "id": "SnCVZaTww_tb"
      },
      "execution_count": 33,
      "outputs": []
    },
    {
      "cell_type": "code",
      "source": [
        "assert isinstance(lstm_model, LSTMModel), \"Expected model to be LSTMModel\"\n",
        "assert isinstance(lstm_model.lstm, nn.LSTM), \"Expected lstm layer to be nn.LSTM\"\n",
        "assert isinstance(lstm_model.embedding, nn.Embedding), \"Expected embedding layer to be nn.Embedded\"\n",
        "assert isinstance(lstm_model.lstm, nn.LSTM), \"Expected lstm layer to be nn.LSTM\"\n",
        "assert isinstance(lstm_model.dropout, nn.Dropout), \"Expected dropout layer to be nn.Dropout\"\n",
        "assert isinstance(lstm_model.fc, nn.Linear), \"Expected fc layer to be nn.Linear\""
      ],
      "metadata": {
        "id": "1T_hD2EwyaKf"
      },
      "execution_count": 34,
      "outputs": []
    },
    {
      "cell_type": "markdown",
      "source": [
        "3.2.3 Training phase"
      ],
      "metadata": {
        "id": "sl3hCOrB21A6"
      }
    },
    {
      "cell_type": "code",
      "source": [
        "lstm_train_losses, lstm_validation_losses = train(lstm_model, epochs, batch_size, train_loader, criterion, clip, valid_loader);"
      ],
      "metadata": {
        "colab": {
          "base_uri": "https://localhost:8080/"
        },
        "id": "y5uumd072qBa",
        "outputId": "73aa6c6a-73dc-4b51-b49a-9696eaf59d60"
      },
      "execution_count": 51,
      "outputs": [
        {
          "output_type": "stream",
          "name": "stdout",
          "text": [
            "Epoch: 1/100... Step: 100... Training Loss: 1.095103... Validation Loss: 1.098239\n",
            "Epoch: 1/100... Step: 200... Training Loss: 1.113927... Validation Loss: 1.098046\n",
            "Epoch: 1/100... Step: 300... Training Loss: 1.098866... Validation Loss: 1.097891\n",
            "Epoch: 2/100... Step: 400... Training Loss: 1.098330... Validation Loss: 1.097789\n",
            "Epoch: 2/100... Step: 500... Training Loss: 1.105965... Validation Loss: 1.097661\n",
            "Epoch: 2/100... Step: 600... Training Loss: 1.100460... Validation Loss: 1.097565\n",
            "Epoch: 2/100... Step: 700... Training Loss: 1.094729... Validation Loss: 1.097447\n",
            "Epoch: 3/100... Step: 800... Training Loss: 1.102232... Validation Loss: 1.097320\n",
            "Epoch: 3/100... Step: 900... Training Loss: 1.103451... Validation Loss: 1.097267\n",
            "Epoch: 3/100... Step: 1000... Training Loss: 1.100492... Validation Loss: 1.097227\n",
            "Epoch: 3/100... Step: 1100... Training Loss: 1.099078... Validation Loss: 1.097123\n",
            "Epoch: 4/100... Step: 1200... Training Loss: 1.102043... Validation Loss: 1.097078\n",
            "Epoch: 4/100... Step: 1300... Training Loss: 1.096292... Validation Loss: 1.097000\n",
            "Epoch: 4/100... Step: 1400... Training Loss: 1.091758... Validation Loss: 1.096935\n",
            "Epoch: 4/100... Step: 1500... Training Loss: 1.098633... Validation Loss: 1.096950\n",
            "Epoch: 5/100... Step: 1600... Training Loss: 1.093273... Validation Loss: 1.096956\n",
            "Epoch: 5/100... Step: 1700... Training Loss: 1.090760... Validation Loss: 1.096974\n",
            "Epoch: 5/100... Step: 1800... Training Loss: 1.101949... Validation Loss: 1.096866\n",
            "Epoch: 5/100... Step: 1900... Training Loss: 1.106539... Validation Loss: 1.096904\n",
            "Epoch: 6/100... Step: 2000... Training Loss: 1.079519... Validation Loss: 1.096915\n",
            "Epoch: 6/100... Step: 2100... Training Loss: 1.077380... Validation Loss: 1.097182\n",
            "Epoch: 6/100... Step: 2200... Training Loss: 1.084357... Validation Loss: 1.097177\n",
            "Epoch: 6/100... Step: 2300... Training Loss: 1.083567... Validation Loss: 1.097108\n",
            "Epoch: 7/100... Step: 2400... Training Loss: 1.107534... Validation Loss: 1.096886\n",
            "Epoch: 7/100... Step: 2500... Training Loss: 1.108150... Validation Loss: 1.097168\n",
            "Epoch: 7/100... Step: 2600... Training Loss: 1.078705... Validation Loss: 1.096857\n",
            "Epoch: 7/100... Step: 2700... Training Loss: 1.079168... Validation Loss: 1.097092\n",
            "Epoch: 8/100... Step: 2800... Training Loss: 1.084460... Validation Loss: 1.097211\n",
            "Epoch: 8/100... Step: 2900... Training Loss: 1.100440... Validation Loss: 1.097132\n",
            "Epoch: 8/100... Step: 3000... Training Loss: 1.108308... Validation Loss: 1.097125\n",
            "Epoch: 8/100... Step: 3100... Training Loss: 1.076502... Validation Loss: 1.096955\n",
            "Epoch: 9/100... Step: 3200... Training Loss: 1.090022... Validation Loss: 1.097016\n",
            "Epoch: 9/100... Step: 3300... Training Loss: 1.105491... Validation Loss: 1.097155\n",
            "Epoch: 9/100... Step: 3400... Training Loss: 1.099453... Validation Loss: 1.096922\n",
            "Epoch: 10/100... Step: 3500... Training Loss: 1.093652... Validation Loss: 1.096813\n",
            "Epoch: 10/100... Step: 3600... Training Loss: 1.096216... Validation Loss: 1.096263\n",
            "Epoch: 10/100... Step: 3700... Training Loss: 1.097128... Validation Loss: 1.096395\n",
            "Epoch: 10/100... Step: 3800... Training Loss: 1.098609... Validation Loss: 1.096722\n",
            "Epoch: 11/100... Step: 3900... Training Loss: 1.072758... Validation Loss: 1.096918\n",
            "Epoch: 11/100... Step: 4000... Training Loss: 1.109590... Validation Loss: 1.096844\n",
            "Epoch: 11/100... Step: 4100... Training Loss: 1.128563... Validation Loss: 1.097074\n",
            "Epoch: 11/100... Step: 4200... Training Loss: 1.086735... Validation Loss: 1.096366\n",
            "Epoch: 12/100... Step: 4300... Training Loss: 1.096387... Validation Loss: 1.096435\n",
            "Epoch: 12/100... Step: 4400... Training Loss: 1.098252... Validation Loss: 1.095740\n",
            "Epoch: 12/100... Step: 4500... Training Loss: 1.086772... Validation Loss: 1.096083\n",
            "Epoch: 12/100... Step: 4600... Training Loss: 1.099615... Validation Loss: 1.095732\n",
            "Epoch: 13/100... Step: 4700... Training Loss: 1.101216... Validation Loss: 1.095968\n",
            "Epoch: 13/100... Step: 4800... Training Loss: 1.100256... Validation Loss: 1.095916\n",
            "Epoch: 13/100... Step: 4900... Training Loss: 1.078397... Validation Loss: 1.095091\n",
            "Epoch: 13/100... Step: 5000... Training Loss: 1.090381... Validation Loss: 1.096342\n",
            "Epoch: 14/100... Step: 5100... Training Loss: 1.104725... Validation Loss: 1.096667\n",
            "Epoch: 14/100... Step: 5200... Training Loss: 1.101718... Validation Loss: 1.096050\n",
            "Epoch: 14/100... Step: 5300... Training Loss: 1.085136... Validation Loss: 1.096407\n",
            "Epoch: 14/100... Step: 5400... Training Loss: 1.120757... Validation Loss: 1.095851\n",
            "Epoch: 15/100... Step: 5500... Training Loss: 1.076183... Validation Loss: 1.095481\n",
            "Epoch: 15/100... Step: 5600... Training Loss: 1.066005... Validation Loss: 1.095924\n",
            "Epoch: 15/100... Step: 5700... Training Loss: 1.102319... Validation Loss: 1.095147\n",
            "Epoch: 15/100... Step: 5800... Training Loss: 1.087803... Validation Loss: 1.094718\n",
            "Epoch: 16/100... Step: 5900... Training Loss: 1.074902... Validation Loss: 1.094525\n",
            "Epoch: 16/100... Step: 6000... Training Loss: 1.072307... Validation Loss: 1.094625\n",
            "Epoch: 16/100... Step: 6100... Training Loss: 1.081329... Validation Loss: 1.094509\n",
            "Epoch: 16/100... Step: 6200... Training Loss: 1.092015... Validation Loss: 1.094145\n",
            "Epoch: 17/100... Step: 6300... Training Loss: 1.085337... Validation Loss: 1.093546\n",
            "Epoch: 17/100... Step: 6400... Training Loss: 1.086520... Validation Loss: 1.093402\n",
            "Epoch: 17/100... Step: 6500... Training Loss: 1.112546... Validation Loss: 1.094529\n",
            "Epoch: 18/100... Step: 6600... Training Loss: 1.094944... Validation Loss: 1.094910\n",
            "Epoch: 18/100... Step: 6700... Training Loss: 1.082212... Validation Loss: 1.095566\n",
            "Epoch: 18/100... Step: 6800... Training Loss: 1.103856... Validation Loss: 1.094357\n",
            "Epoch: 18/100... Step: 6900... Training Loss: 1.105992... Validation Loss: 1.094071\n",
            "Epoch: 19/100... Step: 7000... Training Loss: 1.109565... Validation Loss: 1.093250\n",
            "Epoch: 19/100... Step: 7100... Training Loss: 1.089452... Validation Loss: 1.093157\n",
            "Epoch: 19/100... Step: 7200... Training Loss: 1.091502... Validation Loss: 1.093157\n",
            "Epoch: 19/100... Step: 7300... Training Loss: 1.093198... Validation Loss: 1.092100\n",
            "Epoch: 20/100... Step: 7400... Training Loss: 1.094620... Validation Loss: 1.091961\n",
            "Epoch: 20/100... Step: 7500... Training Loss: 1.096906... Validation Loss: 1.091886\n",
            "Epoch: 20/100... Step: 7600... Training Loss: 1.064479... Validation Loss: 1.092294\n",
            "Epoch: 20/100... Step: 7700... Training Loss: 1.070461... Validation Loss: 1.094212\n",
            "Epoch: 21/100... Step: 7800... Training Loss: 1.105560... Validation Loss: 1.091610\n",
            "Epoch: 21/100... Step: 7900... Training Loss: 1.102582... Validation Loss: 1.091689\n",
            "Epoch: 21/100... Step: 8000... Training Loss: 1.075114... Validation Loss: 1.092092\n",
            "Epoch: 21/100... Step: 8100... Training Loss: 1.057096... Validation Loss: 1.091863\n",
            "Epoch: 22/100... Step: 8200... Training Loss: 1.092435... Validation Loss: 1.090858\n",
            "Epoch: 22/100... Step: 8300... Training Loss: 1.096605... Validation Loss: 1.090981\n",
            "Epoch: 22/100... Step: 8400... Training Loss: 1.077354... Validation Loss: 1.090676\n",
            "Epoch: 22/100... Step: 8500... Training Loss: 1.092416... Validation Loss: 1.089439\n",
            "Epoch: 23/100... Step: 8600... Training Loss: 1.076501... Validation Loss: 1.089350\n",
            "Epoch: 23/100... Step: 8700... Training Loss: 1.093439... Validation Loss: 1.088785\n",
            "Epoch: 23/100... Step: 8800... Training Loss: 1.064291... Validation Loss: 1.088643\n",
            "Epoch: 23/100... Step: 8900... Training Loss: 1.103707... Validation Loss: 1.091755\n",
            "Epoch: 24/100... Step: 9000... Training Loss: 1.090637... Validation Loss: 1.090229\n",
            "Epoch: 24/100... Step: 9100... Training Loss: 1.062052... Validation Loss: 1.087901\n",
            "Epoch: 24/100... Step: 9200... Training Loss: 1.058547... Validation Loss: 1.088142\n",
            "Epoch: 24/100... Step: 9300... Training Loss: 1.083529... Validation Loss: 1.088052\n",
            "Epoch: 25/100... Step: 9400... Training Loss: 1.090846... Validation Loss: 1.087114\n",
            "Epoch: 25/100... Step: 9500... Training Loss: 1.066603... Validation Loss: 1.086044\n",
            "Epoch: 25/100... Step: 9600... Training Loss: 1.090999... Validation Loss: 1.087712\n",
            "Epoch: 25/100... Step: 9700... Training Loss: 1.031168... Validation Loss: 1.089994\n",
            "Epoch: 26/100... Step: 9800... Training Loss: 1.111100... Validation Loss: 1.085326\n",
            "Epoch: 26/100... Step: 9900... Training Loss: 1.105683... Validation Loss: 1.086950\n",
            "Epoch: 26/100... Step: 10000... Training Loss: 1.086965... Validation Loss: 1.086870\n",
            "Epoch: 27/100... Step: 10100... Training Loss: 1.080160... Validation Loss: 1.087290\n",
            "Epoch: 27/100... Step: 10200... Training Loss: 1.069210... Validation Loss: 1.085503\n",
            "Epoch: 27/100... Step: 10300... Training Loss: 1.069324... Validation Loss: 1.085170\n",
            "Epoch: 27/100... Step: 10400... Training Loss: 1.068492... Validation Loss: 1.085614\n",
            "Epoch: 28/100... Step: 10500... Training Loss: 1.052836... Validation Loss: 1.086928\n",
            "Epoch: 28/100... Step: 10600... Training Loss: 1.057536... Validation Loss: 1.085278\n",
            "Epoch: 28/100... Step: 10700... Training Loss: 1.114233... Validation Loss: 1.084242\n",
            "Epoch: 28/100... Step: 10800... Training Loss: 1.100421... Validation Loss: 1.084054\n",
            "Epoch: 29/100... Step: 10900... Training Loss: 1.098801... Validation Loss: 1.081559\n",
            "Epoch: 29/100... Step: 11000... Training Loss: 1.075546... Validation Loss: 1.082937\n",
            "Epoch: 29/100... Step: 11100... Training Loss: 1.071258... Validation Loss: 1.081942\n",
            "Epoch: 29/100... Step: 11200... Training Loss: 1.047055... Validation Loss: 1.088031\n",
            "Epoch: 30/100... Step: 11300... Training Loss: 1.096016... Validation Loss: 1.082150\n",
            "Epoch: 30/100... Step: 11400... Training Loss: 1.107116... Validation Loss: 1.085445\n",
            "Epoch: 30/100... Step: 11500... Training Loss: 1.068032... Validation Loss: 1.079776\n",
            "Epoch: 30/100... Step: 11600... Training Loss: 1.077343... Validation Loss: 1.083808\n",
            "Epoch: 31/100... Step: 11700... Training Loss: 1.111828... Validation Loss: 1.081855\n",
            "Epoch: 31/100... Step: 11800... Training Loss: 1.039011... Validation Loss: 1.081600\n",
            "Epoch: 31/100... Step: 11900... Training Loss: 1.049920... Validation Loss: 1.081181\n",
            "Epoch: 31/100... Step: 12000... Training Loss: 1.051307... Validation Loss: 1.081163\n",
            "Epoch: 32/100... Step: 12100... Training Loss: 1.059704... Validation Loss: 1.081437\n",
            "Epoch: 32/100... Step: 12200... Training Loss: 1.088856... Validation Loss: 1.078229\n",
            "Epoch: 32/100... Step: 12300... Training Loss: 1.096370... Validation Loss: 1.078386\n",
            "Epoch: 32/100... Step: 12400... Training Loss: 1.097829... Validation Loss: 1.082368\n",
            "Epoch: 33/100... Step: 12500... Training Loss: 1.062590... Validation Loss: 1.080962\n",
            "Epoch: 33/100... Step: 12600... Training Loss: 1.074759... Validation Loss: 1.077828\n",
            "Epoch: 33/100... Step: 12700... Training Loss: 1.035624... Validation Loss: 1.080454\n",
            "Epoch: 33/100... Step: 12800... Training Loss: 1.083729... Validation Loss: 1.079085\n",
            "Epoch: 34/100... Step: 12900... Training Loss: 1.098542... Validation Loss: 1.078283\n",
            "Epoch: 34/100... Step: 13000... Training Loss: 1.049882... Validation Loss: 1.079237\n",
            "Epoch: 34/100... Step: 13100... Training Loss: 1.035799... Validation Loss: 1.077543\n",
            "Epoch: 35/100... Step: 13200... Training Loss: 1.061996... Validation Loss: 1.077527\n",
            "Epoch: 35/100... Step: 13300... Training Loss: 1.118824... Validation Loss: 1.078342\n",
            "Epoch: 35/100... Step: 13400... Training Loss: 1.099703... Validation Loss: 1.077406\n",
            "Epoch: 35/100... Step: 13500... Training Loss: 1.119725... Validation Loss: 1.078237\n",
            "Epoch: 36/100... Step: 13600... Training Loss: 0.994482... Validation Loss: 1.077443\n",
            "Epoch: 36/100... Step: 13700... Training Loss: 1.011758... Validation Loss: 1.076198\n",
            "Epoch: 36/100... Step: 13800... Training Loss: 1.068972... Validation Loss: 1.077507\n",
            "Epoch: 36/100... Step: 13900... Training Loss: 1.088354... Validation Loss: 1.076009\n",
            "Epoch: 37/100... Step: 14000... Training Loss: 1.064725... Validation Loss: 1.081663\n",
            "Epoch: 37/100... Step: 14100... Training Loss: 1.064998... Validation Loss: 1.076103\n",
            "Epoch: 37/100... Step: 14200... Training Loss: 1.069347... Validation Loss: 1.075812\n",
            "Epoch: 37/100... Step: 14300... Training Loss: 1.075193... Validation Loss: 1.077958\n",
            "Epoch: 38/100... Step: 14400... Training Loss: 1.029256... Validation Loss: 1.079020\n",
            "Epoch: 38/100... Step: 14500... Training Loss: 1.067472... Validation Loss: 1.075918\n",
            "Epoch: 38/100... Step: 14600... Training Loss: 1.065087... Validation Loss: 1.075545\n",
            "Epoch: 38/100... Step: 14700... Training Loss: 1.079132... Validation Loss: 1.080014\n",
            "Epoch: 39/100... Step: 14800... Training Loss: 1.108277... Validation Loss: 1.075542\n",
            "Epoch: 39/100... Step: 14900... Training Loss: 1.100424... Validation Loss: 1.076710\n",
            "Epoch: 39/100... Step: 15000... Training Loss: 1.080322... Validation Loss: 1.074753\n",
            "Epoch: 39/100... Step: 15100... Training Loss: 1.065848... Validation Loss: 1.076057\n",
            "Epoch: 40/100... Step: 15200... Training Loss: 1.077295... Validation Loss: 1.075238\n",
            "Epoch: 40/100... Step: 15300... Training Loss: 1.067333... Validation Loss: 1.076225\n",
            "Epoch: 40/100... Step: 15400... Training Loss: 1.045641... Validation Loss: 1.074254\n",
            "Epoch: 40/100... Step: 15500... Training Loss: 1.060272... Validation Loss: 1.074749\n",
            "Epoch: 41/100... Step: 15600... Training Loss: 1.061520... Validation Loss: 1.074472\n",
            "Epoch: 41/100... Step: 15700... Training Loss: 1.031601... Validation Loss: 1.076378\n",
            "Epoch: 41/100... Step: 15800... Training Loss: 1.021088... Validation Loss: 1.074355\n",
            "Epoch: 41/100... Step: 15900... Training Loss: 1.082083... Validation Loss: 1.073848\n",
            "Epoch: 42/100... Step: 16000... Training Loss: 1.122162... Validation Loss: 1.075339\n",
            "Epoch: 42/100... Step: 16100... Training Loss: 1.117514... Validation Loss: 1.075013\n",
            "Epoch: 42/100... Step: 16200... Training Loss: 1.050578... Validation Loss: 1.073875\n",
            "Epoch: 43/100... Step: 16300... Training Loss: 1.019513... Validation Loss: 1.073670\n",
            "Epoch: 43/100... Step: 16400... Training Loss: 1.050763... Validation Loss: 1.075545\n",
            "Epoch: 43/100... Step: 16500... Training Loss: 1.049894... Validation Loss: 1.075687\n",
            "Epoch: 43/100... Step: 16600... Training Loss: 1.017536... Validation Loss: 1.073953\n",
            "Epoch: 44/100... Step: 16700... Training Loss: 1.061346... Validation Loss: 1.073436\n",
            "Epoch: 44/100... Step: 16800... Training Loss: 1.021862... Validation Loss: 1.074098\n",
            "Epoch: 44/100... Step: 16900... Training Loss: 1.068567... Validation Loss: 1.074389\n",
            "Epoch: 44/100... Step: 17000... Training Loss: 1.027232... Validation Loss: 1.072923\n",
            "Epoch: 45/100... Step: 17100... Training Loss: 1.118780... Validation Loss: 1.072217\n",
            "Epoch: 45/100... Step: 17200... Training Loss: 1.063258... Validation Loss: 1.074021\n",
            "Epoch: 45/100... Step: 17300... Training Loss: 1.045794... Validation Loss: 1.072651\n",
            "Epoch: 45/100... Step: 17400... Training Loss: 1.024240... Validation Loss: 1.072289\n",
            "Epoch: 46/100... Step: 17500... Training Loss: 1.051138... Validation Loss: 1.073915\n",
            "Epoch: 46/100... Step: 17600... Training Loss: 1.047814... Validation Loss: 1.072382\n",
            "Epoch: 46/100... Step: 17700... Training Loss: 1.140732... Validation Loss: 1.075742\n",
            "Epoch: 46/100... Step: 17800... Training Loss: 1.065067... Validation Loss: 1.072583\n",
            "Epoch: 47/100... Step: 17900... Training Loss: 1.093791... Validation Loss: 1.072099\n",
            "Epoch: 47/100... Step: 18000... Training Loss: 1.062887... Validation Loss: 1.072849\n",
            "Epoch: 47/100... Step: 18100... Training Loss: 1.058701... Validation Loss: 1.073621\n",
            "Epoch: 47/100... Step: 18200... Training Loss: 1.100416... Validation Loss: 1.072206\n",
            "Epoch: 48/100... Step: 18300... Training Loss: 1.072670... Validation Loss: 1.072447\n",
            "Epoch: 48/100... Step: 18400... Training Loss: 1.089967... Validation Loss: 1.071805\n",
            "Epoch: 48/100... Step: 18500... Training Loss: 1.066786... Validation Loss: 1.071549\n",
            "Epoch: 48/100... Step: 18600... Training Loss: 1.031726... Validation Loss: 1.072459\n",
            "Epoch: 49/100... Step: 18700... Training Loss: 1.047349... Validation Loss: 1.072644\n",
            "Epoch: 49/100... Step: 18800... Training Loss: 1.055275... Validation Loss: 1.072525\n",
            "Epoch: 49/100... Step: 18900... Training Loss: 1.048411... Validation Loss: 1.070766\n",
            "Epoch: 49/100... Step: 19000... Training Loss: 1.063888... Validation Loss: 1.071735\n",
            "Epoch: 50/100... Step: 19100... Training Loss: 1.048924... Validation Loss: 1.071080\n",
            "Epoch: 50/100... Step: 19200... Training Loss: 0.988810... Validation Loss: 1.071931\n",
            "Epoch: 50/100... Step: 19300... Training Loss: 1.048006... Validation Loss: 1.071778\n",
            "Epoch: 50/100... Step: 19400... Training Loss: 1.037212... Validation Loss: 1.070606\n",
            "Epoch: 51/100... Step: 19500... Training Loss: 1.050644... Validation Loss: 1.070828\n",
            "Epoch: 51/100... Step: 19600... Training Loss: 1.127503... Validation Loss: 1.070877\n",
            "Epoch: 51/100... Step: 19700... Training Loss: 1.077447... Validation Loss: 1.070913\n",
            "Epoch: 52/100... Step: 19800... Training Loss: 1.030913... Validation Loss: 1.071949\n",
            "Epoch: 52/100... Step: 19900... Training Loss: 1.102248... Validation Loss: 1.070666\n",
            "Epoch: 52/100... Step: 20000... Training Loss: 0.951793... Validation Loss: 1.074238\n",
            "Epoch: 52/100... Step: 20100... Training Loss: 1.000052... Validation Loss: 1.070507\n",
            "Epoch: 53/100... Step: 20200... Training Loss: 1.125692... Validation Loss: 1.071938\n",
            "Epoch: 53/100... Step: 20300... Training Loss: 1.060158... Validation Loss: 1.071948\n",
            "Epoch: 53/100... Step: 20400... Training Loss: 1.065437... Validation Loss: 1.069737\n",
            "Epoch: 53/100... Step: 20500... Training Loss: 0.991939... Validation Loss: 1.070399\n",
            "Epoch: 54/100... Step: 20600... Training Loss: 0.995817... Validation Loss: 1.070826\n",
            "Epoch: 54/100... Step: 20700... Training Loss: 1.013731... Validation Loss: 1.070457\n",
            "Epoch: 54/100... Step: 20800... Training Loss: 1.073452... Validation Loss: 1.070228\n",
            "Epoch: 54/100... Step: 20900... Training Loss: 1.059801... Validation Loss: 1.070988\n",
            "Epoch: 55/100... Step: 21000... Training Loss: 0.972394... Validation Loss: 1.070009\n",
            "Epoch: 55/100... Step: 21100... Training Loss: 1.040597... Validation Loss: 1.071137\n",
            "Epoch: 55/100... Step: 21200... Training Loss: 1.090919... Validation Loss: 1.070747\n",
            "Epoch: 55/100... Step: 21300... Training Loss: 1.106886... Validation Loss: 1.069767\n",
            "Epoch: 56/100... Step: 21400... Training Loss: 1.117785... Validation Loss: 1.070569\n",
            "Epoch: 56/100... Step: 21500... Training Loss: 1.017003... Validation Loss: 1.070368\n",
            "Epoch: 56/100... Step: 21600... Training Loss: 1.051045... Validation Loss: 1.069683\n",
            "Epoch: 56/100... Step: 21700... Training Loss: 1.098938... Validation Loss: 1.069390\n",
            "Epoch: 57/100... Step: 21800... Training Loss: 1.033646... Validation Loss: 1.070150\n",
            "Epoch: 57/100... Step: 21900... Training Loss: 1.107009... Validation Loss: 1.069583\n",
            "Epoch: 57/100... Step: 22000... Training Loss: 1.040641... Validation Loss: 1.070322\n",
            "Epoch: 57/100... Step: 22100... Training Loss: 1.085370... Validation Loss: 1.070836\n",
            "Epoch: 58/100... Step: 22200... Training Loss: 1.126280... Validation Loss: 1.069669\n",
            "Epoch: 58/100... Step: 22300... Training Loss: 1.093644... Validation Loss: 1.070185\n",
            "Epoch: 58/100... Step: 22400... Training Loss: 1.078942... Validation Loss: 1.069165\n",
            "Epoch: 58/100... Step: 22500... Training Loss: 1.064994... Validation Loss: 1.070664\n",
            "Epoch: 59/100... Step: 22600... Training Loss: 1.026257... Validation Loss: 1.071677\n",
            "Epoch: 59/100... Step: 22700... Training Loss: 1.105253... Validation Loss: 1.069496\n",
            "Epoch: 59/100... Step: 22800... Training Loss: 1.059003... Validation Loss: 1.071184\n",
            "Epoch: 60/100... Step: 22900... Training Loss: 1.030344... Validation Loss: 1.069737\n",
            "Epoch: 60/100... Step: 23000... Training Loss: 1.079196... Validation Loss: 1.070202\n",
            "Epoch: 60/100... Step: 23100... Training Loss: 1.006385... Validation Loss: 1.070263\n",
            "Epoch: 60/100... Step: 23200... Training Loss: 1.076799... Validation Loss: 1.070203\n",
            "Epoch: 61/100... Step: 23300... Training Loss: 1.007020... Validation Loss: 1.068908\n",
            "Epoch: 61/100... Step: 23400... Training Loss: 1.105614... Validation Loss: 1.068785\n",
            "Epoch: 61/100... Step: 23500... Training Loss: 1.045735... Validation Loss: 1.069040\n",
            "Epoch: 61/100... Step: 23600... Training Loss: 1.082253... Validation Loss: 1.068540\n",
            "Epoch: 62/100... Step: 23700... Training Loss: 1.097325... Validation Loss: 1.069236\n",
            "Epoch: 62/100... Step: 23800... Training Loss: 1.110492... Validation Loss: 1.069074\n",
            "Epoch: 62/100... Step: 23900... Training Loss: 1.033407... Validation Loss: 1.069124\n",
            "Epoch: 62/100... Step: 24000... Training Loss: 1.041058... Validation Loss: 1.070553\n",
            "Epoch: 63/100... Step: 24100... Training Loss: 0.983354... Validation Loss: 1.068469\n",
            "Epoch: 63/100... Step: 24200... Training Loss: 0.989488... Validation Loss: 1.068562\n",
            "Epoch: 63/100... Step: 24300... Training Loss: 1.048047... Validation Loss: 1.068982\n",
            "Epoch: 63/100... Step: 24400... Training Loss: 1.044806... Validation Loss: 1.068702\n",
            "Epoch: 64/100... Step: 24500... Training Loss: 1.060730... Validation Loss: 1.069421\n",
            "Epoch: 64/100... Step: 24600... Training Loss: 1.064947... Validation Loss: 1.069588\n",
            "Epoch: 64/100... Step: 24700... Training Loss: 1.056023... Validation Loss: 1.069329\n",
            "Epoch: 64/100... Step: 24800... Training Loss: 1.115520... Validation Loss: 1.069544\n",
            "Epoch: 65/100... Step: 24900... Training Loss: 1.053142... Validation Loss: 1.069660\n",
            "Epoch: 65/100... Step: 25000... Training Loss: 1.108173... Validation Loss: 1.069163\n",
            "Epoch: 65/100... Step: 25100... Training Loss: 1.118995... Validation Loss: 1.068872\n",
            "Epoch: 65/100... Step: 25200... Training Loss: 1.087913... Validation Loss: 1.069185\n",
            "Epoch: 66/100... Step: 25300... Training Loss: 1.123647... Validation Loss: 1.069632\n",
            "Epoch: 66/100... Step: 25400... Training Loss: 1.090468... Validation Loss: 1.069165\n",
            "Epoch: 66/100... Step: 25500... Training Loss: 1.005827... Validation Loss: 1.068915\n",
            "Epoch: 66/100... Step: 25600... Training Loss: 1.062427... Validation Loss: 1.068431\n",
            "Epoch: 67/100... Step: 25700... Training Loss: 1.048517... Validation Loss: 1.067928\n",
            "Epoch: 67/100... Step: 25800... Training Loss: 1.046463... Validation Loss: 1.068173\n",
            "Epoch: 67/100... Step: 25900... Training Loss: 1.114439... Validation Loss: 1.068301\n",
            "Epoch: 68/100... Step: 26000... Training Loss: 1.029790... Validation Loss: 1.068486\n",
            "Epoch: 68/100... Step: 26100... Training Loss: 1.119873... Validation Loss: 1.068054\n",
            "Epoch: 68/100... Step: 26200... Training Loss: 1.046877... Validation Loss: 1.067558\n",
            "Epoch: 68/100... Step: 26300... Training Loss: 1.020398... Validation Loss: 1.068032\n",
            "Epoch: 69/100... Step: 26400... Training Loss: 1.047791... Validation Loss: 1.067647\n",
            "Epoch: 69/100... Step: 26500... Training Loss: 1.036482... Validation Loss: 1.067700\n",
            "Epoch: 69/100... Step: 26600... Training Loss: 1.104043... Validation Loss: 1.067768\n",
            "Epoch: 69/100... Step: 26700... Training Loss: 1.102267... Validation Loss: 1.068568\n",
            "Epoch: 70/100... Step: 26800... Training Loss: 1.055045... Validation Loss: 1.068386\n",
            "Epoch: 70/100... Step: 26900... Training Loss: 1.019018... Validation Loss: 1.069018\n",
            "Epoch: 70/100... Step: 27000... Training Loss: 1.008260... Validation Loss: 1.068200\n",
            "Epoch: 70/100... Step: 27100... Training Loss: 1.045857... Validation Loss: 1.067646\n",
            "Epoch: 71/100... Step: 27200... Training Loss: 1.066822... Validation Loss: 1.068400\n",
            "Epoch: 71/100... Step: 27300... Training Loss: 1.064819... Validation Loss: 1.067961\n",
            "Epoch: 71/100... Step: 27400... Training Loss: 1.068254... Validation Loss: 1.067695\n",
            "Epoch: 71/100... Step: 27500... Training Loss: 1.052702... Validation Loss: 1.067662\n",
            "Epoch: 72/100... Step: 27600... Training Loss: 1.062829... Validation Loss: 1.067392\n",
            "Epoch: 72/100... Step: 27700... Training Loss: 1.064335... Validation Loss: 1.068446\n",
            "Epoch: 72/100... Step: 27800... Training Loss: 1.068856... Validation Loss: 1.068999\n",
            "Epoch: 72/100... Step: 27900... Training Loss: 1.060199... Validation Loss: 1.068319\n",
            "Epoch: 73/100... Step: 28000... Training Loss: 1.088560... Validation Loss: 1.068658\n",
            "Epoch: 73/100... Step: 28100... Training Loss: 1.006279... Validation Loss: 1.068048\n",
            "Epoch: 73/100... Step: 28200... Training Loss: 1.023773... Validation Loss: 1.069292\n",
            "Epoch: 73/100... Step: 28300... Training Loss: 1.145986... Validation Loss: 1.068115\n",
            "Epoch: 74/100... Step: 28400... Training Loss: 1.048148... Validation Loss: 1.068850\n",
            "Epoch: 74/100... Step: 28500... Training Loss: 1.110263... Validation Loss: 1.067520\n",
            "Epoch: 74/100... Step: 28600... Training Loss: 1.162172... Validation Loss: 1.067059\n",
            "Epoch: 74/100... Step: 28700... Training Loss: 1.000250... Validation Loss: 1.067566\n",
            "Epoch: 75/100... Step: 28800... Training Loss: 0.994138... Validation Loss: 1.067408\n",
            "Epoch: 75/100... Step: 28900... Training Loss: 1.006719... Validation Loss: 1.067436\n",
            "Epoch: 75/100... Step: 29000... Training Loss: 1.051945... Validation Loss: 1.068110\n",
            "Epoch: 75/100... Step: 29100... Training Loss: 1.033023... Validation Loss: 1.068430\n",
            "Epoch: 76/100... Step: 29200... Training Loss: 1.090500... Validation Loss: 1.068685\n",
            "Epoch: 76/100... Step: 29300... Training Loss: 1.025044... Validation Loss: 1.069035\n",
            "Epoch: 76/100... Step: 29400... Training Loss: 1.116061... Validation Loss: 1.068407\n",
            "Epoch: 77/100... Step: 29500... Training Loss: 0.980213... Validation Loss: 1.067855\n",
            "Epoch: 77/100... Step: 29600... Training Loss: 1.096016... Validation Loss: 1.068525\n",
            "Epoch: 77/100... Step: 29700... Training Loss: 1.077634... Validation Loss: 1.068805\n",
            "Epoch: 77/100... Step: 29800... Training Loss: 0.971355... Validation Loss: 1.069010\n",
            "Epoch: 78/100... Step: 29900... Training Loss: 0.967786... Validation Loss: 1.068428\n",
            "Epoch: 78/100... Step: 30000... Training Loss: 0.978770... Validation Loss: 1.067991\n",
            "Epoch: 78/100... Step: 30100... Training Loss: 1.005783... Validation Loss: 1.068002\n",
            "Epoch: 78/100... Step: 30200... Training Loss: 1.039990... Validation Loss: 1.068591\n",
            "Epoch: 79/100... Step: 30300... Training Loss: 0.986580... Validation Loss: 1.069515\n",
            "Epoch: 79/100... Step: 30400... Training Loss: 1.082355... Validation Loss: 1.068440\n",
            "Epoch: 79/100... Step: 30500... Training Loss: 1.058798... Validation Loss: 1.069358\n",
            "Epoch: 79/100... Step: 30600... Training Loss: 1.111793... Validation Loss: 1.069198\n",
            "Epoch: 80/100... Step: 30700... Training Loss: 1.051507... Validation Loss: 1.068639\n",
            "Epoch: 80/100... Step: 30800... Training Loss: 1.002602... Validation Loss: 1.068350\n",
            "Epoch: 80/100... Step: 30900... Training Loss: 0.937989... Validation Loss: 1.068547\n",
            "Epoch: 80/100... Step: 31000... Training Loss: 1.058100... Validation Loss: 1.067494\n",
            "Epoch: 81/100... Step: 31100... Training Loss: 1.058836... Validation Loss: 1.068374\n",
            "Epoch: 81/100... Step: 31200... Training Loss: 1.053545... Validation Loss: 1.068291\n",
            "Epoch: 81/100... Step: 31300... Training Loss: 1.096385... Validation Loss: 1.068844\n",
            "Epoch: 81/100... Step: 31400... Training Loss: 1.000381... Validation Loss: 1.068663\n",
            "Epoch: 82/100... Step: 31500... Training Loss: 1.134963... Validation Loss: 1.068725\n",
            "Epoch: 82/100... Step: 31600... Training Loss: 0.996907... Validation Loss: 1.067461\n",
            "Epoch: 82/100... Step: 31700... Training Loss: 1.087849... Validation Loss: 1.067794\n",
            "Epoch: 82/100... Step: 31800... Training Loss: 1.082245... Validation Loss: 1.068822\n",
            "Epoch: 83/100... Step: 31900... Training Loss: 0.998574... Validation Loss: 1.067770\n",
            "Epoch: 83/100... Step: 32000... Training Loss: 1.030231... Validation Loss: 1.067478\n",
            "Epoch: 83/100... Step: 32100... Training Loss: 1.036377... Validation Loss: 1.067787\n",
            "Epoch: 83/100... Step: 32200... Training Loss: 1.031491... Validation Loss: 1.067565\n",
            "Epoch: 84/100... Step: 32300... Training Loss: 1.087735... Validation Loss: 1.068280\n",
            "Epoch: 84/100... Step: 32400... Training Loss: 1.092304... Validation Loss: 1.067364\n",
            "Epoch: 84/100... Step: 32500... Training Loss: 1.060596... Validation Loss: 1.068584\n",
            "Epoch: 85/100... Step: 32600... Training Loss: 1.017798... Validation Loss: 1.068332\n",
            "Epoch: 85/100... Step: 32700... Training Loss: 0.989588... Validation Loss: 1.068918\n",
            "Epoch: 85/100... Step: 32800... Training Loss: 1.044111... Validation Loss: 1.069167\n",
            "Epoch: 85/100... Step: 32900... Training Loss: 1.003467... Validation Loss: 1.067422\n",
            "Epoch: 86/100... Step: 33000... Training Loss: 1.051376... Validation Loss: 1.067330\n",
            "Epoch: 86/100... Step: 33100... Training Loss: 1.068635... Validation Loss: 1.067808\n",
            "Epoch: 86/100... Step: 33200... Training Loss: 1.003796... Validation Loss: 1.066612\n",
            "Epoch: 86/100... Step: 33300... Training Loss: 1.067671... Validation Loss: 1.067224\n",
            "Epoch: 87/100... Step: 33400... Training Loss: 1.071733... Validation Loss: 1.067076\n",
            "Epoch: 87/100... Step: 33500... Training Loss: 0.992717... Validation Loss: 1.066608\n",
            "Epoch: 87/100... Step: 33600... Training Loss: 1.011780... Validation Loss: 1.066776\n",
            "Epoch: 87/100... Step: 33700... Training Loss: 1.088010... Validation Loss: 1.066329\n",
            "Epoch: 88/100... Step: 33800... Training Loss: 1.050362... Validation Loss: 1.067832\n",
            "Epoch: 88/100... Step: 33900... Training Loss: 1.049008... Validation Loss: 1.068010\n",
            "Epoch: 88/100... Step: 34000... Training Loss: 1.007526... Validation Loss: 1.066434\n",
            "Epoch: 88/100... Step: 34100... Training Loss: 1.004926... Validation Loss: 1.068051\n",
            "Epoch: 89/100... Step: 34200... Training Loss: 1.152546... Validation Loss: 1.068869\n",
            "Epoch: 89/100... Step: 34300... Training Loss: 1.014940... Validation Loss: 1.068690\n",
            "Epoch: 89/100... Step: 34400... Training Loss: 1.037201... Validation Loss: 1.067433\n",
            "Epoch: 89/100... Step: 34500... Training Loss: 1.052031... Validation Loss: 1.067545\n",
            "Epoch: 90/100... Step: 34600... Training Loss: 1.070535... Validation Loss: 1.065659\n",
            "Epoch: 90/100... Step: 34700... Training Loss: 0.941647... Validation Loss: 1.066900\n",
            "Epoch: 90/100... Step: 34800... Training Loss: 1.104918... Validation Loss: 1.066154\n",
            "Epoch: 90/100... Step: 34900... Training Loss: 0.996822... Validation Loss: 1.067087\n",
            "Epoch: 91/100... Step: 35000... Training Loss: 0.983318... Validation Loss: 1.069040\n",
            "Epoch: 91/100... Step: 35100... Training Loss: 0.946277... Validation Loss: 1.068973\n",
            "Epoch: 91/100... Step: 35200... Training Loss: 0.979393... Validation Loss: 1.069472\n",
            "Epoch: 91/100... Step: 35300... Training Loss: 1.008686... Validation Loss: 1.067432\n",
            "Epoch: 92/100... Step: 35400... Training Loss: 0.985562... Validation Loss: 1.068193\n",
            "Epoch: 92/100... Step: 35500... Training Loss: 1.003457... Validation Loss: 1.069192\n",
            "Epoch: 92/100... Step: 35600... Training Loss: 1.067512... Validation Loss: 1.068508\n",
            "Epoch: 93/100... Step: 35700... Training Loss: 0.999324... Validation Loss: 1.068052\n",
            "Epoch: 93/100... Step: 35800... Training Loss: 0.993052... Validation Loss: 1.067710\n",
            "Epoch: 93/100... Step: 35900... Training Loss: 1.048838... Validation Loss: 1.069477\n",
            "Epoch: 93/100... Step: 36000... Training Loss: 1.112497... Validation Loss: 1.068492\n",
            "Epoch: 94/100... Step: 36100... Training Loss: 0.937408... Validation Loss: 1.067402\n",
            "Epoch: 94/100... Step: 36200... Training Loss: 0.994731... Validation Loss: 1.068631\n",
            "Epoch: 94/100... Step: 36300... Training Loss: 0.999922... Validation Loss: 1.068318\n",
            "Epoch: 94/100... Step: 36400... Training Loss: 0.994631... Validation Loss: 1.069346\n",
            "Epoch: 95/100... Step: 36500... Training Loss: 1.088037... Validation Loss: 1.068051\n",
            "Epoch: 95/100... Step: 36600... Training Loss: 1.052237... Validation Loss: 1.067966\n",
            "Epoch: 95/100... Step: 36700... Training Loss: 1.084161... Validation Loss: 1.067599\n",
            "Epoch: 95/100... Step: 36800... Training Loss: 0.962732... Validation Loss: 1.068752\n",
            "Epoch: 96/100... Step: 36900... Training Loss: 1.069892... Validation Loss: 1.069559\n",
            "Epoch: 96/100... Step: 37000... Training Loss: 1.048253... Validation Loss: 1.069026\n",
            "Epoch: 96/100... Step: 37100... Training Loss: 1.112574... Validation Loss: 1.067201\n",
            "Epoch: 96/100... Step: 37200... Training Loss: 1.028113... Validation Loss: 1.067700\n",
            "Epoch: 97/100... Step: 37300... Training Loss: 1.081417... Validation Loss: 1.069077\n",
            "Epoch: 97/100... Step: 37400... Training Loss: 1.086276... Validation Loss: 1.068317\n",
            "Epoch: 97/100... Step: 37500... Training Loss: 1.120888... Validation Loss: 1.068112\n",
            "Epoch: 97/100... Step: 37600... Training Loss: 1.075950... Validation Loss: 1.069350\n",
            "Epoch: 98/100... Step: 37700... Training Loss: 0.998626... Validation Loss: 1.068369\n",
            "Epoch: 98/100... Step: 37800... Training Loss: 0.976119... Validation Loss: 1.069870\n",
            "Epoch: 98/100... Step: 37900... Training Loss: 1.036273... Validation Loss: 1.067754\n",
            "Epoch: 98/100... Step: 38000... Training Loss: 1.038175... Validation Loss: 1.066464\n",
            "Epoch: 99/100... Step: 38100... Training Loss: 1.024308... Validation Loss: 1.068637\n",
            "Epoch: 99/100... Step: 38200... Training Loss: 1.019141... Validation Loss: 1.068680\n",
            "Epoch: 99/100... Step: 38300... Training Loss: 1.131455... Validation Loss: 1.068564\n",
            "Epoch: 99/100... Step: 38400... Training Loss: 1.052988... Validation Loss: 1.068683\n",
            "Epoch: 100/100... Step: 38500... Training Loss: 1.047666... Validation Loss: 1.067541\n",
            "Epoch: 100/100... Step: 38600... Training Loss: 1.045973... Validation Loss: 1.068740\n",
            "Epoch: 100/100... Step: 38700... Training Loss: 0.923125... Validation Loss: 1.069621\n",
            "Epoch: 100/100... Step: 38800... Training Loss: 1.074697... Validation Loss: 1.068136\n"
          ]
        }
      ]
    },
    {
      "cell_type": "markdown",
      "source": [
        "3.2.4 Training and Validation plot"
      ],
      "metadata": {
        "id": "aVDLkj9AEmmk"
      }
    },
    {
      "cell_type": "code",
      "source": [
        "plt.plot(lstm_train_losses, color=\"blue\")\n",
        "plt.plot(lstm_validation_losses, color=\"red\")\n",
        "plt.ylim(-0.5, 2)\n",
        "plt.xlabel(\"Loss every 50 steps\")\n",
        "plt.ylabel(\"loss\")\n",
        "plt.legend([\"train_loss\", \"validation_loss\"])\n",
        "plt.show()"
      ],
      "metadata": {
        "colab": {
          "base_uri": "https://localhost:8080/",
          "height": 283
        },
        "id": "JdWOTT4AEl68",
        "outputId": "6715235f-0c6c-4265-f6f5-ec9216482a49"
      },
      "execution_count": 40,
      "outputs": [
        {
          "output_type": "display_data",
          "data": {
            "text/plain": [
              "<Figure size 432x288 with 1 Axes>"
            ],
            "image/png": "[encoded data removed]"
          },
          "metadata": {
            "needs_background": "light"
          }
        }
      ]
    },
    {
      "cell_type": "markdown",
      "source": [
        "3.2.5 Saving LSTM Model"
      ],
      "metadata": {
        "id": "vm64OoJt3TMu"
      }
    },
    {
      "cell_type": "code",
      "source": [
        "from joblib import dump, load\n",
        "\n",
        "lstm_save_filename = os.getcwd() + \"/lstm_model.joblib\"\n",
        "dump(lstm_model, lstm_save_filename)"
      ],
      "metadata": {
        "colab": {
          "base_uri": "https://localhost:8080/"
        },
        "id": "vVhw5Ba33V-7",
        "outputId": "6c06a5f7-3ec1-4d50-8fcc-7b15a25bd490"
      },
      "execution_count": 39,
      "outputs": [
        {
          "output_type": "execute_result",
          "data": {
            "text/plain": [
              "['/contentlstm_model.joblib']"
            ]
          },
          "metadata": {},
          "execution_count": 39
        }
      ]
    },
    {
      "cell_type": "markdown",
      "source": [
        "3.2.6 Testing function"
      ],
      "metadata": {
        "id": "kqsGlOOP3n7j"
      }
    },
    {
      "cell_type": "code",
      "source": [
        "def testing(model, test_loader, batch_size):\n",
        "  test_losses = []\n",
        "  y_pred = []\n",
        "  y_true = []\n",
        "\n",
        "  num_correct = 0\n",
        "\n",
        "  #Hidden state initialization\n",
        "  hidden = model.init_hidden(batch_size)\n",
        "  model.eval()\n",
        "\n",
        "  #Batch wise looping\n",
        "  for inputs, labels in test_loader:\n",
        "\n",
        "      #Recreating variables for the hidden state to avoid backpropagate\n",
        "      hidden = tuple([each.data for each in hidden])\n",
        "\n",
        "      inputs, labels = inputs.to(device), labels.to(device)\n",
        "      \n",
        "      output, hidden = model(inputs, hidden)\n",
        "      \n",
        "      #Calculating test loss\n",
        "      test_loss = criterion(output.squeeze(), labels.long())\n",
        "      test_losses.append(test_loss.item())\n",
        "\n",
        "      \n",
        "      #Converting probabilities to output classse\n",
        "      pred = torch.argmax(output ,dim=1, keepdim=True)\n",
        "      y_pred.extend(pred.cpu().detach().numpy())        #Saving predicted values\n",
        "      y_true.extend(np.array(labels.long().cpu()))      #Saving true values\n",
        "\n",
        "  return y_pred, y_true"
      ],
      "metadata": {
        "id": "5iiWtNwZ3ugu"
      },
      "execution_count": 31,
      "outputs": []
    },
    {
      "cell_type": "markdown",
      "source": [
        "3.2.7 Testing Phase"
      ],
      "metadata": {
        "id": "biZulUDv8S_w"
      }
    },
    {
      "cell_type": "code",
      "source": [
        "lstm_y_pred, lstm_y_true = testing(lstm_model, test_loader, batch_size = batch_size)"
      ],
      "metadata": {
        "id": "P9ZyvEbz5gwK"
      },
      "execution_count": 37,
      "outputs": []
    },
    {
      "cell_type": "markdown",
      "source": [
        "3.2.8 Results"
      ],
      "metadata": {
        "id": "XPG6jxO56qwu"
      }
    },
    {
      "cell_type": "code",
      "source": [
        "print_classification_report(lstm_y_pred, lstm_y_true, title = \"LSTM\")"
      ],
      "metadata": {
        "colab": {
          "base_uri": "https://localhost:8080/",
          "height": 620
        },
        "id": "llq5RgxL5vyA",
        "outputId": "9479b80f-401c-4229-c6c6-0e8d392947b4"
      },
      "execution_count": 43,
      "outputs": [
        {
          "output_type": "display_data",
          "data": {
            "text/plain": [
              "<Figure size 432x432 with 1 Axes>"
            ],
            "image/png": "[encoded data removed]"
          },
          "metadata": {
            "needs_background": "light"
          }
        },
        {
          "output_type": "stream",
          "name": "stdout",
          "text": [
            "\n",
            "\n",
            "Classification report for Confusion Matrix\n",
            "---------------------------------------------------------------------------\n",
            "Accuracy: 36.77%\n",
            "Precision: 40.29%\n",
            "Recall: 36.77%\n",
            "F1 score: 35.64%\n",
            "---------------------------------------------------------------------------\n",
            "\n",
            "\n",
            "\n"
          ]
        }
      ]
    },
    {
      "cell_type": "markdown",
      "source": [
        "#3.3. BiLSTM model"
      ],
      "metadata": {
        "id": "I5Niy5kg6CnG"
      }
    },
    {
      "cell_type": "code",
      "source": [
        "class BiLSTMModel(nn.Module):\n",
        "   def __init__(self, vocab_size, output_size, embedding_dim, hidden_dim, num_layers, drop_prob=0.6):\n",
        "        \n",
        "        '''Model initialization - setting up layers'''\n",
        "        super(BiLSTMModel, self).__init__()\n",
        "\n",
        "        self.output_size = output_size\n",
        "        self.num_layers = num_layers\n",
        "        self.hidden_dim = hidden_dim\n",
        "        \n",
        "        #Embedding Layer\n",
        "        self.embedding = nn.Embedding(vocab_size, embedding_dim)\n",
        "\n",
        "        #BiLSTM Layer\n",
        "        self.lstm = nn.LSTM(embedding_dim, hidden_dim, num_layers = num_layers, \n",
        "                            dropout=drop_prob, batch_first=True, bidirectional=True)\n",
        "        \n",
        "        # Dropout Layer\n",
        "        self.dropout = nn.Dropout(0.5)\n",
        "        \n",
        "        # Fully Connected Layer\n",
        "        self.fc = nn.Linear(hidden_dim * 2, output_size)\n",
        "        \n",
        "   def forward(self, x, hidden):\n",
        "        ''' Performing forward pass on input and hidden state '''\n",
        "\n",
        "        batch_size = x.size(0)\n",
        "        x = x.long()\n",
        "\n",
        "        #Embeddings with dropout\n",
        "        embeddings = self.dropout(self.embedding(x))\n",
        "\n",
        "        #BiLSTM\n",
        "        lstm_out, hidden = self.lstm(embeddings, hidden)\n",
        "\n",
        "        #Stacking up BiLSTM outputs\n",
        "        lstm_out = lstm_out.contiguous().view(-1, self.hidden_dim * 2)\n",
        "        \n",
        "        #Dropout\n",
        "        out = self.dropout(lstm_out)\n",
        "\n",
        "        #Fully Connected\n",
        "        out = self.fc(out)\n",
        "\n",
        "        #Reshaping \n",
        "        output = out.view(batch_size, -1, output_size)\n",
        "\n",
        "        #Getting last batch of labels\n",
        "        output = output[:, -1] \n",
        "        \n",
        "        #Return last output with the hidden state\n",
        "        return output, hidden\n",
        "    \n",
        "    \n",
        "   def init_hidden(self, batch_size):\n",
        "        ''' Initializing hidden state '''\n",
        "        \n",
        "        #Two tensors of size num_layers * batch_size * hidden_dim are initialized to zero\n",
        "        weight = next(self.parameters()).data\n",
        "        hidden = (weight.new(self.num_layers * 2, batch_size, self.hidden_dim).zero_(),\n",
        "                      weight.new(self.num_layers * 2, batch_size, self.hidden_dim).zero_())\n",
        "        \n",
        "        return hidden\n"
      ],
      "metadata": {
        "id": "d4dy9vUJ6CUn"
      },
      "execution_count": 36,
      "outputs": []
    },
    {
      "cell_type": "markdown",
      "source": [
        "3.3.1 Setting up hyperparameters"
      ],
      "metadata": {
        "id": "Q2YAYu2g7T0i"
      }
    },
    {
      "cell_type": "code",
      "source": [
        "vocab_size = len(training_vocabulary_to_integer) + 1      #Vocabulary size for embedding layer\n",
        "output_size = 3                                           #Output size\n",
        "embedding_dim = 200                                       #Embedding dimension\n",
        "hidden_dim = 256                                          #Hidden dimension\n",
        "num_layers = 2                                            #Number of layers\n",
        "bilstm_model = BiLSTMModel(vocab_size, output_size, embedding_dim, hidden_dim, num_layers).to(device)       #LSTM Object\n",
        "\n",
        "criterion = nn.CrossEntropyLoss(class_weights).to(device)                       #Categorical cross entropy\n",
        "\n",
        "counter = 0\n",
        "epochs = 100                                              #Number of epochs\n",
        "print_step = 100\n",
        "clip = 10                                                 #For gradient clipping\n",
        "lr = 1e-6                                                 #Learning Rate\n",
        "optimizer = torch.optim.Adam(bilstm_model.parameters(), lr=lr)   #Optimization Algorithm"
      ],
      "metadata": {
        "id": "bBry6mq27ysn"
      },
      "execution_count": 44,
      "outputs": []
    },
    {
      "cell_type": "code",
      "source": [
        "assert isinstance(bilstm_model, BiLSTMModel), \"Expected model to be LSTMModel\"\n",
        "assert isinstance(bilstm_model.lstm, nn.LSTM), \"Expected lstm layer to be nn.LSTM\"\n",
        "assert isinstance(bilstm_model.embedding, nn.Embedding), \"Expected embedding layer to be nn.Embedded\"\n",
        "assert isinstance(bilstm_model.lstm, nn.LSTM), \"Expected lstm layer to be nn.LSTM\"\n",
        "assert isinstance(bilstm_model.dropout, nn.Dropout), \"Expected dropout layer to be nn.Dropout\"\n",
        "assert isinstance(bilstm_model.fc, nn.Linear), \"Expected fc layer to be nn.Linear\""
      ],
      "metadata": {
        "id": "cryRPF1M9ZmX"
      },
      "execution_count": 45,
      "outputs": []
    },
    {
      "cell_type": "markdown",
      "source": [
        "3.3.2 Training Phase"
      ],
      "metadata": {
        "id": "QxUcMmmX7zdk"
      }
    },
    {
      "cell_type": "code",
      "source": [
        "bilstm_train_losses, bilstm_validation_losses = train(bilstm_model, epochs, batch_size, train_loader, criterion, clip, valid_loader);"
      ],
      "metadata": {
        "colab": {
          "base_uri": "https://localhost:8080/"
        },
        "id": "Z-XESDXJ8LpL",
        "outputId": "99b6effc-9560-4b3e-aed2-5d1eaaaeeec9"
      },
      "execution_count": 46,
      "outputs": [
        {
          "output_type": "stream",
          "name": "stdout",
          "text": [
            "Epoch: 1/100... Step: 100... Training Loss: 1.096493... Validation Loss: 1.099005\n",
            "Epoch: 1/100... Step: 200... Training Loss: 1.094739... Validation Loss: 1.098984\n",
            "Epoch: 1/100... Step: 300... Training Loss: 1.094470... Validation Loss: 1.098973\n",
            "Epoch: 2/100... Step: 400... Training Loss: 1.095654... Validation Loss: 1.098958\n",
            "Epoch: 2/100... Step: 500... Training Loss: 1.096563... Validation Loss: 1.098950\n",
            "Epoch: 2/100... Step: 600... Training Loss: 1.097238... Validation Loss: 1.098945\n",
            "Epoch: 2/100... Step: 700... Training Loss: 1.098591... Validation Loss: 1.098937\n",
            "Epoch: 3/100... Step: 800... Training Loss: 1.095086... Validation Loss: 1.098931\n",
            "Epoch: 3/100... Step: 900... Training Loss: 1.111622... Validation Loss: 1.098929\n",
            "Epoch: 3/100... Step: 1000... Training Loss: 1.101676... Validation Loss: 1.098927\n",
            "Epoch: 3/100... Step: 1100... Training Loss: 1.110032... Validation Loss: 1.098926\n",
            "Epoch: 4/100... Step: 1200... Training Loss: 1.097575... Validation Loss: 1.098924\n",
            "Epoch: 4/100... Step: 1300... Training Loss: 1.102886... Validation Loss: 1.098915\n",
            "Epoch: 4/100... Step: 1400... Training Loss: 1.092665... Validation Loss: 1.098908\n",
            "Epoch: 4/100... Step: 1500... Training Loss: 1.097978... Validation Loss: 1.098903\n",
            "Epoch: 5/100... Step: 1600... Training Loss: 1.094742... Validation Loss: 1.098897\n",
            "Epoch: 5/100... Step: 1700... Training Loss: 1.101590... Validation Loss: 1.098894\n",
            "Epoch: 5/100... Step: 1800... Training Loss: 1.086427... Validation Loss: 1.098886\n",
            "Epoch: 5/100... Step: 1900... Training Loss: 1.102854... Validation Loss: 1.098882\n",
            "Epoch: 6/100... Step: 2000... Training Loss: 1.106710... Validation Loss: 1.098875\n",
            "Epoch: 6/100... Step: 2100... Training Loss: 1.084703... Validation Loss: 1.098871\n",
            "Epoch: 6/100... Step: 2200... Training Loss: 1.094401... Validation Loss: 1.098866\n",
            "Epoch: 6/100... Step: 2300... Training Loss: 1.111590... Validation Loss: 1.098858\n",
            "Epoch: 7/100... Step: 2400... Training Loss: 1.099890... Validation Loss: 1.098851\n",
            "Epoch: 7/100... Step: 2500... Training Loss: 1.099197... Validation Loss: 1.098845\n",
            "Epoch: 7/100... Step: 2600... Training Loss: 1.094497... Validation Loss: 1.098840\n",
            "Epoch: 7/100... Step: 2700... Training Loss: 1.101179... Validation Loss: 1.098834\n",
            "Epoch: 8/100... Step: 2800... Training Loss: 1.092862... Validation Loss: 1.098830\n",
            "Epoch: 8/100... Step: 2900... Training Loss: 1.101198... Validation Loss: 1.098824\n",
            "Epoch: 8/100... Step: 3000... Training Loss: 1.101585... Validation Loss: 1.098817\n",
            "Epoch: 8/100... Step: 3100... Training Loss: 1.100971... Validation Loss: 1.098812\n",
            "Epoch: 9/100... Step: 3200... Training Loss: 1.099700... Validation Loss: 1.098806\n",
            "Epoch: 9/100... Step: 3300... Training Loss: 1.100665... Validation Loss: 1.098800\n",
            "Epoch: 9/100... Step: 3400... Training Loss: 1.108019... Validation Loss: 1.098795\n",
            "Epoch: 10/100... Step: 3500... Training Loss: 1.109770... Validation Loss: 1.098789\n",
            "Epoch: 10/100... Step: 3600... Training Loss: 1.087075... Validation Loss: 1.098785\n",
            "Epoch: 10/100... Step: 3700... Training Loss: 1.104575... Validation Loss: 1.098780\n",
            "Epoch: 10/100... Step: 3800... Training Loss: 1.096537... Validation Loss: 1.098775\n",
            "Epoch: 11/100... Step: 3900... Training Loss: 1.096714... Validation Loss: 1.098770\n",
            "Epoch: 11/100... Step: 4000... Training Loss: 1.095323... Validation Loss: 1.098765\n",
            "Epoch: 11/100... Step: 4100... Training Loss: 1.095782... Validation Loss: 1.098759\n",
            "Epoch: 11/100... Step: 4200... Training Loss: 1.098753... Validation Loss: 1.098753\n",
            "Epoch: 12/100... Step: 4300... Training Loss: 1.101209... Validation Loss: 1.098748\n",
            "Epoch: 12/100... Step: 4400... Training Loss: 1.103870... Validation Loss: 1.098743\n",
            "Epoch: 12/100... Step: 4500... Training Loss: 1.109355... Validation Loss: 1.098738\n",
            "Epoch: 12/100... Step: 4600... Training Loss: 1.087461... Validation Loss: 1.098733\n",
            "Epoch: 13/100... Step: 4700... Training Loss: 1.104224... Validation Loss: 1.098727\n",
            "Epoch: 13/100... Step: 4800... Training Loss: 1.102100... Validation Loss: 1.098722\n",
            "Epoch: 13/100... Step: 4900... Training Loss: 1.096827... Validation Loss: 1.098716\n",
            "Epoch: 13/100... Step: 5000... Training Loss: 1.094337... Validation Loss: 1.098711\n",
            "Epoch: 14/100... Step: 5100... Training Loss: 1.088049... Validation Loss: 1.098705\n",
            "Epoch: 14/100... Step: 5200... Training Loss: 1.112403... Validation Loss: 1.098700\n",
            "Epoch: 14/100... Step: 5300... Training Loss: 1.097586... Validation Loss: 1.098695\n",
            "Epoch: 14/100... Step: 5400... Training Loss: 1.097914... Validation Loss: 1.098689\n",
            "Epoch: 15/100... Step: 5500... Training Loss: 1.098519... Validation Loss: 1.098684\n",
            "Epoch: 15/100... Step: 5600... Training Loss: 1.088240... Validation Loss: 1.098678\n",
            "Epoch: 15/100... Step: 5700... Training Loss: 1.100354... Validation Loss: 1.098672\n",
            "Epoch: 15/100... Step: 5800... Training Loss: 1.116754... Validation Loss: 1.098667\n",
            "Epoch: 16/100... Step: 5900... Training Loss: 1.088363... Validation Loss: 1.098662\n",
            "Epoch: 16/100... Step: 6000... Training Loss: 1.096485... Validation Loss: 1.098656\n",
            "Epoch: 16/100... Step: 6100... Training Loss: 1.082361... Validation Loss: 1.098651\n",
            "Epoch: 16/100... Step: 6200... Training Loss: 1.096918... Validation Loss: 1.098646\n",
            "Epoch: 17/100... Step: 6300... Training Loss: 1.109768... Validation Loss: 1.098640\n",
            "Epoch: 17/100... Step: 6400... Training Loss: 1.094759... Validation Loss: 1.098636\n",
            "Epoch: 17/100... Step: 6500... Training Loss: 1.105157... Validation Loss: 1.098629\n",
            "Epoch: 18/100... Step: 6600... Training Loss: 1.097328... Validation Loss: 1.098623\n",
            "Epoch: 18/100... Step: 6700... Training Loss: 1.109357... Validation Loss: 1.098617\n",
            "Epoch: 18/100... Step: 6800... Training Loss: 1.096733... Validation Loss: 1.098612\n",
            "Epoch: 18/100... Step: 6900... Training Loss: 1.091745... Validation Loss: 1.098605\n",
            "Epoch: 19/100... Step: 7000... Training Loss: 1.092444... Validation Loss: 1.098600\n",
            "Epoch: 19/100... Step: 7100... Training Loss: 1.106898... Validation Loss: 1.098594\n",
            "Epoch: 19/100... Step: 7200... Training Loss: 1.096063... Validation Loss: 1.098588\n",
            "Epoch: 19/100... Step: 7300... Training Loss: 1.099586... Validation Loss: 1.098583\n",
            "Epoch: 20/100... Step: 7400... Training Loss: 1.101966... Validation Loss: 1.098577\n",
            "Epoch: 20/100... Step: 7500... Training Loss: 1.088920... Validation Loss: 1.098572\n",
            "Epoch: 20/100... Step: 7600... Training Loss: 1.104896... Validation Loss: 1.098566\n",
            "Epoch: 20/100... Step: 7700... Training Loss: 1.079675... Validation Loss: 1.098560\n",
            "Epoch: 21/100... Step: 7800... Training Loss: 1.104575... Validation Loss: 1.098554\n",
            "Epoch: 21/100... Step: 7900... Training Loss: 1.114321... Validation Loss: 1.098548\n",
            "Epoch: 21/100... Step: 8000... Training Loss: 1.096400... Validation Loss: 1.098542\n",
            "Epoch: 21/100... Step: 8100... Training Loss: 1.095956... Validation Loss: 1.098537\n",
            "Epoch: 22/100... Step: 8200... Training Loss: 1.106713... Validation Loss: 1.098532\n",
            "Epoch: 22/100... Step: 8300... Training Loss: 1.087563... Validation Loss: 1.098526\n",
            "Epoch: 22/100... Step: 8400... Training Loss: 1.090979... Validation Loss: 1.098520\n",
            "Epoch: 22/100... Step: 8500... Training Loss: 1.106698... Validation Loss: 1.098514\n",
            "Epoch: 23/100... Step: 8600... Training Loss: 1.104559... Validation Loss: 1.098508\n",
            "Epoch: 23/100... Step: 8700... Training Loss: 1.100016... Validation Loss: 1.098502\n",
            "Epoch: 23/100... Step: 8800... Training Loss: 1.101248... Validation Loss: 1.098496\n",
            "Epoch: 23/100... Step: 8900... Training Loss: 1.110919... Validation Loss: 1.098490\n",
            "Epoch: 24/100... Step: 9000... Training Loss: 1.088837... Validation Loss: 1.098485\n",
            "Epoch: 24/100... Step: 9100... Training Loss: 1.107449... Validation Loss: 1.098478\n",
            "Epoch: 24/100... Step: 9200... Training Loss: 1.099699... Validation Loss: 1.098473\n",
            "Epoch: 24/100... Step: 9300... Training Loss: 1.115750... Validation Loss: 1.098467\n",
            "Epoch: 25/100... Step: 9400... Training Loss: 1.101895... Validation Loss: 1.098462\n",
            "Epoch: 25/100... Step: 9500... Training Loss: 1.107551... Validation Loss: 1.098455\n",
            "Epoch: 25/100... Step: 9600... Training Loss: 1.097646... Validation Loss: 1.098449\n",
            "Epoch: 25/100... Step: 9700... Training Loss: 1.092435... Validation Loss: 1.098443\n",
            "Epoch: 26/100... Step: 9800... Training Loss: 1.090341... Validation Loss: 1.098437\n",
            "Epoch: 26/100... Step: 9900... Training Loss: 1.106615... Validation Loss: 1.098431\n",
            "Epoch: 26/100... Step: 10000... Training Loss: 1.103024... Validation Loss: 1.098426\n",
            "Epoch: 27/100... Step: 10100... Training Loss: 1.098974... Validation Loss: 1.098419\n",
            "Epoch: 27/100... Step: 10200... Training Loss: 1.105767... Validation Loss: 1.098413\n",
            "Epoch: 27/100... Step: 10300... Training Loss: 1.107662... Validation Loss: 1.098408\n",
            "Epoch: 27/100... Step: 10400... Training Loss: 1.092567... Validation Loss: 1.098401\n",
            "Epoch: 28/100... Step: 10500... Training Loss: 1.091620... Validation Loss: 1.098396\n",
            "Epoch: 28/100... Step: 10600... Training Loss: 1.087647... Validation Loss: 1.098390\n",
            "Epoch: 28/100... Step: 10700... Training Loss: 1.102045... Validation Loss: 1.098385\n",
            "Epoch: 28/100... Step: 10800... Training Loss: 1.092156... Validation Loss: 1.098378\n",
            "Epoch: 29/100... Step: 10900... Training Loss: 1.095226... Validation Loss: 1.098373\n",
            "Epoch: 29/100... Step: 11000... Training Loss: 1.100854... Validation Loss: 1.098367\n",
            "Epoch: 29/100... Step: 11100... Training Loss: 1.102700... Validation Loss: 1.098360\n",
            "Epoch: 29/100... Step: 11200... Training Loss: 1.104557... Validation Loss: 1.098354\n",
            "Epoch: 30/100... Step: 11300... Training Loss: 1.092718... Validation Loss: 1.098348\n",
            "Epoch: 30/100... Step: 11400... Training Loss: 1.088602... Validation Loss: 1.098341\n",
            "Epoch: 30/100... Step: 11500... Training Loss: 1.089723... Validation Loss: 1.098335\n",
            "Epoch: 30/100... Step: 11600... Training Loss: 1.111711... Validation Loss: 1.098330\n",
            "Epoch: 31/100... Step: 11700... Training Loss: 1.113103... Validation Loss: 1.098324\n",
            "Epoch: 31/100... Step: 11800... Training Loss: 1.098590... Validation Loss: 1.098317\n",
            "Epoch: 31/100... Step: 11900... Training Loss: 1.098817... Validation Loss: 1.098311\n",
            "Epoch: 31/100... Step: 12000... Training Loss: 1.085823... Validation Loss: 1.098305\n",
            "Epoch: 32/100... Step: 12100... Training Loss: 1.093829... Validation Loss: 1.098298\n",
            "Epoch: 32/100... Step: 12200... Training Loss: 1.079854... Validation Loss: 1.098292\n",
            "Epoch: 32/100... Step: 12300... Training Loss: 1.094152... Validation Loss: 1.098286\n",
            "Epoch: 32/100... Step: 12400... Training Loss: 1.108887... Validation Loss: 1.098280\n",
            "Epoch: 33/100... Step: 12500... Training Loss: 1.109616... Validation Loss: 1.098274\n",
            "Epoch: 33/100... Step: 12600... Training Loss: 1.104666... Validation Loss: 1.098269\n",
            "Epoch: 33/100... Step: 12700... Training Loss: 1.111360... Validation Loss: 1.098263\n",
            "Epoch: 33/100... Step: 12800... Training Loss: 1.105266... Validation Loss: 1.098257\n",
            "Epoch: 34/100... Step: 12900... Training Loss: 1.093622... Validation Loss: 1.098251\n",
            "Epoch: 34/100... Step: 13000... Training Loss: 1.091410... Validation Loss: 1.098245\n",
            "Epoch: 34/100... Step: 13100... Training Loss: 1.097481... Validation Loss: 1.098239\n",
            "Epoch: 35/100... Step: 13200... Training Loss: 1.094555... Validation Loss: 1.098233\n",
            "Epoch: 35/100... Step: 13300... Training Loss: 1.113784... Validation Loss: 1.098227\n",
            "Epoch: 35/100... Step: 13400... Training Loss: 1.087787... Validation Loss: 1.098221\n",
            "Epoch: 35/100... Step: 13500... Training Loss: 1.094492... Validation Loss: 1.098216\n",
            "Epoch: 36/100... Step: 13600... Training Loss: 1.102008... Validation Loss: 1.098210\n",
            "Epoch: 36/100... Step: 13700... Training Loss: 1.087337... Validation Loss: 1.098204\n",
            "Epoch: 36/100... Step: 13800... Training Loss: 1.087766... Validation Loss: 1.098197\n",
            "Epoch: 36/100... Step: 13900... Training Loss: 1.105126... Validation Loss: 1.098191\n",
            "Epoch: 37/100... Step: 14000... Training Loss: 1.095378... Validation Loss: 1.098186\n",
            "Epoch: 37/100... Step: 14100... Training Loss: 1.096073... Validation Loss: 1.098179\n",
            "Epoch: 37/100... Step: 14200... Training Loss: 1.091418... Validation Loss: 1.098172\n",
            "Epoch: 37/100... Step: 14300... Training Loss: 1.092860... Validation Loss: 1.098166\n",
            "Epoch: 38/100... Step: 14400... Training Loss: 1.091410... Validation Loss: 1.098160\n",
            "Epoch: 38/100... Step: 14500... Training Loss: 1.079896... Validation Loss: 1.098153\n",
            "Epoch: 38/100... Step: 14600... Training Loss: 1.078464... Validation Loss: 1.098147\n",
            "Epoch: 38/100... Step: 14700... Training Loss: 1.095089... Validation Loss: 1.098140\n",
            "Epoch: 39/100... Step: 14800... Training Loss: 1.103832... Validation Loss: 1.098134\n",
            "Epoch: 39/100... Step: 14900... Training Loss: 1.106843... Validation Loss: 1.098128\n",
            "Epoch: 39/100... Step: 15000... Training Loss: 1.091082... Validation Loss: 1.098122\n",
            "Epoch: 39/100... Step: 15100... Training Loss: 1.105551... Validation Loss: 1.098116\n",
            "Epoch: 40/100... Step: 15200... Training Loss: 1.105677... Validation Loss: 1.098109\n",
            "Epoch: 40/100... Step: 15300... Training Loss: 1.099417... Validation Loss: 1.098103\n",
            "Epoch: 40/100... Step: 15400... Training Loss: 1.099605... Validation Loss: 1.098096\n",
            "Epoch: 40/100... Step: 15500... Training Loss: 1.093225... Validation Loss: 1.098090\n",
            "Epoch: 41/100... Step: 15600... Training Loss: 1.097725... Validation Loss: 1.098083\n",
            "Epoch: 41/100... Step: 15700... Training Loss: 1.103326... Validation Loss: 1.098077\n",
            "Epoch: 41/100... Step: 15800... Training Loss: 1.096041... Validation Loss: 1.098071\n",
            "Epoch: 41/100... Step: 15900... Training Loss: 1.104496... Validation Loss: 1.098064\n",
            "Epoch: 42/100... Step: 16000... Training Loss: 1.097499... Validation Loss: 1.098058\n",
            "Epoch: 42/100... Step: 16100... Training Loss: 1.108281... Validation Loss: 1.098052\n",
            "Epoch: 42/100... Step: 16200... Training Loss: 1.100318... Validation Loss: 1.098045\n",
            "Epoch: 43/100... Step: 16300... Training Loss: 1.094211... Validation Loss: 1.098039\n",
            "Epoch: 43/100... Step: 16400... Training Loss: 1.099050... Validation Loss: 1.098033\n",
            "Epoch: 43/100... Step: 16500... Training Loss: 1.094337... Validation Loss: 1.098026\n",
            "Epoch: 43/100... Step: 16600... Training Loss: 1.091308... Validation Loss: 1.098020\n",
            "Epoch: 44/100... Step: 16700... Training Loss: 1.104296... Validation Loss: 1.098014\n",
            "Epoch: 44/100... Step: 16800... Training Loss: 1.091284... Validation Loss: 1.098008\n",
            "Epoch: 44/100... Step: 16900... Training Loss: 1.093597... Validation Loss: 1.098002\n",
            "Epoch: 44/100... Step: 17000... Training Loss: 1.093272... Validation Loss: 1.097996\n",
            "Epoch: 45/100... Step: 17100... Training Loss: 1.095858... Validation Loss: 1.097990\n",
            "Epoch: 45/100... Step: 17200... Training Loss: 1.084741... Validation Loss: 1.097984\n",
            "Epoch: 45/100... Step: 17300... Training Loss: 1.110587... Validation Loss: 1.097977\n",
            "Epoch: 45/100... Step: 17400... Training Loss: 1.098758... Validation Loss: 1.097971\n",
            "Epoch: 46/100... Step: 17500... Training Loss: 1.091870... Validation Loss: 1.097965\n",
            "Epoch: 46/100... Step: 17600... Training Loss: 1.106416... Validation Loss: 1.097959\n",
            "Epoch: 46/100... Step: 17700... Training Loss: 1.110025... Validation Loss: 1.097953\n",
            "Epoch: 46/100... Step: 17800... Training Loss: 1.100431... Validation Loss: 1.097946\n",
            "Epoch: 47/100... Step: 17900... Training Loss: 1.103372... Validation Loss: 1.097939\n",
            "Epoch: 47/100... Step: 18000... Training Loss: 1.073589... Validation Loss: 1.097932\n",
            "Epoch: 47/100... Step: 18100... Training Loss: 1.107107... Validation Loss: 1.097926\n",
            "Epoch: 47/100... Step: 18200... Training Loss: 1.100708... Validation Loss: 1.097919\n",
            "Epoch: 48/100... Step: 18300... Training Loss: 1.090733... Validation Loss: 1.097913\n",
            "Epoch: 48/100... Step: 18400... Training Loss: 1.101061... Validation Loss: 1.097906\n",
            "Epoch: 48/100... Step: 18500... Training Loss: 1.110386... Validation Loss: 1.097900\n",
            "Epoch: 48/100... Step: 18600... Training Loss: 1.100747... Validation Loss: 1.097895\n",
            "Epoch: 49/100... Step: 18700... Training Loss: 1.066190... Validation Loss: 1.097888\n",
            "Epoch: 49/100... Step: 18800... Training Loss: 1.111144... Validation Loss: 1.097882\n",
            "Epoch: 49/100... Step: 18900... Training Loss: 1.098494... Validation Loss: 1.097876\n",
            "Epoch: 49/100... Step: 19000... Training Loss: 1.093247... Validation Loss: 1.097870\n",
            "Epoch: 50/100... Step: 19100... Training Loss: 1.100096... Validation Loss: 1.097864\n",
            "Epoch: 50/100... Step: 19200... Training Loss: 1.102578... Validation Loss: 1.097858\n",
            "Epoch: 50/100... Step: 19300... Training Loss: 1.083616... Validation Loss: 1.097851\n",
            "Epoch: 50/100... Step: 19400... Training Loss: 1.101757... Validation Loss: 1.097845\n",
            "Epoch: 51/100... Step: 19500... Training Loss: 1.094942... Validation Loss: 1.097839\n",
            "Epoch: 51/100... Step: 19600... Training Loss: 1.088827... Validation Loss: 1.097832\n",
            "Epoch: 51/100... Step: 19700... Training Loss: 1.084957... Validation Loss: 1.097826\n",
            "Epoch: 52/100... Step: 19800... Training Loss: 1.109573... Validation Loss: 1.097820\n",
            "Epoch: 52/100... Step: 19900... Training Loss: 1.077169... Validation Loss: 1.097813\n",
            "Epoch: 52/100... Step: 20000... Training Loss: 1.103613... Validation Loss: 1.097807\n",
            "Epoch: 52/100... Step: 20100... Training Loss: 1.086211... Validation Loss: 1.097801\n",
            "Epoch: 53/100... Step: 20200... Training Loss: 1.071312... Validation Loss: 1.097795\n",
            "Epoch: 53/100... Step: 20300... Training Loss: 1.101561... Validation Loss: 1.097789\n",
            "Epoch: 53/100... Step: 20400... Training Loss: 1.090033... Validation Loss: 1.097784\n",
            "Epoch: 53/100... Step: 20500... Training Loss: 1.105075... Validation Loss: 1.097778\n",
            "Epoch: 54/100... Step: 20600... Training Loss: 1.093929... Validation Loss: 1.097771\n",
            "Epoch: 54/100... Step: 20700... Training Loss: 1.103321... Validation Loss: 1.097765\n",
            "Epoch: 54/100... Step: 20800... Training Loss: 1.078968... Validation Loss: 1.097758\n",
            "Epoch: 54/100... Step: 20900... Training Loss: 1.097381... Validation Loss: 1.097753\n",
            "Epoch: 55/100... Step: 21000... Training Loss: 1.110686... Validation Loss: 1.097747\n",
            "Epoch: 55/100... Step: 21100... Training Loss: 1.100567... Validation Loss: 1.097741\n",
            "Epoch: 55/100... Step: 21200... Training Loss: 1.088558... Validation Loss: 1.097735\n",
            "Epoch: 55/100... Step: 21300... Training Loss: 1.094186... Validation Loss: 1.097729\n",
            "Epoch: 56/100... Step: 21400... Training Loss: 1.076302... Validation Loss: 1.097723\n",
            "Epoch: 56/100... Step: 21500... Training Loss: 1.086164... Validation Loss: 1.097718\n",
            "Epoch: 56/100... Step: 21600... Training Loss: 1.113539... Validation Loss: 1.097712\n",
            "Epoch: 56/100... Step: 21700... Training Loss: 1.096553... Validation Loss: 1.097706\n",
            "Epoch: 57/100... Step: 21800... Training Loss: 1.089652... Validation Loss: 1.097700\n",
            "Epoch: 57/100... Step: 21900... Training Loss: 1.103124... Validation Loss: 1.097694\n",
            "Epoch: 57/100... Step: 22000... Training Loss: 1.105484... Validation Loss: 1.097688\n",
            "Epoch: 57/100... Step: 22100... Training Loss: 1.113795... Validation Loss: 1.097682\n",
            "Epoch: 58/100... Step: 22200... Training Loss: 1.078825... Validation Loss: 1.097677\n",
            "Epoch: 58/100... Step: 22300... Training Loss: 1.090921... Validation Loss: 1.097671\n",
            "Epoch: 58/100... Step: 22400... Training Loss: 1.109982... Validation Loss: 1.097666\n",
            "Epoch: 58/100... Step: 22500... Training Loss: 1.116288... Validation Loss: 1.097661\n",
            "Epoch: 59/100... Step: 22600... Training Loss: 1.108720... Validation Loss: 1.097655\n",
            "Epoch: 59/100... Step: 22700... Training Loss: 1.095441... Validation Loss: 1.097650\n",
            "Epoch: 59/100... Step: 22800... Training Loss: 1.100332... Validation Loss: 1.097644\n",
            "Epoch: 60/100... Step: 22900... Training Loss: 1.105296... Validation Loss: 1.097638\n",
            "Epoch: 60/100... Step: 23000... Training Loss: 1.090883... Validation Loss: 1.097632\n",
            "Epoch: 60/100... Step: 23100... Training Loss: 1.093060... Validation Loss: 1.097627\n",
            "Epoch: 60/100... Step: 23200... Training Loss: 1.110078... Validation Loss: 1.097620\n",
            "Epoch: 61/100... Step: 23300... Training Loss: 1.105520... Validation Loss: 1.097615\n",
            "Epoch: 61/100... Step: 23400... Training Loss: 1.075878... Validation Loss: 1.097610\n",
            "Epoch: 61/100... Step: 23500... Training Loss: 1.109325... Validation Loss: 1.097605\n",
            "Epoch: 61/100... Step: 23600... Training Loss: 1.093647... Validation Loss: 1.097599\n",
            "Epoch: 62/100... Step: 23700... Training Loss: 1.085827... Validation Loss: 1.097594\n",
            "Epoch: 62/100... Step: 23800... Training Loss: 1.104144... Validation Loss: 1.097589\n",
            "Epoch: 62/100... Step: 23900... Training Loss: 1.107557... Validation Loss: 1.097583\n",
            "Epoch: 62/100... Step: 24000... Training Loss: 1.077952... Validation Loss: 1.097578\n",
            "Epoch: 63/100... Step: 24100... Training Loss: 1.093593... Validation Loss: 1.097572\n",
            "Epoch: 63/100... Step: 24200... Training Loss: 1.077477... Validation Loss: 1.097567\n",
            "Epoch: 63/100... Step: 24300... Training Loss: 1.080285... Validation Loss: 1.097561\n",
            "Epoch: 63/100... Step: 24400... Training Loss: 1.097828... Validation Loss: 1.097556\n",
            "Epoch: 64/100... Step: 24500... Training Loss: 1.111863... Validation Loss: 1.097551\n",
            "Epoch: 64/100... Step: 24600... Training Loss: 1.070459... Validation Loss: 1.097545\n",
            "Epoch: 64/100... Step: 24700... Training Loss: 1.089368... Validation Loss: 1.097540\n",
            "Epoch: 64/100... Step: 24800... Training Loss: 1.101989... Validation Loss: 1.097535\n",
            "Epoch: 65/100... Step: 24900... Training Loss: 1.098072... Validation Loss: 1.097529\n",
            "Epoch: 65/100... Step: 25000... Training Loss: 1.085216... Validation Loss: 1.097525\n",
            "Epoch: 65/100... Step: 25100... Training Loss: 1.108278... Validation Loss: 1.097520\n",
            "Epoch: 65/100... Step: 25200... Training Loss: 1.102560... Validation Loss: 1.097515\n",
            "Epoch: 66/100... Step: 25300... Training Loss: 1.081439... Validation Loss: 1.097510\n",
            "Epoch: 66/100... Step: 25400... Training Loss: 1.106932... Validation Loss: 1.097505\n",
            "Epoch: 66/100... Step: 25500... Training Loss: 1.104263... Validation Loss: 1.097500\n",
            "Epoch: 66/100... Step: 25600... Training Loss: 1.103569... Validation Loss: 1.097495\n",
            "Epoch: 67/100... Step: 25700... Training Loss: 1.104040... Validation Loss: 1.097489\n",
            "Epoch: 67/100... Step: 25800... Training Loss: 1.095393... Validation Loss: 1.097484\n",
            "Epoch: 67/100... Step: 25900... Training Loss: 1.081287... Validation Loss: 1.097479\n",
            "Epoch: 68/100... Step: 26000... Training Loss: 1.085558... Validation Loss: 1.097475\n",
            "Epoch: 68/100... Step: 26100... Training Loss: 1.088224... Validation Loss: 1.097469\n",
            "Epoch: 68/100... Step: 26200... Training Loss: 1.119202... Validation Loss: 1.097465\n",
            "Epoch: 68/100... Step: 26300... Training Loss: 1.104246... Validation Loss: 1.097460\n",
            "Epoch: 69/100... Step: 26400... Training Loss: 1.089793... Validation Loss: 1.097456\n",
            "Epoch: 69/100... Step: 26500... Training Loss: 1.093349... Validation Loss: 1.097451\n",
            "Epoch: 69/100... Step: 26600... Training Loss: 1.078464... Validation Loss: 1.097446\n",
            "Epoch: 69/100... Step: 26700... Training Loss: 1.072400... Validation Loss: 1.097441\n",
            "Epoch: 70/100... Step: 26800... Training Loss: 1.099390... Validation Loss: 1.097437\n",
            "Epoch: 70/100... Step: 26900... Training Loss: 1.114340... Validation Loss: 1.097432\n",
            "Epoch: 70/100... Step: 27000... Training Loss: 1.096413... Validation Loss: 1.097428\n",
            "Epoch: 70/100... Step: 27100... Training Loss: 1.093440... Validation Loss: 1.097423\n",
            "Epoch: 71/100... Step: 27200... Training Loss: 1.079678... Validation Loss: 1.097419\n",
            "Epoch: 71/100... Step: 27300... Training Loss: 1.127743... Validation Loss: 1.097414\n",
            "Epoch: 71/100... Step: 27400... Training Loss: 1.112431... Validation Loss: 1.097409\n",
            "Epoch: 71/100... Step: 27500... Training Loss: 1.087614... Validation Loss: 1.097404\n",
            "Epoch: 72/100... Step: 27600... Training Loss: 1.109250... Validation Loss: 1.097399\n",
            "Epoch: 72/100... Step: 27700... Training Loss: 1.112624... Validation Loss: 1.097395\n",
            "Epoch: 72/100... Step: 27800... Training Loss: 1.095640... Validation Loss: 1.097391\n",
            "Epoch: 72/100... Step: 27900... Training Loss: 1.112178... Validation Loss: 1.097387\n",
            "Epoch: 73/100... Step: 28000... Training Loss: 1.082305... Validation Loss: 1.097382\n",
            "Epoch: 73/100... Step: 28100... Training Loss: 1.076499... Validation Loss: 1.097377\n",
            "Epoch: 73/100... Step: 28200... Training Loss: 1.105901... Validation Loss: 1.097372\n",
            "Epoch: 73/100... Step: 28300... Training Loss: 1.101095... Validation Loss: 1.097368\n",
            "Epoch: 74/100... Step: 28400... Training Loss: 1.077570... Validation Loss: 1.097364\n",
            "Epoch: 74/100... Step: 28500... Training Loss: 1.101224... Validation Loss: 1.097359\n",
            "Epoch: 74/100... Step: 28600... Training Loss: 1.076762... Validation Loss: 1.097355\n",
            "Epoch: 74/100... Step: 28700... Training Loss: 1.072741... Validation Loss: 1.097351\n",
            "Epoch: 75/100... Step: 28800... Training Loss: 1.091622... Validation Loss: 1.097346\n",
            "Epoch: 75/100... Step: 28900... Training Loss: 1.098734... Validation Loss: 1.097342\n",
            "Epoch: 75/100... Step: 29000... Training Loss: 1.098980... Validation Loss: 1.097338\n",
            "Epoch: 75/100... Step: 29100... Training Loss: 1.096861... Validation Loss: 1.097334\n",
            "Epoch: 76/100... Step: 29200... Training Loss: 1.099678... Validation Loss: 1.097330\n",
            "Epoch: 76/100... Step: 29300... Training Loss: 1.108287... Validation Loss: 1.097325\n",
            "Epoch: 76/100... Step: 29400... Training Loss: 1.100270... Validation Loss: 1.097321\n",
            "Epoch: 77/100... Step: 29500... Training Loss: 1.109827... Validation Loss: 1.097317\n",
            "Epoch: 77/100... Step: 29600... Training Loss: 1.095205... Validation Loss: 1.097313\n",
            "Epoch: 77/100... Step: 29700... Training Loss: 1.091161... Validation Loss: 1.097309\n",
            "Epoch: 77/100... Step: 29800... Training Loss: 1.090898... Validation Loss: 1.097306\n",
            "Epoch: 78/100... Step: 29900... Training Loss: 1.109783... Validation Loss: 1.097301\n",
            "Epoch: 78/100... Step: 30000... Training Loss: 1.083263... Validation Loss: 1.097298\n",
            "Epoch: 78/100... Step: 30100... Training Loss: 1.114824... Validation Loss: 1.097294\n",
            "Epoch: 78/100... Step: 30200... Training Loss: 1.081997... Validation Loss: 1.097290\n",
            "Epoch: 79/100... Step: 30300... Training Loss: 1.091338... Validation Loss: 1.097286\n",
            "Epoch: 79/100... Step: 30400... Training Loss: 1.104602... Validation Loss: 1.097281\n",
            "Epoch: 79/100... Step: 30500... Training Loss: 1.090222... Validation Loss: 1.097277\n",
            "Epoch: 79/100... Step: 30600... Training Loss: 1.105795... Validation Loss: 1.097273\n",
            "Epoch: 80/100... Step: 30700... Training Loss: 1.101696... Validation Loss: 1.097269\n",
            "Epoch: 80/100... Step: 30800... Training Loss: 1.087886... Validation Loss: 1.097265\n",
            "Epoch: 80/100... Step: 30900... Training Loss: 1.094168... Validation Loss: 1.097262\n",
            "Epoch: 80/100... Step: 31000... Training Loss: 1.092736... Validation Loss: 1.097258\n",
            "Epoch: 81/100... Step: 31100... Training Loss: 1.094402... Validation Loss: 1.097254\n",
            "Epoch: 81/100... Step: 31200... Training Loss: 1.080218... Validation Loss: 1.097250\n",
            "Epoch: 81/100... Step: 31300... Training Loss: 1.086858... Validation Loss: 1.097246\n",
            "Epoch: 81/100... Step: 31400... Training Loss: 1.083319... Validation Loss: 1.097243\n",
            "Epoch: 82/100... Step: 31500... Training Loss: 1.086048... Validation Loss: 1.097239\n",
            "Epoch: 82/100... Step: 31600... Training Loss: 1.128051... Validation Loss: 1.097236\n",
            "Epoch: 82/100... Step: 31700... Training Loss: 1.080670... Validation Loss: 1.097231\n",
            "Epoch: 82/100... Step: 31800... Training Loss: 1.067571... Validation Loss: 1.097227\n",
            "Epoch: 83/100... Step: 31900... Training Loss: 1.094040... Validation Loss: 1.097223\n",
            "Epoch: 83/100... Step: 32000... Training Loss: 1.069761... Validation Loss: 1.097219\n",
            "Epoch: 83/100... Step: 32100... Training Loss: 1.106467... Validation Loss: 1.097216\n",
            "Epoch: 83/100... Step: 32200... Training Loss: 1.085994... Validation Loss: 1.097212\n",
            "Epoch: 84/100... Step: 32300... Training Loss: 1.087340... Validation Loss: 1.097209\n",
            "Epoch: 84/100... Step: 32400... Training Loss: 1.105004... Validation Loss: 1.097205\n",
            "Epoch: 84/100... Step: 32500... Training Loss: 1.087001... Validation Loss: 1.097201\n",
            "Epoch: 85/100... Step: 32600... Training Loss: 1.076121... Validation Loss: 1.097197\n",
            "Epoch: 85/100... Step: 32700... Training Loss: 1.099267... Validation Loss: 1.097193\n",
            "Epoch: 85/100... Step: 32800... Training Loss: 1.097202... Validation Loss: 1.097189\n",
            "Epoch: 85/100... Step: 32900... Training Loss: 1.099533... Validation Loss: 1.097185\n",
            "Epoch: 86/100... Step: 33000... Training Loss: 1.095263... Validation Loss: 1.097181\n",
            "Epoch: 86/100... Step: 33100... Training Loss: 1.097739... Validation Loss: 1.097178\n",
            "Epoch: 86/100... Step: 33200... Training Loss: 1.082879... Validation Loss: 1.097174\n",
            "Epoch: 86/100... Step: 33300... Training Loss: 1.095263... Validation Loss: 1.097170\n",
            "Epoch: 87/100... Step: 33400... Training Loss: 1.114712... Validation Loss: 1.097165\n",
            "Epoch: 87/100... Step: 33500... Training Loss: 1.082662... Validation Loss: 1.097161\n",
            "Epoch: 87/100... Step: 33600... Training Loss: 1.090488... Validation Loss: 1.097157\n",
            "Epoch: 87/100... Step: 33700... Training Loss: 1.095102... Validation Loss: 1.097153\n",
            "Epoch: 88/100... Step: 33800... Training Loss: 1.095657... Validation Loss: 1.097149\n",
            "Epoch: 88/100... Step: 33900... Training Loss: 1.087952... Validation Loss: 1.097145\n",
            "Epoch: 88/100... Step: 34000... Training Loss: 1.095489... Validation Loss: 1.097140\n",
            "Epoch: 88/100... Step: 34100... Training Loss: 1.114885... Validation Loss: 1.097137\n",
            "Epoch: 89/100... Step: 34200... Training Loss: 1.075461... Validation Loss: 1.097133\n",
            "Epoch: 89/100... Step: 34300... Training Loss: 1.096202... Validation Loss: 1.097130\n",
            "Epoch: 89/100... Step: 34400... Training Loss: 1.103366... Validation Loss: 1.097126\n",
            "Epoch: 89/100... Step: 34500... Training Loss: 1.070308... Validation Loss: 1.097121\n",
            "Epoch: 90/100... Step: 34600... Training Loss: 1.094667... Validation Loss: 1.097117\n",
            "Epoch: 90/100... Step: 34700... Training Loss: 1.105907... Validation Loss: 1.097113\n",
            "Epoch: 90/100... Step: 34800... Training Loss: 1.124987... Validation Loss: 1.097110\n",
            "Epoch: 90/100... Step: 34900... Training Loss: 1.089678... Validation Loss: 1.097106\n",
            "Epoch: 91/100... Step: 35000... Training Loss: 1.095778... Validation Loss: 1.097102\n",
            "Epoch: 91/100... Step: 35100... Training Loss: 1.103140... Validation Loss: 1.097098\n",
            "Epoch: 91/100... Step: 35200... Training Loss: 1.086454... Validation Loss: 1.097094\n",
            "Epoch: 91/100... Step: 35300... Training Loss: 1.096324... Validation Loss: 1.097091\n",
            "Epoch: 92/100... Step: 35400... Training Loss: 1.104591... Validation Loss: 1.097087\n",
            "Epoch: 92/100... Step: 35500... Training Loss: 1.096254... Validation Loss: 1.097083\n",
            "Epoch: 92/100... Step: 35600... Training Loss: 1.093538... Validation Loss: 1.097079\n",
            "Epoch: 93/100... Step: 35700... Training Loss: 1.092482... Validation Loss: 1.097076\n",
            "Epoch: 93/100... Step: 35800... Training Loss: 1.103925... Validation Loss: 1.097072\n",
            "Epoch: 93/100... Step: 35900... Training Loss: 1.069317... Validation Loss: 1.097068\n",
            "Epoch: 93/100... Step: 36000... Training Loss: 1.096199... Validation Loss: 1.097064\n",
            "Epoch: 94/100... Step: 36100... Training Loss: 1.095023... Validation Loss: 1.097060\n",
            "Epoch: 94/100... Step: 36200... Training Loss: 1.067177... Validation Loss: 1.097056\n",
            "Epoch: 94/100... Step: 36300... Training Loss: 1.098197... Validation Loss: 1.097053\n",
            "Epoch: 94/100... Step: 36400... Training Loss: 1.099443... Validation Loss: 1.097049\n",
            "Epoch: 95/100... Step: 36500... Training Loss: 1.092409... Validation Loss: 1.097045\n",
            "Epoch: 95/100... Step: 36600... Training Loss: 1.114606... Validation Loss: 1.097042\n",
            "Epoch: 95/100... Step: 36700... Training Loss: 1.093469... Validation Loss: 1.097038\n",
            "Epoch: 95/100... Step: 36800... Training Loss: 1.089748... Validation Loss: 1.097033\n",
            "Epoch: 96/100... Step: 36900... Training Loss: 1.060667... Validation Loss: 1.097029\n",
            "Epoch: 96/100... Step: 37000... Training Loss: 1.093712... Validation Loss: 1.097026\n",
            "Epoch: 96/100... Step: 37100... Training Loss: 1.072926... Validation Loss: 1.097022\n",
            "Epoch: 96/100... Step: 37200... Training Loss: 1.101901... Validation Loss: 1.097018\n",
            "Epoch: 97/100... Step: 37300... Training Loss: 1.095049... Validation Loss: 1.097014\n",
            "Epoch: 97/100... Step: 37400... Training Loss: 1.114695... Validation Loss: 1.097011\n",
            "Epoch: 97/100... Step: 37500... Training Loss: 1.093688... Validation Loss: 1.097007\n",
            "Epoch: 97/100... Step: 37600... Training Loss: 1.106460... Validation Loss: 1.097004\n",
            "Epoch: 98/100... Step: 37700... Training Loss: 1.084300... Validation Loss: 1.097000\n",
            "Epoch: 98/100... Step: 37800... Training Loss: 1.066091... Validation Loss: 1.096995\n",
            "Epoch: 98/100... Step: 37900... Training Loss: 1.071912... Validation Loss: 1.096991\n",
            "Epoch: 98/100... Step: 38000... Training Loss: 1.073200... Validation Loss: 1.096987\n",
            "Epoch: 99/100... Step: 38100... Training Loss: 1.110397... Validation Loss: 1.096983\n",
            "Epoch: 99/100... Step: 38200... Training Loss: 1.106903... Validation Loss: 1.096979\n",
            "Epoch: 99/100... Step: 38300... Training Loss: 1.100253... Validation Loss: 1.096975\n",
            "Epoch: 99/100... Step: 38400... Training Loss: 1.101529... Validation Loss: 1.096972\n",
            "Epoch: 100/100... Step: 38500... Training Loss: 1.092641... Validation Loss: 1.096967\n",
            "Epoch: 100/100... Step: 38600... Training Loss: 1.075506... Validation Loss: 1.096963\n",
            "Epoch: 100/100... Step: 38700... Training Loss: 1.085718... Validation Loss: 1.096959\n",
            "Epoch: 100/100... Step: 38800... Training Loss: 1.129286... Validation Loss: 1.096955\n"
          ]
        }
      ]
    },
    {
      "cell_type": "markdown",
      "source": [
        "3.3.3 Training and Validation plot"
      ],
      "metadata": {
        "id": "CPVdbftoK8T4"
      }
    },
    {
      "cell_type": "code",
      "source": [
        "plt.plot(bilstm_train_losses, color=\"blue\")\n",
        "plt.plot(bilstm_validation_losses, color=\"red\")\n",
        "plt.ylim(-0.5, 2)\n",
        "plt.xlabel(\"Loss every 50 steps\")\n",
        "plt.ylabel(\"loss\")\n",
        "plt.legend([\"train_loss\", \"validation_loss\"])\n",
        "plt.show()"
      ],
      "metadata": {
        "colab": {
          "base_uri": "https://localhost:8080/",
          "height": 283
        },
        "id": "HeaSjFcxK_Ru",
        "outputId": "32b12d87-e185-4c0e-c7b0-7d7383ce36f8"
      },
      "execution_count": 47,
      "outputs": [
        {
          "output_type": "display_data",
          "data": {
            "text/plain": [
              "<Figure size 432x288 with 1 Axes>"
            ],
            "image/png": "[encoded data removed]"
          },
          "metadata": {
            "needs_background": "light"
          }
        }
      ]
    },
    {
      "cell_type": "markdown",
      "source": [
        "3.3.3 Saving BiLSTM model"
      ],
      "metadata": {
        "id": "UsOqqySCFBma"
      }
    },
    {
      "cell_type": "code",
      "source": [
        "from joblib import dump, load\n",
        "\n",
        "bilstm_save_filename = os.getcwd() + \"/bilstm_model.joblib\"\n",
        "dump(bilstm_model, bilstm_save_filename)"
      ],
      "metadata": {
        "colab": {
          "base_uri": "https://localhost:8080/"
        },
        "id": "mMVieu5zE49r",
        "outputId": "2cef5372-1eb5-4898-8454-7a58708d3e60"
      },
      "execution_count": 50,
      "outputs": [
        {
          "output_type": "execute_result",
          "data": {
            "text/plain": [
              "['/content/bilstm_model.joblib']"
            ]
          },
          "metadata": {},
          "execution_count": 50
        }
      ]
    },
    {
      "cell_type": "markdown",
      "source": [
        "3.3.4 Testing Phase"
      ],
      "metadata": {
        "id": "UnkvLLsm8NA7"
      }
    },
    {
      "cell_type": "code",
      "source": [
        "bilstm_y_pred, bilstm_y_true = testing(bilstm_model, test_loader, batch_size = batch_size)"
      ],
      "metadata": {
        "id": "Aqfguymj8MRK"
      },
      "execution_count": 51,
      "outputs": []
    },
    {
      "cell_type": "markdown",
      "source": [
        "3.3.5 Results"
      ],
      "metadata": {
        "id": "WHgI94eD8fGy"
      }
    },
    {
      "cell_type": "code",
      "source": [
        "print_classification_report(bilstm_y_pred, bilstm_y_true, title = \"BiLSTM\")"
      ],
      "metadata": {
        "colab": {
          "base_uri": "https://localhost:8080/",
          "height": 620
        },
        "id": "Cm9R3s8G8gWn",
        "outputId": "fa54b729-d29c-42ee-b1e1-dbe3a3443651"
      },
      "execution_count": 52,
      "outputs": [
        {
          "output_type": "display_data",
          "data": {
            "text/plain": [
              "<Figure size 432x432 with 1 Axes>"
            ],
            "image/png": "[encoded data removed]"
          },
          "metadata": {
            "needs_background": "light"
          }
        },
        {
          "output_type": "stream",
          "name": "stdout",
          "text": [
            "\n",
            "\n",
            "Classification report for BiLSTM\n",
            "---------------------------------------------------------------------------\n",
            "Accuracy: 35.62%\n",
            "Precision: 40.48%\n",
            "Recall: 35.62%\n",
            "F1 score: 33.60%\n",
            "---------------------------------------------------------------------------\n",
            "\n",
            "\n",
            "\n"
          ]
        }
      ]
    }
  ],
  "metadata": {
    "accelerator": "GPU",
    "colab": {
      "collapsed_sections": [
        "K3PVEukD0WuQ"
      ],
      "machine_shape": "hm",
      "name": "W22_COMP6321_Project.ipynb",
      "provenance": []
    },
    "kernelspec": {
      "display_name": "Python 3",
      "name": "python3"
    },
    "language_info": {
      "name": "python"
    },
    "widgets": {
      "application/vnd.jupyter.widget-state+json": {
        "2be68d0b6386423489315c818fc09363": {
          "model_module": "@jupyter-widgets/controls",
          "model_name": "HBoxModel",
          "model_module_version": "1.5.0",
          "state": {
            "_dom_classes": [],
            "_model_module": "@jupyter-widgets/controls",
            "_model_module_version": "1.5.0",
            "_model_name": "HBoxModel",
            "_view_count": null,
            "_view_module": "@jupyter-widgets/controls",
            "_view_module_version": "1.5.0",
            "_view_name": "HBoxView",
            "box_style": "",
            "children": [
              "IPY_MODEL_7350e0e202a648378913e8ee8b0b07be",
              "IPY_MODEL_7935f53fdcbd4c17a1ec0414363bab0c",
              "IPY_MODEL_c61c2247d6464417b74e574532a6ba38"
            ],
            "layout": "IPY_MODEL_1d7d76fd7e774accb1928e80de543eac"
          }
        },
        "7350e0e202a648378913e8ee8b0b07be": {
          "model_module": "@jupyter-widgets/controls",
          "model_name": "HTMLModel",
          "model_module_version": "1.5.0",
          "state": {
            "_dom_classes": [],
            "_model_module": "@jupyter-widgets/controls",
            "_model_module_version": "1.5.0",
            "_model_name": "HTMLModel",
            "_view_count": null,
            "_view_module": "@jupyter-widgets/controls",
            "_view_module_version": "1.5.0",
            "_view_name": "HTMLView",
            "description": "",
            "description_tooltip": null,
            "layout": "IPY_MODEL_c1758decd7b24b07b4323c4a7c4c94e7",
            "placeholder": "​",
            "style": "IPY_MODEL_6dee3b3596f449e08787b9a023547cdd",
            "value": "100%"
          }
        },
        "7935f53fdcbd4c17a1ec0414363bab0c": {
          "model_module": "@jupyter-widgets/controls",
          "model_name": "FloatProgressModel",
          "model_module_version": "1.5.0",
          "state": {
            "_dom_classes": [],
            "_model_module": "@jupyter-widgets/controls",
            "_model_module_version": "1.5.0",
            "_model_name": "FloatProgressModel",
            "_view_count": null,
            "_view_module": "@jupyter-widgets/controls",
            "_view_module_version": "1.5.0",
            "_view_name": "ProgressView",
            "bar_style": "success",
            "description": "",
            "description_tooltip": null,
            "layout": "IPY_MODEL_dc46e1823da14837b5a4678bdae32f35",
            "max": 1,
            "min": 0,
            "orientation": "horizontal",
            "style": "IPY_MODEL_9e641a3017c1492c8a041a46bc3c4e3c",
            "value": 1
          }
        },
        "c61c2247d6464417b74e574532a6ba38": {
          "model_module": "@jupyter-widgets/controls",
          "model_name": "HTMLModel",
          "model_module_version": "1.5.0",
          "state": {
            "_dom_classes": [],
            "_model_module": "@jupyter-widgets/controls",
            "_model_module_version": "1.5.0",
            "_model_name": "HTMLModel",
            "_view_count": null,
            "_view_module": "@jupyter-widgets/controls",
            "_view_module_version": "1.5.0",
            "_view_name": "HTMLView",
            "description": "",
            "description_tooltip": null,
            "layout": "IPY_MODEL_fd9d39d5c60949699215c68edf107381",
            "placeholder": "​",
            "style": "IPY_MODEL_ff30b46cfcc24f81a8a4ef73c7653d57",
            "value": " 1/1 [00:03&lt;00:00,  3.44s/ba]"
          }
        },
        "1d7d76fd7e774accb1928e80de543eac": {
          "model_module": "@jupyter-widgets/base",
          "model_name": "LayoutModel",
          "model_module_version": "1.2.0",
          "state": {
            "_model_module": "@jupyter-widgets/base",
            "_model_module_version": "1.2.0",
            "_model_name": "LayoutModel",
            "_view_count": null,
            "_view_module": "@jupyter-widgets/base",
            "_view_module_version": "1.2.0",
            "_view_name": "LayoutView",
            "align_content": null,
            "align_items": null,
            "align_self": null,
            "border": null,
            "bottom": null,
            "display": null,
            "flex": null,
            "flex_flow": null,
            "grid_area": null,
            "grid_auto_columns": null,
            "grid_auto_flow": null,
            "grid_auto_rows": null,
            "grid_column": null,
            "grid_gap": null,
            "grid_row": null,
            "grid_template_areas": null,
            "grid_template_columns": null,
            "grid_template_rows": null,
            "height": null,
            "justify_content": null,
            "justify_items": null,
            "left": null,
            "margin": null,
            "max_height": null,
            "max_width": null,
            "min_height": null,
            "min_width": null,
            "object_fit": null,
            "object_position": null,
            "order": null,
            "overflow": null,
            "overflow_x": null,
            "overflow_y": null,
            "padding": null,
            "right": null,
            "top": null,
            "visibility": null,
            "width": null
          }
        },
        "c1758decd7b24b07b4323c4a7c4c94e7": {
          "model_module": "@jupyter-widgets/base",
          "model_name": "LayoutModel",
          "model_module_version": "1.2.0",
          "state": {
            "_model_module": "@jupyter-widgets/base",
            "_model_module_version": "1.2.0",
            "_model_name": "LayoutModel",
            "_view_count": null,
            "_view_module": "@jupyter-widgets/base",
            "_view_module_version": "1.2.0",
            "_view_name": "LayoutView",
            "align_content": null,
            "align_items": null,
            "align_self": null,
            "border": null,
            "bottom": null,
            "display": null,
            "flex": null,
            "flex_flow": null,
            "grid_area": null,
            "grid_auto_columns": null,
            "grid_auto_flow": null,
            "grid_auto_rows": null,
            "grid_column": null,
            "grid_gap": null,
            "grid_row": null,
            "grid_template_areas": null,
            "grid_template_columns": null,
            "grid_template_rows": null,
            "height": null,
            "justify_content": null,
            "justify_items": null,
            "left": null,
            "margin": null,
            "max_height": null,
            "max_width": null,
            "min_height": null,
            "min_width": null,
            "object_fit": null,
            "object_position": null,
            "order": null,
            "overflow": null,
            "overflow_x": null,
            "overflow_y": null,
            "padding": null,
            "right": null,
            "top": null,
            "visibility": null,
            "width": null
          }
        },
        "6dee3b3596f449e08787b9a023547cdd": {
          "model_module": "@jupyter-widgets/controls",
          "model_name": "DescriptionStyleModel",
          "model_module_version": "1.5.0",
          "state": {
            "_model_module": "@jupyter-widgets/controls",
            "_model_module_version": "1.5.0",
            "_model_name": "DescriptionStyleModel",
            "_view_count": null,
            "_view_module": "@jupyter-widgets/base",
            "_view_module_version": "1.2.0",
            "_view_name": "StyleView",
            "description_width": ""
          }
        },
        "dc46e1823da14837b5a4678bdae32f35": {
          "model_module": "@jupyter-widgets/base",
          "model_name": "LayoutModel",
          "model_module_version": "1.2.0",
          "state": {
            "_model_module": "@jupyter-widgets/base",
            "_model_module_version": "1.2.0",
            "_model_name": "LayoutModel",
            "_view_count": null,
            "_view_module": "@jupyter-widgets/base",
            "_view_module_version": "1.2.0",
            "_view_name": "LayoutView",
            "align_content": null,
            "align_items": null,
            "align_self": null,
            "border": null,
            "bottom": null,
            "display": null,
            "flex": null,
            "flex_flow": null,
            "grid_area": null,
            "grid_auto_columns": null,
            "grid_auto_flow": null,
            "grid_auto_rows": null,
            "grid_column": null,
            "grid_gap": null,
            "grid_row": null,
            "grid_template_areas": null,
            "grid_template_columns": null,
            "grid_template_rows": null,
            "height": null,
            "justify_content": null,
            "justify_items": null,
            "left": null,
            "margin": null,
            "max_height": null,
            "max_width": null,
            "min_height": null,
            "min_width": null,
            "object_fit": null,
            "object_position": null,
            "order": null,
            "overflow": null,
            "overflow_x": null,
            "overflow_y": null,
            "padding": null,
            "right": null,
            "top": null,
            "visibility": null,
            "width": null
          }
        },
        "9e641a3017c1492c8a041a46bc3c4e3c": {
          "model_module": "@jupyter-widgets/controls",
          "model_name": "ProgressStyleModel",
          "model_module_version": "1.5.0",
          "state": {
            "_model_module": "@jupyter-widgets/controls",
            "_model_module_version": "1.5.0",
            "_model_name": "ProgressStyleModel",
            "_view_count": null,
            "_view_module": "@jupyter-widgets/base",
            "_view_module_version": "1.2.0",
            "_view_name": "StyleView",
            "bar_color": null,
            "description_width": ""
          }
        },
        "fd9d39d5c60949699215c68edf107381": {
          "model_module": "@jupyter-widgets/base",
          "model_name": "LayoutModel",
          "model_module_version": "1.2.0",
          "state": {
            "_model_module": "@jupyter-widgets/base",
            "_model_module_version": "1.2.0",
            "_model_name": "LayoutModel",
            "_view_count": null,
            "_view_module": "@jupyter-widgets/base",
            "_view_module_version": "1.2.0",
            "_view_name": "LayoutView",
            "align_content": null,
            "align_items": null,
            "align_self": null,
            "border": null,
            "bottom": null,
            "display": null,
            "flex": null,
            "flex_flow": null,
            "grid_area": null,
            "grid_auto_columns": null,
            "grid_auto_flow": null,
            "grid_auto_rows": null,
            "grid_column": null,
            "grid_gap": null,
            "grid_row": null,
            "grid_template_areas": null,
            "grid_template_columns": null,
            "grid_template_rows": null,
            "height": null,
            "justify_content": null,
            "justify_items": null,
            "left": null,
            "margin": null,
            "max_height": null,
            "max_width": null,
            "min_height": null,
            "min_width": null,
            "object_fit": null,
            "object_position": null,
            "order": null,
            "overflow": null,
            "overflow_x": null,
            "overflow_y": null,
            "padding": null,
            "right": null,
            "top": null,
            "visibility": null,
            "width": null
          }
        },
        "ff30b46cfcc24f81a8a4ef73c7653d57": {
          "model_module": "@jupyter-widgets/controls",
          "model_name": "DescriptionStyleModel",
          "model_module_version": "1.5.0",
          "state": {
            "_model_module": "@jupyter-widgets/controls",
            "_model_module_version": "1.5.0",
            "_model_name": "DescriptionStyleModel",
            "_view_count": null,
            "_view_module": "@jupyter-widgets/base",
            "_view_module_version": "1.2.0",
            "_view_name": "StyleView",
            "description_width": ""
          }
        },
        "8e2409a8924c4125aebc36aa88b4c3b2": {
          "model_module": "@jupyter-widgets/controls",
          "model_name": "HBoxModel",
          "model_module_version": "1.5.0",
          "state": {
            "_dom_classes": [],
            "_model_module": "@jupyter-widgets/controls",
            "_model_module_version": "1.5.0",
            "_model_name": "HBoxModel",
            "_view_count": null,
            "_view_module": "@jupyter-widgets/controls",
            "_view_module_version": "1.5.0",
            "_view_name": "HBoxView",
            "box_style": "",
            "children": [
              "IPY_MODEL_44b99c74e25a405094d8493f936c5ead",
              "IPY_MODEL_38a11e697c854883b9a0c928ae690793",
              "IPY_MODEL_b917aad1fb854be8930112ffad6061fa"
            ],
            "layout": "IPY_MODEL_b9ee45b7159f49c6be91cb27d7c7df7f"
          }
        },
        "44b99c74e25a405094d8493f936c5ead": {
          "model_module": "@jupyter-widgets/controls",
          "model_name": "HTMLModel",
          "model_module_version": "1.5.0",
          "state": {
            "_dom_classes": [],
            "_model_module": "@jupyter-widgets/controls",
            "_model_module_version": "1.5.0",
            "_model_name": "HTMLModel",
            "_view_count": null,
            "_view_module": "@jupyter-widgets/controls",
            "_view_module_version": "1.5.0",
            "_view_name": "HTMLView",
            "description": "",
            "description_tooltip": null,
            "layout": "IPY_MODEL_c91d9b63f25144ba807c3a721062536b",
            "placeholder": "​",
            "style": "IPY_MODEL_8a02dc1d5a9b40e9870f161da4446acf",
            "value": "100%"
          }
        },
        "38a11e697c854883b9a0c928ae690793": {
          "model_module": "@jupyter-widgets/controls",
          "model_name": "FloatProgressModel",
          "model_module_version": "1.5.0",
          "state": {
            "_dom_classes": [],
            "_model_module": "@jupyter-widgets/controls",
            "_model_module_version": "1.5.0",
            "_model_name": "FloatProgressModel",
            "_view_count": null,
            "_view_module": "@jupyter-widgets/controls",
            "_view_module_version": "1.5.0",
            "_view_name": "ProgressView",
            "bar_style": "success",
            "description": "",
            "description_tooltip": null,
            "layout": "IPY_MODEL_a3d8fadf7a0b4d2a886872d9930d75f3",
            "max": 1,
            "min": 0,
            "orientation": "horizontal",
            "style": "IPY_MODEL_3e0d2289cd7947729f3b71d5e5aad576",
            "value": 1
          }
        },
        "b917aad1fb854be8930112ffad6061fa": {
          "model_module": "@jupyter-widgets/controls",
          "model_name": "HTMLModel",
          "model_module_version": "1.5.0",
          "state": {
            "_dom_classes": [],
            "_model_module": "@jupyter-widgets/controls",
            "_model_module_version": "1.5.0",
            "_model_name": "HTMLModel",
            "_view_count": null,
            "_view_module": "@jupyter-widgets/controls",
            "_view_module_version": "1.5.0",
            "_view_name": "HTMLView",
            "description": "",
            "description_tooltip": null,
            "layout": "IPY_MODEL_8d03bef2dcf54b46afaa763e8a4064d0",
            "placeholder": "​",
            "style": "IPY_MODEL_f64562bdc47e45d5a2887eb90ef40db4",
            "value": " 1/1 [00:00&lt;00:00,  1.46ba/s]"
          }
        },
        "b9ee45b7159f49c6be91cb27d7c7df7f": {
          "model_module": "@jupyter-widgets/base",
          "model_name": "LayoutModel",
          "model_module_version": "1.2.0",
          "state": {
            "_model_module": "@jupyter-widgets/base",
            "_model_module_version": "1.2.0",
            "_model_name": "LayoutModel",
            "_view_count": null,
            "_view_module": "@jupyter-widgets/base",
            "_view_module_version": "1.2.0",
            "_view_name": "LayoutView",
            "align_content": null,
            "align_items": null,
            "align_self": null,
            "border": null,
            "bottom": null,
            "display": null,
            "flex": null,
            "flex_flow": null,
            "grid_area": null,
            "grid_auto_columns": null,
            "grid_auto_flow": null,
            "grid_auto_rows": null,
            "grid_column": null,
            "grid_gap": null,
            "grid_row": null,
            "grid_template_areas": null,
            "grid_template_columns": null,
            "grid_template_rows": null,
            "height": null,
            "justify_content": null,
            "justify_items": null,
            "left": null,
            "margin": null,
            "max_height": null,
            "max_width": null,
            "min_height": null,
            "min_width": null,
            "object_fit": null,
            "object_position": null,
            "order": null,
            "overflow": null,
            "overflow_x": null,
            "overflow_y": null,
            "padding": null,
            "right": null,
            "top": null,
            "visibility": null,
            "width": null
          }
        },
        "c91d9b63f25144ba807c3a721062536b": {
          "model_module": "@jupyter-widgets/base",
          "model_name": "LayoutModel",
          "model_module_version": "1.2.0",
          "state": {
            "_model_module": "@jupyter-widgets/base",
            "_model_module_version": "1.2.0",
            "_model_name": "LayoutModel",
            "_view_count": null,
            "_view_module": "@jupyter-widgets/base",
            "_view_module_version": "1.2.0",
            "_view_name": "LayoutView",
            "align_content": null,
            "align_items": null,
            "align_self": null,
            "border": null,
            "bottom": null,
            "display": null,
            "flex": null,
            "flex_flow": null,
            "grid_area": null,
            "grid_auto_columns": null,
            "grid_auto_flow": null,
            "grid_auto_rows": null,
            "grid_column": null,
            "grid_gap": null,
            "grid_row": null,
            "grid_template_areas": null,
            "grid_template_columns": null,
            "grid_template_rows": null,
            "height": null,
            "justify_content": null,
            "justify_items": null,
            "left": null,
            "margin": null,
            "max_height": null,
            "max_width": null,
            "min_height": null,
            "min_width": null,
            "object_fit": null,
            "object_position": null,
            "order": null,
            "overflow": null,
            "overflow_x": null,
            "overflow_y": null,
            "padding": null,
            "right": null,
            "top": null,
            "visibility": null,
            "width": null
          }
        },
        "8a02dc1d5a9b40e9870f161da4446acf": {
          "model_module": "@jupyter-widgets/controls",
          "model_name": "DescriptionStyleModel",
          "model_module_version": "1.5.0",
          "state": {
            "_model_module": "@jupyter-widgets/controls",
            "_model_module_version": "1.5.0",
            "_model_name": "DescriptionStyleModel",
            "_view_count": null,
            "_view_module": "@jupyter-widgets/base",
            "_view_module_version": "1.2.0",
            "_view_name": "StyleView",
            "description_width": ""
          }
        },
        "a3d8fadf7a0b4d2a886872d9930d75f3": {
          "model_module": "@jupyter-widgets/base",
          "model_name": "LayoutModel",
          "model_module_version": "1.2.0",
          "state": {
            "_model_module": "@jupyter-widgets/base",
            "_model_module_version": "1.2.0",
            "_model_name": "LayoutModel",
            "_view_count": null,
            "_view_module": "@jupyter-widgets/base",
            "_view_module_version": "1.2.0",
            "_view_name": "LayoutView",
            "align_content": null,
            "align_items": null,
            "align_self": null,
            "border": null,
            "bottom": null,
            "display": null,
            "flex": null,
            "flex_flow": null,
            "grid_area": null,
            "grid_auto_columns": null,
            "grid_auto_flow": null,
            "grid_auto_rows": null,
            "grid_column": null,
            "grid_gap": null,
            "grid_row": null,
            "grid_template_areas": null,
            "grid_template_columns": null,
            "grid_template_rows": null,
            "height": null,
            "justify_content": null,
            "justify_items": null,
            "left": null,
            "margin": null,
            "max_height": null,
            "max_width": null,
            "min_height": null,
            "min_width": null,
            "object_fit": null,
            "object_position": null,
            "order": null,
            "overflow": null,
            "overflow_x": null,
            "overflow_y": null,
            "padding": null,
            "right": null,
            "top": null,
            "visibility": null,
            "width": null
          }
        },
        "3e0d2289cd7947729f3b71d5e5aad576": {
          "model_module": "@jupyter-widgets/controls",
          "model_name": "ProgressStyleModel",
          "model_module_version": "1.5.0",
          "state": {
            "_model_module": "@jupyter-widgets/controls",
            "_model_module_version": "1.5.0",
            "_model_name": "ProgressStyleModel",
            "_view_count": null,
            "_view_module": "@jupyter-widgets/base",
            "_view_module_version": "1.2.0",
            "_view_name": "StyleView",
            "bar_color": null,
            "description_width": ""
          }
        },
        "8d03bef2dcf54b46afaa763e8a4064d0": {
          "model_module": "@jupyter-widgets/base",
          "model_name": "LayoutModel",
          "model_module_version": "1.2.0",
          "state": {
            "_model_module": "@jupyter-widgets/base",
            "_model_module_version": "1.2.0",
            "_model_name": "LayoutModel",
            "_view_count": null,
            "_view_module": "@jupyter-widgets/base",
            "_view_module_version": "1.2.0",
            "_view_name": "LayoutView",
            "align_content": null,
            "align_items": null,
            "align_self": null,
            "border": null,
            "bottom": null,
            "display": null,
            "flex": null,
            "flex_flow": null,
            "grid_area": null,
            "grid_auto_columns": null,
            "grid_auto_flow": null,
            "grid_auto_rows": null,
            "grid_column": null,
            "grid_gap": null,
            "grid_row": null,
            "grid_template_areas": null,
            "grid_template_columns": null,
            "grid_template_rows": null,
            "height": null,
            "justify_content": null,
            "justify_items": null,
            "left": null,
            "margin": null,
            "max_height": null,
            "max_width": null,
            "min_height": null,
            "min_width": null,
            "object_fit": null,
            "object_position": null,
            "order": null,
            "overflow": null,
            "overflow_x": null,
            "overflow_y": null,
            "padding": null,
            "right": null,
            "top": null,
            "visibility": null,
            "width": null
          }
        },
        "f64562bdc47e45d5a2887eb90ef40db4": {
          "model_module": "@jupyter-widgets/controls",
          "model_name": "DescriptionStyleModel",
          "model_module_version": "1.5.0",
          "state": {
            "_model_module": "@jupyter-widgets/controls",
            "_model_module_version": "1.5.0",
            "_model_name": "DescriptionStyleModel",
            "_view_count": null,
            "_view_module": "@jupyter-widgets/base",
            "_view_module_version": "1.2.0",
            "_view_name": "StyleView",
            "description_width": ""
          }
        },
        "f7bfc1402f744d04a137d7970f054e80": {
          "model_module": "@jupyter-widgets/controls",
          "model_name": "HBoxModel",
          "model_module_version": "1.5.0",
          "state": {
            "_dom_classes": [],
            "_model_module": "@jupyter-widgets/controls",
            "_model_module_version": "1.5.0",
            "_model_name": "HBoxModel",
            "_view_count": null,
            "_view_module": "@jupyter-widgets/controls",
            "_view_module_version": "1.5.0",
            "_view_name": "HBoxView",
            "box_style": "",
            "children": [
              "IPY_MODEL_ad0b54c049f44ac799aecba3fafe3ee3",
              "IPY_MODEL_394b8e5fbe1a42d890cc7b6e265bffcb",
              "IPY_MODEL_391e8922bea3457cbef8f4e7dc4fd774"
            ],
            "layout": "IPY_MODEL_d15e3deecc194696b7f3d77dd496cddd"
          }
        },
        "ad0b54c049f44ac799aecba3fafe3ee3": {
          "model_module": "@jupyter-widgets/controls",
          "model_name": "HTMLModel",
          "model_module_version": "1.5.0",
          "state": {
            "_dom_classes": [],
            "_model_module": "@jupyter-widgets/controls",
            "_model_module_version": "1.5.0",
            "_model_name": "HTMLModel",
            "_view_count": null,
            "_view_module": "@jupyter-widgets/controls",
            "_view_module_version": "1.5.0",
            "_view_name": "HTMLView",
            "description": "",
            "description_tooltip": null,
            "layout": "IPY_MODEL_137af4f89cd8453bb74aafa67a62049b",
            "placeholder": "​",
            "style": "IPY_MODEL_08bf7897f58142658ff5d3c78774ff53",
            "value": "100%"
          }
        },
        "394b8e5fbe1a42d890cc7b6e265bffcb": {
          "model_module": "@jupyter-widgets/controls",
          "model_name": "FloatProgressModel",
          "model_module_version": "1.5.0",
          "state": {
            "_dom_classes": [],
            "_model_module": "@jupyter-widgets/controls",
            "_model_module_version": "1.5.0",
            "_model_name": "FloatProgressModel",
            "_view_count": null,
            "_view_module": "@jupyter-widgets/controls",
            "_view_module_version": "1.5.0",
            "_view_name": "ProgressView",
            "bar_style": "success",
            "description": "",
            "description_tooltip": null,
            "layout": "IPY_MODEL_c11f0343de8641b5bc58c19ad50912c2",
            "max": 23,
            "min": 0,
            "orientation": "horizontal",
            "style": "IPY_MODEL_bb38b46492a34a6bb4d05241c3aa9b23",
            "value": 23
          }
        },
        "391e8922bea3457cbef8f4e7dc4fd774": {
          "model_module": "@jupyter-widgets/controls",
          "model_name": "HTMLModel",
          "model_module_version": "1.5.0",
          "state": {
            "_dom_classes": [],
            "_model_module": "@jupyter-widgets/controls",
            "_model_module_version": "1.5.0",
            "_model_name": "HTMLModel",
            "_view_count": null,
            "_view_module": "@jupyter-widgets/controls",
            "_view_module_version": "1.5.0",
            "_view_name": "HTMLView",
            "description": "",
            "description_tooltip": null,
            "layout": "IPY_MODEL_d496144fe2f94a638b418238263778bc",
            "placeholder": "​",
            "style": "IPY_MODEL_67d5e4a1f72c4cbebb5ea87ac75d7f73",
            "value": " 23/23 [01:13&lt;00:00,  2.54s/ba]"
          }
        },
        "d15e3deecc194696b7f3d77dd496cddd": {
          "model_module": "@jupyter-widgets/base",
          "model_name": "LayoutModel",
          "model_module_version": "1.2.0",
          "state": {
            "_model_module": "@jupyter-widgets/base",
            "_model_module_version": "1.2.0",
            "_model_name": "LayoutModel",
            "_view_count": null,
            "_view_module": "@jupyter-widgets/base",
            "_view_module_version": "1.2.0",
            "_view_name": "LayoutView",
            "align_content": null,
            "align_items": null,
            "align_self": null,
            "border": null,
            "bottom": null,
            "display": null,
            "flex": null,
            "flex_flow": null,
            "grid_area": null,
            "grid_auto_columns": null,
            "grid_auto_flow": null,
            "grid_auto_rows": null,
            "grid_column": null,
            "grid_gap": null,
            "grid_row": null,
            "grid_template_areas": null,
            "grid_template_columns": null,
            "grid_template_rows": null,
            "height": null,
            "justify_content": null,
            "justify_items": null,
            "left": null,
            "margin": null,
            "max_height": null,
            "max_width": null,
            "min_height": null,
            "min_width": null,
            "object_fit": null,
            "object_position": null,
            "order": null,
            "overflow": null,
            "overflow_x": null,
            "overflow_y": null,
            "padding": null,
            "right": null,
            "top": null,
            "visibility": null,
            "width": null
          }
        },
        "137af4f89cd8453bb74aafa67a62049b": {
          "model_module": "@jupyter-widgets/base",
          "model_name": "LayoutModel",
          "model_module_version": "1.2.0",
          "state": {
            "_model_module": "@jupyter-widgets/base",
            "_model_module_version": "1.2.0",
            "_model_name": "LayoutModel",
            "_view_count": null,
            "_view_module": "@jupyter-widgets/base",
            "_view_module_version": "1.2.0",
            "_view_name": "LayoutView",
            "align_content": null,
            "align_items": null,
            "align_self": null,
            "border": null,
            "bottom": null,
            "display": null,
            "flex": null,
            "flex_flow": null,
            "grid_area": null,
            "grid_auto_columns": null,
            "grid_auto_flow": null,
            "grid_auto_rows": null,
            "grid_column": null,
            "grid_gap": null,
            "grid_row": null,
            "grid_template_areas": null,
            "grid_template_columns": null,
            "grid_template_rows": null,
            "height": null,
            "justify_content": null,
            "justify_items": null,
            "left": null,
            "margin": null,
            "max_height": null,
            "max_width": null,
            "min_height": null,
            "min_width": null,
            "object_fit": null,
            "object_position": null,
            "order": null,
            "overflow": null,
            "overflow_x": null,
            "overflow_y": null,
            "padding": null,
            "right": null,
            "top": null,
            "visibility": null,
            "width": null
          }
        },
        "08bf7897f58142658ff5d3c78774ff53": {
          "model_module": "@jupyter-widgets/controls",
          "model_name": "DescriptionStyleModel",
          "model_module_version": "1.5.0",
          "state": {
            "_model_module": "@jupyter-widgets/controls",
            "_model_module_version": "1.5.0",
            "_model_name": "DescriptionStyleModel",
            "_view_count": null,
            "_view_module": "@jupyter-widgets/base",
            "_view_module_version": "1.2.0",
            "_view_name": "StyleView",
            "description_width": ""
          }
        },
        "c11f0343de8641b5bc58c19ad50912c2": {
          "model_module": "@jupyter-widgets/base",
          "model_name": "LayoutModel",
          "model_module_version": "1.2.0",
          "state": {
            "_model_module": "@jupyter-widgets/base",
            "_model_module_version": "1.2.0",
            "_model_name": "LayoutModel",
            "_view_count": null,
            "_view_module": "@jupyter-widgets/base",
            "_view_module_version": "1.2.0",
            "_view_name": "LayoutView",
            "align_content": null,
            "align_items": null,
            "align_self": null,
            "border": null,
            "bottom": null,
            "display": null,
            "flex": null,
            "flex_flow": null,
            "grid_area": null,
            "grid_auto_columns": null,
            "grid_auto_flow": null,
            "grid_auto_rows": null,
            "grid_column": null,
            "grid_gap": null,
            "grid_row": null,
            "grid_template_areas": null,
            "grid_template_columns": null,
            "grid_template_rows": null,
            "height": null,
            "justify_content": null,
            "justify_items": null,
            "left": null,
            "margin": null,
            "max_height": null,
            "max_width": null,
            "min_height": null,
            "min_width": null,
            "object_fit": null,
            "object_position": null,
            "order": null,
            "overflow": null,
            "overflow_x": null,
            "overflow_y": null,
            "padding": null,
            "right": null,
            "top": null,
            "visibility": null,
            "width": null
          }
        },
        "bb38b46492a34a6bb4d05241c3aa9b23": {
          "model_module": "@jupyter-widgets/controls",
          "model_name": "ProgressStyleModel",
          "model_module_version": "1.5.0",
          "state": {
            "_model_module": "@jupyter-widgets/controls",
            "_model_module_version": "1.5.0",
            "_model_name": "ProgressStyleModel",
            "_view_count": null,
            "_view_module": "@jupyter-widgets/base",
            "_view_module_version": "1.2.0",
            "_view_name": "StyleView",
            "bar_color": null,
            "description_width": ""
          }
        },
        "d496144fe2f94a638b418238263778bc": {
          "model_module": "@jupyter-widgets/base",
          "model_name": "LayoutModel",
          "model_module_version": "1.2.0",
          "state": {
            "_model_module": "@jupyter-widgets/base",
            "_model_module_version": "1.2.0",
            "_model_name": "LayoutModel",
            "_view_count": null,
            "_view_module": "@jupyter-widgets/base",
            "_view_module_version": "1.2.0",
            "_view_name": "LayoutView",
            "align_content": null,
            "align_items": null,
            "align_self": null,
            "border": null,
            "bottom": null,
            "display": null,
            "flex": null,
            "flex_flow": null,
            "grid_area": null,
            "grid_auto_columns": null,
            "grid_auto_flow": null,
            "grid_auto_rows": null,
            "grid_column": null,
            "grid_gap": null,
            "grid_row": null,
            "grid_template_areas": null,
            "grid_template_columns": null,
            "grid_template_rows": null,
            "height": null,
            "justify_content": null,
            "justify_items": null,
            "left": null,
            "margin": null,
            "max_height": null,
            "max_width": null,
            "min_height": null,
            "min_width": null,
            "object_fit": null,
            "object_position": null,
            "order": null,
            "overflow": null,
            "overflow_x": null,
            "overflow_y": null,
            "padding": null,
            "right": null,
            "top": null,
            "visibility": null,
            "width": null
          }
        },
        "67d5e4a1f72c4cbebb5ea87ac75d7f73": {
          "model_module": "@jupyter-widgets/controls",
          "model_name": "DescriptionStyleModel",
          "model_module_version": "1.5.0",
          "state": {
            "_model_module": "@jupyter-widgets/controls",
            "_model_module_version": "1.5.0",
            "_model_name": "DescriptionStyleModel",
            "_view_count": null,
            "_view_module": "@jupyter-widgets/base",
            "_view_module_version": "1.2.0",
            "_view_name": "StyleView",
            "description_width": ""
          }
        },
        "658121cbb12146e6a49ba92f38005917": {
          "model_module": "@jupyter-widgets/controls",
          "model_name": "HBoxModel",
          "model_module_version": "1.5.0",
          "state": {
            "_dom_classes": [],
            "_model_module": "@jupyter-widgets/controls",
            "_model_module_version": "1.5.0",
            "_model_name": "HBoxModel",
            "_view_count": null,
            "_view_module": "@jupyter-widgets/controls",
            "_view_module_version": "1.5.0",
            "_view_name": "HBoxView",
            "box_style": "",
            "children": [
              "IPY_MODEL_daf07a96808b4396aacb0332226fd8ea",
              "IPY_MODEL_902eda0ab9364b43b788368b3d6cb089",
              "IPY_MODEL_af1c6d32107d40b88bb5bd3ddcdc72d5"
            ],
            "layout": "IPY_MODEL_b83b4a42c51e456fa1239267c8c26262"
          }
        },
        "daf07a96808b4396aacb0332226fd8ea": {
          "model_module": "@jupyter-widgets/controls",
          "model_name": "HTMLModel",
          "model_module_version": "1.5.0",
          "state": {
            "_dom_classes": [],
            "_model_module": "@jupyter-widgets/controls",
            "_model_module_version": "1.5.0",
            "_model_name": "HTMLModel",
            "_view_count": null,
            "_view_module": "@jupyter-widgets/controls",
            "_view_module_version": "1.5.0",
            "_view_name": "HTMLView",
            "description": "",
            "description_tooltip": null,
            "layout": "IPY_MODEL_a82dda45fcce4af6af19eb6605a4de8e",
            "placeholder": "​",
            "style": "IPY_MODEL_28b5dcc84bec4563abfc0ed190f27c6f",
            "value": "100%"
          }
        },
        "902eda0ab9364b43b788368b3d6cb089": {
          "model_module": "@jupyter-widgets/controls",
          "model_name": "FloatProgressModel",
          "model_module_version": "1.5.0",
          "state": {
            "_dom_classes": [],
            "_model_module": "@jupyter-widgets/controls",
            "_model_module_version": "1.5.0",
            "_model_name": "FloatProgressModel",
            "_view_count": null,
            "_view_module": "@jupyter-widgets/controls",
            "_view_module_version": "1.5.0",
            "_view_name": "ProgressView",
            "bar_style": "success",
            "description": "",
            "description_tooltip": null,
            "layout": "IPY_MODEL_8967b0b791864b67b3b6287b2bff830e",
            "max": 6,
            "min": 0,
            "orientation": "horizontal",
            "style": "IPY_MODEL_b1ce2370cb0940f2a43b149e1ccbfb18",
            "value": 6
          }
        },
        "af1c6d32107d40b88bb5bd3ddcdc72d5": {
          "model_module": "@jupyter-widgets/controls",
          "model_name": "HTMLModel",
          "model_module_version": "1.5.0",
          "state": {
            "_dom_classes": [],
            "_model_module": "@jupyter-widgets/controls",
            "_model_module_version": "1.5.0",
            "_model_name": "HTMLModel",
            "_view_count": null,
            "_view_module": "@jupyter-widgets/controls",
            "_view_module_version": "1.5.0",
            "_view_name": "HTMLView",
            "description": "",
            "description_tooltip": null,
            "layout": "IPY_MODEL_628a6af014de4b5e9f15f56d65615c88",
            "placeholder": "​",
            "style": "IPY_MODEL_a525703aeb214e0093e6c6b868803a35",
            "value": " 6/6 [00:13&lt;00:00,  2.01s/ba]"
          }
        },
        "b83b4a42c51e456fa1239267c8c26262": {
          "model_module": "@jupyter-widgets/base",
          "model_name": "LayoutModel",
          "model_module_version": "1.2.0",
          "state": {
            "_model_module": "@jupyter-widgets/base",
            "_model_module_version": "1.2.0",
            "_model_name": "LayoutModel",
            "_view_count": null,
            "_view_module": "@jupyter-widgets/base",
            "_view_module_version": "1.2.0",
            "_view_name": "LayoutView",
            "align_content": null,
            "align_items": null,
            "align_self": null,
            "border": null,
            "bottom": null,
            "display": null,
            "flex": null,
            "flex_flow": null,
            "grid_area": null,
            "grid_auto_columns": null,
            "grid_auto_flow": null,
            "grid_auto_rows": null,
            "grid_column": null,
            "grid_gap": null,
            "grid_row": null,
            "grid_template_areas": null,
            "grid_template_columns": null,
            "grid_template_rows": null,
            "height": null,
            "justify_content": null,
            "justify_items": null,
            "left": null,
            "margin": null,
            "max_height": null,
            "max_width": null,
            "min_height": null,
            "min_width": null,
            "object_fit": null,
            "object_position": null,
            "order": null,
            "overflow": null,
            "overflow_x": null,
            "overflow_y": null,
            "padding": null,
            "right": null,
            "top": null,
            "visibility": null,
            "width": null
          }
        },
        "a82dda45fcce4af6af19eb6605a4de8e": {
          "model_module": "@jupyter-widgets/base",
          "model_name": "LayoutModel",
          "model_module_version": "1.2.0",
          "state": {
            "_model_module": "@jupyter-widgets/base",
            "_model_module_version": "1.2.0",
            "_model_name": "LayoutModel",
            "_view_count": null,
            "_view_module": "@jupyter-widgets/base",
            "_view_module_version": "1.2.0",
            "_view_name": "LayoutView",
            "align_content": null,
            "align_items": null,
            "align_self": null,
            "border": null,
            "bottom": null,
            "display": null,
            "flex": null,
            "flex_flow": null,
            "grid_area": null,
            "grid_auto_columns": null,
            "grid_auto_flow": null,
            "grid_auto_rows": null,
            "grid_column": null,
            "grid_gap": null,
            "grid_row": null,
            "grid_template_areas": null,
            "grid_template_columns": null,
            "grid_template_rows": null,
            "height": null,
            "justify_content": null,
            "justify_items": null,
            "left": null,
            "margin": null,
            "max_height": null,
            "max_width": null,
            "min_height": null,
            "min_width": null,
            "object_fit": null,
            "object_position": null,
            "order": null,
            "overflow": null,
            "overflow_x": null,
            "overflow_y": null,
            "padding": null,
            "right": null,
            "top": null,
            "visibility": null,
            "width": null
          }
        },
        "28b5dcc84bec4563abfc0ed190f27c6f": {
          "model_module": "@jupyter-widgets/controls",
          "model_name": "DescriptionStyleModel",
          "model_module_version": "1.5.0",
          "state": {
            "_model_module": "@jupyter-widgets/controls",
            "_model_module_version": "1.5.0",
            "_model_name": "DescriptionStyleModel",
            "_view_count": null,
            "_view_module": "@jupyter-widgets/base",
            "_view_module_version": "1.2.0",
            "_view_name": "StyleView",
            "description_width": ""
          }
        },
        "8967b0b791864b67b3b6287b2bff830e": {
          "model_module": "@jupyter-widgets/base",
          "model_name": "LayoutModel",
          "model_module_version": "1.2.0",
          "state": {
            "_model_module": "@jupyter-widgets/base",
            "_model_module_version": "1.2.0",
            "_model_name": "LayoutModel",
            "_view_count": null,
            "_view_module": "@jupyter-widgets/base",
            "_view_module_version": "1.2.0",
            "_view_name": "LayoutView",
            "align_content": null,
            "align_items": null,
            "align_self": null,
            "border": null,
            "bottom": null,
            "display": null,
            "flex": null,
            "flex_flow": null,
            "grid_area": null,
            "grid_auto_columns": null,
            "grid_auto_flow": null,
            "grid_auto_rows": null,
            "grid_column": null,
            "grid_gap": null,
            "grid_row": null,
            "grid_template_areas": null,
            "grid_template_columns": null,
            "grid_template_rows": null,
            "height": null,
            "justify_content": null,
            "justify_items": null,
            "left": null,
            "margin": null,
            "max_height": null,
            "max_width": null,
            "min_height": null,
            "min_width": null,
            "object_fit": null,
            "object_position": null,
            "order": null,
            "overflow": null,
            "overflow_x": null,
            "overflow_y": null,
            "padding": null,
            "right": null,
            "top": null,
            "visibility": null,
            "width": null
          }
        },
        "b1ce2370cb0940f2a43b149e1ccbfb18": {
          "model_module": "@jupyter-widgets/controls",
          "model_name": "ProgressStyleModel",
          "model_module_version": "1.5.0",
          "state": {
            "_model_module": "@jupyter-widgets/controls",
            "_model_module_version": "1.5.0",
            "_model_name": "ProgressStyleModel",
            "_view_count": null,
            "_view_module": "@jupyter-widgets/base",
            "_view_module_version": "1.2.0",
            "_view_name": "StyleView",
            "bar_color": null,
            "description_width": ""
          }
        },
        "628a6af014de4b5e9f15f56d65615c88": {
          "model_module": "@jupyter-widgets/base",
          "model_name": "LayoutModel",
          "model_module_version": "1.2.0",
          "state": {
            "_model_module": "@jupyter-widgets/base",
            "_model_module_version": "1.2.0",
            "_model_name": "LayoutModel",
            "_view_count": null,
            "_view_module": "@jupyter-widgets/base",
            "_view_module_version": "1.2.0",
            "_view_name": "LayoutView",
            "align_content": null,
            "align_items": null,
            "align_self": null,
            "border": null,
            "bottom": null,
            "display": null,
            "flex": null,
            "flex_flow": null,
            "grid_area": null,
            "grid_auto_columns": null,
            "grid_auto_flow": null,
            "grid_auto_rows": null,
            "grid_column": null,
            "grid_gap": null,
            "grid_row": null,
            "grid_template_areas": null,
            "grid_template_columns": null,
            "grid_template_rows": null,
            "height": null,
            "justify_content": null,
            "justify_items": null,
            "left": null,
            "margin": null,
            "max_height": null,
            "max_width": null,
            "min_height": null,
            "min_width": null,
            "object_fit": null,
            "object_position": null,
            "order": null,
            "overflow": null,
            "overflow_x": null,
            "overflow_y": null,
            "padding": null,
            "right": null,
            "top": null,
            "visibility": null,
            "width": null
          }
        },
        "a525703aeb214e0093e6c6b868803a35": {
          "model_module": "@jupyter-widgets/controls",
          "model_name": "DescriptionStyleModel",
          "model_module_version": "1.5.0",
          "state": {
            "_model_module": "@jupyter-widgets/controls",
            "_model_module_version": "1.5.0",
            "_model_name": "DescriptionStyleModel",
            "_view_count": null,
            "_view_module": "@jupyter-widgets/base",
            "_view_module_version": "1.2.0",
            "_view_name": "StyleView",
            "description_width": ""
          }
        },
        "d3939e801a544b27a72ea9e54e2ad27f": {
          "model_module": "@jupyter-widgets/controls",
          "model_name": "HBoxModel",
          "model_module_version": "1.5.0",
          "state": {
            "_dom_classes": [],
            "_model_module": "@jupyter-widgets/controls",
            "_model_module_version": "1.5.0",
            "_model_name": "HBoxModel",
            "_view_count": null,
            "_view_module": "@jupyter-widgets/controls",
            "_view_module_version": "1.5.0",
            "_view_name": "HBoxView",
            "box_style": "",
            "children": [
              "IPY_MODEL_a3ba04bea05e4bbaa95bff4eec2ec5f0",
              "IPY_MODEL_8d71ca245d8149369886163888ab8b1a",
              "IPY_MODEL_737a6ab90a5f46bba92f2b6f8dfcd137"
            ],
            "layout": "IPY_MODEL_88d5fd84b0494517bb8c9c7203b7e222"
          }
        },
        "a3ba04bea05e4bbaa95bff4eec2ec5f0": {
          "model_module": "@jupyter-widgets/controls",
          "model_name": "HTMLModel",
          "model_module_version": "1.5.0",
          "state": {
            "_dom_classes": [],
            "_model_module": "@jupyter-widgets/controls",
            "_model_module_version": "1.5.0",
            "_model_name": "HTMLModel",
            "_view_count": null,
            "_view_module": "@jupyter-widgets/controls",
            "_view_module_version": "1.5.0",
            "_view_name": "HTMLView",
            "description": "",
            "description_tooltip": null,
            "layout": "IPY_MODEL_57414716d2fd45188f0137b7f847b736",
            "placeholder": "​",
            "style": "IPY_MODEL_e57e905e6f174b6bbcf9c62a9e20bc11",
            "value": "100%"
          }
        },
        "8d71ca245d8149369886163888ab8b1a": {
          "model_module": "@jupyter-widgets/controls",
          "model_name": "FloatProgressModel",
          "model_module_version": "1.5.0",
          "state": {
            "_dom_classes": [],
            "_model_module": "@jupyter-widgets/controls",
            "_model_module_version": "1.5.0",
            "_model_name": "FloatProgressModel",
            "_view_count": null,
            "_view_module": "@jupyter-widgets/controls",
            "_view_module_version": "1.5.0",
            "_view_name": "ProgressView",
            "bar_style": "success",
            "description": "",
            "description_tooltip": null,
            "layout": "IPY_MODEL_2415209959e44ea5b5da73e6b42b41cf",
            "max": 2,
            "min": 0,
            "orientation": "horizontal",
            "style": "IPY_MODEL_07bef961ac784589bf59aefcff193b15",
            "value": 2
          }
        },
        "737a6ab90a5f46bba92f2b6f8dfcd137": {
          "model_module": "@jupyter-widgets/controls",
          "model_name": "HTMLModel",
          "model_module_version": "1.5.0",
          "state": {
            "_dom_classes": [],
            "_model_module": "@jupyter-widgets/controls",
            "_model_module_version": "1.5.0",
            "_model_name": "HTMLModel",
            "_view_count": null,
            "_view_module": "@jupyter-widgets/controls",
            "_view_module_version": "1.5.0",
            "_view_name": "HTMLView",
            "description": "",
            "description_tooltip": null,
            "layout": "IPY_MODEL_f5460a9814f8464c87e8f28add2d2d4f",
            "placeholder": "​",
            "style": "IPY_MODEL_2ac8aeed4467497d992121aa0e1460cc",
            "value": " 2/2 [00:02&lt;00:00,  1.23s/ba]"
          }
        },
        "88d5fd84b0494517bb8c9c7203b7e222": {
          "model_module": "@jupyter-widgets/base",
          "model_name": "LayoutModel",
          "model_module_version": "1.2.0",
          "state": {
            "_model_module": "@jupyter-widgets/base",
            "_model_module_version": "1.2.0",
            "_model_name": "LayoutModel",
            "_view_count": null,
            "_view_module": "@jupyter-widgets/base",
            "_view_module_version": "1.2.0",
            "_view_name": "LayoutView",
            "align_content": null,
            "align_items": null,
            "align_self": null,
            "border": null,
            "bottom": null,
            "display": null,
            "flex": null,
            "flex_flow": null,
            "grid_area": null,
            "grid_auto_columns": null,
            "grid_auto_flow": null,
            "grid_auto_rows": null,
            "grid_column": null,
            "grid_gap": null,
            "grid_row": null,
            "grid_template_areas": null,
            "grid_template_columns": null,
            "grid_template_rows": null,
            "height": null,
            "justify_content": null,
            "justify_items": null,
            "left": null,
            "margin": null,
            "max_height": null,
            "max_width": null,
            "min_height": null,
            "min_width": null,
            "object_fit": null,
            "object_position": null,
            "order": null,
            "overflow": null,
            "overflow_x": null,
            "overflow_y": null,
            "padding": null,
            "right": null,
            "top": null,
            "visibility": null,
            "width": null
          }
        },
        "57414716d2fd45188f0137b7f847b736": {
          "model_module": "@jupyter-widgets/base",
          "model_name": "LayoutModel",
          "model_module_version": "1.2.0",
          "state": {
            "_model_module": "@jupyter-widgets/base",
            "_model_module_version": "1.2.0",
            "_model_name": "LayoutModel",
            "_view_count": null,
            "_view_module": "@jupyter-widgets/base",
            "_view_module_version": "1.2.0",
            "_view_name": "LayoutView",
            "align_content": null,
            "align_items": null,
            "align_self": null,
            "border": null,
            "bottom": null,
            "display": null,
            "flex": null,
            "flex_flow": null,
            "grid_area": null,
            "grid_auto_columns": null,
            "grid_auto_flow": null,
            "grid_auto_rows": null,
            "grid_column": null,
            "grid_gap": null,
            "grid_row": null,
            "grid_template_areas": null,
            "grid_template_columns": null,
            "grid_template_rows": null,
            "height": null,
            "justify_content": null,
            "justify_items": null,
            "left": null,
            "margin": null,
            "max_height": null,
            "max_width": null,
            "min_height": null,
            "min_width": null,
            "object_fit": null,
            "object_position": null,
            "order": null,
            "overflow": null,
            "overflow_x": null,
            "overflow_y": null,
            "padding": null,
            "right": null,
            "top": null,
            "visibility": null,
            "width": null
          }
        },
        "e57e905e6f174b6bbcf9c62a9e20bc11": {
          "model_module": "@jupyter-widgets/controls",
          "model_name": "DescriptionStyleModel",
          "model_module_version": "1.5.0",
          "state": {
            "_model_module": "@jupyter-widgets/controls",
            "_model_module_version": "1.5.0",
            "_model_name": "DescriptionStyleModel",
            "_view_count": null,
            "_view_module": "@jupyter-widgets/base",
            "_view_module_version": "1.2.0",
            "_view_name": "StyleView",
            "description_width": ""
          }
        },
        "2415209959e44ea5b5da73e6b42b41cf": {
          "model_module": "@jupyter-widgets/base",
          "model_name": "LayoutModel",
          "model_module_version": "1.2.0",
          "state": {
            "_model_module": "@jupyter-widgets/base",
            "_model_module_version": "1.2.0",
            "_model_name": "LayoutModel",
            "_view_count": null,
            "_view_module": "@jupyter-widgets/base",
            "_view_module_version": "1.2.0",
            "_view_name": "LayoutView",
            "align_content": null,
            "align_items": null,
            "align_self": null,
            "border": null,
            "bottom": null,
            "display": null,
            "flex": null,
            "flex_flow": null,
            "grid_area": null,
            "grid_auto_columns": null,
            "grid_auto_flow": null,
            "grid_auto_rows": null,
            "grid_column": null,
            "grid_gap": null,
            "grid_row": null,
            "grid_template_areas": null,
            "grid_template_columns": null,
            "grid_template_rows": null,
            "height": null,
            "justify_content": null,
            "justify_items": null,
            "left": null,
            "margin": null,
            "max_height": null,
            "max_width": null,
            "min_height": null,
            "min_width": null,
            "object_fit": null,
            "object_position": null,
            "order": null,
            "overflow": null,
            "overflow_x": null,
            "overflow_y": null,
            "padding": null,
            "right": null,
            "top": null,
            "visibility": null,
            "width": null
          }
        },
        "07bef961ac784589bf59aefcff193b15": {
          "model_module": "@jupyter-widgets/controls",
          "model_name": "ProgressStyleModel",
          "model_module_version": "1.5.0",
          "state": {
            "_model_module": "@jupyter-widgets/controls",
            "_model_module_version": "1.5.0",
            "_model_name": "ProgressStyleModel",
            "_view_count": null,
            "_view_module": "@jupyter-widgets/base",
            "_view_module_version": "1.2.0",
            "_view_name": "StyleView",
            "bar_color": null,
            "description_width": ""
          }
        },
        "f5460a9814f8464c87e8f28add2d2d4f": {
          "model_module": "@jupyter-widgets/base",
          "model_name": "LayoutModel",
          "model_module_version": "1.2.0",
          "state": {
            "_model_module": "@jupyter-widgets/base",
            "_model_module_version": "1.2.0",
            "_model_name": "LayoutModel",
            "_view_count": null,
            "_view_module": "@jupyter-widgets/base",
            "_view_module_version": "1.2.0",
            "_view_name": "LayoutView",
            "align_content": null,
            "align_items": null,
            "align_self": null,
            "border": null,
            "bottom": null,
            "display": null,
            "flex": null,
            "flex_flow": null,
            "grid_area": null,
            "grid_auto_columns": null,
            "grid_auto_flow": null,
            "grid_auto_rows": null,
            "grid_column": null,
            "grid_gap": null,
            "grid_row": null,
            "grid_template_areas": null,
            "grid_template_columns": null,
            "grid_template_rows": null,
            "height": null,
            "justify_content": null,
            "justify_items": null,
            "left": null,
            "margin": null,
            "max_height": null,
            "max_width": null,
            "min_height": null,
            "min_width": null,
            "object_fit": null,
            "object_position": null,
            "order": null,
            "overflow": null,
            "overflow_x": null,
            "overflow_y": null,
            "padding": null,
            "right": null,
            "top": null,
            "visibility": null,
            "width": null
          }
        },
        "2ac8aeed4467497d992121aa0e1460cc": {
          "model_module": "@jupyter-widgets/controls",
          "model_name": "DescriptionStyleModel",
          "model_module_version": "1.5.0",
          "state": {
            "_model_module": "@jupyter-widgets/controls",
            "_model_module_version": "1.5.0",
            "_model_name": "DescriptionStyleModel",
            "_view_count": null,
            "_view_module": "@jupyter-widgets/base",
            "_view_module_version": "1.2.0",
            "_view_name": "StyleView",
            "description_width": ""
          }
        },
        "5cec5db27ab04d378912ae7668249d1f": {
          "model_module": "@jupyter-widgets/controls",
          "model_name": "HBoxModel",
          "model_module_version": "1.5.0",
          "state": {
            "_dom_classes": [],
            "_model_module": "@jupyter-widgets/controls",
            "_model_module_version": "1.5.0",
            "_model_name": "HBoxModel",
            "_view_count": null,
            "_view_module": "@jupyter-widgets/controls",
            "_view_module_version": "1.5.0",
            "_view_name": "HBoxView",
            "box_style": "",
            "children": [
              "IPY_MODEL_ea0986add3bf47b19ae5f46ffe64efd4",
              "IPY_MODEL_973acc0e9ceb45d1b495cac77ed83efc",
              "IPY_MODEL_84e051179eb54ea68eec3d29614a3c06"
            ],
            "layout": "IPY_MODEL_4d7bb9e39c9c4fd19c613076fbd550cf"
          }
        },
        "ea0986add3bf47b19ae5f46ffe64efd4": {
          "model_module": "@jupyter-widgets/controls",
          "model_name": "HTMLModel",
          "model_module_version": "1.5.0",
          "state": {
            "_dom_classes": [],
            "_model_module": "@jupyter-widgets/controls",
            "_model_module_version": "1.5.0",
            "_model_name": "HTMLModel",
            "_view_count": null,
            "_view_module": "@jupyter-widgets/controls",
            "_view_module_version": "1.5.0",
            "_view_name": "HTMLView",
            "description": "",
            "description_tooltip": null,
            "layout": "IPY_MODEL_8914099807b9465c97b9cc33b5f3c936",
            "placeholder": "​",
            "style": "IPY_MODEL_bd24216cd5184faca8114f8b69df1463",
            "value": "Downloading data files: 100%"
          }
        },
        "973acc0e9ceb45d1b495cac77ed83efc": {
          "model_module": "@jupyter-widgets/controls",
          "model_name": "FloatProgressModel",
          "model_module_version": "1.5.0",
          "state": {
            "_dom_classes": [],
            "_model_module": "@jupyter-widgets/controls",
            "_model_module_version": "1.5.0",
            "_model_name": "FloatProgressModel",
            "_view_count": null,
            "_view_module": "@jupyter-widgets/controls",
            "_view_module_version": "1.5.0",
            "_view_name": "ProgressView",
            "bar_style": "success",
            "description": "",
            "description_tooltip": null,
            "layout": "IPY_MODEL_0160092b68bf4de792c2d0592455081b",
            "max": 2,
            "min": 0,
            "orientation": "horizontal",
            "style": "IPY_MODEL_ccb95a7160a540f4bf88fd9d3165aed9",
            "value": 2
          }
        },
        "84e051179eb54ea68eec3d29614a3c06": {
          "model_module": "@jupyter-widgets/controls",
          "model_name": "HTMLModel",
          "model_module_version": "1.5.0",
          "state": {
            "_dom_classes": [],
            "_model_module": "@jupyter-widgets/controls",
            "_model_module_version": "1.5.0",
            "_model_name": "HTMLModel",
            "_view_count": null,
            "_view_module": "@jupyter-widgets/controls",
            "_view_module_version": "1.5.0",
            "_view_name": "HTMLView",
            "description": "",
            "description_tooltip": null,
            "layout": "IPY_MODEL_694565f5974f410890ef27700a7e5c2b",
            "placeholder": "​",
            "style": "IPY_MODEL_d5d14bbee0f34a84970d469ec0fd0afb",
            "value": " 2/2 [00:00&lt;00:00, 84.12it/s]"
          }
        },
        "4d7bb9e39c9c4fd19c613076fbd550cf": {
          "model_module": "@jupyter-widgets/base",
          "model_name": "LayoutModel",
          "model_module_version": "1.2.0",
          "state": {
            "_model_module": "@jupyter-widgets/base",
            "_model_module_version": "1.2.0",
            "_model_name": "LayoutModel",
            "_view_count": null,
            "_view_module": "@jupyter-widgets/base",
            "_view_module_version": "1.2.0",
            "_view_name": "LayoutView",
            "align_content": null,
            "align_items": null,
            "align_self": null,
            "border": null,
            "bottom": null,
            "display": null,
            "flex": null,
            "flex_flow": null,
            "grid_area": null,
            "grid_auto_columns": null,
            "grid_auto_flow": null,
            "grid_auto_rows": null,
            "grid_column": null,
            "grid_gap": null,
            "grid_row": null,
            "grid_template_areas": null,
            "grid_template_columns": null,
            "grid_template_rows": null,
            "height": null,
            "justify_content": null,
            "justify_items": null,
            "left": null,
            "margin": null,
            "max_height": null,
            "max_width": null,
            "min_height": null,
            "min_width": null,
            "object_fit": null,
            "object_position": null,
            "order": null,
            "overflow": null,
            "overflow_x": null,
            "overflow_y": null,
            "padding": null,
            "right": null,
            "top": null,
            "visibility": null,
            "width": null
          }
        },
        "8914099807b9465c97b9cc33b5f3c936": {
          "model_module": "@jupyter-widgets/base",
          "model_name": "LayoutModel",
          "model_module_version": "1.2.0",
          "state": {
            "_model_module": "@jupyter-widgets/base",
            "_model_module_version": "1.2.0",
            "_model_name": "LayoutModel",
            "_view_count": null,
            "_view_module": "@jupyter-widgets/base",
            "_view_module_version": "1.2.0",
            "_view_name": "LayoutView",
            "align_content": null,
            "align_items": null,
            "align_self": null,
            "border": null,
            "bottom": null,
            "display": null,
            "flex": null,
            "flex_flow": null,
            "grid_area": null,
            "grid_auto_columns": null,
            "grid_auto_flow": null,
            "grid_auto_rows": null,
            "grid_column": null,
            "grid_gap": null,
            "grid_row": null,
            "grid_template_areas": null,
            "grid_template_columns": null,
            "grid_template_rows": null,
            "height": null,
            "justify_content": null,
            "justify_items": null,
            "left": null,
            "margin": null,
            "max_height": null,
            "max_width": null,
            "min_height": null,
            "min_width": null,
            "object_fit": null,
            "object_position": null,
            "order": null,
            "overflow": null,
            "overflow_x": null,
            "overflow_y": null,
            "padding": null,
            "right": null,
            "top": null,
            "visibility": null,
            "width": null
          }
        },
        "bd24216cd5184faca8114f8b69df1463": {
          "model_module": "@jupyter-widgets/controls",
          "model_name": "DescriptionStyleModel",
          "model_module_version": "1.5.0",
          "state": {
            "_model_module": "@jupyter-widgets/controls",
            "_model_module_version": "1.5.0",
            "_model_name": "DescriptionStyleModel",
            "_view_count": null,
            "_view_module": "@jupyter-widgets/base",
            "_view_module_version": "1.2.0",
            "_view_name": "StyleView",
            "description_width": ""
          }
        },
        "0160092b68bf4de792c2d0592455081b": {
          "model_module": "@jupyter-widgets/base",
          "model_name": "LayoutModel",
          "model_module_version": "1.2.0",
          "state": {
            "_model_module": "@jupyter-widgets/base",
            "_model_module_version": "1.2.0",
            "_model_name": "LayoutModel",
            "_view_count": null,
            "_view_module": "@jupyter-widgets/base",
            "_view_module_version": "1.2.0",
            "_view_name": "LayoutView",
            "align_content": null,
            "align_items": null,
            "align_self": null,
            "border": null,
            "bottom": null,
            "display": null,
            "flex": null,
            "flex_flow": null,
            "grid_area": null,
            "grid_auto_columns": null,
            "grid_auto_flow": null,
            "grid_auto_rows": null,
            "grid_column": null,
            "grid_gap": null,
            "grid_row": null,
            "grid_template_areas": null,
            "grid_template_columns": null,
            "grid_template_rows": null,
            "height": null,
            "justify_content": null,
            "justify_items": null,
            "left": null,
            "margin": null,
            "max_height": null,
            "max_width": null,
            "min_height": null,
            "min_width": null,
            "object_fit": null,
            "object_position": null,
            "order": null,
            "overflow": null,
            "overflow_x": null,
            "overflow_y": null,
            "padding": null,
            "right": null,
            "top": null,
            "visibility": null,
            "width": null
          }
        },
        "ccb95a7160a540f4bf88fd9d3165aed9": {
          "model_module": "@jupyter-widgets/controls",
          "model_name": "ProgressStyleModel",
          "model_module_version": "1.5.0",
          "state": {
            "_model_module": "@jupyter-widgets/controls",
            "_model_module_version": "1.5.0",
            "_model_name": "ProgressStyleModel",
            "_view_count": null,
            "_view_module": "@jupyter-widgets/base",
            "_view_module_version": "1.2.0",
            "_view_name": "StyleView",
            "bar_color": null,
            "description_width": ""
          }
        },
        "694565f5974f410890ef27700a7e5c2b": {
          "model_module": "@jupyter-widgets/base",
          "model_name": "LayoutModel",
          "model_module_version": "1.2.0",
          "state": {
            "_model_module": "@jupyter-widgets/base",
            "_model_module_version": "1.2.0",
            "_model_name": "LayoutModel",
            "_view_count": null,
            "_view_module": "@jupyter-widgets/base",
            "_view_module_version": "1.2.0",
            "_view_name": "LayoutView",
            "align_content": null,
            "align_items": null,
            "align_self": null,
            "border": null,
            "bottom": null,
            "display": null,
            "flex": null,
            "flex_flow": null,
            "grid_area": null,
            "grid_auto_columns": null,
            "grid_auto_flow": null,
            "grid_auto_rows": null,
            "grid_column": null,
            "grid_gap": null,
            "grid_row": null,
            "grid_template_areas": null,
            "grid_template_columns": null,
            "grid_template_rows": null,
            "height": null,
            "justify_content": null,
            "justify_items": null,
            "left": null,
            "margin": null,
            "max_height": null,
            "max_width": null,
            "min_height": null,
            "min_width": null,
            "object_fit": null,
            "object_position": null,
            "order": null,
            "overflow": null,
            "overflow_x": null,
            "overflow_y": null,
            "padding": null,
            "right": null,
            "top": null,
            "visibility": null,
            "width": null
          }
        },
        "d5d14bbee0f34a84970d469ec0fd0afb": {
          "model_module": "@jupyter-widgets/controls",
          "model_name": "DescriptionStyleModel",
          "model_module_version": "1.5.0",
          "state": {
            "_model_module": "@jupyter-widgets/controls",
            "_model_module_version": "1.5.0",
            "_model_name": "DescriptionStyleModel",
            "_view_count": null,
            "_view_module": "@jupyter-widgets/base",
            "_view_module_version": "1.2.0",
            "_view_name": "StyleView",
            "description_width": ""
          }
        },
        "b1f69edf19fe49b888d0191738d10373": {
          "model_module": "@jupyter-widgets/controls",
          "model_name": "HBoxModel",
          "model_module_version": "1.5.0",
          "state": {
            "_dom_classes": [],
            "_model_module": "@jupyter-widgets/controls",
            "_model_module_version": "1.5.0",
            "_model_name": "HBoxModel",
            "_view_count": null,
            "_view_module": "@jupyter-widgets/controls",
            "_view_module_version": "1.5.0",
            "_view_name": "HBoxView",
            "box_style": "",
            "children": [
              "IPY_MODEL_6777fe7c73f24263a10b3c92661fbf25",
              "IPY_MODEL_6cc4d373195b43ef9a64770bef4a7d96",
              "IPY_MODEL_1df81e37c9a6425d9c02eb53c11b90e7"
            ],
            "layout": "IPY_MODEL_02617b22ca574c36be1eee728fe355de"
          }
        },
        "6777fe7c73f24263a10b3c92661fbf25": {
          "model_module": "@jupyter-widgets/controls",
          "model_name": "HTMLModel",
          "model_module_version": "1.5.0",
          "state": {
            "_dom_classes": [],
            "_model_module": "@jupyter-widgets/controls",
            "_model_module_version": "1.5.0",
            "_model_name": "HTMLModel",
            "_view_count": null,
            "_view_module": "@jupyter-widgets/controls",
            "_view_module_version": "1.5.0",
            "_view_name": "HTMLView",
            "description": "",
            "description_tooltip": null,
            "layout": "IPY_MODEL_70a245150fe54114b03e2740b1329c46",
            "placeholder": "​",
            "style": "IPY_MODEL_d1e5da3dffd3419885e03d59291f9a6e",
            "value": "Extracting data files: 100%"
          }
        },
        "6cc4d373195b43ef9a64770bef4a7d96": {
          "model_module": "@jupyter-widgets/controls",
          "model_name": "FloatProgressModel",
          "model_module_version": "1.5.0",
          "state": {
            "_dom_classes": [],
            "_model_module": "@jupyter-widgets/controls",
            "_model_module_version": "1.5.0",
            "_model_name": "FloatProgressModel",
            "_view_count": null,
            "_view_module": "@jupyter-widgets/controls",
            "_view_module_version": "1.5.0",
            "_view_name": "ProgressView",
            "bar_style": "success",
            "description": "",
            "description_tooltip": null,
            "layout": "IPY_MODEL_a6c419d1d0fc4f1691a47719f7b5d65c",
            "max": 2,
            "min": 0,
            "orientation": "horizontal",
            "style": "IPY_MODEL_5efba78c6645487ba8a2825ace54e96b",
            "value": 2
          }
        },
        "1df81e37c9a6425d9c02eb53c11b90e7": {
          "model_module": "@jupyter-widgets/controls",
          "model_name": "HTMLModel",
          "model_module_version": "1.5.0",
          "state": {
            "_dom_classes": [],
            "_model_module": "@jupyter-widgets/controls",
            "_model_module_version": "1.5.0",
            "_model_name": "HTMLModel",
            "_view_count": null,
            "_view_module": "@jupyter-widgets/controls",
            "_view_module_version": "1.5.0",
            "_view_name": "HTMLView",
            "description": "",
            "description_tooltip": null,
            "layout": "IPY_MODEL_1f2e645915ef48ae92636fbbbf118cdf",
            "placeholder": "​",
            "style": "IPY_MODEL_68769c35912e48ed93b753b6a9d443b2",
            "value": " 2/2 [00:00&lt;00:00, 68.21it/s]"
          }
        },
        "02617b22ca574c36be1eee728fe355de": {
          "model_module": "@jupyter-widgets/base",
          "model_name": "LayoutModel",
          "model_module_version": "1.2.0",
          "state": {
            "_model_module": "@jupyter-widgets/base",
            "_model_module_version": "1.2.0",
            "_model_name": "LayoutModel",
            "_view_count": null,
            "_view_module": "@jupyter-widgets/base",
            "_view_module_version": "1.2.0",
            "_view_name": "LayoutView",
            "align_content": null,
            "align_items": null,
            "align_self": null,
            "border": null,
            "bottom": null,
            "display": null,
            "flex": null,
            "flex_flow": null,
            "grid_area": null,
            "grid_auto_columns": null,
            "grid_auto_flow": null,
            "grid_auto_rows": null,
            "grid_column": null,
            "grid_gap": null,
            "grid_row": null,
            "grid_template_areas": null,
            "grid_template_columns": null,
            "grid_template_rows": null,
            "height": null,
            "justify_content": null,
            "justify_items": null,
            "left": null,
            "margin": null,
            "max_height": null,
            "max_width": null,
            "min_height": null,
            "min_width": null,
            "object_fit": null,
            "object_position": null,
            "order": null,
            "overflow": null,
            "overflow_x": null,
            "overflow_y": null,
            "padding": null,
            "right": null,
            "top": null,
            "visibility": null,
            "width": null
          }
        },
        "70a245150fe54114b03e2740b1329c46": {
          "model_module": "@jupyter-widgets/base",
          "model_name": "LayoutModel",
          "model_module_version": "1.2.0",
          "state": {
            "_model_module": "@jupyter-widgets/base",
            "_model_module_version": "1.2.0",
            "_model_name": "LayoutModel",
            "_view_count": null,
            "_view_module": "@jupyter-widgets/base",
            "_view_module_version": "1.2.0",
            "_view_name": "LayoutView",
            "align_content": null,
            "align_items": null,
            "align_self": null,
            "border": null,
            "bottom": null,
            "display": null,
            "flex": null,
            "flex_flow": null,
            "grid_area": null,
            "grid_auto_columns": null,
            "grid_auto_flow": null,
            "grid_auto_rows": null,
            "grid_column": null,
            "grid_gap": null,
            "grid_row": null,
            "grid_template_areas": null,
            "grid_template_columns": null,
            "grid_template_rows": null,
            "height": null,
            "justify_content": null,
            "justify_items": null,
            "left": null,
            "margin": null,
            "max_height": null,
            "max_width": null,
            "min_height": null,
            "min_width": null,
            "object_fit": null,
            "object_position": null,
            "order": null,
            "overflow": null,
            "overflow_x": null,
            "overflow_y": null,
            "padding": null,
            "right": null,
            "top": null,
            "visibility": null,
            "width": null
          }
        },
        "d1e5da3dffd3419885e03d59291f9a6e": {
          "model_module": "@jupyter-widgets/controls",
          "model_name": "DescriptionStyleModel",
          "model_module_version": "1.5.0",
          "state": {
            "_model_module": "@jupyter-widgets/controls",
            "_model_module_version": "1.5.0",
            "_model_name": "DescriptionStyleModel",
            "_view_count": null,
            "_view_module": "@jupyter-widgets/base",
            "_view_module_version": "1.2.0",
            "_view_name": "StyleView",
            "description_width": ""
          }
        },
        "a6c419d1d0fc4f1691a47719f7b5d65c": {
          "model_module": "@jupyter-widgets/base",
          "model_name": "LayoutModel",
          "model_module_version": "1.2.0",
          "state": {
            "_model_module": "@jupyter-widgets/base",
            "_model_module_version": "1.2.0",
            "_model_name": "LayoutModel",
            "_view_count": null,
            "_view_module": "@jupyter-widgets/base",
            "_view_module_version": "1.2.0",
            "_view_name": "LayoutView",
            "align_content": null,
            "align_items": null,
            "align_self": null,
            "border": null,
            "bottom": null,
            "display": null,
            "flex": null,
            "flex_flow": null,
            "grid_area": null,
            "grid_auto_columns": null,
            "grid_auto_flow": null,
            "grid_auto_rows": null,
            "grid_column": null,
            "grid_gap": null,
            "grid_row": null,
            "grid_template_areas": null,
            "grid_template_columns": null,
            "grid_template_rows": null,
            "height": null,
            "justify_content": null,
            "justify_items": null,
            "left": null,
            "margin": null,
            "max_height": null,
            "max_width": null,
            "min_height": null,
            "min_width": null,
            "object_fit": null,
            "object_position": null,
            "order": null,
            "overflow": null,
            "overflow_x": null,
            "overflow_y": null,
            "padding": null,
            "right": null,
            "top": null,
            "visibility": null,
            "width": null
          }
        },
        "5efba78c6645487ba8a2825ace54e96b": {
          "model_module": "@jupyter-widgets/controls",
          "model_name": "ProgressStyleModel",
          "model_module_version": "1.5.0",
          "state": {
            "_model_module": "@jupyter-widgets/controls",
            "_model_module_version": "1.5.0",
            "_model_name": "ProgressStyleModel",
            "_view_count": null,
            "_view_module": "@jupyter-widgets/base",
            "_view_module_version": "1.2.0",
            "_view_name": "StyleView",
            "bar_color": null,
            "description_width": ""
          }
        },
        "1f2e645915ef48ae92636fbbbf118cdf": {
          "model_module": "@jupyter-widgets/base",
          "model_name": "LayoutModel",
          "model_module_version": "1.2.0",
          "state": {
            "_model_module": "@jupyter-widgets/base",
            "_model_module_version": "1.2.0",
            "_model_name": "LayoutModel",
            "_view_count": null,
            "_view_module": "@jupyter-widgets/base",
            "_view_module_version": "1.2.0",
            "_view_name": "LayoutView",
            "align_content": null,
            "align_items": null,
            "align_self": null,
            "border": null,
            "bottom": null,
            "display": null,
            "flex": null,
            "flex_flow": null,
            "grid_area": null,
            "grid_auto_columns": null,
            "grid_auto_flow": null,
            "grid_auto_rows": null,
            "grid_column": null,
            "grid_gap": null,
            "grid_row": null,
            "grid_template_areas": null,
            "grid_template_columns": null,
            "grid_template_rows": null,
            "height": null,
            "justify_content": null,
            "justify_items": null,
            "left": null,
            "margin": null,
            "max_height": null,
            "max_width": null,
            "min_height": null,
            "min_width": null,
            "object_fit": null,
            "object_position": null,
            "order": null,
            "overflow": null,
            "overflow_x": null,
            "overflow_y": null,
            "padding": null,
            "right": null,
            "top": null,
            "visibility": null,
            "width": null
          }
        },
        "68769c35912e48ed93b753b6a9d443b2": {
          "model_module": "@jupyter-widgets/controls",
          "model_name": "DescriptionStyleModel",
          "model_module_version": "1.5.0",
          "state": {
            "_model_module": "@jupyter-widgets/controls",
            "_model_module_version": "1.5.0",
            "_model_name": "DescriptionStyleModel",
            "_view_count": null,
            "_view_module": "@jupyter-widgets/base",
            "_view_module_version": "1.2.0",
            "_view_name": "StyleView",
            "description_width": ""
          }
        },
        "1f60fcb4a47c414481fa091f5312a101": {
          "model_module": "@jupyter-widgets/controls",
          "model_name": "HBoxModel",
          "model_module_version": "1.5.0",
          "state": {
            "_dom_classes": [],
            "_model_module": "@jupyter-widgets/controls",
            "_model_module_version": "1.5.0",
            "_model_name": "HBoxModel",
            "_view_count": null,
            "_view_module": "@jupyter-widgets/controls",
            "_view_module_version": "1.5.0",
            "_view_name": "HBoxView",
            "box_style": "",
            "children": [
              "IPY_MODEL_439084d9130445b9979f19dae7b05d8c",
              "IPY_MODEL_7fc2e402cec34203b7c91a2b2dbba98a",
              "IPY_MODEL_a6f47e0376b9414f9af293f2e4fe92dd"
            ],
            "layout": "IPY_MODEL_2a83015b8ae041e8883fe67864d9bb36"
          }
        },
        "439084d9130445b9979f19dae7b05d8c": {
          "model_module": "@jupyter-widgets/controls",
          "model_name": "HTMLModel",
          "model_module_version": "1.5.0",
          "state": {
            "_dom_classes": [],
            "_model_module": "@jupyter-widgets/controls",
            "_model_module_version": "1.5.0",
            "_model_name": "HTMLModel",
            "_view_count": null,
            "_view_module": "@jupyter-widgets/controls",
            "_view_module_version": "1.5.0",
            "_view_name": "HTMLView",
            "description": "",
            "description_tooltip": null,
            "layout": "IPY_MODEL_218a43794b744b1dbb6e5a2760bc3ec0",
            "placeholder": "​",
            "style": "IPY_MODEL_fba09d9fb6f842e1b44ca808ba54a22b",
            "value": "100%"
          }
        },
        "7fc2e402cec34203b7c91a2b2dbba98a": {
          "model_module": "@jupyter-widgets/controls",
          "model_name": "FloatProgressModel",
          "model_module_version": "1.5.0",
          "state": {
            "_dom_classes": [],
            "_model_module": "@jupyter-widgets/controls",
            "_model_module_version": "1.5.0",
            "_model_name": "FloatProgressModel",
            "_view_count": null,
            "_view_module": "@jupyter-widgets/controls",
            "_view_module_version": "1.5.0",
            "_view_name": "ProgressView",
            "bar_style": "success",
            "description": "",
            "description_tooltip": null,
            "layout": "IPY_MODEL_92566397fff84a69acc029f846f68714",
            "max": 2,
            "min": 0,
            "orientation": "horizontal",
            "style": "IPY_MODEL_293fa58768a941479aae764a1a6a5ab1",
            "value": 2
          }
        },
        "a6f47e0376b9414f9af293f2e4fe92dd": {
          "model_module": "@jupyter-widgets/controls",
          "model_name": "HTMLModel",
          "model_module_version": "1.5.0",
          "state": {
            "_dom_classes": [],
            "_model_module": "@jupyter-widgets/controls",
            "_model_module_version": "1.5.0",
            "_model_name": "HTMLModel",
            "_view_count": null,
            "_view_module": "@jupyter-widgets/controls",
            "_view_module_version": "1.5.0",
            "_view_name": "HTMLView",
            "description": "",
            "description_tooltip": null,
            "layout": "IPY_MODEL_6bee4a5f4c0c43b1848f91c196230b7e",
            "placeholder": "​",
            "style": "IPY_MODEL_e338a362d412443fa4fd41e99bdc39f2",
            "value": " 2/2 [00:00&lt;00:00, 70.73it/s]"
          }
        },
        "2a83015b8ae041e8883fe67864d9bb36": {
          "model_module": "@jupyter-widgets/base",
          "model_name": "LayoutModel",
          "model_module_version": "1.2.0",
          "state": {
            "_model_module": "@jupyter-widgets/base",
            "_model_module_version": "1.2.0",
            "_model_name": "LayoutModel",
            "_view_count": null,
            "_view_module": "@jupyter-widgets/base",
            "_view_module_version": "1.2.0",
            "_view_name": "LayoutView",
            "align_content": null,
            "align_items": null,
            "align_self": null,
            "border": null,
            "bottom": null,
            "display": null,
            "flex": null,
            "flex_flow": null,
            "grid_area": null,
            "grid_auto_columns": null,
            "grid_auto_flow": null,
            "grid_auto_rows": null,
            "grid_column": null,
            "grid_gap": null,
            "grid_row": null,
            "grid_template_areas": null,
            "grid_template_columns": null,
            "grid_template_rows": null,
            "height": null,
            "justify_content": null,
            "justify_items": null,
            "left": null,
            "margin": null,
            "max_height": null,
            "max_width": null,
            "min_height": null,
            "min_width": null,
            "object_fit": null,
            "object_position": null,
            "order": null,
            "overflow": null,
            "overflow_x": null,
            "overflow_y": null,
            "padding": null,
            "right": null,
            "top": null,
            "visibility": null,
            "width": null
          }
        },
        "218a43794b744b1dbb6e5a2760bc3ec0": {
          "model_module": "@jupyter-widgets/base",
          "model_name": "LayoutModel",
          "model_module_version": "1.2.0",
          "state": {
            "_model_module": "@jupyter-widgets/base",
            "_model_module_version": "1.2.0",
            "_model_name": "LayoutModel",
            "_view_count": null,
            "_view_module": "@jupyter-widgets/base",
            "_view_module_version": "1.2.0",
            "_view_name": "LayoutView",
            "align_content": null,
            "align_items": null,
            "align_self": null,
            "border": null,
            "bottom": null,
            "display": null,
            "flex": null,
            "flex_flow": null,
            "grid_area": null,
            "grid_auto_columns": null,
            "grid_auto_flow": null,
            "grid_auto_rows": null,
            "grid_column": null,
            "grid_gap": null,
            "grid_row": null,
            "grid_template_areas": null,
            "grid_template_columns": null,
            "grid_template_rows": null,
            "height": null,
            "justify_content": null,
            "justify_items": null,
            "left": null,
            "margin": null,
            "max_height": null,
            "max_width": null,
            "min_height": null,
            "min_width": null,
            "object_fit": null,
            "object_position": null,
            "order": null,
            "overflow": null,
            "overflow_x": null,
            "overflow_y": null,
            "padding": null,
            "right": null,
            "top": null,
            "visibility": null,
            "width": null
          }
        },
        "fba09d9fb6f842e1b44ca808ba54a22b": {
          "model_module": "@jupyter-widgets/controls",
          "model_name": "DescriptionStyleModel",
          "model_module_version": "1.5.0",
          "state": {
            "_model_module": "@jupyter-widgets/controls",
            "_model_module_version": "1.5.0",
            "_model_name": "DescriptionStyleModel",
            "_view_count": null,
            "_view_module": "@jupyter-widgets/base",
            "_view_module_version": "1.2.0",
            "_view_name": "StyleView",
            "description_width": ""
          }
        },
        "92566397fff84a69acc029f846f68714": {
          "model_module": "@jupyter-widgets/base",
          "model_name": "LayoutModel",
          "model_module_version": "1.2.0",
          "state": {
            "_model_module": "@jupyter-widgets/base",
            "_model_module_version": "1.2.0",
            "_model_name": "LayoutModel",
            "_view_count": null,
            "_view_module": "@jupyter-widgets/base",
            "_view_module_version": "1.2.0",
            "_view_name": "LayoutView",
            "align_content": null,
            "align_items": null,
            "align_self": null,
            "border": null,
            "bottom": null,
            "display": null,
            "flex": null,
            "flex_flow": null,
            "grid_area": null,
            "grid_auto_columns": null,
            "grid_auto_flow": null,
            "grid_auto_rows": null,
            "grid_column": null,
            "grid_gap": null,
            "grid_row": null,
            "grid_template_areas": null,
            "grid_template_columns": null,
            "grid_template_rows": null,
            "height": null,
            "justify_content": null,
            "justify_items": null,
            "left": null,
            "margin": null,
            "max_height": null,
            "max_width": null,
            "min_height": null,
            "min_width": null,
            "object_fit": null,
            "object_position": null,
            "order": null,
            "overflow": null,
            "overflow_x": null,
            "overflow_y": null,
            "padding": null,
            "right": null,
            "top": null,
            "visibility": null,
            "width": null
          }
        },
        "293fa58768a941479aae764a1a6a5ab1": {
          "model_module": "@jupyter-widgets/controls",
          "model_name": "ProgressStyleModel",
          "model_module_version": "1.5.0",
          "state": {
            "_model_module": "@jupyter-widgets/controls",
            "_model_module_version": "1.5.0",
            "_model_name": "ProgressStyleModel",
            "_view_count": null,
            "_view_module": "@jupyter-widgets/base",
            "_view_module_version": "1.2.0",
            "_view_name": "StyleView",
            "bar_color": null,
            "description_width": ""
          }
        },
        "6bee4a5f4c0c43b1848f91c196230b7e": {
          "model_module": "@jupyter-widgets/base",
          "model_name": "LayoutModel",
          "model_module_version": "1.2.0",
          "state": {
            "_model_module": "@jupyter-widgets/base",
            "_model_module_version": "1.2.0",
            "_model_name": "LayoutModel",
            "_view_count": null,
            "_view_module": "@jupyter-widgets/base",
            "_view_module_version": "1.2.0",
            "_view_name": "LayoutView",
            "align_content": null,
            "align_items": null,
            "align_self": null,
            "border": null,
            "bottom": null,
            "display": null,
            "flex": null,
            "flex_flow": null,
            "grid_area": null,
            "grid_auto_columns": null,
            "grid_auto_flow": null,
            "grid_auto_rows": null,
            "grid_column": null,
            "grid_gap": null,
            "grid_row": null,
            "grid_template_areas": null,
            "grid_template_columns": null,
            "grid_template_rows": null,
            "height": null,
            "justify_content": null,
            "justify_items": null,
            "left": null,
            "margin": null,
            "max_height": null,
            "max_width": null,
            "min_height": null,
            "min_width": null,
            "object_fit": null,
            "object_position": null,
            "order": null,
            "overflow": null,
            "overflow_x": null,
            "overflow_y": null,
            "padding": null,
            "right": null,
            "top": null,
            "visibility": null,
            "width": null
          }
        },
        "e338a362d412443fa4fd41e99bdc39f2": {
          "model_module": "@jupyter-widgets/controls",
          "model_name": "DescriptionStyleModel",
          "model_module_version": "1.5.0",
          "state": {
            "_model_module": "@jupyter-widgets/controls",
            "_model_module_version": "1.5.0",
            "_model_name": "DescriptionStyleModel",
            "_view_count": null,
            "_view_module": "@jupyter-widgets/base",
            "_view_module_version": "1.2.0",
            "_view_name": "StyleView",
            "description_width": ""
          }
        },
        "256a99ddba8e45099a5ca9ae1669cb79": {
          "model_module": "@jupyter-widgets/controls",
          "model_name": "HBoxModel",
          "model_module_version": "1.5.0",
          "state": {
            "_dom_classes": [],
            "_model_module": "@jupyter-widgets/controls",
            "_model_module_version": "1.5.0",
            "_model_name": "HBoxModel",
            "_view_count": null,
            "_view_module": "@jupyter-widgets/controls",
            "_view_module_version": "1.5.0",
            "_view_name": "HBoxView",
            "box_style": "",
            "children": [
              "IPY_MODEL_fcf240ffd76544d9a80c571bfd69bd7d",
              "IPY_MODEL_2a0d72856cef481f8dab848c44e8edc5",
              "IPY_MODEL_498048e3427649b0a1637833d59b70d6"
            ],
            "layout": "IPY_MODEL_594702c8eab349ec9bb5fff542ee0fb4"
          }
        },
        "fcf240ffd76544d9a80c571bfd69bd7d": {
          "model_module": "@jupyter-widgets/controls",
          "model_name": "HTMLModel",
          "model_module_version": "1.5.0",
          "state": {
            "_dom_classes": [],
            "_model_module": "@jupyter-widgets/controls",
            "_model_module_version": "1.5.0",
            "_model_name": "HTMLModel",
            "_view_count": null,
            "_view_module": "@jupyter-widgets/controls",
            "_view_module_version": "1.5.0",
            "_view_name": "HTMLView",
            "description": "",
            "description_tooltip": null,
            "layout": "IPY_MODEL_1ebe7e8cf6b04a269cd3019ec20158a9",
            "placeholder": "​",
            "style": "IPY_MODEL_8f803f9882674f438cc9c02df446961a",
            "value": "100%"
          }
        },
        "2a0d72856cef481f8dab848c44e8edc5": {
          "model_module": "@jupyter-widgets/controls",
          "model_name": "FloatProgressModel",
          "model_module_version": "1.5.0",
          "state": {
            "_dom_classes": [],
            "_model_module": "@jupyter-widgets/controls",
            "_model_module_version": "1.5.0",
            "_model_name": "FloatProgressModel",
            "_view_count": null,
            "_view_module": "@jupyter-widgets/controls",
            "_view_module_version": "1.5.0",
            "_view_name": "ProgressView",
            "bar_style": "success",
            "description": "",
            "description_tooltip": null,
            "layout": "IPY_MODEL_49b0e48f70d8439b930666e3109f2650",
            "max": 23,
            "min": 0,
            "orientation": "horizontal",
            "style": "IPY_MODEL_071b9c0929474d249f370114dba1f695",
            "value": 23
          }
        },
        "498048e3427649b0a1637833d59b70d6": {
          "model_module": "@jupyter-widgets/controls",
          "model_name": "HTMLModel",
          "model_module_version": "1.5.0",
          "state": {
            "_dom_classes": [],
            "_model_module": "@jupyter-widgets/controls",
            "_model_module_version": "1.5.0",
            "_model_name": "HTMLModel",
            "_view_count": null,
            "_view_module": "@jupyter-widgets/controls",
            "_view_module_version": "1.5.0",
            "_view_name": "HTMLView",
            "description": "",
            "description_tooltip": null,
            "layout": "IPY_MODEL_1a0f73ec364846b093d7bf6c1a0ee271",
            "placeholder": "​",
            "style": "IPY_MODEL_d72cfba13d6f4653a63e3ad10b3d2449",
            "value": " 23/23 [00:00&lt;00:00, 79.75ba/s]"
          }
        },
        "594702c8eab349ec9bb5fff542ee0fb4": {
          "model_module": "@jupyter-widgets/base",
          "model_name": "LayoutModel",
          "model_module_version": "1.2.0",
          "state": {
            "_model_module": "@jupyter-widgets/base",
            "_model_module_version": "1.2.0",
            "_model_name": "LayoutModel",
            "_view_count": null,
            "_view_module": "@jupyter-widgets/base",
            "_view_module_version": "1.2.0",
            "_view_name": "LayoutView",
            "align_content": null,
            "align_items": null,
            "align_self": null,
            "border": null,
            "bottom": null,
            "display": null,
            "flex": null,
            "flex_flow": null,
            "grid_area": null,
            "grid_auto_columns": null,
            "grid_auto_flow": null,
            "grid_auto_rows": null,
            "grid_column": null,
            "grid_gap": null,
            "grid_row": null,
            "grid_template_areas": null,
            "grid_template_columns": null,
            "grid_template_rows": null,
            "height": null,
            "justify_content": null,
            "justify_items": null,
            "left": null,
            "margin": null,
            "max_height": null,
            "max_width": null,
            "min_height": null,
            "min_width": null,
            "object_fit": null,
            "object_position": null,
            "order": null,
            "overflow": null,
            "overflow_x": null,
            "overflow_y": null,
            "padding": null,
            "right": null,
            "top": null,
            "visibility": null,
            "width": null
          }
        },
        "1ebe7e8cf6b04a269cd3019ec20158a9": {
          "model_module": "@jupyter-widgets/base",
          "model_name": "LayoutModel",
          "model_module_version": "1.2.0",
          "state": {
            "_model_module": "@jupyter-widgets/base",
            "_model_module_version": "1.2.0",
            "_model_name": "LayoutModel",
            "_view_count": null,
            "_view_module": "@jupyter-widgets/base",
            "_view_module_version": "1.2.0",
            "_view_name": "LayoutView",
            "align_content": null,
            "align_items": null,
            "align_self": null,
            "border": null,
            "bottom": null,
            "display": null,
            "flex": null,
            "flex_flow": null,
            "grid_area": null,
            "grid_auto_columns": null,
            "grid_auto_flow": null,
            "grid_auto_rows": null,
            "grid_column": null,
            "grid_gap": null,
            "grid_row": null,
            "grid_template_areas": null,
            "grid_template_columns": null,
            "grid_template_rows": null,
            "height": null,
            "justify_content": null,
            "justify_items": null,
            "left": null,
            "margin": null,
            "max_height": null,
            "max_width": null,
            "min_height": null,
            "min_width": null,
            "object_fit": null,
            "object_position": null,
            "order": null,
            "overflow": null,
            "overflow_x": null,
            "overflow_y": null,
            "padding": null,
            "right": null,
            "top": null,
            "visibility": null,
            "width": null
          }
        },
        "8f803f9882674f438cc9c02df446961a": {
          "model_module": "@jupyter-widgets/controls",
          "model_name": "DescriptionStyleModel",
          "model_module_version": "1.5.0",
          "state": {
            "_model_module": "@jupyter-widgets/controls",
            "_model_module_version": "1.5.0",
            "_model_name": "DescriptionStyleModel",
            "_view_count": null,
            "_view_module": "@jupyter-widgets/base",
            "_view_module_version": "1.2.0",
            "_view_name": "StyleView",
            "description_width": ""
          }
        },
        "49b0e48f70d8439b930666e3109f2650": {
          "model_module": "@jupyter-widgets/base",
          "model_name": "LayoutModel",
          "model_module_version": "1.2.0",
          "state": {
            "_model_module": "@jupyter-widgets/base",
            "_model_module_version": "1.2.0",
            "_model_name": "LayoutModel",
            "_view_count": null,
            "_view_module": "@jupyter-widgets/base",
            "_view_module_version": "1.2.0",
            "_view_name": "LayoutView",
            "align_content": null,
            "align_items": null,
            "align_self": null,
            "border": null,
            "bottom": null,
            "display": null,
            "flex": null,
            "flex_flow": null,
            "grid_area": null,
            "grid_auto_columns": null,
            "grid_auto_flow": null,
            "grid_auto_rows": null,
            "grid_column": null,
            "grid_gap": null,
            "grid_row": null,
            "grid_template_areas": null,
            "grid_template_columns": null,
            "grid_template_rows": null,
            "height": null,
            "justify_content": null,
            "justify_items": null,
            "left": null,
            "margin": null,
            "max_height": null,
            "max_width": null,
            "min_height": null,
            "min_width": null,
            "object_fit": null,
            "object_position": null,
            "order": null,
            "overflow": null,
            "overflow_x": null,
            "overflow_y": null,
            "padding": null,
            "right": null,
            "top": null,
            "visibility": null,
            "width": null
          }
        },
        "071b9c0929474d249f370114dba1f695": {
          "model_module": "@jupyter-widgets/controls",
          "model_name": "ProgressStyleModel",
          "model_module_version": "1.5.0",
          "state": {
            "_model_module": "@jupyter-widgets/controls",
            "_model_module_version": "1.5.0",
            "_model_name": "ProgressStyleModel",
            "_view_count": null,
            "_view_module": "@jupyter-widgets/base",
            "_view_module_version": "1.2.0",
            "_view_name": "StyleView",
            "bar_color": null,
            "description_width": ""
          }
        },
        "1a0f73ec364846b093d7bf6c1a0ee271": {
          "model_module": "@jupyter-widgets/base",
          "model_name": "LayoutModel",
          "model_module_version": "1.2.0",
          "state": {
            "_model_module": "@jupyter-widgets/base",
            "_model_module_version": "1.2.0",
            "_model_name": "LayoutModel",
            "_view_count": null,
            "_view_module": "@jupyter-widgets/base",
            "_view_module_version": "1.2.0",
            "_view_name": "LayoutView",
            "align_content": null,
            "align_items": null,
            "align_self": null,
            "border": null,
            "bottom": null,
            "display": null,
            "flex": null,
            "flex_flow": null,
            "grid_area": null,
            "grid_auto_columns": null,
            "grid_auto_flow": null,
            "grid_auto_rows": null,
            "grid_column": null,
            "grid_gap": null,
            "grid_row": null,
            "grid_template_areas": null,
            "grid_template_columns": null,
            "grid_template_rows": null,
            "height": null,
            "justify_content": null,
            "justify_items": null,
            "left": null,
            "margin": null,
            "max_height": null,
            "max_width": null,
            "min_height": null,
            "min_width": null,
            "object_fit": null,
            "object_position": null,
            "order": null,
            "overflow": null,
            "overflow_x": null,
            "overflow_y": null,
            "padding": null,
            "right": null,
            "top": null,
            "visibility": null,
            "width": null
          }
        },
        "d72cfba13d6f4653a63e3ad10b3d2449": {
          "model_module": "@jupyter-widgets/controls",
          "model_name": "DescriptionStyleModel",
          "model_module_version": "1.5.0",
          "state": {
            "_model_module": "@jupyter-widgets/controls",
            "_model_module_version": "1.5.0",
            "_model_name": "DescriptionStyleModel",
            "_view_count": null,
            "_view_module": "@jupyter-widgets/base",
            "_view_module_version": "1.2.0",
            "_view_name": "StyleView",
            "description_width": ""
          }
        },
        "271236be5ca04e1f82e7c41ff81e5e8b": {
          "model_module": "@jupyter-widgets/controls",
          "model_name": "HBoxModel",
          "model_module_version": "1.5.0",
          "state": {
            "_dom_classes": [],
            "_model_module": "@jupyter-widgets/controls",
            "_model_module_version": "1.5.0",
            "_model_name": "HBoxModel",
            "_view_count": null,
            "_view_module": "@jupyter-widgets/controls",
            "_view_module_version": "1.5.0",
            "_view_name": "HBoxView",
            "box_style": "",
            "children": [
              "IPY_MODEL_412942f10ec64467907b1f46e277be4b",
              "IPY_MODEL_4bdbce53b08b4b28b3e81871c462a9d0",
              "IPY_MODEL_f0223c3d7d25471c920f6dd5984609d6"
            ],
            "layout": "IPY_MODEL_a427b40d649d4a99ad32c3c3510f8e2b"
          }
        },
        "412942f10ec64467907b1f46e277be4b": {
          "model_module": "@jupyter-widgets/controls",
          "model_name": "HTMLModel",
          "model_module_version": "1.5.0",
          "state": {
            "_dom_classes": [],
            "_model_module": "@jupyter-widgets/controls",
            "_model_module_version": "1.5.0",
            "_model_name": "HTMLModel",
            "_view_count": null,
            "_view_module": "@jupyter-widgets/controls",
            "_view_module_version": "1.5.0",
            "_view_name": "HTMLView",
            "description": "",
            "description_tooltip": null,
            "layout": "IPY_MODEL_40ea0e4ded1140a7a7f6301ac78ce2be",
            "placeholder": "​",
            "style": "IPY_MODEL_dab7c4dfde7745b783f87ec3fdf72c5c",
            "value": "100%"
          }
        },
        "4bdbce53b08b4b28b3e81871c462a9d0": {
          "model_module": "@jupyter-widgets/controls",
          "model_name": "FloatProgressModel",
          "model_module_version": "1.5.0",
          "state": {
            "_dom_classes": [],
            "_model_module": "@jupyter-widgets/controls",
            "_model_module_version": "1.5.0",
            "_model_name": "FloatProgressModel",
            "_view_count": null,
            "_view_module": "@jupyter-widgets/controls",
            "_view_module_version": "1.5.0",
            "_view_name": "ProgressView",
            "bar_style": "success",
            "description": "",
            "description_tooltip": null,
            "layout": "IPY_MODEL_9953625a10d7455c9910c1667598153d",
            "max": 6,
            "min": 0,
            "orientation": "horizontal",
            "style": "IPY_MODEL_b999a622920f4c7396504455b05bfd2e",
            "value": 6
          }
        },
        "f0223c3d7d25471c920f6dd5984609d6": {
          "model_module": "@jupyter-widgets/controls",
          "model_name": "HTMLModel",
          "model_module_version": "1.5.0",
          "state": {
            "_dom_classes": [],
            "_model_module": "@jupyter-widgets/controls",
            "_model_module_version": "1.5.0",
            "_model_name": "HTMLModel",
            "_view_count": null,
            "_view_module": "@jupyter-widgets/controls",
            "_view_module_version": "1.5.0",
            "_view_name": "HTMLView",
            "description": "",
            "description_tooltip": null,
            "layout": "IPY_MODEL_ccaeaf04e92b466b87740c6789156edc",
            "placeholder": "​",
            "style": "IPY_MODEL_018fdfc12c624018b6d26a579a369958",
            "value": " 6/6 [00:00&lt;00:00, 64.61ba/s]"
          }
        },
        "a427b40d649d4a99ad32c3c3510f8e2b": {
          "model_module": "@jupyter-widgets/base",
          "model_name": "LayoutModel",
          "model_module_version": "1.2.0",
          "state": {
            "_model_module": "@jupyter-widgets/base",
            "_model_module_version": "1.2.0",
            "_model_name": "LayoutModel",
            "_view_count": null,
            "_view_module": "@jupyter-widgets/base",
            "_view_module_version": "1.2.0",
            "_view_name": "LayoutView",
            "align_content": null,
            "align_items": null,
            "align_self": null,
            "border": null,
            "bottom": null,
            "display": null,
            "flex": null,
            "flex_flow": null,
            "grid_area": null,
            "grid_auto_columns": null,
            "grid_auto_flow": null,
            "grid_auto_rows": null,
            "grid_column": null,
            "grid_gap": null,
            "grid_row": null,
            "grid_template_areas": null,
            "grid_template_columns": null,
            "grid_template_rows": null,
            "height": null,
            "justify_content": null,
            "justify_items": null,
            "left": null,
            "margin": null,
            "max_height": null,
            "max_width": null,
            "min_height": null,
            "min_width": null,
            "object_fit": null,
            "object_position": null,
            "order": null,
            "overflow": null,
            "overflow_x": null,
            "overflow_y": null,
            "padding": null,
            "right": null,
            "top": null,
            "visibility": null,
            "width": null
          }
        },
        "40ea0e4ded1140a7a7f6301ac78ce2be": {
          "model_module": "@jupyter-widgets/base",
          "model_name": "LayoutModel",
          "model_module_version": "1.2.0",
          "state": {
            "_model_module": "@jupyter-widgets/base",
            "_model_module_version": "1.2.0",
            "_model_name": "LayoutModel",
            "_view_count": null,
            "_view_module": "@jupyter-widgets/base",
            "_view_module_version": "1.2.0",
            "_view_name": "LayoutView",
            "align_content": null,
            "align_items": null,
            "align_self": null,
            "border": null,
            "bottom": null,
            "display": null,
            "flex": null,
            "flex_flow": null,
            "grid_area": null,
            "grid_auto_columns": null,
            "grid_auto_flow": null,
            "grid_auto_rows": null,
            "grid_column": null,
            "grid_gap": null,
            "grid_row": null,
            "grid_template_areas": null,
            "grid_template_columns": null,
            "grid_template_rows": null,
            "height": null,
            "justify_content": null,
            "justify_items": null,
            "left": null,
            "margin": null,
            "max_height": null,
            "max_width": null,
            "min_height": null,
            "min_width": null,
            "object_fit": null,
            "object_position": null,
            "order": null,
            "overflow": null,
            "overflow_x": null,
            "overflow_y": null,
            "padding": null,
            "right": null,
            "top": null,
            "visibility": null,
            "width": null
          }
        },
        "dab7c4dfde7745b783f87ec3fdf72c5c": {
          "model_module": "@jupyter-widgets/controls",
          "model_name": "DescriptionStyleModel",
          "model_module_version": "1.5.0",
          "state": {
            "_model_module": "@jupyter-widgets/controls",
            "_model_module_version": "1.5.0",
            "_model_name": "DescriptionStyleModel",
            "_view_count": null,
            "_view_module": "@jupyter-widgets/base",
            "_view_module_version": "1.2.0",
            "_view_name": "StyleView",
            "description_width": ""
          }
        },
        "9953625a10d7455c9910c1667598153d": {
          "model_module": "@jupyter-widgets/base",
          "model_name": "LayoutModel",
          "model_module_version": "1.2.0",
          "state": {
            "_model_module": "@jupyter-widgets/base",
            "_model_module_version": "1.2.0",
            "_model_name": "LayoutModel",
            "_view_count": null,
            "_view_module": "@jupyter-widgets/base",
            "_view_module_version": "1.2.0",
            "_view_name": "LayoutView",
            "align_content": null,
            "align_items": null,
            "align_self": null,
            "border": null,
            "bottom": null,
            "display": null,
            "flex": null,
            "flex_flow": null,
            "grid_area": null,
            "grid_auto_columns": null,
            "grid_auto_flow": null,
            "grid_auto_rows": null,
            "grid_column": null,
            "grid_gap": null,
            "grid_row": null,
            "grid_template_areas": null,
            "grid_template_columns": null,
            "grid_template_rows": null,
            "height": null,
            "justify_content": null,
            "justify_items": null,
            "left": null,
            "margin": null,
            "max_height": null,
            "max_width": null,
            "min_height": null,
            "min_width": null,
            "object_fit": null,
            "object_position": null,
            "order": null,
            "overflow": null,
            "overflow_x": null,
            "overflow_y": null,
            "padding": null,
            "right": null,
            "top": null,
            "visibility": null,
            "width": null
          }
        },
        "b999a622920f4c7396504455b05bfd2e": {
          "model_module": "@jupyter-widgets/controls",
          "model_name": "ProgressStyleModel",
          "model_module_version": "1.5.0",
          "state": {
            "_model_module": "@jupyter-widgets/controls",
            "_model_module_version": "1.5.0",
            "_model_name": "ProgressStyleModel",
            "_view_count": null,
            "_view_module": "@jupyter-widgets/base",
            "_view_module_version": "1.2.0",
            "_view_name": "StyleView",
            "bar_color": null,
            "description_width": ""
          }
        },
        "ccaeaf04e92b466b87740c6789156edc": {
          "model_module": "@jupyter-widgets/base",
          "model_name": "LayoutModel",
          "model_module_version": "1.2.0",
          "state": {
            "_model_module": "@jupyter-widgets/base",
            "_model_module_version": "1.2.0",
            "_model_name": "LayoutModel",
            "_view_count": null,
            "_view_module": "@jupyter-widgets/base",
            "_view_module_version": "1.2.0",
            "_view_name": "LayoutView",
            "align_content": null,
            "align_items": null,
            "align_self": null,
            "border": null,
            "bottom": null,
            "display": null,
            "flex": null,
            "flex_flow": null,
            "grid_area": null,
            "grid_auto_columns": null,
            "grid_auto_flow": null,
            "grid_auto_rows": null,
            "grid_column": null,
            "grid_gap": null,
            "grid_row": null,
            "grid_template_areas": null,
            "grid_template_columns": null,
            "grid_template_rows": null,
            "height": null,
            "justify_content": null,
            "justify_items": null,
            "left": null,
            "margin": null,
            "max_height": null,
            "max_width": null,
            "min_height": null,
            "min_width": null,
            "object_fit": null,
            "object_position": null,
            "order": null,
            "overflow": null,
            "overflow_x": null,
            "overflow_y": null,
            "padding": null,
            "right": null,
            "top": null,
            "visibility": null,
            "width": null
          }
        },
        "018fdfc12c624018b6d26a579a369958": {
          "model_module": "@jupyter-widgets/controls",
          "model_name": "DescriptionStyleModel",
          "model_module_version": "1.5.0",
          "state": {
            "_model_module": "@jupyter-widgets/controls",
            "_model_module_version": "1.5.0",
            "_model_name": "DescriptionStyleModel",
            "_view_count": null,
            "_view_module": "@jupyter-widgets/base",
            "_view_module_version": "1.2.0",
            "_view_name": "StyleView",
            "description_width": ""
          }
        },
        "3a7eef47bc2041329c3ad172f01b4b8e": {
          "model_module": "@jupyter-widgets/controls",
          "model_name": "HBoxModel",
          "model_module_version": "1.5.0",
          "state": {
            "_dom_classes": [],
            "_model_module": "@jupyter-widgets/controls",
            "_model_module_version": "1.5.0",
            "_model_name": "HBoxModel",
            "_view_count": null,
            "_view_module": "@jupyter-widgets/controls",
            "_view_module_version": "1.5.0",
            "_view_name": "HBoxView",
            "box_style": "",
            "children": [
              "IPY_MODEL_96a53dfb57444061b837974945c027a5",
              "IPY_MODEL_79103493f5fd4fc68f511fbcfa12f785",
              "IPY_MODEL_f287561d0eb240bdb3320c487494ce03"
            ],
            "layout": "IPY_MODEL_da70ce56f7ec4440aa63233232c93fbf"
          }
        },
        "96a53dfb57444061b837974945c027a5": {
          "model_module": "@jupyter-widgets/controls",
          "model_name": "HTMLModel",
          "model_module_version": "1.5.0",
          "state": {
            "_dom_classes": [],
            "_model_module": "@jupyter-widgets/controls",
            "_model_module_version": "1.5.0",
            "_model_name": "HTMLModel",
            "_view_count": null,
            "_view_module": "@jupyter-widgets/controls",
            "_view_module_version": "1.5.0",
            "_view_name": "HTMLView",
            "description": "",
            "description_tooltip": null,
            "layout": "IPY_MODEL_0fab3649f65e409780fa0b15647b2483",
            "placeholder": "​",
            "style": "IPY_MODEL_33fc127322e0459da11cac1bb1803c26",
            "value": "100%"
          }
        },
        "79103493f5fd4fc68f511fbcfa12f785": {
          "model_module": "@jupyter-widgets/controls",
          "model_name": "FloatProgressModel",
          "model_module_version": "1.5.0",
          "state": {
            "_dom_classes": [],
            "_model_module": "@jupyter-widgets/controls",
            "_model_module_version": "1.5.0",
            "_model_name": "FloatProgressModel",
            "_view_count": null,
            "_view_module": "@jupyter-widgets/controls",
            "_view_module_version": "1.5.0",
            "_view_name": "ProgressView",
            "bar_style": "success",
            "description": "",
            "description_tooltip": null,
            "layout": "IPY_MODEL_b49151171eca49e7b9aeac93a5d212c3",
            "max": 2,
            "min": 0,
            "orientation": "horizontal",
            "style": "IPY_MODEL_d6e03ede93834219bd959688450ea3ec",
            "value": 2
          }
        },
        "f287561d0eb240bdb3320c487494ce03": {
          "model_module": "@jupyter-widgets/controls",
          "model_name": "HTMLModel",
          "model_module_version": "1.5.0",
          "state": {
            "_dom_classes": [],
            "_model_module": "@jupyter-widgets/controls",
            "_model_module_version": "1.5.0",
            "_model_name": "HTMLModel",
            "_view_count": null,
            "_view_module": "@jupyter-widgets/controls",
            "_view_module_version": "1.5.0",
            "_view_name": "HTMLView",
            "description": "",
            "description_tooltip": null,
            "layout": "IPY_MODEL_ab1246eba90642ec9bd804ce39dc494c",
            "placeholder": "​",
            "style": "IPY_MODEL_19b91533d3504930a591bcb240bec524",
            "value": " 2/2 [00:00&lt;00:00, 48.84ba/s]"
          }
        },
        "da70ce56f7ec4440aa63233232c93fbf": {
          "model_module": "@jupyter-widgets/base",
          "model_name": "LayoutModel",
          "model_module_version": "1.2.0",
          "state": {
            "_model_module": "@jupyter-widgets/base",
            "_model_module_version": "1.2.0",
            "_model_name": "LayoutModel",
            "_view_count": null,
            "_view_module": "@jupyter-widgets/base",
            "_view_module_version": "1.2.0",
            "_view_name": "LayoutView",
            "align_content": null,
            "align_items": null,
            "align_self": null,
            "border": null,
            "bottom": null,
            "display": null,
            "flex": null,
            "flex_flow": null,
            "grid_area": null,
            "grid_auto_columns": null,
            "grid_auto_flow": null,
            "grid_auto_rows": null,
            "grid_column": null,
            "grid_gap": null,
            "grid_row": null,
            "grid_template_areas": null,
            "grid_template_columns": null,
            "grid_template_rows": null,
            "height": null,
            "justify_content": null,
            "justify_items": null,
            "left": null,
            "margin": null,
            "max_height": null,
            "max_width": null,
            "min_height": null,
            "min_width": null,
            "object_fit": null,
            "object_position": null,
            "order": null,
            "overflow": null,
            "overflow_x": null,
            "overflow_y": null,
            "padding": null,
            "right": null,
            "top": null,
            "visibility": null,
            "width": null
          }
        },
        "0fab3649f65e409780fa0b15647b2483": {
          "model_module": "@jupyter-widgets/base",
          "model_name": "LayoutModel",
          "model_module_version": "1.2.0",
          "state": {
            "_model_module": "@jupyter-widgets/base",
            "_model_module_version": "1.2.0",
            "_model_name": "LayoutModel",
            "_view_count": null,
            "_view_module": "@jupyter-widgets/base",
            "_view_module_version": "1.2.0",
            "_view_name": "LayoutView",
            "align_content": null,
            "align_items": null,
            "align_self": null,
            "border": null,
            "bottom": null,
            "display": null,
            "flex": null,
            "flex_flow": null,
            "grid_area": null,
            "grid_auto_columns": null,
            "grid_auto_flow": null,
            "grid_auto_rows": null,
            "grid_column": null,
            "grid_gap": null,
            "grid_row": null,
            "grid_template_areas": null,
            "grid_template_columns": null,
            "grid_template_rows": null,
            "height": null,
            "justify_content": null,
            "justify_items": null,
            "left": null,
            "margin": null,
            "max_height": null,
            "max_width": null,
            "min_height": null,
            "min_width": null,
            "object_fit": null,
            "object_position": null,
            "order": null,
            "overflow": null,
            "overflow_x": null,
            "overflow_y": null,
            "padding": null,
            "right": null,
            "top": null,
            "visibility": null,
            "width": null
          }
        },
        "33fc127322e0459da11cac1bb1803c26": {
          "model_module": "@jupyter-widgets/controls",
          "model_name": "DescriptionStyleModel",
          "model_module_version": "1.5.0",
          "state": {
            "_model_module": "@jupyter-widgets/controls",
            "_model_module_version": "1.5.0",
            "_model_name": "DescriptionStyleModel",
            "_view_count": null,
            "_view_module": "@jupyter-widgets/base",
            "_view_module_version": "1.2.0",
            "_view_name": "StyleView",
            "description_width": ""
          }
        },
        "b49151171eca49e7b9aeac93a5d212c3": {
          "model_module": "@jupyter-widgets/base",
          "model_name": "LayoutModel",
          "model_module_version": "1.2.0",
          "state": {
            "_model_module": "@jupyter-widgets/base",
            "_model_module_version": "1.2.0",
            "_model_name": "LayoutModel",
            "_view_count": null,
            "_view_module": "@jupyter-widgets/base",
            "_view_module_version": "1.2.0",
            "_view_name": "LayoutView",
            "align_content": null,
            "align_items": null,
            "align_self": null,
            "border": null,
            "bottom": null,
            "display": null,
            "flex": null,
            "flex_flow": null,
            "grid_area": null,
            "grid_auto_columns": null,
            "grid_auto_flow": null,
            "grid_auto_rows": null,
            "grid_column": null,
            "grid_gap": null,
            "grid_row": null,
            "grid_template_areas": null,
            "grid_template_columns": null,
            "grid_template_rows": null,
            "height": null,
            "justify_content": null,
            "justify_items": null,
            "left": null,
            "margin": null,
            "max_height": null,
            "max_width": null,
            "min_height": null,
            "min_width": null,
            "object_fit": null,
            "object_position": null,
            "order": null,
            "overflow": null,
            "overflow_x": null,
            "overflow_y": null,
            "padding": null,
            "right": null,
            "top": null,
            "visibility": null,
            "width": null
          }
        },
        "d6e03ede93834219bd959688450ea3ec": {
          "model_module": "@jupyter-widgets/controls",
          "model_name": "ProgressStyleModel",
          "model_module_version": "1.5.0",
          "state": {
            "_model_module": "@jupyter-widgets/controls",
            "_model_module_version": "1.5.0",
            "_model_name": "ProgressStyleModel",
            "_view_count": null,
            "_view_module": "@jupyter-widgets/base",
            "_view_module_version": "1.2.0",
            "_view_name": "StyleView",
            "bar_color": null,
            "description_width": ""
          }
        },
        "ab1246eba90642ec9bd804ce39dc494c": {
          "model_module": "@jupyter-widgets/base",
          "model_name": "LayoutModel",
          "model_module_version": "1.2.0",
          "state": {
            "_model_module": "@jupyter-widgets/base",
            "_model_module_version": "1.2.0",
            "_model_name": "LayoutModel",
            "_view_count": null,
            "_view_module": "@jupyter-widgets/base",
            "_view_module_version": "1.2.0",
            "_view_name": "LayoutView",
            "align_content": null,
            "align_items": null,
            "align_self": null,
            "border": null,
            "bottom": null,
            "display": null,
            "flex": null,
            "flex_flow": null,
            "grid_area": null,
            "grid_auto_columns": null,
            "grid_auto_flow": null,
            "grid_auto_rows": null,
            "grid_column": null,
            "grid_gap": null,
            "grid_row": null,
            "grid_template_areas": null,
            "grid_template_columns": null,
            "grid_template_rows": null,
            "height": null,
            "justify_content": null,
            "justify_items": null,
            "left": null,
            "margin": null,
            "max_height": null,
            "max_width": null,
            "min_height": null,
            "min_width": null,
            "object_fit": null,
            "object_position": null,
            "order": null,
            "overflow": null,
            "overflow_x": null,
            "overflow_y": null,
            "padding": null,
            "right": null,
            "top": null,
            "visibility": null,
            "width": null
          }
        },
        "19b91533d3504930a591bcb240bec524": {
          "model_module": "@jupyter-widgets/controls",
          "model_name": "DescriptionStyleModel",
          "model_module_version": "1.5.0",
          "state": {
            "_model_module": "@jupyter-widgets/controls",
            "_model_module_version": "1.5.0",
            "_model_name": "DescriptionStyleModel",
            "_view_count": null,
            "_view_module": "@jupyter-widgets/base",
            "_view_module_version": "1.2.0",
            "_view_name": "StyleView",
            "description_width": ""
          }
        },
        "27611ec1901a48e680a7a0cc5c39f0bf": {
          "model_module": "@jupyter-widgets/controls",
          "model_name": "HBoxModel",
          "model_module_version": "1.5.0",
          "state": {
            "_dom_classes": [],
            "_model_module": "@jupyter-widgets/controls",
            "_model_module_version": "1.5.0",
            "_model_name": "HBoxModel",
            "_view_count": null,
            "_view_module": "@jupyter-widgets/controls",
            "_view_module_version": "1.5.0",
            "_view_name": "HBoxView",
            "box_style": "",
            "children": [
              "IPY_MODEL_967169247d594fceba3704c3aa3b2a79",
              "IPY_MODEL_f742f336d0fb4299a4edbb7c1ce7bb12",
              "IPY_MODEL_61c0a32ba15b4f7bb0aeb4843a8f990c"
            ],
            "layout": "IPY_MODEL_b9ab7980d49a455ca12946cd02fc5d43"
          }
        },
        "967169247d594fceba3704c3aa3b2a79": {
          "model_module": "@jupyter-widgets/controls",
          "model_name": "HTMLModel",
          "model_module_version": "1.5.0",
          "state": {
            "_dom_classes": [],
            "_model_module": "@jupyter-widgets/controls",
            "_model_module_version": "1.5.0",
            "_model_name": "HTMLModel",
            "_view_count": null,
            "_view_module": "@jupyter-widgets/controls",
            "_view_module_version": "1.5.0",
            "_view_name": "HTMLView",
            "description": "",
            "description_tooltip": null,
            "layout": "IPY_MODEL_f55c9827d4a44dba9db07f426fb95b76",
            "placeholder": "​",
            "style": "IPY_MODEL_f64d1db44d94489fa0e0f151f02f6557",
            "value": "Downloading: 100%"
          }
        },
        "f742f336d0fb4299a4edbb7c1ce7bb12": {
          "model_module": "@jupyter-widgets/controls",
          "model_name": "FloatProgressModel",
          "model_module_version": "1.5.0",
          "state": {
            "_dom_classes": [],
            "_model_module": "@jupyter-widgets/controls",
            "_model_module_version": "1.5.0",
            "_model_name": "FloatProgressModel",
            "_view_count": null,
            "_view_module": "@jupyter-widgets/controls",
            "_view_module_version": "1.5.0",
            "_view_name": "ProgressView",
            "bar_style": "success",
            "description": "",
            "description_tooltip": null,
            "layout": "IPY_MODEL_1a7f0f9c638b4a97abe42e2353e3e2a0",
            "max": 28,
            "min": 0,
            "orientation": "horizontal",
            "style": "IPY_MODEL_c7f61633c28c47a6875ed5f9e1f1c90b",
            "value": 28
          }
        },
        "61c0a32ba15b4f7bb0aeb4843a8f990c": {
          "model_module": "@jupyter-widgets/controls",
          "model_name": "HTMLModel",
          "model_module_version": "1.5.0",
          "state": {
            "_dom_classes": [],
            "_model_module": "@jupyter-widgets/controls",
            "_model_module_version": "1.5.0",
            "_model_name": "HTMLModel",
            "_view_count": null,
            "_view_module": "@jupyter-widgets/controls",
            "_view_module_version": "1.5.0",
            "_view_name": "HTMLView",
            "description": "",
            "description_tooltip": null,
            "layout": "IPY_MODEL_59383e568f37452faceb745098c15ba3",
            "placeholder": "​",
            "style": "IPY_MODEL_b4f25475b21a42799817f5f11c40003c",
            "value": " 28.0/28.0 [00:00&lt;00:00, 1.05kB/s]"
          }
        },
        "b9ab7980d49a455ca12946cd02fc5d43": {
          "model_module": "@jupyter-widgets/base",
          "model_name": "LayoutModel",
          "model_module_version": "1.2.0",
          "state": {
            "_model_module": "@jupyter-widgets/base",
            "_model_module_version": "1.2.0",
            "_model_name": "LayoutModel",
            "_view_count": null,
            "_view_module": "@jupyter-widgets/base",
            "_view_module_version": "1.2.0",
            "_view_name": "LayoutView",
            "align_content": null,
            "align_items": null,
            "align_self": null,
            "border": null,
            "bottom": null,
            "display": null,
            "flex": null,
            "flex_flow": null,
            "grid_area": null,
            "grid_auto_columns": null,
            "grid_auto_flow": null,
            "grid_auto_rows": null,
            "grid_column": null,
            "grid_gap": null,
            "grid_row": null,
            "grid_template_areas": null,
            "grid_template_columns": null,
            "grid_template_rows": null,
            "height": null,
            "justify_content": null,
            "justify_items": null,
            "left": null,
            "margin": null,
            "max_height": null,
            "max_width": null,
            "min_height": null,
            "min_width": null,
            "object_fit": null,
            "object_position": null,
            "order": null,
            "overflow": null,
            "overflow_x": null,
            "overflow_y": null,
            "padding": null,
            "right": null,
            "top": null,
            "visibility": null,
            "width": null
          }
        },
        "f55c9827d4a44dba9db07f426fb95b76": {
          "model_module": "@jupyter-widgets/base",
          "model_name": "LayoutModel",
          "model_module_version": "1.2.0",
          "state": {
            "_model_module": "@jupyter-widgets/base",
            "_model_module_version": "1.2.0",
            "_model_name": "LayoutModel",
            "_view_count": null,
            "_view_module": "@jupyter-widgets/base",
            "_view_module_version": "1.2.0",
            "_view_name": "LayoutView",
            "align_content": null,
            "align_items": null,
            "align_self": null,
            "border": null,
            "bottom": null,
            "display": null,
            "flex": null,
            "flex_flow": null,
            "grid_area": null,
            "grid_auto_columns": null,
            "grid_auto_flow": null,
            "grid_auto_rows": null,
            "grid_column": null,
            "grid_gap": null,
            "grid_row": null,
            "grid_template_areas": null,
            "grid_template_columns": null,
            "grid_template_rows": null,
            "height": null,
            "justify_content": null,
            "justify_items": null,
            "left": null,
            "margin": null,
            "max_height": null,
            "max_width": null,
            "min_height": null,
            "min_width": null,
            "object_fit": null,
            "object_position": null,
            "order": null,
            "overflow": null,
            "overflow_x": null,
            "overflow_y": null,
            "padding": null,
            "right": null,
            "top": null,
            "visibility": null,
            "width": null
          }
        },
        "f64d1db44d94489fa0e0f151f02f6557": {
          "model_module": "@jupyter-widgets/controls",
          "model_name": "DescriptionStyleModel",
          "model_module_version": "1.5.0",
          "state": {
            "_model_module": "@jupyter-widgets/controls",
            "_model_module_version": "1.5.0",
            "_model_name": "DescriptionStyleModel",
            "_view_count": null,
            "_view_module": "@jupyter-widgets/base",
            "_view_module_version": "1.2.0",
            "_view_name": "StyleView",
            "description_width": ""
          }
        },
        "1a7f0f9c638b4a97abe42e2353e3e2a0": {
          "model_module": "@jupyter-widgets/base",
          "model_name": "LayoutModel",
          "model_module_version": "1.2.0",
          "state": {
            "_model_module": "@jupyter-widgets/base",
            "_model_module_version": "1.2.0",
            "_model_name": "LayoutModel",
            "_view_count": null,
            "_view_module": "@jupyter-widgets/base",
            "_view_module_version": "1.2.0",
            "_view_name": "LayoutView",
            "align_content": null,
            "align_items": null,
            "align_self": null,
            "border": null,
            "bottom": null,
            "display": null,
            "flex": null,
            "flex_flow": null,
            "grid_area": null,
            "grid_auto_columns": null,
            "grid_auto_flow": null,
            "grid_auto_rows": null,
            "grid_column": null,
            "grid_gap": null,
            "grid_row": null,
            "grid_template_areas": null,
            "grid_template_columns": null,
            "grid_template_rows": null,
            "height": null,
            "justify_content": null,
            "justify_items": null,
            "left": null,
            "margin": null,
            "max_height": null,
            "max_width": null,
            "min_height": null,
            "min_width": null,
            "object_fit": null,
            "object_position": null,
            "order": null,
            "overflow": null,
            "overflow_x": null,
            "overflow_y": null,
            "padding": null,
            "right": null,
            "top": null,
            "visibility": null,
            "width": null
          }
        },
        "c7f61633c28c47a6875ed5f9e1f1c90b": {
          "model_module": "@jupyter-widgets/controls",
          "model_name": "ProgressStyleModel",
          "model_module_version": "1.5.0",
          "state": {
            "_model_module": "@jupyter-widgets/controls",
            "_model_module_version": "1.5.0",
            "_model_name": "ProgressStyleModel",
            "_view_count": null,
            "_view_module": "@jupyter-widgets/base",
            "_view_module_version": "1.2.0",
            "_view_name": "StyleView",
            "bar_color": null,
            "description_width": ""
          }
        },
        "59383e568f37452faceb745098c15ba3": {
          "model_module": "@jupyter-widgets/base",
          "model_name": "LayoutModel",
          "model_module_version": "1.2.0",
          "state": {
            "_model_module": "@jupyter-widgets/base",
            "_model_module_version": "1.2.0",
            "_model_name": "LayoutModel",
            "_view_count": null,
            "_view_module": "@jupyter-widgets/base",
            "_view_module_version": "1.2.0",
            "_view_name": "LayoutView",
            "align_content": null,
            "align_items": null,
            "align_self": null,
            "border": null,
            "bottom": null,
            "display": null,
            "flex": null,
            "flex_flow": null,
            "grid_area": null,
            "grid_auto_columns": null,
            "grid_auto_flow": null,
            "grid_auto_rows": null,
            "grid_column": null,
            "grid_gap": null,
            "grid_row": null,
            "grid_template_areas": null,
            "grid_template_columns": null,
            "grid_template_rows": null,
            "height": null,
            "justify_content": null,
            "justify_items": null,
            "left": null,
            "margin": null,
            "max_height": null,
            "max_width": null,
            "min_height": null,
            "min_width": null,
            "object_fit": null,
            "object_position": null,
            "order": null,
            "overflow": null,
            "overflow_x": null,
            "overflow_y": null,
            "padding": null,
            "right": null,
            "top": null,
            "visibility": null,
            "width": null
          }
        },
        "b4f25475b21a42799817f5f11c40003c": {
          "model_module": "@jupyter-widgets/controls",
          "model_name": "DescriptionStyleModel",
          "model_module_version": "1.5.0",
          "state": {
            "_model_module": "@jupyter-widgets/controls",
            "_model_module_version": "1.5.0",
            "_model_name": "DescriptionStyleModel",
            "_view_count": null,
            "_view_module": "@jupyter-widgets/base",
            "_view_module_version": "1.2.0",
            "_view_name": "StyleView",
            "description_width": ""
          }
        },
        "4b4708cda6c14deba11356a9bf822d08": {
          "model_module": "@jupyter-widgets/controls",
          "model_name": "HBoxModel",
          "model_module_version": "1.5.0",
          "state": {
            "_dom_classes": [],
            "_model_module": "@jupyter-widgets/controls",
            "_model_module_version": "1.5.0",
            "_model_name": "HBoxModel",
            "_view_count": null,
            "_view_module": "@jupyter-widgets/controls",
            "_view_module_version": "1.5.0",
            "_view_name": "HBoxView",
            "box_style": "",
            "children": [
              "IPY_MODEL_cee71472f13349a0ab5ba7a7be62be22",
              "IPY_MODEL_d72ba139c90546479e037611a6e3d3f0",
              "IPY_MODEL_414fa23182714ba9a162bd66b8663c1b"
            ],
            "layout": "IPY_MODEL_d9e0b5b3f93c4037b165dec2f8d6c5f0"
          }
        },
        "cee71472f13349a0ab5ba7a7be62be22": {
          "model_module": "@jupyter-widgets/controls",
          "model_name": "HTMLModel",
          "model_module_version": "1.5.0",
          "state": {
            "_dom_classes": [],
            "_model_module": "@jupyter-widgets/controls",
            "_model_module_version": "1.5.0",
            "_model_name": "HTMLModel",
            "_view_count": null,
            "_view_module": "@jupyter-widgets/controls",
            "_view_module_version": "1.5.0",
            "_view_name": "HTMLView",
            "description": "",
            "description_tooltip": null,
            "layout": "IPY_MODEL_07c61f3e1e3c4c3cac0a9987a4898f7b",
            "placeholder": "​",
            "style": "IPY_MODEL_5786668096a44b84b97d7cc75c9d0792",
            "value": "Downloading: 100%"
          }
        },
        "d72ba139c90546479e037611a6e3d3f0": {
          "model_module": "@jupyter-widgets/controls",
          "model_name": "FloatProgressModel",
          "model_module_version": "1.5.0",
          "state": {
            "_dom_classes": [],
            "_model_module": "@jupyter-widgets/controls",
            "_model_module_version": "1.5.0",
            "_model_name": "FloatProgressModel",
            "_view_count": null,
            "_view_module": "@jupyter-widgets/controls",
            "_view_module_version": "1.5.0",
            "_view_name": "ProgressView",
            "bar_style": "success",
            "description": "",
            "description_tooltip": null,
            "layout": "IPY_MODEL_b5fcd48c79ed467d8627ca58a53caa8a",
            "max": 483,
            "min": 0,
            "orientation": "horizontal",
            "style": "IPY_MODEL_467cd2762c874648ac015683dca5dda0",
            "value": 483
          }
        },
        "414fa23182714ba9a162bd66b8663c1b": {
          "model_module": "@jupyter-widgets/controls",
          "model_name": "HTMLModel",
          "model_module_version": "1.5.0",
          "state": {
            "_dom_classes": [],
            "_model_module": "@jupyter-widgets/controls",
            "_model_module_version": "1.5.0",
            "_model_name": "HTMLModel",
            "_view_count": null,
            "_view_module": "@jupyter-widgets/controls",
            "_view_module_version": "1.5.0",
            "_view_name": "HTMLView",
            "description": "",
            "description_tooltip": null,
            "layout": "IPY_MODEL_cbffd151341c41358cb306fa32ebe6a1",
            "placeholder": "​",
            "style": "IPY_MODEL_f0b35d8ccf5c4583a94745b7a99a1ba3",
            "value": " 483/483 [00:00&lt;00:00, 16.7kB/s]"
          }
        },
        "d9e0b5b3f93c4037b165dec2f8d6c5f0": {
          "model_module": "@jupyter-widgets/base",
          "model_name": "LayoutModel",
          "model_module_version": "1.2.0",
          "state": {
            "_model_module": "@jupyter-widgets/base",
            "_model_module_version": "1.2.0",
            "_model_name": "LayoutModel",
            "_view_count": null,
            "_view_module": "@jupyter-widgets/base",
            "_view_module_version": "1.2.0",
            "_view_name": "LayoutView",
            "align_content": null,
            "align_items": null,
            "align_self": null,
            "border": null,
            "bottom": null,
            "display": null,
            "flex": null,
            "flex_flow": null,
            "grid_area": null,
            "grid_auto_columns": null,
            "grid_auto_flow": null,
            "grid_auto_rows": null,
            "grid_column": null,
            "grid_gap": null,
            "grid_row": null,
            "grid_template_areas": null,
            "grid_template_columns": null,
            "grid_template_rows": null,
            "height": null,
            "justify_content": null,
            "justify_items": null,
            "left": null,
            "margin": null,
            "max_height": null,
            "max_width": null,
            "min_height": null,
            "min_width": null,
            "object_fit": null,
            "object_position": null,
            "order": null,
            "overflow": null,
            "overflow_x": null,
            "overflow_y": null,
            "padding": null,
            "right": null,
            "top": null,
            "visibility": null,
            "width": null
          }
        },
        "07c61f3e1e3c4c3cac0a9987a4898f7b": {
          "model_module": "@jupyter-widgets/base",
          "model_name": "LayoutModel",
          "model_module_version": "1.2.0",
          "state": {
            "_model_module": "@jupyter-widgets/base",
            "_model_module_version": "1.2.0",
            "_model_name": "LayoutModel",
            "_view_count": null,
            "_view_module": "@jupyter-widgets/base",
            "_view_module_version": "1.2.0",
            "_view_name": "LayoutView",
            "align_content": null,
            "align_items": null,
            "align_self": null,
            "border": null,
            "bottom": null,
            "display": null,
            "flex": null,
            "flex_flow": null,
            "grid_area": null,
            "grid_auto_columns": null,
            "grid_auto_flow": null,
            "grid_auto_rows": null,
            "grid_column": null,
            "grid_gap": null,
            "grid_row": null,
            "grid_template_areas": null,
            "grid_template_columns": null,
            "grid_template_rows": null,
            "height": null,
            "justify_content": null,
            "justify_items": null,
            "left": null,
            "margin": null,
            "max_height": null,
            "max_width": null,
            "min_height": null,
            "min_width": null,
            "object_fit": null,
            "object_position": null,
            "order": null,
            "overflow": null,
            "overflow_x": null,
            "overflow_y": null,
            "padding": null,
            "right": null,
            "top": null,
            "visibility": null,
            "width": null
          }
        },
        "5786668096a44b84b97d7cc75c9d0792": {
          "model_module": "@jupyter-widgets/controls",
          "model_name": "DescriptionStyleModel",
          "model_module_version": "1.5.0",
          "state": {
            "_model_module": "@jupyter-widgets/controls",
            "_model_module_version": "1.5.0",
            "_model_name": "DescriptionStyleModel",
            "_view_count": null,
            "_view_module": "@jupyter-widgets/base",
            "_view_module_version": "1.2.0",
            "_view_name": "StyleView",
            "description_width": ""
          }
        },
        "b5fcd48c79ed467d8627ca58a53caa8a": {
          "model_module": "@jupyter-widgets/base",
          "model_name": "LayoutModel",
          "model_module_version": "1.2.0",
          "state": {
            "_model_module": "@jupyter-widgets/base",
            "_model_module_version": "1.2.0",
            "_model_name": "LayoutModel",
            "_view_count": null,
            "_view_module": "@jupyter-widgets/base",
            "_view_module_version": "1.2.0",
            "_view_name": "LayoutView",
            "align_content": null,
            "align_items": null,
            "align_self": null,
            "border": null,
            "bottom": null,
            "display": null,
            "flex": null,
            "flex_flow": null,
            "grid_area": null,
            "grid_auto_columns": null,
            "grid_auto_flow": null,
            "grid_auto_rows": null,
            "grid_column": null,
            "grid_gap": null,
            "grid_row": null,
            "grid_template_areas": null,
            "grid_template_columns": null,
            "grid_template_rows": null,
            "height": null,
            "justify_content": null,
            "justify_items": null,
            "left": null,
            "margin": null,
            "max_height": null,
            "max_width": null,
            "min_height": null,
            "min_width": null,
            "object_fit": null,
            "object_position": null,
            "order": null,
            "overflow": null,
            "overflow_x": null,
            "overflow_y": null,
            "padding": null,
            "right": null,
            "top": null,
            "visibility": null,
            "width": null
          }
        },
        "467cd2762c874648ac015683dca5dda0": {
          "model_module": "@jupyter-widgets/controls",
          "model_name": "ProgressStyleModel",
          "model_module_version": "1.5.0",
          "state": {
            "_model_module": "@jupyter-widgets/controls",
            "_model_module_version": "1.5.0",
            "_model_name": "ProgressStyleModel",
            "_view_count": null,
            "_view_module": "@jupyter-widgets/base",
            "_view_module_version": "1.2.0",
            "_view_name": "StyleView",
            "bar_color": null,
            "description_width": ""
          }
        },
        "cbffd151341c41358cb306fa32ebe6a1": {
          "model_module": "@jupyter-widgets/base",
          "model_name": "LayoutModel",
          "model_module_version": "1.2.0",
          "state": {
            "_model_module": "@jupyter-widgets/base",
            "_model_module_version": "1.2.0",
            "_model_name": "LayoutModel",
            "_view_count": null,
            "_view_module": "@jupyter-widgets/base",
            "_view_module_version": "1.2.0",
            "_view_name": "LayoutView",
            "align_content": null,
            "align_items": null,
            "align_self": null,
            "border": null,
            "bottom": null,
            "display": null,
            "flex": null,
            "flex_flow": null,
            "grid_area": null,
            "grid_auto_columns": null,
            "grid_auto_flow": null,
            "grid_auto_rows": null,
            "grid_column": null,
            "grid_gap": null,
            "grid_row": null,
            "grid_template_areas": null,
            "grid_template_columns": null,
            "grid_template_rows": null,
            "height": null,
            "justify_content": null,
            "justify_items": null,
            "left": null,
            "margin": null,
            "max_height": null,
            "max_width": null,
            "min_height": null,
            "min_width": null,
            "object_fit": null,
            "object_position": null,
            "order": null,
            "overflow": null,
            "overflow_x": null,
            "overflow_y": null,
            "padding": null,
            "right": null,
            "top": null,
            "visibility": null,
            "width": null
          }
        },
        "f0b35d8ccf5c4583a94745b7a99a1ba3": {
          "model_module": "@jupyter-widgets/controls",
          "model_name": "DescriptionStyleModel",
          "model_module_version": "1.5.0",
          "state": {
            "_model_module": "@jupyter-widgets/controls",
            "_model_module_version": "1.5.0",
            "_model_name": "DescriptionStyleModel",
            "_view_count": null,
            "_view_module": "@jupyter-widgets/base",
            "_view_module_version": "1.2.0",
            "_view_name": "StyleView",
            "description_width": ""
          }
        },
        "218f5776e48540628d5f2102ec8cff57": {
          "model_module": "@jupyter-widgets/controls",
          "model_name": "HBoxModel",
          "model_module_version": "1.5.0",
          "state": {
            "_dom_classes": [],
            "_model_module": "@jupyter-widgets/controls",
            "_model_module_version": "1.5.0",
            "_model_name": "HBoxModel",
            "_view_count": null,
            "_view_module": "@jupyter-widgets/controls",
            "_view_module_version": "1.5.0",
            "_view_name": "HBoxView",
            "box_style": "",
            "children": [
              "IPY_MODEL_25ac5588d5ac426188a14f698d76c941",
              "IPY_MODEL_9105e19fdf9d4b409de225462c349028",
              "IPY_MODEL_3f75de0a97b44c38a1c0ffb4cedd1963"
            ],
            "layout": "IPY_MODEL_be4058d51e7c425eb4408e62c5cb9cb9"
          }
        },
        "25ac5588d5ac426188a14f698d76c941": {
          "model_module": "@jupyter-widgets/controls",
          "model_name": "HTMLModel",
          "model_module_version": "1.5.0",
          "state": {
            "_dom_classes": [],
            "_model_module": "@jupyter-widgets/controls",
            "_model_module_version": "1.5.0",
            "_model_name": "HTMLModel",
            "_view_count": null,
            "_view_module": "@jupyter-widgets/controls",
            "_view_module_version": "1.5.0",
            "_view_name": "HTMLView",
            "description": "",
            "description_tooltip": null,
            "layout": "IPY_MODEL_d1b260d8990a4723b2d6a229d8e16f65",
            "placeholder": "​",
            "style": "IPY_MODEL_aae994f96dcf4df1bc15a4812dffb0f6",
            "value": "Downloading: 100%"
          }
        },
        "9105e19fdf9d4b409de225462c349028": {
          "model_module": "@jupyter-widgets/controls",
          "model_name": "FloatProgressModel",
          "model_module_version": "1.5.0",
          "state": {
            "_dom_classes": [],
            "_model_module": "@jupyter-widgets/controls",
            "_model_module_version": "1.5.0",
            "_model_name": "FloatProgressModel",
            "_view_count": null,
            "_view_module": "@jupyter-widgets/controls",
            "_view_module_version": "1.5.0",
            "_view_name": "ProgressView",
            "bar_style": "success",
            "description": "",
            "description_tooltip": null,
            "layout": "IPY_MODEL_462e799a1fa9471fb8bfcfc17a906f89",
            "max": 231508,
            "min": 0,
            "orientation": "horizontal",
            "style": "IPY_MODEL_7f00cdd75c9f47c4b9f16f407956111f",
            "value": 231508
          }
        },
        "3f75de0a97b44c38a1c0ffb4cedd1963": {
          "model_module": "@jupyter-widgets/controls",
          "model_name": "HTMLModel",
          "model_module_version": "1.5.0",
          "state": {
            "_dom_classes": [],
            "_model_module": "@jupyter-widgets/controls",
            "_model_module_version": "1.5.0",
            "_model_name": "HTMLModel",
            "_view_count": null,
            "_view_module": "@jupyter-widgets/controls",
            "_view_module_version": "1.5.0",
            "_view_name": "HTMLView",
            "description": "",
            "description_tooltip": null,
            "layout": "IPY_MODEL_b295b80f993a44bbb2be00b378c518bc",
            "placeholder": "​",
            "style": "IPY_MODEL_a0b08656a24d46a8af4493f544483407",
            "value": " 226k/226k [00:00&lt;00:00, 354kB/s]"
          }
        },
        "be4058d51e7c425eb4408e62c5cb9cb9": {
          "model_module": "@jupyter-widgets/base",
          "model_name": "LayoutModel",
          "model_module_version": "1.2.0",
          "state": {
            "_model_module": "@jupyter-widgets/base",
            "_model_module_version": "1.2.0",
            "_model_name": "LayoutModel",
            "_view_count": null,
            "_view_module": "@jupyter-widgets/base",
            "_view_module_version": "1.2.0",
            "_view_name": "LayoutView",
            "align_content": null,
            "align_items": null,
            "align_self": null,
            "border": null,
            "bottom": null,
            "display": null,
            "flex": null,
            "flex_flow": null,
            "grid_area": null,
            "grid_auto_columns": null,
            "grid_auto_flow": null,
            "grid_auto_rows": null,
            "grid_column": null,
            "grid_gap": null,
            "grid_row": null,
            "grid_template_areas": null,
            "grid_template_columns": null,
            "grid_template_rows": null,
            "height": null,
            "justify_content": null,
            "justify_items": null,
            "left": null,
            "margin": null,
            "max_height": null,
            "max_width": null,
            "min_height": null,
            "min_width": null,
            "object_fit": null,
            "object_position": null,
            "order": null,
            "overflow": null,
            "overflow_x": null,
            "overflow_y": null,
            "padding": null,
            "right": null,
            "top": null,
            "visibility": null,
            "width": null
          }
        },
        "d1b260d8990a4723b2d6a229d8e16f65": {
          "model_module": "@jupyter-widgets/base",
          "model_name": "LayoutModel",
          "model_module_version": "1.2.0",
          "state": {
            "_model_module": "@jupyter-widgets/base",
            "_model_module_version": "1.2.0",
            "_model_name": "LayoutModel",
            "_view_count": null,
            "_view_module": "@jupyter-widgets/base",
            "_view_module_version": "1.2.0",
            "_view_name": "LayoutView",
            "align_content": null,
            "align_items": null,
            "align_self": null,
            "border": null,
            "bottom": null,
            "display": null,
            "flex": null,
            "flex_flow": null,
            "grid_area": null,
            "grid_auto_columns": null,
            "grid_auto_flow": null,
            "grid_auto_rows": null,
            "grid_column": null,
            "grid_gap": null,
            "grid_row": null,
            "grid_template_areas": null,
            "grid_template_columns": null,
            "grid_template_rows": null,
            "height": null,
            "justify_content": null,
            "justify_items": null,
            "left": null,
            "margin": null,
            "max_height": null,
            "max_width": null,
            "min_height": null,
            "min_width": null,
            "object_fit": null,
            "object_position": null,
            "order": null,
            "overflow": null,
            "overflow_x": null,
            "overflow_y": null,
            "padding": null,
            "right": null,
            "top": null,
            "visibility": null,
            "width": null
          }
        },
        "aae994f96dcf4df1bc15a4812dffb0f6": {
          "model_module": "@jupyter-widgets/controls",
          "model_name": "DescriptionStyleModel",
          "model_module_version": "1.5.0",
          "state": {
            "_model_module": "@jupyter-widgets/controls",
            "_model_module_version": "1.5.0",
            "_model_name": "DescriptionStyleModel",
            "_view_count": null,
            "_view_module": "@jupyter-widgets/base",
            "_view_module_version": "1.2.0",
            "_view_name": "StyleView",
            "description_width": ""
          }
        },
        "462e799a1fa9471fb8bfcfc17a906f89": {
          "model_module": "@jupyter-widgets/base",
          "model_name": "LayoutModel",
          "model_module_version": "1.2.0",
          "state": {
            "_model_module": "@jupyter-widgets/base",
            "_model_module_version": "1.2.0",
            "_model_name": "LayoutModel",
            "_view_count": null,
            "_view_module": "@jupyter-widgets/base",
            "_view_module_version": "1.2.0",
            "_view_name": "LayoutView",
            "align_content": null,
            "align_items": null,
            "align_self": null,
            "border": null,
            "bottom": null,
            "display": null,
            "flex": null,
            "flex_flow": null,
            "grid_area": null,
            "grid_auto_columns": null,
            "grid_auto_flow": null,
            "grid_auto_rows": null,
            "grid_column": null,
            "grid_gap": null,
            "grid_row": null,
            "grid_template_areas": null,
            "grid_template_columns": null,
            "grid_template_rows": null,
            "height": null,
            "justify_content": null,
            "justify_items": null,
            "left": null,
            "margin": null,
            "max_height": null,
            "max_width": null,
            "min_height": null,
            "min_width": null,
            "object_fit": null,
            "object_position": null,
            "order": null,
            "overflow": null,
            "overflow_x": null,
            "overflow_y": null,
            "padding": null,
            "right": null,
            "top": null,
            "visibility": null,
            "width": null
          }
        },
        "7f00cdd75c9f47c4b9f16f407956111f": {
          "model_module": "@jupyter-widgets/controls",
          "model_name": "ProgressStyleModel",
          "model_module_version": "1.5.0",
          "state": {
            "_model_module": "@jupyter-widgets/controls",
            "_model_module_version": "1.5.0",
            "_model_name": "ProgressStyleModel",
            "_view_count": null,
            "_view_module": "@jupyter-widgets/base",
            "_view_module_version": "1.2.0",
            "_view_name": "StyleView",
            "bar_color": null,
            "description_width": ""
          }
        },
        "b295b80f993a44bbb2be00b378c518bc": {
          "model_module": "@jupyter-widgets/base",
          "model_name": "LayoutModel",
          "model_module_version": "1.2.0",
          "state": {
            "_model_module": "@jupyter-widgets/base",
            "_model_module_version": "1.2.0",
            "_model_name": "LayoutModel",
            "_view_count": null,
            "_view_module": "@jupyter-widgets/base",
            "_view_module_version": "1.2.0",
            "_view_name": "LayoutView",
            "align_content": null,
            "align_items": null,
            "align_self": null,
            "border": null,
            "bottom": null,
            "display": null,
            "flex": null,
            "flex_flow": null,
            "grid_area": null,
            "grid_auto_columns": null,
            "grid_auto_flow": null,
            "grid_auto_rows": null,
            "grid_column": null,
            "grid_gap": null,
            "grid_row": null,
            "grid_template_areas": null,
            "grid_template_columns": null,
            "grid_template_rows": null,
            "height": null,
            "justify_content": null,
            "justify_items": null,
            "left": null,
            "margin": null,
            "max_height": null,
            "max_width": null,
            "min_height": null,
            "min_width": null,
            "object_fit": null,
            "object_position": null,
            "order": null,
            "overflow": null,
            "overflow_x": null,
            "overflow_y": null,
            "padding": null,
            "right": null,
            "top": null,
            "visibility": null,
            "width": null
          }
        },
        "a0b08656a24d46a8af4493f544483407": {
          "model_module": "@jupyter-widgets/controls",
          "model_name": "DescriptionStyleModel",
          "model_module_version": "1.5.0",
          "state": {
            "_model_module": "@jupyter-widgets/controls",
            "_model_module_version": "1.5.0",
            "_model_name": "DescriptionStyleModel",
            "_view_count": null,
            "_view_module": "@jupyter-widgets/base",
            "_view_module_version": "1.2.0",
            "_view_name": "StyleView",
            "description_width": ""
          }
        },
        "ce32f8d9d26047dc889fde9d11b84189": {
          "model_module": "@jupyter-widgets/controls",
          "model_name": "HBoxModel",
          "model_module_version": "1.5.0",
          "state": {
            "_dom_classes": [],
            "_model_module": "@jupyter-widgets/controls",
            "_model_module_version": "1.5.0",
            "_model_name": "HBoxModel",
            "_view_count": null,
            "_view_module": "@jupyter-widgets/controls",
            "_view_module_version": "1.5.0",
            "_view_name": "HBoxView",
            "box_style": "",
            "children": [
              "IPY_MODEL_8c102acc489f4c39b569f253639edddf",
              "IPY_MODEL_e427667adc284ec2877d0d6f3b1dd66f",
              "IPY_MODEL_bf0ffe95691645ac9d63bb7abffd32f8"
            ],
            "layout": "IPY_MODEL_743261965f2a4cf9af7e1bffe27d671a"
          }
        },
        "8c102acc489f4c39b569f253639edddf": {
          "model_module": "@jupyter-widgets/controls",
          "model_name": "HTMLModel",
          "model_module_version": "1.5.0",
          "state": {
            "_dom_classes": [],
            "_model_module": "@jupyter-widgets/controls",
            "_model_module_version": "1.5.0",
            "_model_name": "HTMLModel",
            "_view_count": null,
            "_view_module": "@jupyter-widgets/controls",
            "_view_module_version": "1.5.0",
            "_view_name": "HTMLView",
            "description": "",
            "description_tooltip": null,
            "layout": "IPY_MODEL_1cc9230ea4974c93b2483da0565ffae2",
            "placeholder": "​",
            "style": "IPY_MODEL_0106a03baaf14df083b209030195c5ff",
            "value": "Downloading: 100%"
          }
        },
        "e427667adc284ec2877d0d6f3b1dd66f": {
          "model_module": "@jupyter-widgets/controls",
          "model_name": "FloatProgressModel",
          "model_module_version": "1.5.0",
          "state": {
            "_dom_classes": [],
            "_model_module": "@jupyter-widgets/controls",
            "_model_module_version": "1.5.0",
            "_model_name": "FloatProgressModel",
            "_view_count": null,
            "_view_module": "@jupyter-widgets/controls",
            "_view_module_version": "1.5.0",
            "_view_name": "ProgressView",
            "bar_style": "success",
            "description": "",
            "description_tooltip": null,
            "layout": "IPY_MODEL_86b2437202c740fc8777c605fbe26a1c",
            "max": 466062,
            "min": 0,
            "orientation": "horizontal",
            "style": "IPY_MODEL_930558b1349640938aa65ba844a758f2",
            "value": 466062
          }
        },
        "bf0ffe95691645ac9d63bb7abffd32f8": {
          "model_module": "@jupyter-widgets/controls",
          "model_name": "HTMLModel",
          "model_module_version": "1.5.0",
          "state": {
            "_dom_classes": [],
            "_model_module": "@jupyter-widgets/controls",
            "_model_module_version": "1.5.0",
            "_model_name": "HTMLModel",
            "_view_count": null,
            "_view_module": "@jupyter-widgets/controls",
            "_view_module_version": "1.5.0",
            "_view_name": "HTMLView",
            "description": "",
            "description_tooltip": null,
            "layout": "IPY_MODEL_a340b3d3a41b4bf6a95a93321ddd23ea",
            "placeholder": "​",
            "style": "IPY_MODEL_146aaf05ee5c433ab35a4a90162b50a6",
            "value": " 455k/455k [00:00&lt;00:00, 628kB/s]"
          }
        },
        "743261965f2a4cf9af7e1bffe27d671a": {
          "model_module": "@jupyter-widgets/base",
          "model_name": "LayoutModel",
          "model_module_version": "1.2.0",
          "state": {
            "_model_module": "@jupyter-widgets/base",
            "_model_module_version": "1.2.0",
            "_model_name": "LayoutModel",
            "_view_count": null,
            "_view_module": "@jupyter-widgets/base",
            "_view_module_version": "1.2.0",
            "_view_name": "LayoutView",
            "align_content": null,
            "align_items": null,
            "align_self": null,
            "border": null,
            "bottom": null,
            "display": null,
            "flex": null,
            "flex_flow": null,
            "grid_area": null,
            "grid_auto_columns": null,
            "grid_auto_flow": null,
            "grid_auto_rows": null,
            "grid_column": null,
            "grid_gap": null,
            "grid_row": null,
            "grid_template_areas": null,
            "grid_template_columns": null,
            "grid_template_rows": null,
            "height": null,
            "justify_content": null,
            "justify_items": null,
            "left": null,
            "margin": null,
            "max_height": null,
            "max_width": null,
            "min_height": null,
            "min_width": null,
            "object_fit": null,
            "object_position": null,
            "order": null,
            "overflow": null,
            "overflow_x": null,
            "overflow_y": null,
            "padding": null,
            "right": null,
            "top": null,
            "visibility": null,
            "width": null
          }
        },
        "1cc9230ea4974c93b2483da0565ffae2": {
          "model_module": "@jupyter-widgets/base",
          "model_name": "LayoutModel",
          "model_module_version": "1.2.0",
          "state": {
            "_model_module": "@jupyter-widgets/base",
            "_model_module_version": "1.2.0",
            "_model_name": "LayoutModel",
            "_view_count": null,
            "_view_module": "@jupyter-widgets/base",
            "_view_module_version": "1.2.0",
            "_view_name": "LayoutView",
            "align_content": null,
            "align_items": null,
            "align_self": null,
            "border": null,
            "bottom": null,
            "display": null,
            "flex": null,
            "flex_flow": null,
            "grid_area": null,
            "grid_auto_columns": null,
            "grid_auto_flow": null,
            "grid_auto_rows": null,
            "grid_column": null,
            "grid_gap": null,
            "grid_row": null,
            "grid_template_areas": null,
            "grid_template_columns": null,
            "grid_template_rows": null,
            "height": null,
            "justify_content": null,
            "justify_items": null,
            "left": null,
            "margin": null,
            "max_height": null,
            "max_width": null,
            "min_height": null,
            "min_width": null,
            "object_fit": null,
            "object_position": null,
            "order": null,
            "overflow": null,
            "overflow_x": null,
            "overflow_y": null,
            "padding": null,
            "right": null,
            "top": null,
            "visibility": null,
            "width": null
          }
        },
        "0106a03baaf14df083b209030195c5ff": {
          "model_module": "@jupyter-widgets/controls",
          "model_name": "DescriptionStyleModel",
          "model_module_version": "1.5.0",
          "state": {
            "_model_module": "@jupyter-widgets/controls",
            "_model_module_version": "1.5.0",
            "_model_name": "DescriptionStyleModel",
            "_view_count": null,
            "_view_module": "@jupyter-widgets/base",
            "_view_module_version": "1.2.0",
            "_view_name": "StyleView",
            "description_width": ""
          }
        },
        "86b2437202c740fc8777c605fbe26a1c": {
          "model_module": "@jupyter-widgets/base",
          "model_name": "LayoutModel",
          "model_module_version": "1.2.0",
          "state": {
            "_model_module": "@jupyter-widgets/base",
            "_model_module_version": "1.2.0",
            "_model_name": "LayoutModel",
            "_view_count": null,
            "_view_module": "@jupyter-widgets/base",
            "_view_module_version": "1.2.0",
            "_view_name": "LayoutView",
            "align_content": null,
            "align_items": null,
            "align_self": null,
            "border": null,
            "bottom": null,
            "display": null,
            "flex": null,
            "flex_flow": null,
            "grid_area": null,
            "grid_auto_columns": null,
            "grid_auto_flow": null,
            "grid_auto_rows": null,
            "grid_column": null,
            "grid_gap": null,
            "grid_row": null,
            "grid_template_areas": null,
            "grid_template_columns": null,
            "grid_template_rows": null,
            "height": null,
            "justify_content": null,
            "justify_items": null,
            "left": null,
            "margin": null,
            "max_height": null,
            "max_width": null,
            "min_height": null,
            "min_width": null,
            "object_fit": null,
            "object_position": null,
            "order": null,
            "overflow": null,
            "overflow_x": null,
            "overflow_y": null,
            "padding": null,
            "right": null,
            "top": null,
            "visibility": null,
            "width": null
          }
        },
        "930558b1349640938aa65ba844a758f2": {
          "model_module": "@jupyter-widgets/controls",
          "model_name": "ProgressStyleModel",
          "model_module_version": "1.5.0",
          "state": {
            "_model_module": "@jupyter-widgets/controls",
            "_model_module_version": "1.5.0",
            "_model_name": "ProgressStyleModel",
            "_view_count": null,
            "_view_module": "@jupyter-widgets/base",
            "_view_module_version": "1.2.0",
            "_view_name": "StyleView",
            "bar_color": null,
            "description_width": ""
          }
        },
        "a340b3d3a41b4bf6a95a93321ddd23ea": {
          "model_module": "@jupyter-widgets/base",
          "model_name": "LayoutModel",
          "model_module_version": "1.2.0",
          "state": {
            "_model_module": "@jupyter-widgets/base",
            "_model_module_version": "1.2.0",
            "_model_name": "LayoutModel",
            "_view_count": null,
            "_view_module": "@jupyter-widgets/base",
            "_view_module_version": "1.2.0",
            "_view_name": "LayoutView",
            "align_content": null,
            "align_items": null,
            "align_self": null,
            "border": null,
            "bottom": null,
            "display": null,
            "flex": null,
            "flex_flow": null,
            "grid_area": null,
            "grid_auto_columns": null,
            "grid_auto_flow": null,
            "grid_auto_rows": null,
            "grid_column": null,
            "grid_gap": null,
            "grid_row": null,
            "grid_template_areas": null,
            "grid_template_columns": null,
            "grid_template_rows": null,
            "height": null,
            "justify_content": null,
            "justify_items": null,
            "left": null,
            "margin": null,
            "max_height": null,
            "max_width": null,
            "min_height": null,
            "min_width": null,
            "object_fit": null,
            "object_position": null,
            "order": null,
            "overflow": null,
            "overflow_x": null,
            "overflow_y": null,
            "padding": null,
            "right": null,
            "top": null,
            "visibility": null,
            "width": null
          }
        },
        "146aaf05ee5c433ab35a4a90162b50a6": {
          "model_module": "@jupyter-widgets/controls",
          "model_name": "DescriptionStyleModel",
          "model_module_version": "1.5.0",
          "state": {
            "_model_module": "@jupyter-widgets/controls",
            "_model_module_version": "1.5.0",
            "_model_name": "DescriptionStyleModel",
            "_view_count": null,
            "_view_module": "@jupyter-widgets/base",
            "_view_module_version": "1.2.0",
            "_view_name": "StyleView",
            "description_width": ""
          }
        }
      }
    }
  },
  "nbformat": 4,
  "nbformat_minor": 0
}