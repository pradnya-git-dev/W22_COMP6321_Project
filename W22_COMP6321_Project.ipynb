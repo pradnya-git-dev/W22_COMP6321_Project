{
  "cells": [
    {
      "cell_type": "markdown",
      "metadata": {
        "id": "nz5gX7XkdGo8"
      },
      "source": [
        "1. Installing required modules"
      ]
    },
    {
      "cell_type": "code",
      "execution_count": null,
      "metadata": {
        "id": "0PWTVK1iaXKL"
      },
      "outputs": [],
      "source": [
        "# Installs required modules\n",
        "\n",
        "!pip install --upgrade watermark blackcellmagic\n",
        "!pip install datasets\n",
        "!pip install transformers\n",
        "!pip install \"ray[tune]\""
      ]
    },
    {
      "cell_type": "markdown",
      "metadata": {
        "id": "IheQ3gZTdQET"
      },
      "source": [
        "2. Importing required modules"
      ]
    },
    {
      "cell_type": "code",
      "execution_count": 2,
      "metadata": {
        "id": "Js-DLnUXa_RA"
      },
      "outputs": [],
      "source": [
        "# Loads Black extension and imports required modules\n",
        "%load_ext blackcellmagic\n",
        "\n",
        "import torch\n",
        "from datasets import load_dataset, DatasetDict, Features, Value, ClassLabel\n",
        "import pandas as pd\n",
        "import numpy as np\n",
        "import matplotlib.pyplot as plt\n",
        "from transformers import AutoTokenizer, AutoModel, AutoModelForSequenceClassification, Trainer, TrainingArguments, EarlyStoppingCallback\n",
        "from transformers import set_seed\n",
        "from sklearn.neural_network import MLPClassifier\n",
        "from sklearn.metrics import accuracy_score, precision_score, recall_score, f1_score, ConfusionMatrixDisplay, confusion_matrix, classification_report\n",
        "from ray.tune.suggest.hyperopt import HyperOptSearch\n",
        "from ray.tune.schedulers import ASHAScheduler\n",
        "from ray import tune\n",
        "import json\n",
        "import os\n",
        "import shutil\n",
        "from joblib import dump, load\n",
        "\n",
        "# Sets seeds to zero\n",
        "set_seed(0)\n",
        "torch.manual_seed(0)\n",
        "np.random.seed(0)"
      ]
    },
    {
      "cell_type": "markdown",
      "metadata": {
        "id": "DeqViK9HdT0o"
      },
      "source": [
        "3. Defining utility functions for the entire project"
      ]
    },
    {
      "cell_type": "code",
      "execution_count": 28,
      "metadata": {
        "id": "NlmT51ZJcCf_"
      },
      "outputs": [],
      "source": [
        "def prepare_dataset(working_dir=os.getcwd()):\n",
        "  \"\"\"This function prepares and returns the dataset for the project.\n",
        "\n",
        "  Arguments\n",
        "  ---------\n",
        "  working_dir : str\n",
        "    A string value representing the current working directory \n",
        "  \n",
        "  Returns\n",
        "  ---------\n",
        "  project_dataset : datasets.Dataset\n",
        "    A Dataset object containing the train, validation, and test data\n",
        "  \"\"\"\n",
        "\n",
        "  train_file = working_dir + \"/train_dataset_processed.csv\"\n",
        "  test_file = working_dir + \"/test_dataset_processed.csv\"\n",
        "\n",
        "  data_files = {\"train\": train_file, \"test\": test_file}\n",
        "  class_names = [\"negative\", \"neutral\", \"positive\"]\n",
        "  data_columns = Features({\"label\": ClassLabel(names=class_names), \"text\": Value(\"string\")})\n",
        "  original_data = load_dataset(\"csv\", data_files=data_files, column_names=[\"label\", \"text\"], features=data_columns)\n",
        "\n",
        "  train_valid_data = original_data[\"train\"].train_test_split(test_size=0.2)\n",
        "  train_dataset = train_valid_data[\"train\"]\n",
        "  valid_dataset = train_valid_data[\"test\"]\n",
        "  project_dataset = DatasetDict({\n",
        "      \"train\": train_dataset,\n",
        "      \"valid\": valid_dataset,\n",
        "      \"test\": original_data[\"test\"]})\n",
        "\n",
        "  # Removing empty text entries\n",
        "  project_dataset = project_dataset.filter(lambda example: example[\"text\"] != None)\n",
        "  return project_dataset\n",
        "\n",
        "\n",
        "def plot_confusion_matrix(y_preds, y_true, labels, title):\n",
        "  \"\"\"This function displays the confusion matrix for provided predictions by a classifier.\n",
        "\n",
        "  Arguments\n",
        "  ---------\n",
        "  y_preds : numpy.ndarray\n",
        "    Predictions by a classifier\n",
        "  y_true : numpy.ndarray\n",
        "    Labels corresponding to the predictions in y_preds\n",
        "  labels : list\n",
        "    Label names to be used for the confusion matrix\n",
        "  title : str\n",
        "    Title to be used for the confusion matrix\n",
        "\n",
        "  \"\"\"\n",
        "\n",
        "  cm = confusion_matrix(y_true, y_preds, normalize=\"true\")\n",
        "  fix, ax = plt.subplots(figsize=(6, 6))\n",
        "  cm_display = ConfusionMatrixDisplay(confusion_matrix=cm, display_labels=labels)\n",
        "  cm_display.plot(cmap=\"Blues\", values_format=\".2f\", ax=ax, colorbar=False)\n",
        "  plt.title(\"Normalized confusion matrix for \" + title)\n",
        "  plt.show()\n",
        "\n",
        "def print_classification_report(y_preds, y_true, title):\n",
        "  \"\"\"This function displays the classification report for provided predictions by a classifier.\n",
        "\n",
        "  Arguments\n",
        "  ---------\n",
        "  y_preds : numpy.ndarray\n",
        "    Predictions by a classifier\n",
        "  y_true : numpy.ndarray\n",
        "    Labels corresponding to the predictions in y_preds\n",
        "  title : str\n",
        "    Title to be used for the confusion matrix\n",
        "\n",
        "  \"\"\"\n",
        "\n",
        "  labels = [\"negative\", \"neutral\", \"positive\"]\n",
        "  plot_confusion_matrix(y_preds, y_true, labels, title)\n",
        "  print(\"\\n\")\n",
        "  print(\"Classification report for \" + title)\n",
        "  acc = accuracy_score(y_true, y_preds)\n",
        "  f1 = f1_score(y_true, y_preds, average=\"weighted\")\n",
        "  prec = precision_score(y_true, y_preds, average=\"weighted\")\n",
        "  rec = recall_score(y_true, y_preds, average=\"weighted\")\n",
        "  \n",
        "  print(\"-\" * 75)\n",
        "  print(\"Accuracy: %.2f%%\" % (acc * 100))\n",
        "  print(\"Precision: %.2f%%\" % (prec * 100) )\n",
        "  print(\"Recall: %.2f%%\" % (rec * 100))\n",
        "  print(\"F1 score: %.2f%%\" % (f1 * 100) )\n",
        "  print(\"-\" * 75)\n",
        "  print(\"\\n\\n\")\n",
        "\n",
        "def display_data_properties(dataset):\n",
        "  \"\"\"This function displays data distribution among different classes in the dataset.\n",
        "\n",
        "  Arguments\n",
        "  ---------\n",
        "  dataset : datasets.Dataset\n",
        "    A Dataset object containing one or more of the following -  train, validation, and test data\n",
        "\n",
        "  \"\"\"\n",
        "\n",
        "  # Uses pandas to display the data distribution\n",
        "  dataset.set_format(type=\"pandas\")\n",
        "  train_df = dataset[\"train\"][:]\n",
        "  valid_df = dataset[\"valid\"][:]\n",
        "  test_df = dataset[\"test\"][:]\n",
        "\n",
        "  def label_int2str(row):\n",
        "    \"\"\"\n",
        "    This function converts a label's integer value to a string value.\n",
        "\n",
        "    Arguments\n",
        "    ---------\n",
        "    row : int\n",
        "      Integer value of the label\n",
        "    \n",
        "    \"\"\"\n",
        "\n",
        "    return dataset[\"train\"].features[\"label\"].int2str(row)\n",
        "\n",
        "  train_df[\"label_name\"] = train_df[\"label\"].apply(label_int2str)\n",
        "  valid_df[\"label_name\"] = valid_df[\"label\"].apply(label_int2str)\n",
        "  test_df[\"label_name\"] = test_df[\"label\"].apply(label_int2str)\n",
        "\n",
        "  print(\"Displaying the first 5 examples of the training dataset: \")\n",
        "  print(\"-\" * 75)\n",
        "  print(train_df.head())\n",
        "  print(\"-\" * 75)\n",
        "\n",
        "  # Displays the frequency of classes in the training data\n",
        "  train_df[\"label_name\"].value_counts(ascending=True).plot.barh()\n",
        "  plt.title(\"Frequency of Classes in training data\")\n",
        "  plt.show()\n",
        "\n",
        "  # Displays the frequency of classes in the validation data\n",
        "  plt.figure()\n",
        "  valid_df[\"label_name\"].value_counts(ascending=True).plot.barh()\n",
        "  plt.title(\"Frequency of Classes in validation data\")\n",
        "  plt.show()\n",
        "\n",
        "  # Displays the frequency of classes in the test data\n",
        "  plt.figure()\n",
        "  test_df[\"label_name\"].value_counts(ascending=True).plot.barh()\n",
        "  plt.title(\"Frequency of Classes in test data\")\n",
        "  plt.show()\n",
        "\n",
        "  # Resetting the dataset format\n",
        "  dataset.reset_format()"
      ]
    },
    {
      "cell_type": "markdown",
      "metadata": {
        "id": "miTximE1zPA3"
      },
      "source": [
        "# 2. Transformers section"
      ]
    },
    {
      "cell_type": "markdown",
      "metadata": {
        "id": "fdESdns8dckQ"
      },
      "source": [
        "## 2.1. Completing project setup for transformer models"
      ]
    },
    {
      "cell_type": "markdown",
      "source": [
        "The below code cell is used to provide the value for \"model_checkpoint\" as one of the following: \"distilbert-base-uncased\" or \"bert-base-uncased\".\n",
        "\n",
        "This sets the pretrained transformer model to be used for the current execution of the model as either BERT or DistilBERT."
      ],
      "metadata": {
        "id": "qhkgqrref9L7"
      }
    },
    {
      "cell_type": "code",
      "execution_count": 17,
      "metadata": {
        "id": "SyPJopidcKWT",
        "colab": {
          "base_uri": "https://localhost:8080/",
          "height": 1000,
          "referenced_widgets": [
            "3a0b4d647de749769ce41d31bf5355df",
            "149aeedff7a6407daaa2ed1fc16bac2f",
            "f506ef684fd644c8a527a3b8e1b1c2a1",
            "74683664150a4cdebf83e63af810ddb2",
            "d51eb84326304feeae28212430d632fa",
            "a46c25a9a1b843089b7dd4246b8c3fd4",
            "9258dddff9014f7fbccf7f53162b9eb2",
            "d6315b02c9b344ae9db868b59273c44d",
            "374ccdfdf08646ef93c6c49e43b953a5",
            "2bee974453c94540ad89b15c0acacb86",
            "6404792adc1f40658322a0266b645587",
            "7cc178060af8454295f71d6c14acb92f",
            "1bd205407a0c43d782199338aa55aeca",
            "4199ae18341144fdb48077482e8e8441",
            "ea2b937f41ae42039eed62edc5979c4c",
            "ccd10c17cbe14c2e90e7b595c298a85a",
            "e52dd2b4106b4c7a9892f10258c220c3",
            "ccfd4bbaf59f462aa3ceca686d9fcc12",
            "efb5d87ecdf146d39e2caa31b970b681",
            "e94e6329d54b47fd9fde4ae945479fd9",
            "c0fda65a483d4f5ba0b0be04d35dde82",
            "bc0defb688be4a55b661533fc26c5557",
            "24d878480427442fb892ef77e74caf7d",
            "d8c0551a1db148e28b785f31a8a0173f",
            "ed9e61dcbfff4d6f9e845afa4a2f8b12",
            "3b7e2a61d9ee4cd3b3f5c2847d86a11d",
            "a9d79c47259140a098d14f7b7a92bea4",
            "3e50c07efbd14c93bb81265cd8f0f79f",
            "3e0c744281324ba2b8ba72d4f3171423",
            "fce5a35d9a224fa5aca4f670a173b671",
            "750082504eb24047b0cef3485db55ffd",
            "e042f43c268f49c890e47c87194d0a13",
            "fd0a0ee82ca54465beb86c95c51bb797"
          ]
        },
        "outputId": "1d2a2d02-df13-4571-b9e0-9977fd05544b"
      },
      "outputs": [
        {
          "output_type": "stream",
          "name": "stderr",
          "text": [
            "Using custom data configuration default-18544bdb167fe355\n",
            "Reusing dataset csv (/root/.cache/huggingface/datasets/csv/default-18544bdb167fe355/0.0.0/433e0ccc46f9880962cc2b12065189766fbb2bee57a221866138fb9203c83519)\n"
          ]
        },
        {
          "output_type": "display_data",
          "data": {
            "text/plain": [
              "  0%|          | 0/2 [00:00<?, ?it/s]"
            ],
            "application/vnd.jupyter.widget-view+json": {
              "version_major": 2,
              "version_minor": 0,
              "model_id": "3a0b4d647de749769ce41d31bf5355df"
            }
          },
          "metadata": {}
        },
        {
          "output_type": "display_data",
          "data": {
            "text/plain": [
              "  0%|          | 0/23 [00:00<?, ?ba/s]"
            ],
            "application/vnd.jupyter.widget-view+json": {
              "version_major": 2,
              "version_minor": 0,
              "model_id": "7cc178060af8454295f71d6c14acb92f"
            }
          },
          "metadata": {}
        },
        {
          "output_type": "display_data",
          "data": {
            "text/plain": [
              "  0%|          | 0/6 [00:00<?, ?ba/s]"
            ],
            "application/vnd.jupyter.widget-view+json": {
              "version_major": 2,
              "version_minor": 0,
              "model_id": "24d878480427442fb892ef77e74caf7d"
            }
          },
          "metadata": {}
        },
        {
          "output_type": "stream",
          "name": "stderr",
          "text": [
            "Loading cached processed dataset at /root/.cache/huggingface/datasets/csv/default-18544bdb167fe355/0.0.0/433e0ccc46f9880962cc2b12065189766fbb2bee57a221866138fb9203c83519/cache-4fae9f731bc42261.arrow\n",
            "loading configuration file https://huggingface.co/distilbert-base-uncased/resolve/main/config.json from cache at /root/.cache/huggingface/transformers/23454919702d26495337f3da04d1655c7ee010d5ec9d77bdb9e399e00302c0a1.91b885ab15d631bf9cee9dc9d25ece0afd932f2f5130eba28f2055b2220c0333\n",
            "Model config DistilBertConfig {\n",
            "  \"_name_or_path\": \"distilbert-base-uncased\",\n",
            "  \"activation\": \"gelu\",\n",
            "  \"architectures\": [\n",
            "    \"DistilBertForMaskedLM\"\n",
            "  ],\n",
            "  \"attention_dropout\": 0.1,\n",
            "  \"dim\": 768,\n",
            "  \"dropout\": 0.1,\n",
            "  \"hidden_dim\": 3072,\n",
            "  \"initializer_range\": 0.02,\n",
            "  \"max_position_embeddings\": 512,\n",
            "  \"model_type\": \"distilbert\",\n",
            "  \"n_heads\": 12,\n",
            "  \"n_layers\": 6,\n",
            "  \"pad_token_id\": 0,\n",
            "  \"qa_dropout\": 0.1,\n",
            "  \"seq_classif_dropout\": 0.2,\n",
            "  \"sinusoidal_pos_embds\": false,\n",
            "  \"tie_weights_\": true,\n",
            "  \"transformers_version\": \"4.18.0\",\n",
            "  \"vocab_size\": 30522\n",
            "}\n",
            "\n",
            "loading file https://huggingface.co/distilbert-base-uncased/resolve/main/vocab.txt from cache at /root/.cache/huggingface/transformers/0e1bbfda7f63a99bb52e3915dcf10c3c92122b827d92eb2d34ce94ee79ba486c.d789d64ebfe299b0e416afc4a169632f903f693095b4629a7ea271d5a0cf2c99\n",
            "loading file https://huggingface.co/distilbert-base-uncased/resolve/main/tokenizer.json from cache at /root/.cache/huggingface/transformers/75abb59d7a06f4f640158a9bfcde005264e59e8d566781ab1415b139d2e4c603.7f2721073f19841be16f41b0a70b600ca6b880c8f3df6f3535cbc704371bdfa4\n",
            "loading file https://huggingface.co/distilbert-base-uncased/resolve/main/added_tokens.json from cache at None\n",
            "loading file https://huggingface.co/distilbert-base-uncased/resolve/main/special_tokens_map.json from cache at None\n",
            "loading file https://huggingface.co/distilbert-base-uncased/resolve/main/tokenizer_config.json from cache at /root/.cache/huggingface/transformers/8c8624b8ac8aa99c60c912161f8332de003484428c47906d7ff7eb7f73eecdbb.20430bd8e10ef77a7d2977accefe796051e01bc2fc4aa146bc862997a1a15e79\n",
            "loading configuration file https://huggingface.co/distilbert-base-uncased/resolve/main/config.json from cache at /root/.cache/huggingface/transformers/23454919702d26495337f3da04d1655c7ee010d5ec9d77bdb9e399e00302c0a1.91b885ab15d631bf9cee9dc9d25ece0afd932f2f5130eba28f2055b2220c0333\n",
            "Model config DistilBertConfig {\n",
            "  \"_name_or_path\": \"distilbert-base-uncased\",\n",
            "  \"activation\": \"gelu\",\n",
            "  \"architectures\": [\n",
            "    \"DistilBertForMaskedLM\"\n",
            "  ],\n",
            "  \"attention_dropout\": 0.1,\n",
            "  \"dim\": 768,\n",
            "  \"dropout\": 0.1,\n",
            "  \"hidden_dim\": 3072,\n",
            "  \"initializer_range\": 0.02,\n",
            "  \"max_position_embeddings\": 512,\n",
            "  \"model_type\": \"distilbert\",\n",
            "  \"n_heads\": 12,\n",
            "  \"n_layers\": 6,\n",
            "  \"pad_token_id\": 0,\n",
            "  \"qa_dropout\": 0.1,\n",
            "  \"seq_classif_dropout\": 0.2,\n",
            "  \"sinusoidal_pos_embds\": false,\n",
            "  \"tie_weights_\": true,\n",
            "  \"transformers_version\": \"4.18.0\",\n",
            "  \"vocab_size\": 30522\n",
            "}\n",
            "\n"
          ]
        }
      ],
      "source": [
        "model_checkpoint = \"distilbert-base-uncased\"\n",
        "\n",
        "working_dir = os.getcwd()   # Sets the working directory for the project\n",
        "project_dataset = prepare_dataset()\n",
        "device = torch.device(\"cuda\" if torch.cuda.is_available() else \"cpu\")\n",
        "\n",
        "class_samples = [9023, 12366, 6416]\n",
        "class_weights = [1 - (x / sum(class_samples)) for x in class_samples]\n",
        "class_weights = torch.FloatTensor(class_weights).to(device)\n",
        "\n",
        "if not os.path.exists(working_dir + \"/output-\" + model_checkpoint):\n",
        "  os.makedirs(working_dir + \"/output-\" + model_checkpoint)\n",
        "model_output_dir = working_dir + \"/output-\" + model_checkpoint\n",
        "\n",
        "if not os.path.exists(working_dir + \"/best_models/\" + model_checkpoint):\n",
        "  os.makedirs(working_dir + \"/best_models/\" + model_checkpoint)\n",
        "\n",
        "# Instantiates a tokenizer based on the provided name of the pretrained model\n",
        "tokenizer = AutoTokenizer.from_pretrained(model_checkpoint)"
      ]
    },
    {
      "cell_type": "markdown",
      "source": [
        "Verifying the project setup"
      ],
      "metadata": {
        "id": "jURTsInJe_QX"
      }
    },
    {
      "cell_type": "code",
      "source": [
        "assert isinstance(working_dir, str), \"Expected working_dir to be a string value\"\n",
        "assert working_dir == os.getcwd(), \"Expected working_dir to be the current working dir\"\n",
        "assert isinstance(class_samples, list), \"Expected class_samples to be a list\"\n",
        "assert isinstance(class_weights, torch.Tensor), \"Expected class_weights to be a torch.Tensor\"\n",
        "assert model_checkpoint == \"distilbert-base-uncased\" or model_checkpoint == \"bert-base-uncased\", \"Expected model_checkpoint to be either \\\"distilbert-base-uncased\\\" or \\\"bert-base-uncased\\\"\"\n",
        "assert model_output_dir == working_dir + \"/output-\" + model_checkpoint, \"Unexpected value for model_outpur_dir\""
      ],
      "metadata": {
        "colab": {
          "base_uri": "https://localhost:8080/"
        },
        "id": "Ci5llkDUaeHx",
        "outputId": "16bac918-aef3-4268-b2a0-9fa29c2ff26e"
      },
      "execution_count": 15,
      "outputs": [
        {
          "output_type": "stream",
          "name": "stdout",
          "text": [
            "<class 'transformers.models.distilbert.tokenization_distilbert_fast.DistilBertTokenizerFast'>\n"
          ]
        }
      ]
    },
    {
      "cell_type": "markdown",
      "metadata": {
        "id": "33uwRiHu0IlS"
      },
      "source": [
        "## 2.2 Preparing input data"
      ]
    },
    {
      "cell_type": "markdown",
      "metadata": {
        "id": "TJuFF5nXwzs5"
      },
      "source": [
        "2.2.1. Tokenizating the input"
      ]
    },
    {
      "cell_type": "code",
      "execution_count": 18,
      "metadata": {
        "id": "Hupzd_EpeRGy",
        "colab": {
          "base_uri": "https://localhost:8080/",
          "height": 119,
          "referenced_widgets": [
            "2be68d0b6386423489315c818fc09363",
            "7350e0e202a648378913e8ee8b0b07be",
            "7935f53fdcbd4c17a1ec0414363bab0c",
            "c61c2247d6464417b74e574532a6ba38",
            "1d7d76fd7e774accb1928e80de543eac",
            "c1758decd7b24b07b4323c4a7c4c94e7",
            "6dee3b3596f449e08787b9a023547cdd",
            "dc46e1823da14837b5a4678bdae32f35",
            "9e641a3017c1492c8a041a46bc3c4e3c",
            "fd9d39d5c60949699215c68edf107381",
            "ff30b46cfcc24f81a8a4ef73c7653d57",
            "8e2409a8924c4125aebc36aa88b4c3b2",
            "44b99c74e25a405094d8493f936c5ead",
            "38a11e697c854883b9a0c928ae690793",
            "b917aad1fb854be8930112ffad6061fa",
            "b9ee45b7159f49c6be91cb27d7c7df7f",
            "c91d9b63f25144ba807c3a721062536b",
            "8a02dc1d5a9b40e9870f161da4446acf",
            "a3d8fadf7a0b4d2a886872d9930d75f3",
            "3e0d2289cd7947729f3b71d5e5aad576",
            "8d03bef2dcf54b46afaa763e8a4064d0",
            "f64562bdc47e45d5a2887eb90ef40db4"
          ]
        },
        "outputId": "0c5e23fc-c04d-4695-c550-680286ad6bdd"
      },
      "outputs": [
        {
          "output_type": "display_data",
          "data": {
            "text/plain": [
              "  0%|          | 0/1 [00:00<?, ?ba/s]"
            ],
            "application/vnd.jupyter.widget-view+json": {
              "version_major": 2,
              "version_minor": 0,
              "model_id": "2be68d0b6386423489315c818fc09363"
            }
          },
          "metadata": {}
        },
        {
          "output_type": "display_data",
          "data": {
            "text/plain": [
              "  0%|          | 0/1 [00:00<?, ?ba/s]"
            ],
            "application/vnd.jupyter.widget-view+json": {
              "version_major": 2,
              "version_minor": 0,
              "model_id": "8e2409a8924c4125aebc36aa88b4c3b2"
            }
          },
          "metadata": {}
        },
        {
          "output_type": "stream",
          "name": "stderr",
          "text": [
            "Loading cached processed dataset at /root/.cache/huggingface/datasets/csv/default-18544bdb167fe355/0.0.0/433e0ccc46f9880962cc2b12065189766fbb2bee57a221866138fb9203c83519/cache-5299531d32bec648.arrow\n"
          ]
        }
      ],
      "source": [
        "def encode_dataset(tokenizer, project_dataset):\n",
        "  \"\"\"This function uses the provided tokenizer to encode project dataset.\n",
        "\n",
        "  Arguments\n",
        "  ---------\n",
        "  tokenizer : \n",
        "    The tokenizer intantiated based on the pretrained model being used for the project\n",
        "  project_dataset : datasets.Dataset\n",
        "    A Dataset object containing one or more of the samples and their labels\n",
        "  \n",
        "  Returns\n",
        "  ---------\n",
        "  dataset_encoded : datasets.dataset_dict.DatasetDict\n",
        "    The encoded samples and their labels\n",
        "  \"\"\"\n",
        "  \n",
        "  # Initializes the tokenizer\n",
        "  tokenizer = tokenizer\n",
        "\n",
        "  # Defines the tokenization function\n",
        "  def tokenize(batch):\n",
        "    \"\"\"This function applies tokenizer to a batch of samples\n",
        "\n",
        "    Arguments\n",
        "    ---------\n",
        "    batch : \n",
        "      A batch of samples\n",
        "    \"\"\"\n",
        "    return tokenizer(batch[\"text\"], padding=True, truncation=True)\n",
        "    \n",
        "  # Applies the tokenize function to the provided project_dataset\n",
        "  return project_dataset.map(tokenize, batched=True, batch_size=None)\n",
        "\n",
        "dataset_encoded = encode_dataset(tokenizer, project_dataset)"
      ]
    },
    {
      "cell_type": "markdown",
      "metadata": {
        "id": "UC0-hA3q0PUR"
      },
      "source": [
        "## 2.3 Training a classifier"
      ]
    },
    {
      "cell_type": "markdown",
      "metadata": {
        "id": "K3PVEukD0WuQ"
      },
      "source": [
        "### 2.3.1 Training a classifier using feature extraction"
      ]
    },
    {
      "cell_type": "markdown",
      "metadata": {
        "id": "aXYWhi1opY1f"
      },
      "source": [
        "2.3.1.1 Extracting the last hidden states"
      ]
    },
    {
      "cell_type": "code",
      "execution_count": 19,
      "metadata": {
        "id": "KOkRKG1FpVoF",
        "colab": {
          "base_uri": "https://localhost:8080/",
          "height": 686,
          "referenced_widgets": [
            "f7bfc1402f744d04a137d7970f054e80",
            "ad0b54c049f44ac799aecba3fafe3ee3",
            "394b8e5fbe1a42d890cc7b6e265bffcb",
            "391e8922bea3457cbef8f4e7dc4fd774",
            "d15e3deecc194696b7f3d77dd496cddd",
            "137af4f89cd8453bb74aafa67a62049b",
            "08bf7897f58142658ff5d3c78774ff53",
            "c11f0343de8641b5bc58c19ad50912c2",
            "bb38b46492a34a6bb4d05241c3aa9b23",
            "d496144fe2f94a638b418238263778bc",
            "67d5e4a1f72c4cbebb5ea87ac75d7f73",
            "658121cbb12146e6a49ba92f38005917",
            "daf07a96808b4396aacb0332226fd8ea",
            "902eda0ab9364b43b788368b3d6cb089",
            "af1c6d32107d40b88bb5bd3ddcdc72d5",
            "b83b4a42c51e456fa1239267c8c26262",
            "a82dda45fcce4af6af19eb6605a4de8e",
            "28b5dcc84bec4563abfc0ed190f27c6f",
            "8967b0b791864b67b3b6287b2bff830e",
            "b1ce2370cb0940f2a43b149e1ccbfb18",
            "628a6af014de4b5e9f15f56d65615c88",
            "a525703aeb214e0093e6c6b868803a35",
            "d3939e801a544b27a72ea9e54e2ad27f",
            "a3ba04bea05e4bbaa95bff4eec2ec5f0",
            "8d71ca245d8149369886163888ab8b1a",
            "737a6ab90a5f46bba92f2b6f8dfcd137",
            "88d5fd84b0494517bb8c9c7203b7e222",
            "57414716d2fd45188f0137b7f847b736",
            "e57e905e6f174b6bbcf9c62a9e20bc11",
            "2415209959e44ea5b5da73e6b42b41cf",
            "07bef961ac784589bf59aefcff193b15",
            "f5460a9814f8464c87e8f28add2d2d4f",
            "2ac8aeed4467497d992121aa0e1460cc"
          ]
        },
        "outputId": "ff4b82df-8937-4fbb-d0ea-fcb1c3f938e7"
      },
      "outputs": [
        {
          "output_type": "stream",
          "name": "stderr",
          "text": [
            "loading configuration file https://huggingface.co/distilbert-base-uncased/resolve/main/config.json from cache at /root/.cache/huggingface/transformers/23454919702d26495337f3da04d1655c7ee010d5ec9d77bdb9e399e00302c0a1.91b885ab15d631bf9cee9dc9d25ece0afd932f2f5130eba28f2055b2220c0333\n",
            "Model config DistilBertConfig {\n",
            "  \"_name_or_path\": \"distilbert-base-uncased\",\n",
            "  \"activation\": \"gelu\",\n",
            "  \"architectures\": [\n",
            "    \"DistilBertForMaskedLM\"\n",
            "  ],\n",
            "  \"attention_dropout\": 0.1,\n",
            "  \"dim\": 768,\n",
            "  \"dropout\": 0.1,\n",
            "  \"hidden_dim\": 3072,\n",
            "  \"initializer_range\": 0.02,\n",
            "  \"max_position_embeddings\": 512,\n",
            "  \"model_type\": \"distilbert\",\n",
            "  \"n_heads\": 12,\n",
            "  \"n_layers\": 6,\n",
            "  \"pad_token_id\": 0,\n",
            "  \"qa_dropout\": 0.1,\n",
            "  \"seq_classif_dropout\": 0.2,\n",
            "  \"sinusoidal_pos_embds\": false,\n",
            "  \"tie_weights_\": true,\n",
            "  \"transformers_version\": \"4.18.0\",\n",
            "  \"vocab_size\": 30522\n",
            "}\n",
            "\n",
            "loading weights file https://huggingface.co/distilbert-base-uncased/resolve/main/pytorch_model.bin from cache at /root/.cache/huggingface/transformers/9c169103d7e5a73936dd2b627e42851bec0831212b677c637033ee4bce9ab5ee.126183e36667471617ae2f0835fab707baa54b731f991507ebbb55ea85adb12a\n",
            "Some weights of the model checkpoint at distilbert-base-uncased were not used when initializing DistilBertModel: ['vocab_layer_norm.bias', 'vocab_layer_norm.weight', 'vocab_transform.weight', 'vocab_projector.weight', 'vocab_projector.bias', 'vocab_transform.bias']\n",
            "- This IS expected if you are initializing DistilBertModel from the checkpoint of a model trained on another task or with another architecture (e.g. initializing a BertForSequenceClassification model from a BertForPreTraining model).\n",
            "- This IS NOT expected if you are initializing DistilBertModel from the checkpoint of a model that you expect to be exactly identical (initializing a BertForSequenceClassification model from a BertForSequenceClassification model).\n",
            "All the weights of DistilBertModel were initialized from the model checkpoint at distilbert-base-uncased.\n",
            "If your task is similar to the task the model of the checkpoint was trained on, you can already use DistilBertModel for predictions without further training.\n"
          ]
        },
        {
          "output_type": "display_data",
          "data": {
            "text/plain": [
              "  0%|          | 0/23 [00:00<?, ?ba/s]"
            ],
            "application/vnd.jupyter.widget-view+json": {
              "version_major": 2,
              "version_minor": 0,
              "model_id": "f7bfc1402f744d04a137d7970f054e80"
            }
          },
          "metadata": {}
        },
        {
          "output_type": "display_data",
          "data": {
            "text/plain": [
              "  0%|          | 0/6 [00:00<?, ?ba/s]"
            ],
            "application/vnd.jupyter.widget-view+json": {
              "version_major": 2,
              "version_minor": 0,
              "model_id": "658121cbb12146e6a49ba92f38005917"
            }
          },
          "metadata": {}
        },
        {
          "output_type": "display_data",
          "data": {
            "text/plain": [
              "  0%|          | 0/2 [00:00<?, ?ba/s]"
            ],
            "application/vnd.jupyter.widget-view+json": {
              "version_major": 2,
              "version_minor": 0,
              "model_id": "d3939e801a544b27a72ea9e54e2ad27f"
            }
          },
          "metadata": {}
        }
      ],
      "source": [
        "def extract_hidden_states_features(model_checkpoint, dataset_encoded):\n",
        "\n",
        "  model = AutoModel.from_pretrained(model_checkpoint).to(device)\n",
        "\n",
        "  # Extracting the last hidden states\n",
        "  def extract_hidden_states(batch):\n",
        "    inputs = {k:v.to(device) for k,v in batch.items() if k in tokenizer.model_input_names}\n",
        "    with torch.no_grad():\n",
        "      last_hidden_state = model(**inputs).last_hidden_state\n",
        "    return {\"hidden_state\": last_hidden_state[:, 0].cpu().numpy()}\n",
        "\n",
        "  # Extracting hidden states across all dataset splits in one go\n",
        "  dataset_encoded.set_format(\"torch\", columns=[\"input_ids\", \"attention_mask\", \"label\"])\n",
        "  dataset_hidden = dataset_encoded.map(extract_hidden_states, batched=True)\n",
        "\n",
        "  return dataset_hidden\n",
        "\n",
        "dataset_hidden = extract_hidden_states_features(model_checkpoint, dataset_encoded)"
      ]
    },
    {
      "cell_type": "markdown",
      "metadata": {
        "id": "Q2514Zq61eia"
      },
      "source": [
        "2.3.1.2 Creating train, validation, test datasets of the hidden states as required for the classifier"
      ]
    },
    {
      "cell_type": "code",
      "execution_count": 20,
      "metadata": {
        "id": "5CLnSniv1jez"
      },
      "outputs": [],
      "source": [
        "# Creating a feature matrix\n",
        "X_train = np.array(dataset_hidden[\"train\"][\"hidden_state\"])\n",
        "X_valid = np.array(dataset_hidden[\"valid\"][\"hidden_state\"])\n",
        "X_test = np.array(dataset_hidden[\"test\"][\"hidden_state\"])\n",
        "y_train = np.array(dataset_hidden[\"train\"][\"label\"])\n",
        "y_valid = np.array(dataset_hidden[\"valid\"][\"label\"])\n",
        "y_test = np.array(dataset_hidden[\"test\"][\"label\"])"
      ]
    },
    {
      "cell_type": "markdown",
      "metadata": {
        "id": "KCS6ZHs52Osv"
      },
      "source": [
        "2.3.1.3 Training an MLP classifier using the hidden states and labels"
      ]
    },
    {
      "cell_type": "code",
      "execution_count": 21,
      "metadata": {
        "id": "U4cwLzs_2Slt",
        "colab": {
          "base_uri": "https://localhost:8080/"
        },
        "outputId": "d89200a7-c06f-49fc-8860-c32ca722e006"
      },
      "outputs": [
        {
          "output_type": "stream",
          "name": "stdout",
          "text": [
            "Training accuracy: 54.96 %\n",
            "Validation accuracy: 47.51 %\n"
          ]
        }
      ],
      "source": [
        "mlp = MLPClassifier(random_state=0,\n",
        "                    validation_fraction=0.2, \n",
        "                    early_stopping=True)\n",
        "mlp.fit(X_train, y_train)\n",
        "print(\"Training accuracy: %.2f %%\" % (mlp.score(X_train, y_train) * 100))\n",
        "print(\"Validation accuracy: %.2f %%\"  % (mlp.score(X_valid, y_valid) * 100))"
      ]
    },
    {
      "cell_type": "markdown",
      "metadata": {
        "id": "7D9P7hzRMs43"
      },
      "source": [
        "2.3.1.4 Generating results to document a baseline"
      ]
    },
    {
      "cell_type": "markdown",
      "metadata": {
        "id": "oQBLGRe2N4Bq"
      },
      "source": [
        "Plots the training loss and validation accuracy of the MLP model"
      ]
    },
    {
      "cell_type": "code",
      "execution_count": 22,
      "metadata": {
        "id": "MnH88pr27DU2",
        "colab": {
          "base_uri": "https://localhost:8080/",
          "height": 265
        },
        "outputId": "e910c4c3-9b77-408e-e89a-a32935d3546f"
      },
      "outputs": [
        {
          "output_type": "display_data",
          "data": {
            "text/plain": [
              "<Figure size 432x288 with 1 Axes>"
            ],
            "image/png": "[encoded data removed]"
          },
          "metadata": {
            "needs_background": "light"
          }
        }
      ],
      "source": [
        "plt.plot(mlp.loss_curve_, label=\"training loss\")\n",
        "plt.plot(mlp.validation_scores_, label=\"validation accuracy\")\n",
        "plt.legend();"
      ]
    },
    {
      "cell_type": "markdown",
      "metadata": {
        "id": "EmVL8NgFXZ8X"
      },
      "source": [
        "Provides the confusion matrix and classification report for validation data and test data of the project"
      ]
    },
    {
      "cell_type": "code",
      "execution_count": 29,
      "metadata": {
        "id": "DDhp-lRz7Z0a",
        "colab": {
          "base_uri": "https://localhost:8080/",
          "height": 1000
        },
        "outputId": "d509f0f3-6326-4375-f401-6954a3f781e9"
      },
      "outputs": [
        {
          "output_type": "display_data",
          "data": {
            "text/plain": [
              "<Figure size 432x432 with 1 Axes>"
            ],
            "image/png": "[encoded data removed]"
          },
          "metadata": {
            "needs_background": "light"
          }
        },
        {
          "output_type": "stream",
          "name": "stdout",
          "text": [
            "\n",
            "\n",
            "Classification report for project_dataset[\"valid\"] using MLP\n",
            "---------------------------------------------------------------------------\n",
            "Accuracy: 47.51%\n",
            "Precision: 46.83%\n",
            "Recall: 47.51%\n",
            "F1 score: 43.60%\n",
            "---------------------------------------------------------------------------\n",
            "\n",
            "\n",
            "\n"
          ]
        },
        {
          "output_type": "display_data",
          "data": {
            "text/plain": [
              "<Figure size 432x432 with 1 Axes>"
            ],
            "image/png": "[encoded data removed]"
          },
          "metadata": {
            "needs_background": "light"
          }
        },
        {
          "output_type": "stream",
          "name": "stdout",
          "text": [
            "\n",
            "\n",
            "Classification report for project_dataset[\"test\"] using MLP\n",
            "---------------------------------------------------------------------------\n",
            "Accuracy: 41.12%\n",
            "Precision: 54.06%\n",
            "Recall: 41.12%\n",
            "F1 score: 40.45%\n",
            "---------------------------------------------------------------------------\n",
            "\n",
            "\n",
            "\n"
          ]
        }
      ],
      "source": [
        "y_preds_v = mlp.predict(X_valid)\n",
        "print_classification_report(y_preds_v, y_valid, \"project_dataset[\\\"valid\\\"] using MLP\")\n",
        "\n",
        "y_preds_t = mlp.predict(X_test)\n",
        "print_classification_report(y_preds_t, y_test, \"project_dataset[\\\"test\\\"] using MLP\")"
      ]
    },
    {
      "cell_type": "markdown",
      "metadata": {
        "id": "pq53_0oIY8QN"
      },
      "source": [
        "2.3.1.5 Saving the trained model"
      ]
    },
    {
      "cell_type": "code",
      "execution_count": null,
      "metadata": {
        "id": "K17frxcOZHwJ"
      },
      "outputs": [],
      "source": [
        "mlp_save_filename = working_dir + \"/best_models/mlp.joblib\"\n",
        "dump(mlp, mlp_save_filename)"
      ]
    },
    {
      "cell_type": "markdown",
      "metadata": {
        "id": "NY_eY6OHxVGW"
      },
      "source": [
        "2.3.1.5 Loading saved model and testing performance on test data"
      ]
    },
    {
      "cell_type": "code",
      "execution_count": 8,
      "metadata": {
        "id": "JD4_zH6mxdx2",
        "colab": {
          "base_uri": "https://localhost:8080/",
          "height": 761
        },
        "outputId": "b412dc06-86a9-46ca-92f6-6bf479652205"
      },
      "outputs": [
        {
          "output_type": "stream",
          "name": "stdout",
          "text": [
            "type of y_preds:  <class 'numpy.ndarray'>\n",
            "type of y_true:  <class 'numpy.ndarray'>\n",
            "type of labels:  <class 'list'>\n",
            "type of title:  <class 'str'>\n"
          ]
        },
        {
          "output_type": "display_data",
          "data": {
            "text/plain": [
              "<Figure size 432x432 with 1 Axes>"
            ],
            "image/png": "[encoded data removed]"
          },
          "metadata": {
            "needs_background": "light"
          }
        },
        {
          "output_type": "stream",
          "name": "stdout",
          "text": [
            "\n",
            "\n",
            "\n",
            "Classification report for project_dataset[\"test\"] using MLP\n",
            "---------------------------------------------------------------------------\n",
            "              precision    recall  f1-score   support\n",
            "\n",
            "    negative       0.45      0.42      0.44       504\n",
            "     neutral       0.28      0.43      0.34       384\n",
            "    positive       0.46      0.26      0.34       413\n",
            "\n",
            "    accuracy                           0.38      1301\n",
            "   macro avg       0.40      0.37      0.37      1301\n",
            "weighted avg       0.40      0.38      0.38      1301\n",
            "\n",
            "---------------------------------------------------------------------------\n"
          ]
        }
      ],
      "source": [
        "loaded_mlp = load(working_dir + \"/best_models/mlp.joblib\")\n",
        "y_preds_t = loaded_mlp.predict(X_test)\n",
        "print_classification_report(y_preds_t, y_test, \"project_dataset[\\\"test\\\"] using MLP\")"
      ]
    },
    {
      "cell_type": "markdown",
      "metadata": {
        "id": "fdd_BL_Key8Y"
      },
      "source": [
        "### 2.3.2 Training a classifier using fine tuning"
      ]
    },
    {
      "cell_type": "markdown",
      "metadata": {
        "id": "ZBmZJaUXaKbo"
      },
      "source": [
        "2.3.2.1 Defining functions required for training a classifier by fine-tuning a transformer model"
      ]
    },
    {
      "cell_type": "code",
      "execution_count": 7,
      "metadata": {
        "id": "lM41LGHgAJSd"
      },
      "outputs": [],
      "source": [
        "# Defining the performance metrics that will be used to evaluate our model's performance during fine-tuning\n",
        "def compute_metrics(pred):\n",
        "  labels = pred.label_ids\n",
        "  preds = pred.predictions.argmax(-1)\n",
        "  loss_fct = torch.nn.CrossEntropyLoss(weight=class_weights)\n",
        "  loss_val = loss_fct(torch.from_numpy(pred.predictions).to(device), torch.from_numpy(labels).to(device))\n",
        "  acc = accuracy_score(labels, preds)\n",
        "  f1 = f1_score(labels, preds, average=\"weighted\")\n",
        "  prec = precision_score(labels, preds, average=\"weighted\")\n",
        "  rec = recall_score(labels, preds, average=\"weighted\")\n",
        "  return {\"accuracy\": acc, \"precision\": prec, \"recall\": rec, \"f1_score\": f1, \"loss\": loss_val}\n",
        "\n",
        "\n",
        "def model_init():\n",
        "  dropout_val = 0.3\n",
        "  try:\n",
        "    with open(model_output_dir + \"/model_hp_values.json\", \"r\") as f:\n",
        "      prev_hp = json.load(f)\n",
        "      dropout_val = prev_hp[\"dropout\"]\n",
        "      print(\"Found previously searched dropout value: \", dropout_val)\n",
        "  except:\n",
        "    print(\"No previous dropout value found. Using default setting of\", dropout_val)\n",
        "\n",
        "  if model_checkpoint == \"distilbert-base-uncased\":\n",
        "    return (AutoModelForSequenceClassification.from_pretrained(model_checkpoint, \n",
        "                                                             num_labels=3, \n",
        "                                                             return_dict=True, \n",
        "                                                             dropout=dropout_val,\n",
        "                                                             attention_dropout=dropout_val,\n",
        "                                                             qa_dropout=dropout_val).to(device))\n",
        "  elif model_checkpoint == \"bert-base-uncased\":\n",
        "    return (AutoModelForSequenceClassification.from_pretrained(model_checkpoint, \n",
        "                                                             num_labels=3, \n",
        "                                                             return_dict=True, \n",
        "                                                             attention_probs_dropout_prob=dropout_val,\n",
        "                                                             hidden_dropout_prob=dropout_val,\n",
        "                                                             classifier_dropout=dropout_val).to(device))\n",
        "\n",
        "def compute_objective(metrics):\n",
        "  return metrics[\"eval_loss\"]"
      ]
    },
    {
      "cell_type": "markdown",
      "metadata": {
        "id": "-A7-uO3ZaoWQ"
      },
      "source": [
        "2.3.2.2 Defining the project trainer class"
      ]
    },
    {
      "cell_type": "code",
      "execution_count": 8,
      "metadata": {
        "id": "7vQUnBLrr4AS",
        "colab": {
          "base_uri": "https://localhost:8080/"
        },
        "outputId": "988c46b0-1cf2-46aa-8c40-cd17209b26ed"
      },
      "outputs": [
        {
          "output_type": "stream",
          "name": "stdout",
          "text": [
            "No previous dropout value found. Using default setting of 0.3\n"
          ]
        },
        {
          "output_type": "stream",
          "name": "stderr",
          "text": [
            "loading configuration file https://huggingface.co/distilbert-base-uncased/resolve/main/config.json from cache at /root/.cache/huggingface/transformers/23454919702d26495337f3da04d1655c7ee010d5ec9d77bdb9e399e00302c0a1.91b885ab15d631bf9cee9dc9d25ece0afd932f2f5130eba28f2055b2220c0333\n",
            "Model config DistilBertConfig {\n",
            "  \"_name_or_path\": \"distilbert-base-uncased\",\n",
            "  \"activation\": \"gelu\",\n",
            "  \"architectures\": [\n",
            "    \"DistilBertForMaskedLM\"\n",
            "  ],\n",
            "  \"attention_dropout\": 0.3,\n",
            "  \"dim\": 768,\n",
            "  \"dropout\": 0.3,\n",
            "  \"hidden_dim\": 3072,\n",
            "  \"id2label\": {\n",
            "    \"0\": \"LABEL_0\",\n",
            "    \"1\": \"LABEL_1\",\n",
            "    \"2\": \"LABEL_2\"\n",
            "  },\n",
            "  \"initializer_range\": 0.02,\n",
            "  \"label2id\": {\n",
            "    \"LABEL_0\": 0,\n",
            "    \"LABEL_1\": 1,\n",
            "    \"LABEL_2\": 2\n",
            "  },\n",
            "  \"max_position_embeddings\": 512,\n",
            "  \"model_type\": \"distilbert\",\n",
            "  \"n_heads\": 12,\n",
            "  \"n_layers\": 6,\n",
            "  \"pad_token_id\": 0,\n",
            "  \"qa_dropout\": 0.3,\n",
            "  \"seq_classif_dropout\": 0.2,\n",
            "  \"sinusoidal_pos_embds\": false,\n",
            "  \"tie_weights_\": true,\n",
            "  \"transformers_version\": \"4.18.0\",\n",
            "  \"vocab_size\": 30522\n",
            "}\n",
            "\n",
            "loading weights file https://huggingface.co/distilbert-base-uncased/resolve/main/pytorch_model.bin from cache at /root/.cache/huggingface/transformers/9c169103d7e5a73936dd2b627e42851bec0831212b677c637033ee4bce9ab5ee.126183e36667471617ae2f0835fab707baa54b731f991507ebbb55ea85adb12a\n",
            "Some weights of the model checkpoint at distilbert-base-uncased were not used when initializing DistilBertForSequenceClassification: ['vocab_layer_norm.bias', 'vocab_layer_norm.weight', 'vocab_transform.weight', 'vocab_projector.weight', 'vocab_projector.bias', 'vocab_transform.bias']\n",
            "- This IS expected if you are initializing DistilBertForSequenceClassification from the checkpoint of a model trained on another task or with another architecture (e.g. initializing a BertForSequenceClassification model from a BertForPreTraining model).\n",
            "- This IS NOT expected if you are initializing DistilBertForSequenceClassification from the checkpoint of a model that you expect to be exactly identical (initializing a BertForSequenceClassification model from a BertForSequenceClassification model).\n",
            "Some weights of DistilBertForSequenceClassification were not initialized from the model checkpoint at distilbert-base-uncased and are newly initialized: ['classifier.weight', 'classifier.bias', 'pre_classifier.weight', 'pre_classifier.bias']\n",
            "You should probably TRAIN this model on a down-stream task to be able to use it for predictions and inference.\n"
          ]
        }
      ],
      "source": [
        "class ProjectTrainer(Trainer):\n",
        "    def compute_loss(self, model, inputs, return_outputs=False):\n",
        "        labels = inputs.get(\"labels\")\n",
        "        outputs = model(**inputs)\n",
        "        logits = outputs.get(\"logits\")\n",
        "        loss_fct = torch.nn.CrossEntropyLoss(weight=class_weights)\n",
        "        loss = loss_fct(logits, labels)\n",
        "        return (loss, outputs) if return_outputs else loss\n",
        "\n",
        "training_args = TrainingArguments(output_dir=model_output_dir,\n",
        "                                  evaluation_strategy=\"steps\",\n",
        "                                  logging_strategy=\"steps\",\n",
        "                                  eval_steps=500,\n",
        "                                  disable_tqdm=False,\n",
        "                                  logging_dir=model_output_dir + \"/logs\",\n",
        "                                  save_total_limit=1,\n",
        "                                  load_best_model_at_end=True)\n",
        "\n",
        "trainer = ProjectTrainer(args=training_args,\n",
        "                            tokenizer=tokenizer,\n",
        "                            train_dataset=dataset_encoded[\"train\"],\n",
        "                            eval_dataset=dataset_encoded[\"valid\"],\n",
        "                            model_init=model_init,\n",
        "                            compute_metrics=compute_metrics)"
      ]
    },
    {
      "cell_type": "markdown",
      "metadata": {
        "id": "rpA8EFPAht0C"
      },
      "source": [
        "2.3.2.3 Performing hyperparameter tuning for the model"
      ]
    },
    {
      "cell_type": "code",
      "execution_count": 9,
      "metadata": {
        "id": "yo0GLfdhBcul",
        "colab": {
          "base_uri": "https://localhost:8080/"
        },
        "outputId": "93bf71bc-89b8-417e-cbf2-f5badf4b1c50"
      },
      "outputs": [
        {
          "output_type": "stream",
          "name": "stderr",
          "text": [
            "\u001b[2m\u001b[36m(_objective pid=855)\u001b[0m \r 11%|█         | 592/5564 [02:06<15:02,  5.51it/s]\n",
            " 11%|█         | 593/5564 [02:06<15:07,  5.48it/s]\n",
            " 11%|█         | 594/5564 [02:06<15:06,  5.48it/s]\n",
            " 11%|█         | 595/5564 [02:06<15:03,  5.50it/s]\n",
            " 11%|█         | 596/5564 [02:06<15:03,  5.50it/s]\n",
            " 11%|█         | 597/5564 [02:06<15:00,  5.51it/s]\n",
            " 11%|█         | 598/5564 [02:07<14:59,  5.52it/s]\n",
            " 11%|█         | 599/5564 [02:07<14:59,  5.52it/s]\n",
            " 11%|█         | 600/5564 [02:07<14:59,  5.52it/s]\n",
            " 11%|█         | 601/5564 [02:07<14:57,  5.53it/s]\n",
            " 11%|█         | 602/5564 [02:07<14:59,  5.52it/s]\n",
            " 11%|█         | 603/5564 [02:08<15:01,  5.50it/s]\n",
            " 11%|█         | 604/5564 [02:08<15:01,  5.50it/s]\n",
            " 11%|█         | 605/5564 [02:08<15:01,  5.50it/s]\n",
            " 11%|█         | 606/5564 [02:08<15:01,  5.50it/s]\n",
            " 11%|█         | 607/5564 [02:08<15:00,  5.50it/s]\n",
            " 11%|█         | 608/5564 [02:08<15:01,  5.50it/s]\n",
            " 11%|█         | 609/5564 [02:09<14:59,  5.51it/s]\n",
            " 11%|█         | 610/5564 [02:09<15:00,  5.50it/s]\n",
            " 11%|█         | 611/5564 [02:09<14:59,  5.51it/s]\n",
            " 11%|█         | 612/5564 [02:09<15:00,  5.50it/s]\n",
            " 11%|█         | 613/5564 [02:09<15:02,  5.49it/s]\n",
            " 11%|█         | 614/5564 [02:10<15:02,  5.49it/s]\n",
            " 11%|█         | 615/5564 [02:10<15:05,  5.47it/s]\n",
            " 11%|█         | 616/5564 [02:10<15:02,  5.48it/s]\n"
          ]
        },
        {
          "output_type": "stream",
          "name": "stdout",
          "text": [
            "== Status ==\n",
            "Current time: 2022-04-12 06:31:13 (running for 00:02:22.39)\n",
            "Memory usage on this node: 6.2/25.5 GiB\n",
            "Using AsyncHyperBand: num_stopped=0\n",
            "Bracket: Iter 64.000: None | Iter 16.000: None | Iter 4.000: None | Iter 1.000: -1.0605850219726562\n",
            "Resources requested: 1.0/4 CPUs, 1.0/1 GPUs, 0.0/12.42 GiB heap, 0.0/6.21 GiB objects (0.0/1.0 accelerator_type:P100)\n",
            "Result logdir: /content/output-distilbert-base-uncased/ray_asha_results_bert/_objective_2022-04-12_06-28-51\n",
            "Number of trials: 2/2 (1 PENDING, 1 RUNNING)\n",
            "+---------------------+----------+----------------+---------------------+-----------+-----------------+--------------------+-------------------------------+--------------+----------------+-------------+\n",
            "| Trial name          | status   | loc            |   attention_dropout |   dropout |   learning_rate |   num_train_epochs |   per_device_train_batch_size |   qa_dropout |   weight_decay |   objective |\n",
            "|---------------------+----------+----------------+---------------------+-----------+-----------------+--------------------+-------------------------------+--------------+----------------+-------------|\n",
            "| _objective_d1a7f3de | RUNNING  | 172.28.0.2:855 |            0.142774 |  0.286505 |     2.64512e-05 |                  4 |                            16 |     0.200074 |            0.3 |     1.06059 |\n",
            "| _objective_d47f48e6 | PENDING  |                |            0.161474 |  0.168712 |     2.48747e-05 |                  2 |                            32 |     0.172789 |            0.3 |             |\n",
            "+---------------------+----------+----------------+---------------------+-----------+-----------------+--------------------+-------------------------------+--------------+----------------+-------------+\n",
            "\n",
            "\n"
          ]
        },
        {
          "output_type": "stream",
          "name": "stderr",
          "text": [
            " 11%|█         | 617/5564 [02:10<15:02,  5.48it/s]\n",
            " 11%|█         | 618/5564 [02:10<14:59,  5.50it/s]\n",
            " 11%|█         | 619/5564 [02:10<14:58,  5.50it/s]\n",
            " 11%|█         | 620/5564 [02:11<14:58,  5.50it/s]\n",
            " 11%|█         | 621/5564 [02:11<14:55,  5.52it/s]\n",
            " 11%|█         | 622/5564 [02:11<15:08,  5.44it/s]\n",
            " 11%|█         | 623/5564 [02:11<15:10,  5.42it/s]\n",
            " 11%|█         | 624/5564 [02:11<15:08,  5.44it/s]\n",
            " 11%|█         | 625/5564 [02:12<15:04,  5.46it/s]\n",
            " 11%|█▏        | 626/5564 [02:12<15:02,  5.47it/s]\n",
            " 11%|█▏        | 627/5564 [02:12<15:01,  5.48it/s]\n",
            " 11%|█▏        | 628/5564 [02:12<14:59,  5.49it/s]\n",
            " 11%|█▏        | 629/5564 [02:12<15:02,  5.47it/s]\n",
            " 11%|█▏        | 630/5564 [02:12<15:01,  5.47it/s]\n",
            " 11%|█▏        | 631/5564 [02:13<14:57,  5.50it/s]\n",
            " 11%|█▏        | 632/5564 [02:13<15:00,  5.48it/s]\n",
            " 11%|█▏        | 633/5564 [02:13<15:00,  5.48it/s]\n",
            " 11%|█▏        | 634/5564 [02:13<15:00,  5.47it/s]\n",
            " 11%|█▏        | 635/5564 [02:13<14:58,  5.48it/s]\n",
            " 11%|█▏        | 636/5564 [02:14<14:56,  5.50it/s]\n",
            " 11%|█▏        | 637/5564 [02:14<14:53,  5.51it/s]\n",
            " 11%|█▏        | 638/5564 [02:14<14:57,  5.49it/s]\n",
            " 11%|█▏        | 639/5564 [02:14<14:55,  5.50it/s]\n",
            " 12%|█▏        | 640/5564 [02:14<14:53,  5.51it/s]\n",
            " 12%|█▏        | 641/5564 [02:14<14:53,  5.51it/s]\n",
            " 12%|█▏        | 642/5564 [02:15<14:52,  5.51it/s]\n",
            " 12%|█▏        | 643/5564 [02:15<14:59,  5.47it/s]\n",
            " 12%|█▏        | 644/5564 [02:15<15:00,  5.46it/s]\n"
          ]
        },
        {
          "output_type": "stream",
          "name": "stdout",
          "text": [
            "== Status ==\n",
            "Current time: 2022-04-12 06:31:18 (running for 00:02:27.41)\n",
            "Memory usage on this node: 6.2/25.5 GiB\n",
            "Using AsyncHyperBand: num_stopped=0\n",
            "Bracket: Iter 64.000: None | Iter 16.000: None | Iter 4.000: None | Iter 1.000: -1.0605850219726562\n",
            "Resources requested: 1.0/4 CPUs, 1.0/1 GPUs, 0.0/12.42 GiB heap, 0.0/6.21 GiB objects (0.0/1.0 accelerator_type:P100)\n",
            "Result logdir: /content/output-distilbert-base-uncased/ray_asha_results_bert/_objective_2022-04-12_06-28-51\n",
            "Number of trials: 2/2 (1 PENDING, 1 RUNNING)\n",
            "+---------------------+----------+----------------+---------------------+-----------+-----------------+--------------------+-------------------------------+--------------+----------------+-------------+\n",
            "| Trial name          | status   | loc            |   attention_dropout |   dropout |   learning_rate |   num_train_epochs |   per_device_train_batch_size |   qa_dropout |   weight_decay |   objective |\n",
            "|---------------------+----------+----------------+---------------------+-----------+-----------------+--------------------+-------------------------------+--------------+----------------+-------------|\n",
            "| _objective_d1a7f3de | RUNNING  | 172.28.0.2:855 |            0.142774 |  0.286505 |     2.64512e-05 |                  4 |                            16 |     0.200074 |            0.3 |     1.06059 |\n",
            "| _objective_d47f48e6 | PENDING  |                |            0.161474 |  0.168712 |     2.48747e-05 |                  2 |                            32 |     0.172789 |            0.3 |             |\n",
            "+---------------------+----------+----------------+---------------------+-----------+-----------------+--------------------+-------------------------------+--------------+----------------+-------------+\n",
            "\n",
            "\n"
          ]
        },
        {
          "output_type": "stream",
          "name": "stderr",
          "text": [
            "\u001b[2m\u001b[36m(_objective pid=855)\u001b[0m \r 12%|█▏        | 645/5564 [02:15<15:01,  5.45it/s]\n",
            " 12%|█▏        | 646/5564 [02:15<14:58,  5.47it/s]\n",
            " 12%|█▏        | 647/5564 [02:16<15:04,  5.43it/s]\n",
            " 12%|█▏        | 648/5564 [02:16<15:01,  5.45it/s]\n",
            " 12%|█▏        | 649/5564 [02:16<14:58,  5.47it/s]\n",
            " 12%|█▏        | 650/5564 [02:16<14:56,  5.48it/s]\n",
            " 12%|█▏        | 651/5564 [02:16<14:55,  5.49it/s]\n",
            " 12%|█▏        | 652/5564 [02:16<14:53,  5.50it/s]\n",
            " 12%|█▏        | 653/5564 [02:17<14:54,  5.49it/s]\n",
            " 12%|█▏        | 654/5564 [02:17<14:52,  5.50it/s]\n",
            " 12%|█▏        | 655/5564 [02:17<14:51,  5.50it/s]\n",
            "2022-04-12 06:31:20,850\tWARNING tune.py:596 -- SIGINT received (e.g. via Ctrl+C), ending Ray Tune run. This will try to checkpoint the experiment state one last time. Press CTRL+C one more time (or send SIGINT/SIGKILL/SIGTERM) to skip. \n"
          ]
        },
        {
          "output_type": "stream",
          "name": "stdout",
          "text": [
            "== Status ==\n",
            "Current time: 2022-04-12 06:31:20 (running for 00:02:29.43)\n",
            "Memory usage on this node: 6.2/25.5 GiB\n",
            "Using AsyncHyperBand: num_stopped=0\n",
            "Bracket: Iter 64.000: None | Iter 16.000: None | Iter 4.000: None | Iter 1.000: -1.0605850219726562\n",
            "Resources requested: 1.0/4 CPUs, 1.0/1 GPUs, 0.0/12.42 GiB heap, 0.0/6.21 GiB objects (0.0/1.0 accelerator_type:P100)\n",
            "Result logdir: /content/output-distilbert-base-uncased/ray_asha_results_bert/_objective_2022-04-12_06-28-51\n",
            "Number of trials: 2/2 (1 PENDING, 1 RUNNING)\n",
            "+---------------------+----------+----------------+---------------------+-----------+-----------------+--------------------+-------------------------------+--------------+----------------+-------------+\n",
            "| Trial name          | status   | loc            |   attention_dropout |   dropout |   learning_rate |   num_train_epochs |   per_device_train_batch_size |   qa_dropout |   weight_decay |   objective |\n",
            "|---------------------+----------+----------------+---------------------+-----------+-----------------+--------------------+-------------------------------+--------------+----------------+-------------|\n",
            "| _objective_d1a7f3de | RUNNING  | 172.28.0.2:855 |            0.142774 |  0.286505 |     2.64512e-05 |                  4 |                            16 |     0.200074 |            0.3 |     1.06059 |\n",
            "| _objective_d47f48e6 | PENDING  |                |            0.161474 |  0.168712 |     2.48747e-05 |                  2 |                            32 |     0.172789 |            0.3 |             |\n",
            "+---------------------+----------+----------------+---------------------+-----------+-----------------+--------------------+-------------------------------+--------------+----------------+-------------+\n",
            "\n",
            "\n"
          ]
        },
        {
          "output_type": "stream",
          "name": "stderr",
          "text": [
            "\u001b[2m\u001b[36m(_objective pid=855)\u001b[0m \r 12%|█▏        | 656/5564 [02:17<15:00,  5.45it/s]\n",
            "2022-04-12 06:31:21,066\tERROR tune.py:635 -- Trials did not complete: [_objective_d1a7f3de, _objective_d47f48e6]\n",
            "2022-04-12 06:31:21,067\tINFO tune.py:639 -- Total run time: 149.75 seconds (149.42 seconds for the tuning loop).\n",
            "2022-04-12 06:31:21,069\tWARNING tune.py:644 -- Experiment has been interrupted, but the most recent state was saved. You can continue running this experiment by passing `resume=True` to `tune.run()`\n"
          ]
        },
        {
          "output_type": "stream",
          "name": "stdout",
          "text": [
            "Hyperparameter search did not complete successfully.\n",
            "Best hyperparameters from this search:  BestRun(run_id='d1a7f3de', objective=1.0605850219726562, hyperparameters={'per_device_train_batch_size': 16, 'learning_rate': 2.645123755319578e-05, 'weight_decay': 0.3, 'num_train_epochs': 4, 'dropout': 0.28650539637184935, 'attention_dropout': 0.14277373313533553, 'qa_dropout': 0.20007419287264938})\n"
          ]
        }
      ],
      "source": [
        "def project_hyperparameter_tuning():\n",
        "\n",
        "  hp_search_space = dict()\n",
        "  try:\n",
        "    with open(model_output_dir + \"/model_hp_values.json\", \"r\") as f:\n",
        "      prev_hp = json.load(f)\n",
        "    plr = prev_hp[\"learning_rate\"]\n",
        "\n",
        "    hp_search_space= {\n",
        "        \"per_device_train_batch_size\": tune.choice([8, 16, 32, 64]),\n",
        "        \"learning_rate\": tune.loguniform(plr * 0.1, plr * 10),\n",
        "        \"weight_decay\": tune.choice([0.1, 0.2, 0.3]),\n",
        "        \"num_train_epochs\": tune.choice([1, 2, 3, 4, 5])\n",
        "    }\n",
        "  except:\n",
        "    hp_search_space = {\n",
        "        \"per_device_train_batch_size\": tune.choice([8, 16, 32, 64]),\n",
        "        \"learning_rate\": tune.loguniform(1e-5, 1e-4),\n",
        "        \"weight_decay\": tune.choice([0.1, 0.2, 0.3]),\n",
        "        \"num_train_epochs\": tune.choice([1, 2, 3, 4, 5])\n",
        "    }\n",
        "\n",
        "  if model_checkpoint == \"distilbert-base-uncased\":\n",
        "    hp_search_space[\"dropout\"] = tune.uniform(0.1, 0.3)\n",
        "    hp_search_space[\"attention_dropout\"] = tune.uniform(0.1, 0.3)\n",
        "    hp_search_space[\"qa_dropout\"] = tune.uniform(0.1, 0.3)\n",
        "  elif model_checkpoint == \"bert-base-uncased\":\n",
        "    hp_search_space[\"attention_probs_dropout_prob\"] = tune.uniform(0.1, 0.3)\n",
        "    hp_search_space[\"hidden_dropout_prob\"] = tune.uniform(0.1, 0.3)\n",
        "    hp_search_space[\"classifier_dropout\"] = tune.uniform(0.1, 0.3)\n",
        "\n",
        "  best_trial = None\n",
        "  try:\n",
        "    best_trial = trainer.hyperparameter_search(hp_space=lambda _: hp_search_space,\n",
        "                                             compute_objective=compute_objective,\n",
        "                              direction=\"minimize\",\n",
        "                              backend=\"ray\",\n",
        "                              n_trials=2,\n",
        "                              search_alg=HyperOptSearch(metric=\"objective\", mode=\"min\"),\n",
        "                              scheduler=ASHAScheduler(metric=\"objective\", mode=\"min\"),\n",
        "                              local_dir=model_output_dir + \"/ray_asha_results_bert\",\n",
        "                              log_to_file=True)\n",
        "\n",
        "    save_best_model = False\n",
        "    if \"objective\" not in hp_search_space:\n",
        "      save_best_model = True\n",
        "    if (\"objective\" in hp_search_space) and (hp_search_space[\"objective\"] > best_trial.objective):\n",
        "      print(\"New best hyperparameters found.\")\n",
        "      save_best_model = True\n",
        "\n",
        "    if save_best_model == True:\n",
        "      save_model_dir = working_dir + \"/best_models/\" + model_checkpoint\n",
        "      for f in os.listdir(save_model_dir):\n",
        "          os.remove(os.path.join(save_model_dir, f))\n",
        "\n",
        "      best_run_dir = model_output_dir + \"/run-\" + best_trial.run_id\n",
        "      best_model_checkpoint = sorted(os.listdir(best_run_dir))[-1]\n",
        "      copy_model_dir = os.path.join(best_run_dir, best_model_checkpoint)\n",
        "\n",
        "      for f in os.listdir(copy_model_dir):\n",
        "        shutil.copy(os.path.join(copy_model_dir, f), save_model_dir)\n",
        "      shutil.make_archive(save_model_dir, 'zip', save_model_dir)\n",
        "\n",
        "      print(\"Saved model associated with the new best hyperparameters in this directory: \", save_model_dir)\n",
        "      print(\"Download the zip file to use the model later.\")\n",
        "    else:\n",
        "      print(\"Could not find better hyperparameters in this search.\")\n",
        "\n",
        "    for f in os.listdir(model_output_dir):\n",
        "      path = os.path.join(model_output_dir, f)\n",
        "      try:\n",
        "        shutil.rmtree(path)\n",
        "      except OSError:\n",
        "        os.remove(path)\n",
        "    print(\"Cleared all files from this hyperparameter search from the following directory: \", model_output_dir)\n",
        "\n",
        "    hp_values = best_trial.hyperparameters\n",
        "    hp_values[\"objective\"] = best_trial.objective\n",
        "    hp_values_json = json.dumps(hp_values)\n",
        "    with open(model_output_dir + \"/model_hp_values.json\", \"w\") as f:\n",
        "      f.write(hp_values_json)\n",
        "    print(\"New hyperparameters written to \" + model_output_dir + \"/model_hp_values.json\")\n",
        "  except:\n",
        "    print(\"Hyperparameter search did not complete successfully.\")\n",
        "\n",
        "  return best_trial\n",
        "\n",
        "current_best_trial = project_hyperparameter_tuning()\n",
        "print(\"Best hyperparameters from this search: \", current_best_trial)"
      ]
    },
    {
      "cell_type": "code",
      "execution_count": null,
      "metadata": {
        "id": "zslzR8fhKS0l"
      },
      "outputs": [],
      "source": [
        "save_model_dir = working_dir + \"/best_models/\" + model_checkpoint\n",
        "shutil.make_archive(save_model_dir, 'zip', save_model_dir)"
      ]
    },
    {
      "cell_type": "markdown",
      "metadata": {
        "id": "oDJtyd80h8WR"
      },
      "source": [
        "2.3.2.4 Training the model with the last best set of hyperparameters found.\n",
        "\n",
        "This function is written because it was observed that sometimes the hyperparameter tuning phase does not complete successfully due to memory related issues. This function allows us work with any improved hyperparameters found during unsuccessful hyperparameter tuning attempts by manually going through the logs."
      ]
    },
    {
      "cell_type": "code",
      "execution_count": 11,
      "metadata": {
        "id": "Bg-fTiuDXbZQ",
        "colab": {
          "base_uri": "https://localhost:8080/",
          "height": 1000
        },
        "outputId": "1e5dd650-4866-4e10-b3cc-91b4206073ea"
      },
      "outputs": [
        {
          "output_type": "stream",
          "name": "stdout",
          "text": [
            "No previous hyperparameter search results found. Manually setting the hyperparameter values.\n",
            "No previous dropout value found. Using default setting of 0.3\n"
          ]
        },
        {
          "output_type": "stream",
          "name": "stderr",
          "text": [
            "loading configuration file https://huggingface.co/distilbert-base-uncased/resolve/main/config.json from cache at /root/.cache/huggingface/transformers/23454919702d26495337f3da04d1655c7ee010d5ec9d77bdb9e399e00302c0a1.91b885ab15d631bf9cee9dc9d25ece0afd932f2f5130eba28f2055b2220c0333\n",
            "Model config DistilBertConfig {\n",
            "  \"_name_or_path\": \"distilbert-base-uncased\",\n",
            "  \"activation\": \"gelu\",\n",
            "  \"architectures\": [\n",
            "    \"DistilBertForMaskedLM\"\n",
            "  ],\n",
            "  \"attention_dropout\": 0.3,\n",
            "  \"dim\": 768,\n",
            "  \"dropout\": 0.3,\n",
            "  \"hidden_dim\": 3072,\n",
            "  \"id2label\": {\n",
            "    \"0\": \"LABEL_0\",\n",
            "    \"1\": \"LABEL_1\",\n",
            "    \"2\": \"LABEL_2\"\n",
            "  },\n",
            "  \"initializer_range\": 0.02,\n",
            "  \"label2id\": {\n",
            "    \"LABEL_0\": 0,\n",
            "    \"LABEL_1\": 1,\n",
            "    \"LABEL_2\": 2\n",
            "  },\n",
            "  \"max_position_embeddings\": 512,\n",
            "  \"model_type\": \"distilbert\",\n",
            "  \"n_heads\": 12,\n",
            "  \"n_layers\": 6,\n",
            "  \"pad_token_id\": 0,\n",
            "  \"qa_dropout\": 0.3,\n",
            "  \"seq_classif_dropout\": 0.2,\n",
            "  \"sinusoidal_pos_embds\": false,\n",
            "  \"tie_weights_\": true,\n",
            "  \"transformers_version\": \"4.18.0\",\n",
            "  \"vocab_size\": 30522\n",
            "}\n",
            "\n",
            "loading weights file https://huggingface.co/distilbert-base-uncased/resolve/main/pytorch_model.bin from cache at /root/.cache/huggingface/transformers/9c169103d7e5a73936dd2b627e42851bec0831212b677c637033ee4bce9ab5ee.126183e36667471617ae2f0835fab707baa54b731f991507ebbb55ea85adb12a\n",
            "Some weights of the model checkpoint at distilbert-base-uncased were not used when initializing DistilBertForSequenceClassification: ['vocab_layer_norm.bias', 'vocab_layer_norm.weight', 'vocab_transform.weight', 'vocab_projector.weight', 'vocab_projector.bias', 'vocab_transform.bias']\n",
            "- This IS expected if you are initializing DistilBertForSequenceClassification from the checkpoint of a model trained on another task or with another architecture (e.g. initializing a BertForSequenceClassification model from a BertForPreTraining model).\n",
            "- This IS NOT expected if you are initializing DistilBertForSequenceClassification from the checkpoint of a model that you expect to be exactly identical (initializing a BertForSequenceClassification model from a BertForSequenceClassification model).\n",
            "Some weights of DistilBertForSequenceClassification were not initialized from the model checkpoint at distilbert-base-uncased and are newly initialized: ['classifier.weight', 'classifier.bias', 'pre_classifier.weight', 'pre_classifier.bias']\n",
            "You should probably TRAIN this model on a down-stream task to be able to use it for predictions and inference.\n",
            "The following columns in the training set  don't have a corresponding argument in `DistilBertForSequenceClassification.forward` and have been ignored: text. If text are not expected by `DistilBertForSequenceClassification.forward`,  you can safely ignore this message.\n",
            "/usr/local/lib/python3.7/dist-packages/transformers/optimization.py:309: FutureWarning: This implementation of AdamW is deprecated and will be removed in a future version. Use the PyTorch implementation torch.optim.AdamW instead, or set `no_deprecation_warning=True` to disable this warning\n",
            "  FutureWarning,\n",
            "***** Running training *****\n",
            "  Num examples = 22244\n",
            "  Num Epochs = 2\n",
            "  Instantaneous batch size per device = 64\n",
            "  Total train batch size (w. parallel, distributed & accumulation) = 64\n",
            "  Gradient Accumulation steps = 1\n",
            "  Total optimization steps = 696\n"
          ]
        },
        {
          "output_type": "display_data",
          "data": {
            "text/plain": [
              "<IPython.core.display.HTML object>"
            ],
            "text/html": [
              "\n",
              "    <div>\n",
              "      \n",
              "      <progress value='3' max='696' style='width:300px; height:20px; vertical-align: middle;'></progress>\n",
              "      [  3/696 00:00 < 07:18, 1.58 it/s, Epoch 0.01/2]\n",
              "    </div>\n",
              "    <table border=\"1\" class=\"dataframe\">\n",
              "  <thead>\n",
              " <tr style=\"text-align: left;\">\n",
              "      <th>Step</th>\n",
              "      <th>Training Loss</th>\n",
              "      <th>Validation Loss</th>\n",
              "    </tr>\n",
              "  </thead>\n",
              "  <tbody>\n",
              "  </tbody>\n",
              "</table><p>"
            ]
          },
          "metadata": {}
        },
        {
          "output_type": "error",
          "ename": "KeyboardInterrupt",
          "evalue": "ignored",
          "traceback": [
            "\u001b[0;31m---------------------------------------------------------------------------\u001b[0m",
            "\u001b[0;31mKeyboardInterrupt\u001b[0m                         Traceback (most recent call last)",
            "\u001b[0;32m<ipython-input-11-17895685dcd0>\u001b[0m in \u001b[0;36m<module>\u001b[0;34m()\u001b[0m\n\u001b[1;32m     44\u001b[0m   \u001b[0mplt\u001b[0m\u001b[0;34m.\u001b[0m\u001b[0mshow\u001b[0m\u001b[0;34m(\u001b[0m\u001b[0;34m)\u001b[0m\u001b[0;34m\u001b[0m\u001b[0;34m\u001b[0m\u001b[0m\n\u001b[1;32m     45\u001b[0m \u001b[0;34m\u001b[0m\u001b[0m\n\u001b[0;32m---> 46\u001b[0;31m \u001b[0mtrain_with_last_best_hyperparameters\u001b[0m\u001b[0;34m(\u001b[0m\u001b[0;34m)\u001b[0m\u001b[0;34m\u001b[0m\u001b[0;34m\u001b[0m\u001b[0m\n\u001b[0m",
            "\u001b[0;32m<ipython-input-11-17895685dcd0>\u001b[0m in \u001b[0;36mtrain_with_last_best_hyperparameters\u001b[0;34m()\u001b[0m\n\u001b[1;32m     20\u001b[0m   \u001b[0msetattr\u001b[0m\u001b[0;34m(\u001b[0m\u001b[0mtrainer\u001b[0m\u001b[0;34m.\u001b[0m\u001b[0margs\u001b[0m\u001b[0;34m,\u001b[0m \u001b[0;34m\"callbacks\"\u001b[0m\u001b[0;34m,\u001b[0m \u001b[0;34m[\u001b[0m\u001b[0mEarlyStoppingCallback\u001b[0m\u001b[0;34m(\u001b[0m\u001b[0mearly_stopping_patience\u001b[0m\u001b[0;34m=\u001b[0m\u001b[0;36m3\u001b[0m\u001b[0;34m)\u001b[0m\u001b[0;34m]\u001b[0m\u001b[0;34m)\u001b[0m\u001b[0;34m\u001b[0m\u001b[0;34m\u001b[0m\u001b[0m\n\u001b[1;32m     21\u001b[0m \u001b[0;34m\u001b[0m\u001b[0m\n\u001b[0;32m---> 22\u001b[0;31m   \u001b[0mtrainer\u001b[0m\u001b[0;34m.\u001b[0m\u001b[0mtrain\u001b[0m\u001b[0;34m(\u001b[0m\u001b[0;34m)\u001b[0m\u001b[0;34m\u001b[0m\u001b[0;34m\u001b[0m\u001b[0m\n\u001b[0m\u001b[1;32m     23\u001b[0m \u001b[0;34m\u001b[0m\u001b[0m\n\u001b[1;32m     24\u001b[0m   \u001b[0mmodel_save_path\u001b[0m \u001b[0;34m=\u001b[0m \u001b[0mmodel_output_dir\u001b[0m \u001b[0;34m+\u001b[0m  \u001b[0;34m\"/best_model\"\u001b[0m\u001b[0;34m\u001b[0m\u001b[0;34m\u001b[0m\u001b[0m\n",
            "\u001b[0;32m/usr/local/lib/python3.7/dist-packages/transformers/trainer.py\u001b[0m in \u001b[0;36mtrain\u001b[0;34m(self, resume_from_checkpoint, trial, ignore_keys_for_eval, **kwargs)\u001b[0m\n\u001b[1;32m   1420\u001b[0m                         \u001b[0mtr_loss_step\u001b[0m \u001b[0;34m=\u001b[0m \u001b[0mself\u001b[0m\u001b[0;34m.\u001b[0m\u001b[0mtraining_step\u001b[0m\u001b[0;34m(\u001b[0m\u001b[0mmodel\u001b[0m\u001b[0;34m,\u001b[0m \u001b[0minputs\u001b[0m\u001b[0;34m)\u001b[0m\u001b[0;34m\u001b[0m\u001b[0;34m\u001b[0m\u001b[0m\n\u001b[1;32m   1421\u001b[0m                 \u001b[0;32melse\u001b[0m\u001b[0;34m:\u001b[0m\u001b[0;34m\u001b[0m\u001b[0;34m\u001b[0m\u001b[0m\n\u001b[0;32m-> 1422\u001b[0;31m                     \u001b[0mtr_loss_step\u001b[0m \u001b[0;34m=\u001b[0m \u001b[0mself\u001b[0m\u001b[0;34m.\u001b[0m\u001b[0mtraining_step\u001b[0m\u001b[0;34m(\u001b[0m\u001b[0mmodel\u001b[0m\u001b[0;34m,\u001b[0m \u001b[0minputs\u001b[0m\u001b[0;34m)\u001b[0m\u001b[0;34m\u001b[0m\u001b[0;34m\u001b[0m\u001b[0m\n\u001b[0m\u001b[1;32m   1423\u001b[0m \u001b[0;34m\u001b[0m\u001b[0m\n\u001b[1;32m   1424\u001b[0m                 if (\n",
            "\u001b[0;32m/usr/local/lib/python3.7/dist-packages/transformers/trainer.py\u001b[0m in \u001b[0;36mtraining_step\u001b[0;34m(self, model, inputs)\u001b[0m\n\u001b[1;32m   2027\u001b[0m             \u001b[0mloss\u001b[0m \u001b[0;34m=\u001b[0m \u001b[0mself\u001b[0m\u001b[0;34m.\u001b[0m\u001b[0mdeepspeed\u001b[0m\u001b[0;34m.\u001b[0m\u001b[0mbackward\u001b[0m\u001b[0;34m(\u001b[0m\u001b[0mloss\u001b[0m\u001b[0;34m)\u001b[0m\u001b[0;34m\u001b[0m\u001b[0;34m\u001b[0m\u001b[0m\n\u001b[1;32m   2028\u001b[0m         \u001b[0;32melse\u001b[0m\u001b[0;34m:\u001b[0m\u001b[0;34m\u001b[0m\u001b[0;34m\u001b[0m\u001b[0m\n\u001b[0;32m-> 2029\u001b[0;31m             \u001b[0mloss\u001b[0m\u001b[0;34m.\u001b[0m\u001b[0mbackward\u001b[0m\u001b[0;34m(\u001b[0m\u001b[0;34m)\u001b[0m\u001b[0;34m\u001b[0m\u001b[0;34m\u001b[0m\u001b[0m\n\u001b[0m\u001b[1;32m   2030\u001b[0m \u001b[0;34m\u001b[0m\u001b[0m\n\u001b[1;32m   2031\u001b[0m         \u001b[0;32mreturn\u001b[0m \u001b[0mloss\u001b[0m\u001b[0;34m.\u001b[0m\u001b[0mdetach\u001b[0m\u001b[0;34m(\u001b[0m\u001b[0;34m)\u001b[0m\u001b[0;34m\u001b[0m\u001b[0;34m\u001b[0m\u001b[0m\n",
            "\u001b[0;32m/usr/local/lib/python3.7/dist-packages/torch/_tensor.py\u001b[0m in \u001b[0;36mbackward\u001b[0;34m(self, gradient, retain_graph, create_graph, inputs)\u001b[0m\n\u001b[1;32m    305\u001b[0m                 \u001b[0mcreate_graph\u001b[0m\u001b[0;34m=\u001b[0m\u001b[0mcreate_graph\u001b[0m\u001b[0;34m,\u001b[0m\u001b[0;34m\u001b[0m\u001b[0;34m\u001b[0m\u001b[0m\n\u001b[1;32m    306\u001b[0m                 inputs=inputs)\n\u001b[0;32m--> 307\u001b[0;31m         \u001b[0mtorch\u001b[0m\u001b[0;34m.\u001b[0m\u001b[0mautograd\u001b[0m\u001b[0;34m.\u001b[0m\u001b[0mbackward\u001b[0m\u001b[0;34m(\u001b[0m\u001b[0mself\u001b[0m\u001b[0;34m,\u001b[0m \u001b[0mgradient\u001b[0m\u001b[0;34m,\u001b[0m \u001b[0mretain_graph\u001b[0m\u001b[0;34m,\u001b[0m \u001b[0mcreate_graph\u001b[0m\u001b[0;34m,\u001b[0m \u001b[0minputs\u001b[0m\u001b[0;34m=\u001b[0m\u001b[0minputs\u001b[0m\u001b[0;34m)\u001b[0m\u001b[0;34m\u001b[0m\u001b[0;34m\u001b[0m\u001b[0m\n\u001b[0m\u001b[1;32m    308\u001b[0m \u001b[0;34m\u001b[0m\u001b[0m\n\u001b[1;32m    309\u001b[0m     \u001b[0;32mdef\u001b[0m \u001b[0mregister_hook\u001b[0m\u001b[0;34m(\u001b[0m\u001b[0mself\u001b[0m\u001b[0;34m,\u001b[0m \u001b[0mhook\u001b[0m\u001b[0;34m)\u001b[0m\u001b[0;34m:\u001b[0m\u001b[0;34m\u001b[0m\u001b[0;34m\u001b[0m\u001b[0m\n",
            "\u001b[0;32m/usr/local/lib/python3.7/dist-packages/torch/autograd/__init__.py\u001b[0m in \u001b[0;36mbackward\u001b[0;34m(tensors, grad_tensors, retain_graph, create_graph, grad_variables, inputs)\u001b[0m\n\u001b[1;32m    154\u001b[0m     Variable._execution_engine.run_backward(\n\u001b[1;32m    155\u001b[0m         \u001b[0mtensors\u001b[0m\u001b[0;34m,\u001b[0m \u001b[0mgrad_tensors_\u001b[0m\u001b[0;34m,\u001b[0m \u001b[0mretain_graph\u001b[0m\u001b[0;34m,\u001b[0m \u001b[0mcreate_graph\u001b[0m\u001b[0;34m,\u001b[0m \u001b[0minputs\u001b[0m\u001b[0;34m,\u001b[0m\u001b[0;34m\u001b[0m\u001b[0;34m\u001b[0m\u001b[0m\n\u001b[0;32m--> 156\u001b[0;31m         allow_unreachable=True, accumulate_grad=True)  # allow_unreachable flag\n\u001b[0m\u001b[1;32m    157\u001b[0m \u001b[0;34m\u001b[0m\u001b[0m\n\u001b[1;32m    158\u001b[0m \u001b[0;34m\u001b[0m\u001b[0m\n",
            "\u001b[0;31mKeyboardInterrupt\u001b[0m: "
          ]
        }
      ],
      "source": [
        "def train_with_last_best_hyperparameters():\n",
        "  try:\n",
        "    with open(model_output_dir + \"/model_hp_values.json\", \"r\") as f:\n",
        "      hp_values = json.load(f)\n",
        "    print(\"Set trainer.args using previous hyperparamter search results.\")\n",
        "  except:\n",
        "    hp_values = dict()\n",
        "    hp_values[\"learning_rate\"] = 1.5544610095816334e-05\n",
        "    hp_values[\"num_train_epochs\"] = 2\n",
        "    hp_values[\"per_device_train_batch_size\"] = 64\n",
        "    hp_values[\"seed\"] = 25\n",
        "    hp_values[\"weight_decay\"] = 0.1\n",
        "    hp_values[\"dropout\"] = 0.12078133498900412\n",
        "    print(\"No previous hyperparameter search results found. Manually setting the hyperparameter values.\")\n",
        "\n",
        "  for n, v in hp_values.items():\n",
        "    if n == \"seed\":\n",
        "      v = int(v)\n",
        "    setattr(trainer.args, n, v)\n",
        "  setattr(trainer.args, \"callbacks\", [EarlyStoppingCallback(early_stopping_patience=3)])\n",
        "\n",
        "  trainer.train()\n",
        "\n",
        "  model_save_path = model_output_dir +  \"/best_model\"\n",
        "  tokenizer.save_pretrained(model_save_path)\n",
        "  trainer.save_model(model_save_path)\n",
        "\n",
        "  train_losses = list()\n",
        "  validation_losses = list()\n",
        "\n",
        "  for entry in trainer.state.log_history:\n",
        "    if \"loss\" in entry:\n",
        "      train_losses.append(entry[\"loss\"])\n",
        "    if \"eval_loss\" in entry:\n",
        "      validation_losses.append(entry[\"eval_loss\"])\n",
        "\n",
        "  plt.plot(train_losses, color=\"blue\")\n",
        "  plt.plot(validation_losses, color=\"red\")\n",
        "  plt.ylim(-0.05, 2)\n",
        "  plt.xlabel(\"Steps\")\n",
        "  plt.ylabel(\"loss\")\n",
        "  plt.legend([\"train_loss\", \"validation_loss\"])\n",
        "  plt.title(\"Loss every 500 steps\")\n",
        "  plt.show()\n",
        "\n",
        "train_with_last_best_hyperparameters()"
      ]
    },
    {
      "cell_type": "markdown",
      "metadata": {
        "id": "F0Da-x_akrzw"
      },
      "source": [
        "2.3.2.5 Generating results"
      ]
    },
    {
      "cell_type": "markdown",
      "metadata": {
        "id": "EFtbalJVlhgN"
      },
      "source": [
        "Provides the confusion matrix and classification report for validation data and test data of the project"
      ]
    },
    {
      "cell_type": "code",
      "execution_count": null,
      "metadata": {
        "id": "4or4NWTNhjM9"
      },
      "outputs": [],
      "source": [
        "y_valid = np.array(dataset_encoded[\"valid\"][\"label\"])\n",
        "validation_predictions_all = trainer.predict(dataset_encoded[\"valid\"])\n",
        "y_preds_v = np.argmax(validation_predictions_all.predictions, axis=1)\n",
        "print_classification_report(y_preds_v, y_valid, \"project_dataset[\\\"valid\\\"] using finetuned \" + model_checkpoint)\n",
        "\n",
        "y_test = np.array(dataset_encoded[\"test\"][\"label\"])\n",
        "test_predictions_all = trainer.predict(dataset_encoded[\"test\"])\n",
        "y_preds_t = np.argmax(test_predictions_all.predictions, axis=1)\n",
        "print_classification_report(y_preds_t, y_test, \"project_dataset[\\\"test\\\"] using finetuned \" + model_checkpoint)"
      ]
    },
    {
      "cell_type": "markdown",
      "metadata": {
        "id": "oLJP0tUqpst-"
      },
      "source": [
        "2.3.2.5 Loading saved model and testing performance on test data"
      ]
    },
    {
      "cell_type": "code",
      "execution_count": null,
      "metadata": {
        "id": "fr0kN99FpLtU"
      },
      "outputs": [],
      "source": [
        "def evaluate_test_data_using_saved_model(dataset):\n",
        "  # Load model\n",
        "  try:\n",
        "    model_load_path = working_dir +  \"/best_models/\" + model_checkpoint \n",
        "    loaded_tokenizer = AutoTokenizer.from_pretrained(model_load_path)\n",
        "    loaded_m = (AutoModelForSequenceClassification.from_pretrained(model_load_path, num_labels=3).to(device))\n",
        "    trainer = ProjectTrainer(model=loaded_m)\n",
        "\n",
        "    dataset_encoded = encode_dataset(loaded_tokenizer, dataset)\n",
        "    y_test = np.array(dataset_encoded[\"label\"])\n",
        "    labels = dataset.features[\"label\"].names\n",
        "\n",
        "    test_predictions_all = trainer.predict(dataset_encoded)\n",
        "    y_preds_t = np.argmax(test_predictions_all.predictions, axis=1)\n",
        "    print_classification_report(y_preds_t, y_test, \"project_dataset[\\\"test\\\"] using finetuned \" + model_checkpoint)\n",
        "  except FileNotFoundError:\n",
        "    print(\"Could not load a model from the provided path.\")\n",
        "  except Exception as e:\n",
        "    print(\"Could not complete the opration because of the following error: \", e)\n",
        "evaluate_test_data_using_saved_model(project_dataset[\"test\"])"
      ]
    },
    {
      "cell_type": "code",
      "execution_count": null,
      "metadata": {
        "id": "POntTCqot1fd"
      },
      "outputs": [],
      "source": [
        ""
      ]
    }
  ],
  "metadata": {
    "accelerator": "GPU",
    "colab": {
      "collapsed_sections": [
        "K3PVEukD0WuQ"
      ],
      "machine_shape": "hm",
      "name": "W22_COMP6321_Project.ipynb",
      "provenance": []
    },
    "kernelspec": {
      "display_name": "Python 3",
      "name": "python3"
    },
    "language_info": {
      "name": "python"
    },
    "widgets": {
      "application/vnd.jupyter.widget-state+json": {
        "3a0b4d647de749769ce41d31bf5355df": {
          "model_module": "@jupyter-widgets/controls",
          "model_name": "HBoxModel",
          "model_module_version": "1.5.0",
          "state": {
            "_dom_classes": [],
            "_model_module": "@jupyter-widgets/controls",
            "_model_module_version": "1.5.0",
            "_model_name": "HBoxModel",
            "_view_count": null,
            "_view_module": "@jupyter-widgets/controls",
            "_view_module_version": "1.5.0",
            "_view_name": "HBoxView",
            "box_style": "",
            "children": [
              "IPY_MODEL_149aeedff7a6407daaa2ed1fc16bac2f",
              "IPY_MODEL_f506ef684fd644c8a527a3b8e1b1c2a1",
              "IPY_MODEL_74683664150a4cdebf83e63af810ddb2"
            ],
            "layout": "IPY_MODEL_d51eb84326304feeae28212430d632fa"
          }
        },
        "149aeedff7a6407daaa2ed1fc16bac2f": {
          "model_module": "@jupyter-widgets/controls",
          "model_name": "HTMLModel",
          "model_module_version": "1.5.0",
          "state": {
            "_dom_classes": [],
            "_model_module": "@jupyter-widgets/controls",
            "_model_module_version": "1.5.0",
            "_model_name": "HTMLModel",
            "_view_count": null,
            "_view_module": "@jupyter-widgets/controls",
            "_view_module_version": "1.5.0",
            "_view_name": "HTMLView",
            "description": "",
            "description_tooltip": null,
            "layout": "IPY_MODEL_a46c25a9a1b843089b7dd4246b8c3fd4",
            "placeholder": "​",
            "style": "IPY_MODEL_9258dddff9014f7fbccf7f53162b9eb2",
            "value": "100%"
          }
        },
        "f506ef684fd644c8a527a3b8e1b1c2a1": {
          "model_module": "@jupyter-widgets/controls",
          "model_name": "FloatProgressModel",
          "model_module_version": "1.5.0",
          "state": {
            "_dom_classes": [],
            "_model_module": "@jupyter-widgets/controls",
            "_model_module_version": "1.5.0",
            "_model_name": "FloatProgressModel",
            "_view_count": null,
            "_view_module": "@jupyter-widgets/controls",
            "_view_module_version": "1.5.0",
            "_view_name": "ProgressView",
            "bar_style": "success",
            "description": "",
            "description_tooltip": null,
            "layout": "IPY_MODEL_d6315b02c9b344ae9db868b59273c44d",
            "max": 2,
            "min": 0,
            "orientation": "horizontal",
            "style": "IPY_MODEL_374ccdfdf08646ef93c6c49e43b953a5",
            "value": 2
          }
        },
        "74683664150a4cdebf83e63af810ddb2": {
          "model_module": "@jupyter-widgets/controls",
          "model_name": "HTMLModel",
          "model_module_version": "1.5.0",
          "state": {
            "_dom_classes": [],
            "_model_module": "@jupyter-widgets/controls",
            "_model_module_version": "1.5.0",
            "_model_name": "HTMLModel",
            "_view_count": null,
            "_view_module": "@jupyter-widgets/controls",
            "_view_module_version": "1.5.0",
            "_view_name": "HTMLView",
            "description": "",
            "description_tooltip": null,
            "layout": "IPY_MODEL_2bee974453c94540ad89b15c0acacb86",
            "placeholder": "​",
            "style": "IPY_MODEL_6404792adc1f40658322a0266b645587",
            "value": " 2/2 [00:00&lt;00:00, 48.84it/s]"
          }
        },
        "d51eb84326304feeae28212430d632fa": {
          "model_module": "@jupyter-widgets/base",
          "model_name": "LayoutModel",
          "model_module_version": "1.2.0",
          "state": {
            "_model_module": "@jupyter-widgets/base",
            "_model_module_version": "1.2.0",
            "_model_name": "LayoutModel",
            "_view_count": null,
            "_view_module": "@jupyter-widgets/base",
            "_view_module_version": "1.2.0",
            "_view_name": "LayoutView",
            "align_content": null,
            "align_items": null,
            "align_self": null,
            "border": null,
            "bottom": null,
            "display": null,
            "flex": null,
            "flex_flow": null,
            "grid_area": null,
            "grid_auto_columns": null,
            "grid_auto_flow": null,
            "grid_auto_rows": null,
            "grid_column": null,
            "grid_gap": null,
            "grid_row": null,
            "grid_template_areas": null,
            "grid_template_columns": null,
            "grid_template_rows": null,
            "height": null,
            "justify_content": null,
            "justify_items": null,
            "left": null,
            "margin": null,
            "max_height": null,
            "max_width": null,
            "min_height": null,
            "min_width": null,
            "object_fit": null,
            "object_position": null,
            "order": null,
            "overflow": null,
            "overflow_x": null,
            "overflow_y": null,
            "padding": null,
            "right": null,
            "top": null,
            "visibility": null,
            "width": null
          }
        },
        "a46c25a9a1b843089b7dd4246b8c3fd4": {
          "model_module": "@jupyter-widgets/base",
          "model_name": "LayoutModel",
          "model_module_version": "1.2.0",
          "state": {
            "_model_module": "@jupyter-widgets/base",
            "_model_module_version": "1.2.0",
            "_model_name": "LayoutModel",
            "_view_count": null,
            "_view_module": "@jupyter-widgets/base",
            "_view_module_version": "1.2.0",
            "_view_name": "LayoutView",
            "align_content": null,
            "align_items": null,
            "align_self": null,
            "border": null,
            "bottom": null,
            "display": null,
            "flex": null,
            "flex_flow": null,
            "grid_area": null,
            "grid_auto_columns": null,
            "grid_auto_flow": null,
            "grid_auto_rows": null,
            "grid_column": null,
            "grid_gap": null,
            "grid_row": null,
            "grid_template_areas": null,
            "grid_template_columns": null,
            "grid_template_rows": null,
            "height": null,
            "justify_content": null,
            "justify_items": null,
            "left": null,
            "margin": null,
            "max_height": null,
            "max_width": null,
            "min_height": null,
            "min_width": null,
            "object_fit": null,
            "object_position": null,
            "order": null,
            "overflow": null,
            "overflow_x": null,
            "overflow_y": null,
            "padding": null,
            "right": null,
            "top": null,
            "visibility": null,
            "width": null
          }
        },
        "9258dddff9014f7fbccf7f53162b9eb2": {
          "model_module": "@jupyter-widgets/controls",
          "model_name": "DescriptionStyleModel",
          "model_module_version": "1.5.0",
          "state": {
            "_model_module": "@jupyter-widgets/controls",
            "_model_module_version": "1.5.0",
            "_model_name": "DescriptionStyleModel",
            "_view_count": null,
            "_view_module": "@jupyter-widgets/base",
            "_view_module_version": "1.2.0",
            "_view_name": "StyleView",
            "description_width": ""
          }
        },
        "d6315b02c9b344ae9db868b59273c44d": {
          "model_module": "@jupyter-widgets/base",
          "model_name": "LayoutModel",
          "model_module_version": "1.2.0",
          "state": {
            "_model_module": "@jupyter-widgets/base",
            "_model_module_version": "1.2.0",
            "_model_name": "LayoutModel",
            "_view_count": null,
            "_view_module": "@jupyter-widgets/base",
            "_view_module_version": "1.2.0",
            "_view_name": "LayoutView",
            "align_content": null,
            "align_items": null,
            "align_self": null,
            "border": null,
            "bottom": null,
            "display": null,
            "flex": null,
            "flex_flow": null,
            "grid_area": null,
            "grid_auto_columns": null,
            "grid_auto_flow": null,
            "grid_auto_rows": null,
            "grid_column": null,
            "grid_gap": null,
            "grid_row": null,
            "grid_template_areas": null,
            "grid_template_columns": null,
            "grid_template_rows": null,
            "height": null,
            "justify_content": null,
            "justify_items": null,
            "left": null,
            "margin": null,
            "max_height": null,
            "max_width": null,
            "min_height": null,
            "min_width": null,
            "object_fit": null,
            "object_position": null,
            "order": null,
            "overflow": null,
            "overflow_x": null,
            "overflow_y": null,
            "padding": null,
            "right": null,
            "top": null,
            "visibility": null,
            "width": null
          }
        },
        "374ccdfdf08646ef93c6c49e43b953a5": {
          "model_module": "@jupyter-widgets/controls",
          "model_name": "ProgressStyleModel",
          "model_module_version": "1.5.0",
          "state": {
            "_model_module": "@jupyter-widgets/controls",
            "_model_module_version": "1.5.0",
            "_model_name": "ProgressStyleModel",
            "_view_count": null,
            "_view_module": "@jupyter-widgets/base",
            "_view_module_version": "1.2.0",
            "_view_name": "StyleView",
            "bar_color": null,
            "description_width": ""
          }
        },
        "2bee974453c94540ad89b15c0acacb86": {
          "model_module": "@jupyter-widgets/base",
          "model_name": "LayoutModel",
          "model_module_version": "1.2.0",
          "state": {
            "_model_module": "@jupyter-widgets/base",
            "_model_module_version": "1.2.0",
            "_model_name": "LayoutModel",
            "_view_count": null,
            "_view_module": "@jupyter-widgets/base",
            "_view_module_version": "1.2.0",
            "_view_name": "LayoutView",
            "align_content": null,
            "align_items": null,
            "align_self": null,
            "border": null,
            "bottom": null,
            "display": null,
            "flex": null,
            "flex_flow": null,
            "grid_area": null,
            "grid_auto_columns": null,
            "grid_auto_flow": null,
            "grid_auto_rows": null,
            "grid_column": null,
            "grid_gap": null,
            "grid_row": null,
            "grid_template_areas": null,
            "grid_template_columns": null,
            "grid_template_rows": null,
            "height": null,
            "justify_content": null,
            "justify_items": null,
            "left": null,
            "margin": null,
            "max_height": null,
            "max_width": null,
            "min_height": null,
            "min_width": null,
            "object_fit": null,
            "object_position": null,
            "order": null,
            "overflow": null,
            "overflow_x": null,
            "overflow_y": null,
            "padding": null,
            "right": null,
            "top": null,
            "visibility": null,
            "width": null
          }
        },
        "6404792adc1f40658322a0266b645587": {
          "model_module": "@jupyter-widgets/controls",
          "model_name": "DescriptionStyleModel",
          "model_module_version": "1.5.0",
          "state": {
            "_model_module": "@jupyter-widgets/controls",
            "_model_module_version": "1.5.0",
            "_model_name": "DescriptionStyleModel",
            "_view_count": null,
            "_view_module": "@jupyter-widgets/base",
            "_view_module_version": "1.2.0",
            "_view_name": "StyleView",
            "description_width": ""
          }
        },
        "7cc178060af8454295f71d6c14acb92f": {
          "model_module": "@jupyter-widgets/controls",
          "model_name": "HBoxModel",
          "model_module_version": "1.5.0",
          "state": {
            "_dom_classes": [],
            "_model_module": "@jupyter-widgets/controls",
            "_model_module_version": "1.5.0",
            "_model_name": "HBoxModel",
            "_view_count": null,
            "_view_module": "@jupyter-widgets/controls",
            "_view_module_version": "1.5.0",
            "_view_name": "HBoxView",
            "box_style": "",
            "children": [
              "IPY_MODEL_1bd205407a0c43d782199338aa55aeca",
              "IPY_MODEL_4199ae18341144fdb48077482e8e8441",
              "IPY_MODEL_ea2b937f41ae42039eed62edc5979c4c"
            ],
            "layout": "IPY_MODEL_ccd10c17cbe14c2e90e7b595c298a85a"
          }
        },
        "1bd205407a0c43d782199338aa55aeca": {
          "model_module": "@jupyter-widgets/controls",
          "model_name": "HTMLModel",
          "model_module_version": "1.5.0",
          "state": {
            "_dom_classes": [],
            "_model_module": "@jupyter-widgets/controls",
            "_model_module_version": "1.5.0",
            "_model_name": "HTMLModel",
            "_view_count": null,
            "_view_module": "@jupyter-widgets/controls",
            "_view_module_version": "1.5.0",
            "_view_name": "HTMLView",
            "description": "",
            "description_tooltip": null,
            "layout": "IPY_MODEL_e52dd2b4106b4c7a9892f10258c220c3",
            "placeholder": "​",
            "style": "IPY_MODEL_ccfd4bbaf59f462aa3ceca686d9fcc12",
            "value": "100%"
          }
        },
        "4199ae18341144fdb48077482e8e8441": {
          "model_module": "@jupyter-widgets/controls",
          "model_name": "FloatProgressModel",
          "model_module_version": "1.5.0",
          "state": {
            "_dom_classes": [],
            "_model_module": "@jupyter-widgets/controls",
            "_model_module_version": "1.5.0",
            "_model_name": "FloatProgressModel",
            "_view_count": null,
            "_view_module": "@jupyter-widgets/controls",
            "_view_module_version": "1.5.0",
            "_view_name": "ProgressView",
            "bar_style": "success",
            "description": "",
            "description_tooltip": null,
            "layout": "IPY_MODEL_efb5d87ecdf146d39e2caa31b970b681",
            "max": 23,
            "min": 0,
            "orientation": "horizontal",
            "style": "IPY_MODEL_e94e6329d54b47fd9fde4ae945479fd9",
            "value": 23
          }
        },
        "ea2b937f41ae42039eed62edc5979c4c": {
          "model_module": "@jupyter-widgets/controls",
          "model_name": "HTMLModel",
          "model_module_version": "1.5.0",
          "state": {
            "_dom_classes": [],
            "_model_module": "@jupyter-widgets/controls",
            "_model_module_version": "1.5.0",
            "_model_name": "HTMLModel",
            "_view_count": null,
            "_view_module": "@jupyter-widgets/controls",
            "_view_module_version": "1.5.0",
            "_view_name": "HTMLView",
            "description": "",
            "description_tooltip": null,
            "layout": "IPY_MODEL_c0fda65a483d4f5ba0b0be04d35dde82",
            "placeholder": "​",
            "style": "IPY_MODEL_bc0defb688be4a55b661533fc26c5557",
            "value": " 23/23 [00:00&lt;00:00, 71.17ba/s]"
          }
        },
        "ccd10c17cbe14c2e90e7b595c298a85a": {
          "model_module": "@jupyter-widgets/base",
          "model_name": "LayoutModel",
          "model_module_version": "1.2.0",
          "state": {
            "_model_module": "@jupyter-widgets/base",
            "_model_module_version": "1.2.0",
            "_model_name": "LayoutModel",
            "_view_count": null,
            "_view_module": "@jupyter-widgets/base",
            "_view_module_version": "1.2.0",
            "_view_name": "LayoutView",
            "align_content": null,
            "align_items": null,
            "align_self": null,
            "border": null,
            "bottom": null,
            "display": null,
            "flex": null,
            "flex_flow": null,
            "grid_area": null,
            "grid_auto_columns": null,
            "grid_auto_flow": null,
            "grid_auto_rows": null,
            "grid_column": null,
            "grid_gap": null,
            "grid_row": null,
            "grid_template_areas": null,
            "grid_template_columns": null,
            "grid_template_rows": null,
            "height": null,
            "justify_content": null,
            "justify_items": null,
            "left": null,
            "margin": null,
            "max_height": null,
            "max_width": null,
            "min_height": null,
            "min_width": null,
            "object_fit": null,
            "object_position": null,
            "order": null,
            "overflow": null,
            "overflow_x": null,
            "overflow_y": null,
            "padding": null,
            "right": null,
            "top": null,
            "visibility": null,
            "width": null
          }
        },
        "e52dd2b4106b4c7a9892f10258c220c3": {
          "model_module": "@jupyter-widgets/base",
          "model_name": "LayoutModel",
          "model_module_version": "1.2.0",
          "state": {
            "_model_module": "@jupyter-widgets/base",
            "_model_module_version": "1.2.0",
            "_model_name": "LayoutModel",
            "_view_count": null,
            "_view_module": "@jupyter-widgets/base",
            "_view_module_version": "1.2.0",
            "_view_name": "LayoutView",
            "align_content": null,
            "align_items": null,
            "align_self": null,
            "border": null,
            "bottom": null,
            "display": null,
            "flex": null,
            "flex_flow": null,
            "grid_area": null,
            "grid_auto_columns": null,
            "grid_auto_flow": null,
            "grid_auto_rows": null,
            "grid_column": null,
            "grid_gap": null,
            "grid_row": null,
            "grid_template_areas": null,
            "grid_template_columns": null,
            "grid_template_rows": null,
            "height": null,
            "justify_content": null,
            "justify_items": null,
            "left": null,
            "margin": null,
            "max_height": null,
            "max_width": null,
            "min_height": null,
            "min_width": null,
            "object_fit": null,
            "object_position": null,
            "order": null,
            "overflow": null,
            "overflow_x": null,
            "overflow_y": null,
            "padding": null,
            "right": null,
            "top": null,
            "visibility": null,
            "width": null
          }
        },
        "ccfd4bbaf59f462aa3ceca686d9fcc12": {
          "model_module": "@jupyter-widgets/controls",
          "model_name": "DescriptionStyleModel",
          "model_module_version": "1.5.0",
          "state": {
            "_model_module": "@jupyter-widgets/controls",
            "_model_module_version": "1.5.0",
            "_model_name": "DescriptionStyleModel",
            "_view_count": null,
            "_view_module": "@jupyter-widgets/base",
            "_view_module_version": "1.2.0",
            "_view_name": "StyleView",
            "description_width": ""
          }
        },
        "efb5d87ecdf146d39e2caa31b970b681": {
          "model_module": "@jupyter-widgets/base",
          "model_name": "LayoutModel",
          "model_module_version": "1.2.0",
          "state": {
            "_model_module": "@jupyter-widgets/base",
            "_model_module_version": "1.2.0",
            "_model_name": "LayoutModel",
            "_view_count": null,
            "_view_module": "@jupyter-widgets/base",
            "_view_module_version": "1.2.0",
            "_view_name": "LayoutView",
            "align_content": null,
            "align_items": null,
            "align_self": null,
            "border": null,
            "bottom": null,
            "display": null,
            "flex": null,
            "flex_flow": null,
            "grid_area": null,
            "grid_auto_columns": null,
            "grid_auto_flow": null,
            "grid_auto_rows": null,
            "grid_column": null,
            "grid_gap": null,
            "grid_row": null,
            "grid_template_areas": null,
            "grid_template_columns": null,
            "grid_template_rows": null,
            "height": null,
            "justify_content": null,
            "justify_items": null,
            "left": null,
            "margin": null,
            "max_height": null,
            "max_width": null,
            "min_height": null,
            "min_width": null,
            "object_fit": null,
            "object_position": null,
            "order": null,
            "overflow": null,
            "overflow_x": null,
            "overflow_y": null,
            "padding": null,
            "right": null,
            "top": null,
            "visibility": null,
            "width": null
          }
        },
        "e94e6329d54b47fd9fde4ae945479fd9": {
          "model_module": "@jupyter-widgets/controls",
          "model_name": "ProgressStyleModel",
          "model_module_version": "1.5.0",
          "state": {
            "_model_module": "@jupyter-widgets/controls",
            "_model_module_version": "1.5.0",
            "_model_name": "ProgressStyleModel",
            "_view_count": null,
            "_view_module": "@jupyter-widgets/base",
            "_view_module_version": "1.2.0",
            "_view_name": "StyleView",
            "bar_color": null,
            "description_width": ""
          }
        },
        "c0fda65a483d4f5ba0b0be04d35dde82": {
          "model_module": "@jupyter-widgets/base",
          "model_name": "LayoutModel",
          "model_module_version": "1.2.0",
          "state": {
            "_model_module": "@jupyter-widgets/base",
            "_model_module_version": "1.2.0",
            "_model_name": "LayoutModel",
            "_view_count": null,
            "_view_module": "@jupyter-widgets/base",
            "_view_module_version": "1.2.0",
            "_view_name": "LayoutView",
            "align_content": null,
            "align_items": null,
            "align_self": null,
            "border": null,
            "bottom": null,
            "display": null,
            "flex": null,
            "flex_flow": null,
            "grid_area": null,
            "grid_auto_columns": null,
            "grid_auto_flow": null,
            "grid_auto_rows": null,
            "grid_column": null,
            "grid_gap": null,
            "grid_row": null,
            "grid_template_areas": null,
            "grid_template_columns": null,
            "grid_template_rows": null,
            "height": null,
            "justify_content": null,
            "justify_items": null,
            "left": null,
            "margin": null,
            "max_height": null,
            "max_width": null,
            "min_height": null,
            "min_width": null,
            "object_fit": null,
            "object_position": null,
            "order": null,
            "overflow": null,
            "overflow_x": null,
            "overflow_y": null,
            "padding": null,
            "right": null,
            "top": null,
            "visibility": null,
            "width": null
          }
        },
        "bc0defb688be4a55b661533fc26c5557": {
          "model_module": "@jupyter-widgets/controls",
          "model_name": "DescriptionStyleModel",
          "model_module_version": "1.5.0",
          "state": {
            "_model_module": "@jupyter-widgets/controls",
            "_model_module_version": "1.5.0",
            "_model_name": "DescriptionStyleModel",
            "_view_count": null,
            "_view_module": "@jupyter-widgets/base",
            "_view_module_version": "1.2.0",
            "_view_name": "StyleView",
            "description_width": ""
          }
        },
        "24d878480427442fb892ef77e74caf7d": {
          "model_module": "@jupyter-widgets/controls",
          "model_name": "HBoxModel",
          "model_module_version": "1.5.0",
          "state": {
            "_dom_classes": [],
            "_model_module": "@jupyter-widgets/controls",
            "_model_module_version": "1.5.0",
            "_model_name": "HBoxModel",
            "_view_count": null,
            "_view_module": "@jupyter-widgets/controls",
            "_view_module_version": "1.5.0",
            "_view_name": "HBoxView",
            "box_style": "",
            "children": [
              "IPY_MODEL_d8c0551a1db148e28b785f31a8a0173f",
              "IPY_MODEL_ed9e61dcbfff4d6f9e845afa4a2f8b12",
              "IPY_MODEL_3b7e2a61d9ee4cd3b3f5c2847d86a11d"
            ],
            "layout": "IPY_MODEL_a9d79c47259140a098d14f7b7a92bea4"
          }
        },
        "d8c0551a1db148e28b785f31a8a0173f": {
          "model_module": "@jupyter-widgets/controls",
          "model_name": "HTMLModel",
          "model_module_version": "1.5.0",
          "state": {
            "_dom_classes": [],
            "_model_module": "@jupyter-widgets/controls",
            "_model_module_version": "1.5.0",
            "_model_name": "HTMLModel",
            "_view_count": null,
            "_view_module": "@jupyter-widgets/controls",
            "_view_module_version": "1.5.0",
            "_view_name": "HTMLView",
            "description": "",
            "description_tooltip": null,
            "layout": "IPY_MODEL_3e50c07efbd14c93bb81265cd8f0f79f",
            "placeholder": "​",
            "style": "IPY_MODEL_3e0c744281324ba2b8ba72d4f3171423",
            "value": "100%"
          }
        },
        "ed9e61dcbfff4d6f9e845afa4a2f8b12": {
          "model_module": "@jupyter-widgets/controls",
          "model_name": "FloatProgressModel",
          "model_module_version": "1.5.0",
          "state": {
            "_dom_classes": [],
            "_model_module": "@jupyter-widgets/controls",
            "_model_module_version": "1.5.0",
            "_model_name": "FloatProgressModel",
            "_view_count": null,
            "_view_module": "@jupyter-widgets/controls",
            "_view_module_version": "1.5.0",
            "_view_name": "ProgressView",
            "bar_style": "success",
            "description": "",
            "description_tooltip": null,
            "layout": "IPY_MODEL_fce5a35d9a224fa5aca4f670a173b671",
            "max": 6,
            "min": 0,
            "orientation": "horizontal",
            "style": "IPY_MODEL_750082504eb24047b0cef3485db55ffd",
            "value": 6
          }
        },
        "3b7e2a61d9ee4cd3b3f5c2847d86a11d": {
          "model_module": "@jupyter-widgets/controls",
          "model_name": "HTMLModel",
          "model_module_version": "1.5.0",
          "state": {
            "_dom_classes": [],
            "_model_module": "@jupyter-widgets/controls",
            "_model_module_version": "1.5.0",
            "_model_name": "HTMLModel",
            "_view_count": null,
            "_view_module": "@jupyter-widgets/controls",
            "_view_module_version": "1.5.0",
            "_view_name": "HTMLView",
            "description": "",
            "description_tooltip": null,
            "layout": "IPY_MODEL_e042f43c268f49c890e47c87194d0a13",
            "placeholder": "​",
            "style": "IPY_MODEL_fd0a0ee82ca54465beb86c95c51bb797",
            "value": " 6/6 [00:00&lt;00:00, 47.66ba/s]"
          }
        },
        "a9d79c47259140a098d14f7b7a92bea4": {
          "model_module": "@jupyter-widgets/base",
          "model_name": "LayoutModel",
          "model_module_version": "1.2.0",
          "state": {
            "_model_module": "@jupyter-widgets/base",
            "_model_module_version": "1.2.0",
            "_model_name": "LayoutModel",
            "_view_count": null,
            "_view_module": "@jupyter-widgets/base",
            "_view_module_version": "1.2.0",
            "_view_name": "LayoutView",
            "align_content": null,
            "align_items": null,
            "align_self": null,
            "border": null,
            "bottom": null,
            "display": null,
            "flex": null,
            "flex_flow": null,
            "grid_area": null,
            "grid_auto_columns": null,
            "grid_auto_flow": null,
            "grid_auto_rows": null,
            "grid_column": null,
            "grid_gap": null,
            "grid_row": null,
            "grid_template_areas": null,
            "grid_template_columns": null,
            "grid_template_rows": null,
            "height": null,
            "justify_content": null,
            "justify_items": null,
            "left": null,
            "margin": null,
            "max_height": null,
            "max_width": null,
            "min_height": null,
            "min_width": null,
            "object_fit": null,
            "object_position": null,
            "order": null,
            "overflow": null,
            "overflow_x": null,
            "overflow_y": null,
            "padding": null,
            "right": null,
            "top": null,
            "visibility": null,
            "width": null
          }
        },
        "3e50c07efbd14c93bb81265cd8f0f79f": {
          "model_module": "@jupyter-widgets/base",
          "model_name": "LayoutModel",
          "model_module_version": "1.2.0",
          "state": {
            "_model_module": "@jupyter-widgets/base",
            "_model_module_version": "1.2.0",
            "_model_name": "LayoutModel",
            "_view_count": null,
            "_view_module": "@jupyter-widgets/base",
            "_view_module_version": "1.2.0",
            "_view_name": "LayoutView",
            "align_content": null,
            "align_items": null,
            "align_self": null,
            "border": null,
            "bottom": null,
            "display": null,
            "flex": null,
            "flex_flow": null,
            "grid_area": null,
            "grid_auto_columns": null,
            "grid_auto_flow": null,
            "grid_auto_rows": null,
            "grid_column": null,
            "grid_gap": null,
            "grid_row": null,
            "grid_template_areas": null,
            "grid_template_columns": null,
            "grid_template_rows": null,
            "height": null,
            "justify_content": null,
            "justify_items": null,
            "left": null,
            "margin": null,
            "max_height": null,
            "max_width": null,
            "min_height": null,
            "min_width": null,
            "object_fit": null,
            "object_position": null,
            "order": null,
            "overflow": null,
            "overflow_x": null,
            "overflow_y": null,
            "padding": null,
            "right": null,
            "top": null,
            "visibility": null,
            "width": null
          }
        },
        "3e0c744281324ba2b8ba72d4f3171423": {
          "model_module": "@jupyter-widgets/controls",
          "model_name": "DescriptionStyleModel",
          "model_module_version": "1.5.0",
          "state": {
            "_model_module": "@jupyter-widgets/controls",
            "_model_module_version": "1.5.0",
            "_model_name": "DescriptionStyleModel",
            "_view_count": null,
            "_view_module": "@jupyter-widgets/base",
            "_view_module_version": "1.2.0",
            "_view_name": "StyleView",
            "description_width": ""
          }
        },
        "fce5a35d9a224fa5aca4f670a173b671": {
          "model_module": "@jupyter-widgets/base",
          "model_name": "LayoutModel",
          "model_module_version": "1.2.0",
          "state": {
            "_model_module": "@jupyter-widgets/base",
            "_model_module_version": "1.2.0",
            "_model_name": "LayoutModel",
            "_view_count": null,
            "_view_module": "@jupyter-widgets/base",
            "_view_module_version": "1.2.0",
            "_view_name": "LayoutView",
            "align_content": null,
            "align_items": null,
            "align_self": null,
            "border": null,
            "bottom": null,
            "display": null,
            "flex": null,
            "flex_flow": null,
            "grid_area": null,
            "grid_auto_columns": null,
            "grid_auto_flow": null,
            "grid_auto_rows": null,
            "grid_column": null,
            "grid_gap": null,
            "grid_row": null,
            "grid_template_areas": null,
            "grid_template_columns": null,
            "grid_template_rows": null,
            "height": null,
            "justify_content": null,
            "justify_items": null,
            "left": null,
            "margin": null,
            "max_height": null,
            "max_width": null,
            "min_height": null,
            "min_width": null,
            "object_fit": null,
            "object_position": null,
            "order": null,
            "overflow": null,
            "overflow_x": null,
            "overflow_y": null,
            "padding": null,
            "right": null,
            "top": null,
            "visibility": null,
            "width": null
          }
        },
        "750082504eb24047b0cef3485db55ffd": {
          "model_module": "@jupyter-widgets/controls",
          "model_name": "ProgressStyleModel",
          "model_module_version": "1.5.0",
          "state": {
            "_model_module": "@jupyter-widgets/controls",
            "_model_module_version": "1.5.0",
            "_model_name": "ProgressStyleModel",
            "_view_count": null,
            "_view_module": "@jupyter-widgets/base",
            "_view_module_version": "1.2.0",
            "_view_name": "StyleView",
            "bar_color": null,
            "description_width": ""
          }
        },
        "e042f43c268f49c890e47c87194d0a13": {
          "model_module": "@jupyter-widgets/base",
          "model_name": "LayoutModel",
          "model_module_version": "1.2.0",
          "state": {
            "_model_module": "@jupyter-widgets/base",
            "_model_module_version": "1.2.0",
            "_model_name": "LayoutModel",
            "_view_count": null,
            "_view_module": "@jupyter-widgets/base",
            "_view_module_version": "1.2.0",
            "_view_name": "LayoutView",
            "align_content": null,
            "align_items": null,
            "align_self": null,
            "border": null,
            "bottom": null,
            "display": null,
            "flex": null,
            "flex_flow": null,
            "grid_area": null,
            "grid_auto_columns": null,
            "grid_auto_flow": null,
            "grid_auto_rows": null,
            "grid_column": null,
            "grid_gap": null,
            "grid_row": null,
            "grid_template_areas": null,
            "grid_template_columns": null,
            "grid_template_rows": null,
            "height": null,
            "justify_content": null,
            "justify_items": null,
            "left": null,
            "margin": null,
            "max_height": null,
            "max_width": null,
            "min_height": null,
            "min_width": null,
            "object_fit": null,
            "object_position": null,
            "order": null,
            "overflow": null,
            "overflow_x": null,
            "overflow_y": null,
            "padding": null,
            "right": null,
            "top": null,
            "visibility": null,
            "width": null
          }
        },
        "fd0a0ee82ca54465beb86c95c51bb797": {
          "model_module": "@jupyter-widgets/controls",
          "model_name": "DescriptionStyleModel",
          "model_module_version": "1.5.0",
          "state": {
            "_model_module": "@jupyter-widgets/controls",
            "_model_module_version": "1.5.0",
            "_model_name": "DescriptionStyleModel",
            "_view_count": null,
            "_view_module": "@jupyter-widgets/base",
            "_view_module_version": "1.2.0",
            "_view_name": "StyleView",
            "description_width": ""
          }
        },
        "2be68d0b6386423489315c818fc09363": {
          "model_module": "@jupyter-widgets/controls",
          "model_name": "HBoxModel",
          "model_module_version": "1.5.0",
          "state": {
            "_dom_classes": [],
            "_model_module": "@jupyter-widgets/controls",
            "_model_module_version": "1.5.0",
            "_model_name": "HBoxModel",
            "_view_count": null,
            "_view_module": "@jupyter-widgets/controls",
            "_view_module_version": "1.5.0",
            "_view_name": "HBoxView",
            "box_style": "",
            "children": [
              "IPY_MODEL_7350e0e202a648378913e8ee8b0b07be",
              "IPY_MODEL_7935f53fdcbd4c17a1ec0414363bab0c",
              "IPY_MODEL_c61c2247d6464417b74e574532a6ba38"
            ],
            "layout": "IPY_MODEL_1d7d76fd7e774accb1928e80de543eac"
          }
        },
        "7350e0e202a648378913e8ee8b0b07be": {
          "model_module": "@jupyter-widgets/controls",
          "model_name": "HTMLModel",
          "model_module_version": "1.5.0",
          "state": {
            "_dom_classes": [],
            "_model_module": "@jupyter-widgets/controls",
            "_model_module_version": "1.5.0",
            "_model_name": "HTMLModel",
            "_view_count": null,
            "_view_module": "@jupyter-widgets/controls",
            "_view_module_version": "1.5.0",
            "_view_name": "HTMLView",
            "description": "",
            "description_tooltip": null,
            "layout": "IPY_MODEL_c1758decd7b24b07b4323c4a7c4c94e7",
            "placeholder": "​",
            "style": "IPY_MODEL_6dee3b3596f449e08787b9a023547cdd",
            "value": "100%"
          }
        },
        "7935f53fdcbd4c17a1ec0414363bab0c": {
          "model_module": "@jupyter-widgets/controls",
          "model_name": "FloatProgressModel",
          "model_module_version": "1.5.0",
          "state": {
            "_dom_classes": [],
            "_model_module": "@jupyter-widgets/controls",
            "_model_module_version": "1.5.0",
            "_model_name": "FloatProgressModel",
            "_view_count": null,
            "_view_module": "@jupyter-widgets/controls",
            "_view_module_version": "1.5.0",
            "_view_name": "ProgressView",
            "bar_style": "success",
            "description": "",
            "description_tooltip": null,
            "layout": "IPY_MODEL_dc46e1823da14837b5a4678bdae32f35",
            "max": 1,
            "min": 0,
            "orientation": "horizontal",
            "style": "IPY_MODEL_9e641a3017c1492c8a041a46bc3c4e3c",
            "value": 1
          }
        },
        "c61c2247d6464417b74e574532a6ba38": {
          "model_module": "@jupyter-widgets/controls",
          "model_name": "HTMLModel",
          "model_module_version": "1.5.0",
          "state": {
            "_dom_classes": [],
            "_model_module": "@jupyter-widgets/controls",
            "_model_module_version": "1.5.0",
            "_model_name": "HTMLModel",
            "_view_count": null,
            "_view_module": "@jupyter-widgets/controls",
            "_view_module_version": "1.5.0",
            "_view_name": "HTMLView",
            "description": "",
            "description_tooltip": null,
            "layout": "IPY_MODEL_fd9d39d5c60949699215c68edf107381",
            "placeholder": "​",
            "style": "IPY_MODEL_ff30b46cfcc24f81a8a4ef73c7653d57",
            "value": " 1/1 [00:03&lt;00:00,  3.44s/ba]"
          }
        },
        "1d7d76fd7e774accb1928e80de543eac": {
          "model_module": "@jupyter-widgets/base",
          "model_name": "LayoutModel",
          "model_module_version": "1.2.0",
          "state": {
            "_model_module": "@jupyter-widgets/base",
            "_model_module_version": "1.2.0",
            "_model_name": "LayoutModel",
            "_view_count": null,
            "_view_module": "@jupyter-widgets/base",
            "_view_module_version": "1.2.0",
            "_view_name": "LayoutView",
            "align_content": null,
            "align_items": null,
            "align_self": null,
            "border": null,
            "bottom": null,
            "display": null,
            "flex": null,
            "flex_flow": null,
            "grid_area": null,
            "grid_auto_columns": null,
            "grid_auto_flow": null,
            "grid_auto_rows": null,
            "grid_column": null,
            "grid_gap": null,
            "grid_row": null,
            "grid_template_areas": null,
            "grid_template_columns": null,
            "grid_template_rows": null,
            "height": null,
            "justify_content": null,
            "justify_items": null,
            "left": null,
            "margin": null,
            "max_height": null,
            "max_width": null,
            "min_height": null,
            "min_width": null,
            "object_fit": null,
            "object_position": null,
            "order": null,
            "overflow": null,
            "overflow_x": null,
            "overflow_y": null,
            "padding": null,
            "right": null,
            "top": null,
            "visibility": null,
            "width": null
          }
        },
        "c1758decd7b24b07b4323c4a7c4c94e7": {
          "model_module": "@jupyter-widgets/base",
          "model_name": "LayoutModel",
          "model_module_version": "1.2.0",
          "state": {
            "_model_module": "@jupyter-widgets/base",
            "_model_module_version": "1.2.0",
            "_model_name": "LayoutModel",
            "_view_count": null,
            "_view_module": "@jupyter-widgets/base",
            "_view_module_version": "1.2.0",
            "_view_name": "LayoutView",
            "align_content": null,
            "align_items": null,
            "align_self": null,
            "border": null,
            "bottom": null,
            "display": null,
            "flex": null,
            "flex_flow": null,
            "grid_area": null,
            "grid_auto_columns": null,
            "grid_auto_flow": null,
            "grid_auto_rows": null,
            "grid_column": null,
            "grid_gap": null,
            "grid_row": null,
            "grid_template_areas": null,
            "grid_template_columns": null,
            "grid_template_rows": null,
            "height": null,
            "justify_content": null,
            "justify_items": null,
            "left": null,
            "margin": null,
            "max_height": null,
            "max_width": null,
            "min_height": null,
            "min_width": null,
            "object_fit": null,
            "object_position": null,
            "order": null,
            "overflow": null,
            "overflow_x": null,
            "overflow_y": null,
            "padding": null,
            "right": null,
            "top": null,
            "visibility": null,
            "width": null
          }
        },
        "6dee3b3596f449e08787b9a023547cdd": {
          "model_module": "@jupyter-widgets/controls",
          "model_name": "DescriptionStyleModel",
          "model_module_version": "1.5.0",
          "state": {
            "_model_module": "@jupyter-widgets/controls",
            "_model_module_version": "1.5.0",
            "_model_name": "DescriptionStyleModel",
            "_view_count": null,
            "_view_module": "@jupyter-widgets/base",
            "_view_module_version": "1.2.0",
            "_view_name": "StyleView",
            "description_width": ""
          }
        },
        "dc46e1823da14837b5a4678bdae32f35": {
          "model_module": "@jupyter-widgets/base",
          "model_name": "LayoutModel",
          "model_module_version": "1.2.0",
          "state": {
            "_model_module": "@jupyter-widgets/base",
            "_model_module_version": "1.2.0",
            "_model_name": "LayoutModel",
            "_view_count": null,
            "_view_module": "@jupyter-widgets/base",
            "_view_module_version": "1.2.0",
            "_view_name": "LayoutView",
            "align_content": null,
            "align_items": null,
            "align_self": null,
            "border": null,
            "bottom": null,
            "display": null,
            "flex": null,
            "flex_flow": null,
            "grid_area": null,
            "grid_auto_columns": null,
            "grid_auto_flow": null,
            "grid_auto_rows": null,
            "grid_column": null,
            "grid_gap": null,
            "grid_row": null,
            "grid_template_areas": null,
            "grid_template_columns": null,
            "grid_template_rows": null,
            "height": null,
            "justify_content": null,
            "justify_items": null,
            "left": null,
            "margin": null,
            "max_height": null,
            "max_width": null,
            "min_height": null,
            "min_width": null,
            "object_fit": null,
            "object_position": null,
            "order": null,
            "overflow": null,
            "overflow_x": null,
            "overflow_y": null,
            "padding": null,
            "right": null,
            "top": null,
            "visibility": null,
            "width": null
          }
        },
        "9e641a3017c1492c8a041a46bc3c4e3c": {
          "model_module": "@jupyter-widgets/controls",
          "model_name": "ProgressStyleModel",
          "model_module_version": "1.5.0",
          "state": {
            "_model_module": "@jupyter-widgets/controls",
            "_model_module_version": "1.5.0",
            "_model_name": "ProgressStyleModel",
            "_view_count": null,
            "_view_module": "@jupyter-widgets/base",
            "_view_module_version": "1.2.0",
            "_view_name": "StyleView",
            "bar_color": null,
            "description_width": ""
          }
        },
        "fd9d39d5c60949699215c68edf107381": {
          "model_module": "@jupyter-widgets/base",
          "model_name": "LayoutModel",
          "model_module_version": "1.2.0",
          "state": {
            "_model_module": "@jupyter-widgets/base",
            "_model_module_version": "1.2.0",
            "_model_name": "LayoutModel",
            "_view_count": null,
            "_view_module": "@jupyter-widgets/base",
            "_view_module_version": "1.2.0",
            "_view_name": "LayoutView",
            "align_content": null,
            "align_items": null,
            "align_self": null,
            "border": null,
            "bottom": null,
            "display": null,
            "flex": null,
            "flex_flow": null,
            "grid_area": null,
            "grid_auto_columns": null,
            "grid_auto_flow": null,
            "grid_auto_rows": null,
            "grid_column": null,
            "grid_gap": null,
            "grid_row": null,
            "grid_template_areas": null,
            "grid_template_columns": null,
            "grid_template_rows": null,
            "height": null,
            "justify_content": null,
            "justify_items": null,
            "left": null,
            "margin": null,
            "max_height": null,
            "max_width": null,
            "min_height": null,
            "min_width": null,
            "object_fit": null,
            "object_position": null,
            "order": null,
            "overflow": null,
            "overflow_x": null,
            "overflow_y": null,
            "padding": null,
            "right": null,
            "top": null,
            "visibility": null,
            "width": null
          }
        },
        "ff30b46cfcc24f81a8a4ef73c7653d57": {
          "model_module": "@jupyter-widgets/controls",
          "model_name": "DescriptionStyleModel",
          "model_module_version": "1.5.0",
          "state": {
            "_model_module": "@jupyter-widgets/controls",
            "_model_module_version": "1.5.0",
            "_model_name": "DescriptionStyleModel",
            "_view_count": null,
            "_view_module": "@jupyter-widgets/base",
            "_view_module_version": "1.2.0",
            "_view_name": "StyleView",
            "description_width": ""
          }
        },
        "8e2409a8924c4125aebc36aa88b4c3b2": {
          "model_module": "@jupyter-widgets/controls",
          "model_name": "HBoxModel",
          "model_module_version": "1.5.0",
          "state": {
            "_dom_classes": [],
            "_model_module": "@jupyter-widgets/controls",
            "_model_module_version": "1.5.0",
            "_model_name": "HBoxModel",
            "_view_count": null,
            "_view_module": "@jupyter-widgets/controls",
            "_view_module_version": "1.5.0",
            "_view_name": "HBoxView",
            "box_style": "",
            "children": [
              "IPY_MODEL_44b99c74e25a405094d8493f936c5ead",
              "IPY_MODEL_38a11e697c854883b9a0c928ae690793",
              "IPY_MODEL_b917aad1fb854be8930112ffad6061fa"
            ],
            "layout": "IPY_MODEL_b9ee45b7159f49c6be91cb27d7c7df7f"
          }
        },
        "44b99c74e25a405094d8493f936c5ead": {
          "model_module": "@jupyter-widgets/controls",
          "model_name": "HTMLModel",
          "model_module_version": "1.5.0",
          "state": {
            "_dom_classes": [],
            "_model_module": "@jupyter-widgets/controls",
            "_model_module_version": "1.5.0",
            "_model_name": "HTMLModel",
            "_view_count": null,
            "_view_module": "@jupyter-widgets/controls",
            "_view_module_version": "1.5.0",
            "_view_name": "HTMLView",
            "description": "",
            "description_tooltip": null,
            "layout": "IPY_MODEL_c91d9b63f25144ba807c3a721062536b",
            "placeholder": "​",
            "style": "IPY_MODEL_8a02dc1d5a9b40e9870f161da4446acf",
            "value": "100%"
          }
        },
        "38a11e697c854883b9a0c928ae690793": {
          "model_module": "@jupyter-widgets/controls",
          "model_name": "FloatProgressModel",
          "model_module_version": "1.5.0",
          "state": {
            "_dom_classes": [],
            "_model_module": "@jupyter-widgets/controls",
            "_model_module_version": "1.5.0",
            "_model_name": "FloatProgressModel",
            "_view_count": null,
            "_view_module": "@jupyter-widgets/controls",
            "_view_module_version": "1.5.0",
            "_view_name": "ProgressView",
            "bar_style": "success",
            "description": "",
            "description_tooltip": null,
            "layout": "IPY_MODEL_a3d8fadf7a0b4d2a886872d9930d75f3",
            "max": 1,
            "min": 0,
            "orientation": "horizontal",
            "style": "IPY_MODEL_3e0d2289cd7947729f3b71d5e5aad576",
            "value": 1
          }
        },
        "b917aad1fb854be8930112ffad6061fa": {
          "model_module": "@jupyter-widgets/controls",
          "model_name": "HTMLModel",
          "model_module_version": "1.5.0",
          "state": {
            "_dom_classes": [],
            "_model_module": "@jupyter-widgets/controls",
            "_model_module_version": "1.5.0",
            "_model_name": "HTMLModel",
            "_view_count": null,
            "_view_module": "@jupyter-widgets/controls",
            "_view_module_version": "1.5.0",
            "_view_name": "HTMLView",
            "description": "",
            "description_tooltip": null,
            "layout": "IPY_MODEL_8d03bef2dcf54b46afaa763e8a4064d0",
            "placeholder": "​",
            "style": "IPY_MODEL_f64562bdc47e45d5a2887eb90ef40db4",
            "value": " 1/1 [00:00&lt;00:00,  1.46ba/s]"
          }
        },
        "b9ee45b7159f49c6be91cb27d7c7df7f": {
          "model_module": "@jupyter-widgets/base",
          "model_name": "LayoutModel",
          "model_module_version": "1.2.0",
          "state": {
            "_model_module": "@jupyter-widgets/base",
            "_model_module_version": "1.2.0",
            "_model_name": "LayoutModel",
            "_view_count": null,
            "_view_module": "@jupyter-widgets/base",
            "_view_module_version": "1.2.0",
            "_view_name": "LayoutView",
            "align_content": null,
            "align_items": null,
            "align_self": null,
            "border": null,
            "bottom": null,
            "display": null,
            "flex": null,
            "flex_flow": null,
            "grid_area": null,
            "grid_auto_columns": null,
            "grid_auto_flow": null,
            "grid_auto_rows": null,
            "grid_column": null,
            "grid_gap": null,
            "grid_row": null,
            "grid_template_areas": null,
            "grid_template_columns": null,
            "grid_template_rows": null,
            "height": null,
            "justify_content": null,
            "justify_items": null,
            "left": null,
            "margin": null,
            "max_height": null,
            "max_width": null,
            "min_height": null,
            "min_width": null,
            "object_fit": null,
            "object_position": null,
            "order": null,
            "overflow": null,
            "overflow_x": null,
            "overflow_y": null,
            "padding": null,
            "right": null,
            "top": null,
            "visibility": null,
            "width": null
          }
        },
        "c91d9b63f25144ba807c3a721062536b": {
          "model_module": "@jupyter-widgets/base",
          "model_name": "LayoutModel",
          "model_module_version": "1.2.0",
          "state": {
            "_model_module": "@jupyter-widgets/base",
            "_model_module_version": "1.2.0",
            "_model_name": "LayoutModel",
            "_view_count": null,
            "_view_module": "@jupyter-widgets/base",
            "_view_module_version": "1.2.0",
            "_view_name": "LayoutView",
            "align_content": null,
            "align_items": null,
            "align_self": null,
            "border": null,
            "bottom": null,
            "display": null,
            "flex": null,
            "flex_flow": null,
            "grid_area": null,
            "grid_auto_columns": null,
            "grid_auto_flow": null,
            "grid_auto_rows": null,
            "grid_column": null,
            "grid_gap": null,
            "grid_row": null,
            "grid_template_areas": null,
            "grid_template_columns": null,
            "grid_template_rows": null,
            "height": null,
            "justify_content": null,
            "justify_items": null,
            "left": null,
            "margin": null,
            "max_height": null,
            "max_width": null,
            "min_height": null,
            "min_width": null,
            "object_fit": null,
            "object_position": null,
            "order": null,
            "overflow": null,
            "overflow_x": null,
            "overflow_y": null,
            "padding": null,
            "right": null,
            "top": null,
            "visibility": null,
            "width": null
          }
        },
        "8a02dc1d5a9b40e9870f161da4446acf": {
          "model_module": "@jupyter-widgets/controls",
          "model_name": "DescriptionStyleModel",
          "model_module_version": "1.5.0",
          "state": {
            "_model_module": "@jupyter-widgets/controls",
            "_model_module_version": "1.5.0",
            "_model_name": "DescriptionStyleModel",
            "_view_count": null,
            "_view_module": "@jupyter-widgets/base",
            "_view_module_version": "1.2.0",
            "_view_name": "StyleView",
            "description_width": ""
          }
        },
        "a3d8fadf7a0b4d2a886872d9930d75f3": {
          "model_module": "@jupyter-widgets/base",
          "model_name": "LayoutModel",
          "model_module_version": "1.2.0",
          "state": {
            "_model_module": "@jupyter-widgets/base",
            "_model_module_version": "1.2.0",
            "_model_name": "LayoutModel",
            "_view_count": null,
            "_view_module": "@jupyter-widgets/base",
            "_view_module_version": "1.2.0",
            "_view_name": "LayoutView",
            "align_content": null,
            "align_items": null,
            "align_self": null,
            "border": null,
            "bottom": null,
            "display": null,
            "flex": null,
            "flex_flow": null,
            "grid_area": null,
            "grid_auto_columns": null,
            "grid_auto_flow": null,
            "grid_auto_rows": null,
            "grid_column": null,
            "grid_gap": null,
            "grid_row": null,
            "grid_template_areas": null,
            "grid_template_columns": null,
            "grid_template_rows": null,
            "height": null,
            "justify_content": null,
            "justify_items": null,
            "left": null,
            "margin": null,
            "max_height": null,
            "max_width": null,
            "min_height": null,
            "min_width": null,
            "object_fit": null,
            "object_position": null,
            "order": null,
            "overflow": null,
            "overflow_x": null,
            "overflow_y": null,
            "padding": null,
            "right": null,
            "top": null,
            "visibility": null,
            "width": null
          }
        },
        "3e0d2289cd7947729f3b71d5e5aad576": {
          "model_module": "@jupyter-widgets/controls",
          "model_name": "ProgressStyleModel",
          "model_module_version": "1.5.0",
          "state": {
            "_model_module": "@jupyter-widgets/controls",
            "_model_module_version": "1.5.0",
            "_model_name": "ProgressStyleModel",
            "_view_count": null,
            "_view_module": "@jupyter-widgets/base",
            "_view_module_version": "1.2.0",
            "_view_name": "StyleView",
            "bar_color": null,
            "description_width": ""
          }
        },
        "8d03bef2dcf54b46afaa763e8a4064d0": {
          "model_module": "@jupyter-widgets/base",
          "model_name": "LayoutModel",
          "model_module_version": "1.2.0",
          "state": {
            "_model_module": "@jupyter-widgets/base",
            "_model_module_version": "1.2.0",
            "_model_name": "LayoutModel",
            "_view_count": null,
            "_view_module": "@jupyter-widgets/base",
            "_view_module_version": "1.2.0",
            "_view_name": "LayoutView",
            "align_content": null,
            "align_items": null,
            "align_self": null,
            "border": null,
            "bottom": null,
            "display": null,
            "flex": null,
            "flex_flow": null,
            "grid_area": null,
            "grid_auto_columns": null,
            "grid_auto_flow": null,
            "grid_auto_rows": null,
            "grid_column": null,
            "grid_gap": null,
            "grid_row": null,
            "grid_template_areas": null,
            "grid_template_columns": null,
            "grid_template_rows": null,
            "height": null,
            "justify_content": null,
            "justify_items": null,
            "left": null,
            "margin": null,
            "max_height": null,
            "max_width": null,
            "min_height": null,
            "min_width": null,
            "object_fit": null,
            "object_position": null,
            "order": null,
            "overflow": null,
            "overflow_x": null,
            "overflow_y": null,
            "padding": null,
            "right": null,
            "top": null,
            "visibility": null,
            "width": null
          }
        },
        "f64562bdc47e45d5a2887eb90ef40db4": {
          "model_module": "@jupyter-widgets/controls",
          "model_name": "DescriptionStyleModel",
          "model_module_version": "1.5.0",
          "state": {
            "_model_module": "@jupyter-widgets/controls",
            "_model_module_version": "1.5.0",
            "_model_name": "DescriptionStyleModel",
            "_view_count": null,
            "_view_module": "@jupyter-widgets/base",
            "_view_module_version": "1.2.0",
            "_view_name": "StyleView",
            "description_width": ""
          }
        },
        "f7bfc1402f744d04a137d7970f054e80": {
          "model_module": "@jupyter-widgets/controls",
          "model_name": "HBoxModel",
          "model_module_version": "1.5.0",
          "state": {
            "_dom_classes": [],
            "_model_module": "@jupyter-widgets/controls",
            "_model_module_version": "1.5.0",
            "_model_name": "HBoxModel",
            "_view_count": null,
            "_view_module": "@jupyter-widgets/controls",
            "_view_module_version": "1.5.0",
            "_view_name": "HBoxView",
            "box_style": "",
            "children": [
              "IPY_MODEL_ad0b54c049f44ac799aecba3fafe3ee3",
              "IPY_MODEL_394b8e5fbe1a42d890cc7b6e265bffcb",
              "IPY_MODEL_391e8922bea3457cbef8f4e7dc4fd774"
            ],
            "layout": "IPY_MODEL_d15e3deecc194696b7f3d77dd496cddd"
          }
        },
        "ad0b54c049f44ac799aecba3fafe3ee3": {
          "model_module": "@jupyter-widgets/controls",
          "model_name": "HTMLModel",
          "model_module_version": "1.5.0",
          "state": {
            "_dom_classes": [],
            "_model_module": "@jupyter-widgets/controls",
            "_model_module_version": "1.5.0",
            "_model_name": "HTMLModel",
            "_view_count": null,
            "_view_module": "@jupyter-widgets/controls",
            "_view_module_version": "1.5.0",
            "_view_name": "HTMLView",
            "description": "",
            "description_tooltip": null,
            "layout": "IPY_MODEL_137af4f89cd8453bb74aafa67a62049b",
            "placeholder": "​",
            "style": "IPY_MODEL_08bf7897f58142658ff5d3c78774ff53",
            "value": "100%"
          }
        },
        "394b8e5fbe1a42d890cc7b6e265bffcb": {
          "model_module": "@jupyter-widgets/controls",
          "model_name": "FloatProgressModel",
          "model_module_version": "1.5.0",
          "state": {
            "_dom_classes": [],
            "_model_module": "@jupyter-widgets/controls",
            "_model_module_version": "1.5.0",
            "_model_name": "FloatProgressModel",
            "_view_count": null,
            "_view_module": "@jupyter-widgets/controls",
            "_view_module_version": "1.5.0",
            "_view_name": "ProgressView",
            "bar_style": "success",
            "description": "",
            "description_tooltip": null,
            "layout": "IPY_MODEL_c11f0343de8641b5bc58c19ad50912c2",
            "max": 23,
            "min": 0,
            "orientation": "horizontal",
            "style": "IPY_MODEL_bb38b46492a34a6bb4d05241c3aa9b23",
            "value": 23
          }
        },
        "391e8922bea3457cbef8f4e7dc4fd774": {
          "model_module": "@jupyter-widgets/controls",
          "model_name": "HTMLModel",
          "model_module_version": "1.5.0",
          "state": {
            "_dom_classes": [],
            "_model_module": "@jupyter-widgets/controls",
            "_model_module_version": "1.5.0",
            "_model_name": "HTMLModel",
            "_view_count": null,
            "_view_module": "@jupyter-widgets/controls",
            "_view_module_version": "1.5.0",
            "_view_name": "HTMLView",
            "description": "",
            "description_tooltip": null,
            "layout": "IPY_MODEL_d496144fe2f94a638b418238263778bc",
            "placeholder": "​",
            "style": "IPY_MODEL_67d5e4a1f72c4cbebb5ea87ac75d7f73",
            "value": " 23/23 [01:13&lt;00:00,  2.54s/ba]"
          }
        },
        "d15e3deecc194696b7f3d77dd496cddd": {
          "model_module": "@jupyter-widgets/base",
          "model_name": "LayoutModel",
          "model_module_version": "1.2.0",
          "state": {
            "_model_module": "@jupyter-widgets/base",
            "_model_module_version": "1.2.0",
            "_model_name": "LayoutModel",
            "_view_count": null,
            "_view_module": "@jupyter-widgets/base",
            "_view_module_version": "1.2.0",
            "_view_name": "LayoutView",
            "align_content": null,
            "align_items": null,
            "align_self": null,
            "border": null,
            "bottom": null,
            "display": null,
            "flex": null,
            "flex_flow": null,
            "grid_area": null,
            "grid_auto_columns": null,
            "grid_auto_flow": null,
            "grid_auto_rows": null,
            "grid_column": null,
            "grid_gap": null,
            "grid_row": null,
            "grid_template_areas": null,
            "grid_template_columns": null,
            "grid_template_rows": null,
            "height": null,
            "justify_content": null,
            "justify_items": null,
            "left": null,
            "margin": null,
            "max_height": null,
            "max_width": null,
            "min_height": null,
            "min_width": null,
            "object_fit": null,
            "object_position": null,
            "order": null,
            "overflow": null,
            "overflow_x": null,
            "overflow_y": null,
            "padding": null,
            "right": null,
            "top": null,
            "visibility": null,
            "width": null
          }
        },
        "137af4f89cd8453bb74aafa67a62049b": {
          "model_module": "@jupyter-widgets/base",
          "model_name": "LayoutModel",
          "model_module_version": "1.2.0",
          "state": {
            "_model_module": "@jupyter-widgets/base",
            "_model_module_version": "1.2.0",
            "_model_name": "LayoutModel",
            "_view_count": null,
            "_view_module": "@jupyter-widgets/base",
            "_view_module_version": "1.2.0",
            "_view_name": "LayoutView",
            "align_content": null,
            "align_items": null,
            "align_self": null,
            "border": null,
            "bottom": null,
            "display": null,
            "flex": null,
            "flex_flow": null,
            "grid_area": null,
            "grid_auto_columns": null,
            "grid_auto_flow": null,
            "grid_auto_rows": null,
            "grid_column": null,
            "grid_gap": null,
            "grid_row": null,
            "grid_template_areas": null,
            "grid_template_columns": null,
            "grid_template_rows": null,
            "height": null,
            "justify_content": null,
            "justify_items": null,
            "left": null,
            "margin": null,
            "max_height": null,
            "max_width": null,
            "min_height": null,
            "min_width": null,
            "object_fit": null,
            "object_position": null,
            "order": null,
            "overflow": null,
            "overflow_x": null,
            "overflow_y": null,
            "padding": null,
            "right": null,
            "top": null,
            "visibility": null,
            "width": null
          }
        },
        "08bf7897f58142658ff5d3c78774ff53": {
          "model_module": "@jupyter-widgets/controls",
          "model_name": "DescriptionStyleModel",
          "model_module_version": "1.5.0",
          "state": {
            "_model_module": "@jupyter-widgets/controls",
            "_model_module_version": "1.5.0",
            "_model_name": "DescriptionStyleModel",
            "_view_count": null,
            "_view_module": "@jupyter-widgets/base",
            "_view_module_version": "1.2.0",
            "_view_name": "StyleView",
            "description_width": ""
          }
        },
        "c11f0343de8641b5bc58c19ad50912c2": {
          "model_module": "@jupyter-widgets/base",
          "model_name": "LayoutModel",
          "model_module_version": "1.2.0",
          "state": {
            "_model_module": "@jupyter-widgets/base",
            "_model_module_version": "1.2.0",
            "_model_name": "LayoutModel",
            "_view_count": null,
            "_view_module": "@jupyter-widgets/base",
            "_view_module_version": "1.2.0",
            "_view_name": "LayoutView",
            "align_content": null,
            "align_items": null,
            "align_self": null,
            "border": null,
            "bottom": null,
            "display": null,
            "flex": null,
            "flex_flow": null,
            "grid_area": null,
            "grid_auto_columns": null,
            "grid_auto_flow": null,
            "grid_auto_rows": null,
            "grid_column": null,
            "grid_gap": null,
            "grid_row": null,
            "grid_template_areas": null,
            "grid_template_columns": null,
            "grid_template_rows": null,
            "height": null,
            "justify_content": null,
            "justify_items": null,
            "left": null,
            "margin": null,
            "max_height": null,
            "max_width": null,
            "min_height": null,
            "min_width": null,
            "object_fit": null,
            "object_position": null,
            "order": null,
            "overflow": null,
            "overflow_x": null,
            "overflow_y": null,
            "padding": null,
            "right": null,
            "top": null,
            "visibility": null,
            "width": null
          }
        },
        "bb38b46492a34a6bb4d05241c3aa9b23": {
          "model_module": "@jupyter-widgets/controls",
          "model_name": "ProgressStyleModel",
          "model_module_version": "1.5.0",
          "state": {
            "_model_module": "@jupyter-widgets/controls",
            "_model_module_version": "1.5.0",
            "_model_name": "ProgressStyleModel",
            "_view_count": null,
            "_view_module": "@jupyter-widgets/base",
            "_view_module_version": "1.2.0",
            "_view_name": "StyleView",
            "bar_color": null,
            "description_width": ""
          }
        },
        "d496144fe2f94a638b418238263778bc": {
          "model_module": "@jupyter-widgets/base",
          "model_name": "LayoutModel",
          "model_module_version": "1.2.0",
          "state": {
            "_model_module": "@jupyter-widgets/base",
            "_model_module_version": "1.2.0",
            "_model_name": "LayoutModel",
            "_view_count": null,
            "_view_module": "@jupyter-widgets/base",
            "_view_module_version": "1.2.0",
            "_view_name": "LayoutView",
            "align_content": null,
            "align_items": null,
            "align_self": null,
            "border": null,
            "bottom": null,
            "display": null,
            "flex": null,
            "flex_flow": null,
            "grid_area": null,
            "grid_auto_columns": null,
            "grid_auto_flow": null,
            "grid_auto_rows": null,
            "grid_column": null,
            "grid_gap": null,
            "grid_row": null,
            "grid_template_areas": null,
            "grid_template_columns": null,
            "grid_template_rows": null,
            "height": null,
            "justify_content": null,
            "justify_items": null,
            "left": null,
            "margin": null,
            "max_height": null,
            "max_width": null,
            "min_height": null,
            "min_width": null,
            "object_fit": null,
            "object_position": null,
            "order": null,
            "overflow": null,
            "overflow_x": null,
            "overflow_y": null,
            "padding": null,
            "right": null,
            "top": null,
            "visibility": null,
            "width": null
          }
        },
        "67d5e4a1f72c4cbebb5ea87ac75d7f73": {
          "model_module": "@jupyter-widgets/controls",
          "model_name": "DescriptionStyleModel",
          "model_module_version": "1.5.0",
          "state": {
            "_model_module": "@jupyter-widgets/controls",
            "_model_module_version": "1.5.0",
            "_model_name": "DescriptionStyleModel",
            "_view_count": null,
            "_view_module": "@jupyter-widgets/base",
            "_view_module_version": "1.2.0",
            "_view_name": "StyleView",
            "description_width": ""
          }
        },
        "658121cbb12146e6a49ba92f38005917": {
          "model_module": "@jupyter-widgets/controls",
          "model_name": "HBoxModel",
          "model_module_version": "1.5.0",
          "state": {
            "_dom_classes": [],
            "_model_module": "@jupyter-widgets/controls",
            "_model_module_version": "1.5.0",
            "_model_name": "HBoxModel",
            "_view_count": null,
            "_view_module": "@jupyter-widgets/controls",
            "_view_module_version": "1.5.0",
            "_view_name": "HBoxView",
            "box_style": "",
            "children": [
              "IPY_MODEL_daf07a96808b4396aacb0332226fd8ea",
              "IPY_MODEL_902eda0ab9364b43b788368b3d6cb089",
              "IPY_MODEL_af1c6d32107d40b88bb5bd3ddcdc72d5"
            ],
            "layout": "IPY_MODEL_b83b4a42c51e456fa1239267c8c26262"
          }
        },
        "daf07a96808b4396aacb0332226fd8ea": {
          "model_module": "@jupyter-widgets/controls",
          "model_name": "HTMLModel",
          "model_module_version": "1.5.0",
          "state": {
            "_dom_classes": [],
            "_model_module": "@jupyter-widgets/controls",
            "_model_module_version": "1.5.0",
            "_model_name": "HTMLModel",
            "_view_count": null,
            "_view_module": "@jupyter-widgets/controls",
            "_view_module_version": "1.5.0",
            "_view_name": "HTMLView",
            "description": "",
            "description_tooltip": null,
            "layout": "IPY_MODEL_a82dda45fcce4af6af19eb6605a4de8e",
            "placeholder": "​",
            "style": "IPY_MODEL_28b5dcc84bec4563abfc0ed190f27c6f",
            "value": "100%"
          }
        },
        "902eda0ab9364b43b788368b3d6cb089": {
          "model_module": "@jupyter-widgets/controls",
          "model_name": "FloatProgressModel",
          "model_module_version": "1.5.0",
          "state": {
            "_dom_classes": [],
            "_model_module": "@jupyter-widgets/controls",
            "_model_module_version": "1.5.0",
            "_model_name": "FloatProgressModel",
            "_view_count": null,
            "_view_module": "@jupyter-widgets/controls",
            "_view_module_version": "1.5.0",
            "_view_name": "ProgressView",
            "bar_style": "success",
            "description": "",
            "description_tooltip": null,
            "layout": "IPY_MODEL_8967b0b791864b67b3b6287b2bff830e",
            "max": 6,
            "min": 0,
            "orientation": "horizontal",
            "style": "IPY_MODEL_b1ce2370cb0940f2a43b149e1ccbfb18",
            "value": 6
          }
        },
        "af1c6d32107d40b88bb5bd3ddcdc72d5": {
          "model_module": "@jupyter-widgets/controls",
          "model_name": "HTMLModel",
          "model_module_version": "1.5.0",
          "state": {
            "_dom_classes": [],
            "_model_module": "@jupyter-widgets/controls",
            "_model_module_version": "1.5.0",
            "_model_name": "HTMLModel",
            "_view_count": null,
            "_view_module": "@jupyter-widgets/controls",
            "_view_module_version": "1.5.0",
            "_view_name": "HTMLView",
            "description": "",
            "description_tooltip": null,
            "layout": "IPY_MODEL_628a6af014de4b5e9f15f56d65615c88",
            "placeholder": "​",
            "style": "IPY_MODEL_a525703aeb214e0093e6c6b868803a35",
            "value": " 6/6 [00:13&lt;00:00,  2.01s/ba]"
          }
        },
        "b83b4a42c51e456fa1239267c8c26262": {
          "model_module": "@jupyter-widgets/base",
          "model_name": "LayoutModel",
          "model_module_version": "1.2.0",
          "state": {
            "_model_module": "@jupyter-widgets/base",
            "_model_module_version": "1.2.0",
            "_model_name": "LayoutModel",
            "_view_count": null,
            "_view_module": "@jupyter-widgets/base",
            "_view_module_version": "1.2.0",
            "_view_name": "LayoutView",
            "align_content": null,
            "align_items": null,
            "align_self": null,
            "border": null,
            "bottom": null,
            "display": null,
            "flex": null,
            "flex_flow": null,
            "grid_area": null,
            "grid_auto_columns": null,
            "grid_auto_flow": null,
            "grid_auto_rows": null,
            "grid_column": null,
            "grid_gap": null,
            "grid_row": null,
            "grid_template_areas": null,
            "grid_template_columns": null,
            "grid_template_rows": null,
            "height": null,
            "justify_content": null,
            "justify_items": null,
            "left": null,
            "margin": null,
            "max_height": null,
            "max_width": null,
            "min_height": null,
            "min_width": null,
            "object_fit": null,
            "object_position": null,
            "order": null,
            "overflow": null,
            "overflow_x": null,
            "overflow_y": null,
            "padding": null,
            "right": null,
            "top": null,
            "visibility": null,
            "width": null
          }
        },
        "a82dda45fcce4af6af19eb6605a4de8e": {
          "model_module": "@jupyter-widgets/base",
          "model_name": "LayoutModel",
          "model_module_version": "1.2.0",
          "state": {
            "_model_module": "@jupyter-widgets/base",
            "_model_module_version": "1.2.0",
            "_model_name": "LayoutModel",
            "_view_count": null,
            "_view_module": "@jupyter-widgets/base",
            "_view_module_version": "1.2.0",
            "_view_name": "LayoutView",
            "align_content": null,
            "align_items": null,
            "align_self": null,
            "border": null,
            "bottom": null,
            "display": null,
            "flex": null,
            "flex_flow": null,
            "grid_area": null,
            "grid_auto_columns": null,
            "grid_auto_flow": null,
            "grid_auto_rows": null,
            "grid_column": null,
            "grid_gap": null,
            "grid_row": null,
            "grid_template_areas": null,
            "grid_template_columns": null,
            "grid_template_rows": null,
            "height": null,
            "justify_content": null,
            "justify_items": null,
            "left": null,
            "margin": null,
            "max_height": null,
            "max_width": null,
            "min_height": null,
            "min_width": null,
            "object_fit": null,
            "object_position": null,
            "order": null,
            "overflow": null,
            "overflow_x": null,
            "overflow_y": null,
            "padding": null,
            "right": null,
            "top": null,
            "visibility": null,
            "width": null
          }
        },
        "28b5dcc84bec4563abfc0ed190f27c6f": {
          "model_module": "@jupyter-widgets/controls",
          "model_name": "DescriptionStyleModel",
          "model_module_version": "1.5.0",
          "state": {
            "_model_module": "@jupyter-widgets/controls",
            "_model_module_version": "1.5.0",
            "_model_name": "DescriptionStyleModel",
            "_view_count": null,
            "_view_module": "@jupyter-widgets/base",
            "_view_module_version": "1.2.0",
            "_view_name": "StyleView",
            "description_width": ""
          }
        },
        "8967b0b791864b67b3b6287b2bff830e": {
          "model_module": "@jupyter-widgets/base",
          "model_name": "LayoutModel",
          "model_module_version": "1.2.0",
          "state": {
            "_model_module": "@jupyter-widgets/base",
            "_model_module_version": "1.2.0",
            "_model_name": "LayoutModel",
            "_view_count": null,
            "_view_module": "@jupyter-widgets/base",
            "_view_module_version": "1.2.0",
            "_view_name": "LayoutView",
            "align_content": null,
            "align_items": null,
            "align_self": null,
            "border": null,
            "bottom": null,
            "display": null,
            "flex": null,
            "flex_flow": null,
            "grid_area": null,
            "grid_auto_columns": null,
            "grid_auto_flow": null,
            "grid_auto_rows": null,
            "grid_column": null,
            "grid_gap": null,
            "grid_row": null,
            "grid_template_areas": null,
            "grid_template_columns": null,
            "grid_template_rows": null,
            "height": null,
            "justify_content": null,
            "justify_items": null,
            "left": null,
            "margin": null,
            "max_height": null,
            "max_width": null,
            "min_height": null,
            "min_width": null,
            "object_fit": null,
            "object_position": null,
            "order": null,
            "overflow": null,
            "overflow_x": null,
            "overflow_y": null,
            "padding": null,
            "right": null,
            "top": null,
            "visibility": null,
            "width": null
          }
        },
        "b1ce2370cb0940f2a43b149e1ccbfb18": {
          "model_module": "@jupyter-widgets/controls",
          "model_name": "ProgressStyleModel",
          "model_module_version": "1.5.0",
          "state": {
            "_model_module": "@jupyter-widgets/controls",
            "_model_module_version": "1.5.0",
            "_model_name": "ProgressStyleModel",
            "_view_count": null,
            "_view_module": "@jupyter-widgets/base",
            "_view_module_version": "1.2.0",
            "_view_name": "StyleView",
            "bar_color": null,
            "description_width": ""
          }
        },
        "628a6af014de4b5e9f15f56d65615c88": {
          "model_module": "@jupyter-widgets/base",
          "model_name": "LayoutModel",
          "model_module_version": "1.2.0",
          "state": {
            "_model_module": "@jupyter-widgets/base",
            "_model_module_version": "1.2.0",
            "_model_name": "LayoutModel",
            "_view_count": null,
            "_view_module": "@jupyter-widgets/base",
            "_view_module_version": "1.2.0",
            "_view_name": "LayoutView",
            "align_content": null,
            "align_items": null,
            "align_self": null,
            "border": null,
            "bottom": null,
            "display": null,
            "flex": null,
            "flex_flow": null,
            "grid_area": null,
            "grid_auto_columns": null,
            "grid_auto_flow": null,
            "grid_auto_rows": null,
            "grid_column": null,
            "grid_gap": null,
            "grid_row": null,
            "grid_template_areas": null,
            "grid_template_columns": null,
            "grid_template_rows": null,
            "height": null,
            "justify_content": null,
            "justify_items": null,
            "left": null,
            "margin": null,
            "max_height": null,
            "max_width": null,
            "min_height": null,
            "min_width": null,
            "object_fit": null,
            "object_position": null,
            "order": null,
            "overflow": null,
            "overflow_x": null,
            "overflow_y": null,
            "padding": null,
            "right": null,
            "top": null,
            "visibility": null,
            "width": null
          }
        },
        "a525703aeb214e0093e6c6b868803a35": {
          "model_module": "@jupyter-widgets/controls",
          "model_name": "DescriptionStyleModel",
          "model_module_version": "1.5.0",
          "state": {
            "_model_module": "@jupyter-widgets/controls",
            "_model_module_version": "1.5.0",
            "_model_name": "DescriptionStyleModel",
            "_view_count": null,
            "_view_module": "@jupyter-widgets/base",
            "_view_module_version": "1.2.0",
            "_view_name": "StyleView",
            "description_width": ""
          }
        },
        "d3939e801a544b27a72ea9e54e2ad27f": {
          "model_module": "@jupyter-widgets/controls",
          "model_name": "HBoxModel",
          "model_module_version": "1.5.0",
          "state": {
            "_dom_classes": [],
            "_model_module": "@jupyter-widgets/controls",
            "_model_module_version": "1.5.0",
            "_model_name": "HBoxModel",
            "_view_count": null,
            "_view_module": "@jupyter-widgets/controls",
            "_view_module_version": "1.5.0",
            "_view_name": "HBoxView",
            "box_style": "",
            "children": [
              "IPY_MODEL_a3ba04bea05e4bbaa95bff4eec2ec5f0",
              "IPY_MODEL_8d71ca245d8149369886163888ab8b1a",
              "IPY_MODEL_737a6ab90a5f46bba92f2b6f8dfcd137"
            ],
            "layout": "IPY_MODEL_88d5fd84b0494517bb8c9c7203b7e222"
          }
        },
        "a3ba04bea05e4bbaa95bff4eec2ec5f0": {
          "model_module": "@jupyter-widgets/controls",
          "model_name": "HTMLModel",
          "model_module_version": "1.5.0",
          "state": {
            "_dom_classes": [],
            "_model_module": "@jupyter-widgets/controls",
            "_model_module_version": "1.5.0",
            "_model_name": "HTMLModel",
            "_view_count": null,
            "_view_module": "@jupyter-widgets/controls",
            "_view_module_version": "1.5.0",
            "_view_name": "HTMLView",
            "description": "",
            "description_tooltip": null,
            "layout": "IPY_MODEL_57414716d2fd45188f0137b7f847b736",
            "placeholder": "​",
            "style": "IPY_MODEL_e57e905e6f174b6bbcf9c62a9e20bc11",
            "value": "100%"
          }
        },
        "8d71ca245d8149369886163888ab8b1a": {
          "model_module": "@jupyter-widgets/controls",
          "model_name": "FloatProgressModel",
          "model_module_version": "1.5.0",
          "state": {
            "_dom_classes": [],
            "_model_module": "@jupyter-widgets/controls",
            "_model_module_version": "1.5.0",
            "_model_name": "FloatProgressModel",
            "_view_count": null,
            "_view_module": "@jupyter-widgets/controls",
            "_view_module_version": "1.5.0",
            "_view_name": "ProgressView",
            "bar_style": "success",
            "description": "",
            "description_tooltip": null,
            "layout": "IPY_MODEL_2415209959e44ea5b5da73e6b42b41cf",
            "max": 2,
            "min": 0,
            "orientation": "horizontal",
            "style": "IPY_MODEL_07bef961ac784589bf59aefcff193b15",
            "value": 2
          }
        },
        "737a6ab90a5f46bba92f2b6f8dfcd137": {
          "model_module": "@jupyter-widgets/controls",
          "model_name": "HTMLModel",
          "model_module_version": "1.5.0",
          "state": {
            "_dom_classes": [],
            "_model_module": "@jupyter-widgets/controls",
            "_model_module_version": "1.5.0",
            "_model_name": "HTMLModel",
            "_view_count": null,
            "_view_module": "@jupyter-widgets/controls",
            "_view_module_version": "1.5.0",
            "_view_name": "HTMLView",
            "description": "",
            "description_tooltip": null,
            "layout": "IPY_MODEL_f5460a9814f8464c87e8f28add2d2d4f",
            "placeholder": "​",
            "style": "IPY_MODEL_2ac8aeed4467497d992121aa0e1460cc",
            "value": " 2/2 [00:02&lt;00:00,  1.23s/ba]"
          }
        },
        "88d5fd84b0494517bb8c9c7203b7e222": {
          "model_module": "@jupyter-widgets/base",
          "model_name": "LayoutModel",
          "model_module_version": "1.2.0",
          "state": {
            "_model_module": "@jupyter-widgets/base",
            "_model_module_version": "1.2.0",
            "_model_name": "LayoutModel",
            "_view_count": null,
            "_view_module": "@jupyter-widgets/base",
            "_view_module_version": "1.2.0",
            "_view_name": "LayoutView",
            "align_content": null,
            "align_items": null,
            "align_self": null,
            "border": null,
            "bottom": null,
            "display": null,
            "flex": null,
            "flex_flow": null,
            "grid_area": null,
            "grid_auto_columns": null,
            "grid_auto_flow": null,
            "grid_auto_rows": null,
            "grid_column": null,
            "grid_gap": null,
            "grid_row": null,
            "grid_template_areas": null,
            "grid_template_columns": null,
            "grid_template_rows": null,
            "height": null,
            "justify_content": null,
            "justify_items": null,
            "left": null,
            "margin": null,
            "max_height": null,
            "max_width": null,
            "min_height": null,
            "min_width": null,
            "object_fit": null,
            "object_position": null,
            "order": null,
            "overflow": null,
            "overflow_x": null,
            "overflow_y": null,
            "padding": null,
            "right": null,
            "top": null,
            "visibility": null,
            "width": null
          }
        },
        "57414716d2fd45188f0137b7f847b736": {
          "model_module": "@jupyter-widgets/base",
          "model_name": "LayoutModel",
          "model_module_version": "1.2.0",
          "state": {
            "_model_module": "@jupyter-widgets/base",
            "_model_module_version": "1.2.0",
            "_model_name": "LayoutModel",
            "_view_count": null,
            "_view_module": "@jupyter-widgets/base",
            "_view_module_version": "1.2.0",
            "_view_name": "LayoutView",
            "align_content": null,
            "align_items": null,
            "align_self": null,
            "border": null,
            "bottom": null,
            "display": null,
            "flex": null,
            "flex_flow": null,
            "grid_area": null,
            "grid_auto_columns": null,
            "grid_auto_flow": null,
            "grid_auto_rows": null,
            "grid_column": null,
            "grid_gap": null,
            "grid_row": null,
            "grid_template_areas": null,
            "grid_template_columns": null,
            "grid_template_rows": null,
            "height": null,
            "justify_content": null,
            "justify_items": null,
            "left": null,
            "margin": null,
            "max_height": null,
            "max_width": null,
            "min_height": null,
            "min_width": null,
            "object_fit": null,
            "object_position": null,
            "order": null,
            "overflow": null,
            "overflow_x": null,
            "overflow_y": null,
            "padding": null,
            "right": null,
            "top": null,
            "visibility": null,
            "width": null
          }
        },
        "e57e905e6f174b6bbcf9c62a9e20bc11": {
          "model_module": "@jupyter-widgets/controls",
          "model_name": "DescriptionStyleModel",
          "model_module_version": "1.5.0",
          "state": {
            "_model_module": "@jupyter-widgets/controls",
            "_model_module_version": "1.5.0",
            "_model_name": "DescriptionStyleModel",
            "_view_count": null,
            "_view_module": "@jupyter-widgets/base",
            "_view_module_version": "1.2.0",
            "_view_name": "StyleView",
            "description_width": ""
          }
        },
        "2415209959e44ea5b5da73e6b42b41cf": {
          "model_module": "@jupyter-widgets/base",
          "model_name": "LayoutModel",
          "model_module_version": "1.2.0",
          "state": {
            "_model_module": "@jupyter-widgets/base",
            "_model_module_version": "1.2.0",
            "_model_name": "LayoutModel",
            "_view_count": null,
            "_view_module": "@jupyter-widgets/base",
            "_view_module_version": "1.2.0",
            "_view_name": "LayoutView",
            "align_content": null,
            "align_items": null,
            "align_self": null,
            "border": null,
            "bottom": null,
            "display": null,
            "flex": null,
            "flex_flow": null,
            "grid_area": null,
            "grid_auto_columns": null,
            "grid_auto_flow": null,
            "grid_auto_rows": null,
            "grid_column": null,
            "grid_gap": null,
            "grid_row": null,
            "grid_template_areas": null,
            "grid_template_columns": null,
            "grid_template_rows": null,
            "height": null,
            "justify_content": null,
            "justify_items": null,
            "left": null,
            "margin": null,
            "max_height": null,
            "max_width": null,
            "min_height": null,
            "min_width": null,
            "object_fit": null,
            "object_position": null,
            "order": null,
            "overflow": null,
            "overflow_x": null,
            "overflow_y": null,
            "padding": null,
            "right": null,
            "top": null,
            "visibility": null,
            "width": null
          }
        },
        "07bef961ac784589bf59aefcff193b15": {
          "model_module": "@jupyter-widgets/controls",
          "model_name": "ProgressStyleModel",
          "model_module_version": "1.5.0",
          "state": {
            "_model_module": "@jupyter-widgets/controls",
            "_model_module_version": "1.5.0",
            "_model_name": "ProgressStyleModel",
            "_view_count": null,
            "_view_module": "@jupyter-widgets/base",
            "_view_module_version": "1.2.0",
            "_view_name": "StyleView",
            "bar_color": null,
            "description_width": ""
          }
        },
        "f5460a9814f8464c87e8f28add2d2d4f": {
          "model_module": "@jupyter-widgets/base",
          "model_name": "LayoutModel",
          "model_module_version": "1.2.0",
          "state": {
            "_model_module": "@jupyter-widgets/base",
            "_model_module_version": "1.2.0",
            "_model_name": "LayoutModel",
            "_view_count": null,
            "_view_module": "@jupyter-widgets/base",
            "_view_module_version": "1.2.0",
            "_view_name": "LayoutView",
            "align_content": null,
            "align_items": null,
            "align_self": null,
            "border": null,
            "bottom": null,
            "display": null,
            "flex": null,
            "flex_flow": null,
            "grid_area": null,
            "grid_auto_columns": null,
            "grid_auto_flow": null,
            "grid_auto_rows": null,
            "grid_column": null,
            "grid_gap": null,
            "grid_row": null,
            "grid_template_areas": null,
            "grid_template_columns": null,
            "grid_template_rows": null,
            "height": null,
            "justify_content": null,
            "justify_items": null,
            "left": null,
            "margin": null,
            "max_height": null,
            "max_width": null,
            "min_height": null,
            "min_width": null,
            "object_fit": null,
            "object_position": null,
            "order": null,
            "overflow": null,
            "overflow_x": null,
            "overflow_y": null,
            "padding": null,
            "right": null,
            "top": null,
            "visibility": null,
            "width": null
          }
        },
        "2ac8aeed4467497d992121aa0e1460cc": {
          "model_module": "@jupyter-widgets/controls",
          "model_name": "DescriptionStyleModel",
          "model_module_version": "1.5.0",
          "state": {
            "_model_module": "@jupyter-widgets/controls",
            "_model_module_version": "1.5.0",
            "_model_name": "DescriptionStyleModel",
            "_view_count": null,
            "_view_module": "@jupyter-widgets/base",
            "_view_module_version": "1.2.0",
            "_view_name": "StyleView",
            "description_width": ""
          }
        }
      }
    }
  },
  "nbformat": 4,
  "nbformat_minor": 0
}